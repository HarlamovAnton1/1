{
 "cells": [
  {
   "cell_type": "markdown",
   "metadata": {},
   "source": [
    "<font color='blue'> \n",
    "### <u>КОММЕНТАРИЙ РЕВЬЮЕРА</u>\n",
    "</font>\n",
    "\n",
    "<font color='blue'>\n",
    "<br />\n",
    "Антон, рад приветствовать тебя! <br />\n",
    "<br />    \n",
    "\n",
    "<br />\n",
    "Меня зовут Николай. <br />И на этом этапе твоего движения к новой профессии от меня будут комментарии по написанному коду. <br />Чтобы меньше \"мусорить эфир\" и чтобы максимально наглядно отделяться от основного кода, есть предложение условиться в некоторых обозначениях:<br /> <br />\n",
    "<u><b>ТАКОЙ ШРИФТ</b></u> - всегда начало комментария <br />\n",
    "<font color='green'>такой шрифт</font> - комментарии о том, что всё ОК <br/>\n",
    "<font color='orange'>такой шрифт</font> - комментарии о том, что всё ОК по результату,<br> однако есть на что обратить внимание в плане применения техник, или есть способы сделать более короткий или быстрый код <br/>\n",
    "<font color='red'>такой шрифт</font> - комментарии о том, что есть критичный момент, влияющий на бизнес-результат проекта.<br/>\n",
    "</font><br /><br />"
   ]
  },
  {
   "cell_type": "markdown",
   "metadata": {},
   "source": [
    "# Описание проекта"
   ]
  },
  {
   "cell_type": "markdown",
   "metadata": {},
   "source": [
    "Допустим, вы работаете в добывающей компании «ГлавРосГосНефть». Нужно решить, где бурить новую скважину.\n",
    "\n",
    "Вам предоставлены пробы нефти в трёх регионах: в каждом 10 000 месторождений, где измерили качество нефти и объём её запасов. Постройте модель машинного обучения, которая поможет определить регион, где добыча принесёт наибольшую прибыль. Проанализируйте возможную прибыль и риски техникой *Bootstrap.*\n",
    "\n",
    "#### Шаги для выбора локации:\n",
    "\n",
    "- В избранном регионе ищут месторождения, для каждого определяют значения признаков;\n",
    "- Строят модель и оценивают объём запасов;\n",
    "- Выбирают месторождения с самым высокими оценками значений. Количество месторождений зависит от бюджета компании и стоимости разработки одной скважины;\n",
    "- Прибыль равна суммарной прибыли отобранных месторождений.\n",
    "\n",
    "#### Инструкция по выполнению проекта\n",
    "- Загрузите и подготовьте данные. Поясните порядок действий.\n",
    "- Обучите и проверьте модель для каждого региона:\n",
    "\n",
    "2.1. Разбейте данные на обучающую и валидационную выборки в соотношении 75:25\n",
    "\n",
    "2.2. Обучите модель и сделайте предсказания на валидационной выборке\n",
    "\n",
    "2.3. Сохраните предсказания и правильные ответы на валидационной выборке\n",
    "\n",
    "2.4. Напечатайте на экране средний запас предсказанного сырья и RMSE модели\n",
    "\n",
    "2.5. Проанализируйте результаты\n",
    "\n",
    "- Подготовьтесь к расчёту прибыли:\n",
    "\n",
    "3.1. Все ключевые значения для расчётов сохраните в отдельных переменных\n",
    "\n",
    "3.2. Рассчитайте достаточный объём сырья для безубыточной разработки новой скважины. Сравните полученный объём сырья со средним запасом в каждом регионе\n",
    "\n",
    "3.3. Напишите выводы по этапу подготовки расчёта прибыли\n",
    "\n",
    "- Напишите функцию для расчёта прибыли по выбранным скважинам и предсказаниям модели:\n",
    "\n",
    "4.1. Выберите скважины с максимальными значениями предсказаний. Количество скважин зависит от бюджета компании и стоимости разработки одной скважины\n",
    "\n",
    "4.2. Просуммируйте целевое значение объёма сырья, соответствующее этим предсказаниям\n",
    "\n",
    "4.3. Рассчитайте прибыль для полученного объёма сырья\n",
    "\n",
    "- Посчитайте риски и прибыль для каждого региона:\n",
    "\n",
    "5.1. Примените технику Bootstrap с 1000 выборок, чтобы найти распределение прибыли\n",
    "\n",
    "5.2. Найдите среднюю прибыль, 95%-й доверительный интервал и риск убытков. Убыток — это отрицательная прибыль\n",
    "\n",
    "5.3. Напишите выводы: предложите регион для разработки скважин и обоснуйте выбор\n",
    "\n",
    "#### Описание данных:\n",
    "\n",
    "- Данные геологоразведки трёх регионов находятся в файлах: geo_data_0.csv, geo_data_1.csv и geo_data_2.csv.\n",
    "- id — уникальный идентификатор месторождения;\n",
    "- f0, f1, f2 — три признака точек (неважно, что они означают, но сами признаки значимы);\n",
    "- product — объём запасов в месторождении (тыс. баррелей)\n",
    "\n",
    "#### Условия задачи:\n",
    "\n",
    "- Для обучения модели подходит только линейная регрессия (остальные — недостаточно предсказуемые).\n",
    "- При разведке региона проводится исследование 500 точек.\n",
    "- Бюджет на разработку месторождений — 10 млрд рублей, стоимость бурения одной скважины — 50 млн рублей.\n",
    "- Один баррель сырья приносит 4500 рублей прибыли.\n",
    "- Не рассматривать регионы, в которых риск убытков выше 2.5%. Из оставшихся выбирается регион с наибольшей средней прибылью.\n"
   ]
  },
  {
   "cell_type": "markdown",
   "metadata": {},
   "source": [
    "# 1. Загрузка и подготовка данных"
   ]
  },
  {
   "cell_type": "markdown",
   "metadata": {},
   "source": [
    "Для начала импортируем библиотеки, получим все данные и рассмотрим общую информацию об импортированных данных."
   ]
  },
  {
   "cell_type": "code",
   "execution_count": 1,
   "metadata": {},
   "outputs": [],
   "source": [
    "import numpy as np\n",
    "import pandas as pd\n",
    "from scipy import stats as st\n",
    "from sklearn.linear_model import LinearRegression\n",
    "from sklearn.ensemble import RandomForestClassifier\n",
    "from sklearn.preprocessing import OrdinalEncoder\n",
    "from sklearn.model_selection import GridSearchCV, StratifiedKFold, train_test_split, cross_val_score\n",
    "from sklearn.utils import shuffle\n",
    "from sklearn.metrics import roc_auc_score, f1_score\n",
    "from sklearn.metrics import mean_squared_error\n",
    "from sklearn.metrics import mean_absolute_error\n",
    "from sklearn.metrics import r2_score\n",
    "from collections import defaultdict\n",
    "import matplotlib.pyplot as plt\n",
    "import seaborn as sns\n",
    "import tqdm\n",
    "import os\n",
    "\n",
    "geo_data_0 = pd.read_csv('/datasets/geo_data_0.csv')\n",
    "geo_data_1 = pd.read_csv('/datasets/geo_data_1.csv')\n",
    "geo_data_2 = pd.read_csv('/datasets/geo_data_2.csv')"
   ]
  },
  {
   "cell_type": "code",
   "execution_count": 2,
   "metadata": {},
   "outputs": [
    {
     "data": {
      "text/html": [
       "<div>\n",
       "<style scoped>\n",
       "    .dataframe tbody tr th:only-of-type {\n",
       "        vertical-align: middle;\n",
       "    }\n",
       "\n",
       "    .dataframe tbody tr th {\n",
       "        vertical-align: top;\n",
       "    }\n",
       "\n",
       "    .dataframe thead th {\n",
       "        text-align: right;\n",
       "    }\n",
       "</style>\n",
       "<table border=\"1\" class=\"dataframe\">\n",
       "  <thead>\n",
       "    <tr style=\"text-align: right;\">\n",
       "      <th></th>\n",
       "      <th>f0</th>\n",
       "      <th>f1</th>\n",
       "      <th>f2</th>\n",
       "      <th>product</th>\n",
       "    </tr>\n",
       "  </thead>\n",
       "  <tbody>\n",
       "    <tr>\n",
       "      <td>count</td>\n",
       "      <td>100000.000000</td>\n",
       "      <td>100000.000000</td>\n",
       "      <td>100000.000000</td>\n",
       "      <td>100000.000000</td>\n",
       "    </tr>\n",
       "    <tr>\n",
       "      <td>mean</td>\n",
       "      <td>0.500419</td>\n",
       "      <td>0.250143</td>\n",
       "      <td>2.502647</td>\n",
       "      <td>92.500000</td>\n",
       "    </tr>\n",
       "    <tr>\n",
       "      <td>std</td>\n",
       "      <td>0.871832</td>\n",
       "      <td>0.504433</td>\n",
       "      <td>3.248248</td>\n",
       "      <td>44.288691</td>\n",
       "    </tr>\n",
       "    <tr>\n",
       "      <td>min</td>\n",
       "      <td>-1.408605</td>\n",
       "      <td>-0.848218</td>\n",
       "      <td>-12.088328</td>\n",
       "      <td>0.000000</td>\n",
       "    </tr>\n",
       "    <tr>\n",
       "      <td>25%</td>\n",
       "      <td>-0.072580</td>\n",
       "      <td>-0.200881</td>\n",
       "      <td>0.287748</td>\n",
       "      <td>56.497507</td>\n",
       "    </tr>\n",
       "    <tr>\n",
       "      <td>50%</td>\n",
       "      <td>0.502360</td>\n",
       "      <td>0.250252</td>\n",
       "      <td>2.515969</td>\n",
       "      <td>91.849972</td>\n",
       "    </tr>\n",
       "    <tr>\n",
       "      <td>75%</td>\n",
       "      <td>1.073581</td>\n",
       "      <td>0.700646</td>\n",
       "      <td>4.715088</td>\n",
       "      <td>128.564089</td>\n",
       "    </tr>\n",
       "    <tr>\n",
       "      <td>max</td>\n",
       "      <td>2.362331</td>\n",
       "      <td>1.343769</td>\n",
       "      <td>16.003790</td>\n",
       "      <td>185.364347</td>\n",
       "    </tr>\n",
       "  </tbody>\n",
       "</table>\n",
       "</div>"
      ],
      "text/plain": [
       "                  f0             f1             f2        product\n",
       "count  100000.000000  100000.000000  100000.000000  100000.000000\n",
       "mean        0.500419       0.250143       2.502647      92.500000\n",
       "std         0.871832       0.504433       3.248248      44.288691\n",
       "min        -1.408605      -0.848218     -12.088328       0.000000\n",
       "25%        -0.072580      -0.200881       0.287748      56.497507\n",
       "50%         0.502360       0.250252       2.515969      91.849972\n",
       "75%         1.073581       0.700646       4.715088     128.564089\n",
       "max         2.362331       1.343769      16.003790     185.364347"
      ]
     },
     "execution_count": 2,
     "metadata": {},
     "output_type": "execute_result"
    }
   ],
   "source": [
    "geo_data_0.describe()"
   ]
  },
  {
   "cell_type": "code",
   "execution_count": 3,
   "metadata": {},
   "outputs": [],
   "source": [
    "geo_data_0 = geo_data_0.drop(columns=['id'])"
   ]
  },
  {
   "cell_type": "code",
   "execution_count": 4,
   "metadata": {},
   "outputs": [
    {
     "data": {
      "text/html": [
       "<div>\n",
       "<style scoped>\n",
       "    .dataframe tbody tr th:only-of-type {\n",
       "        vertical-align: middle;\n",
       "    }\n",
       "\n",
       "    .dataframe tbody tr th {\n",
       "        vertical-align: top;\n",
       "    }\n",
       "\n",
       "    .dataframe thead th {\n",
       "        text-align: right;\n",
       "    }\n",
       "</style>\n",
       "<table border=\"1\" class=\"dataframe\">\n",
       "  <thead>\n",
       "    <tr style=\"text-align: right;\">\n",
       "      <th></th>\n",
       "      <th>f0</th>\n",
       "      <th>f1</th>\n",
       "      <th>f2</th>\n",
       "      <th>product</th>\n",
       "    </tr>\n",
       "  </thead>\n",
       "  <tbody>\n",
       "    <tr>\n",
       "      <td>0</td>\n",
       "      <td>0.705745</td>\n",
       "      <td>-0.497823</td>\n",
       "      <td>1.221170</td>\n",
       "      <td>105.280062</td>\n",
       "    </tr>\n",
       "    <tr>\n",
       "      <td>1</td>\n",
       "      <td>1.334711</td>\n",
       "      <td>-0.340164</td>\n",
       "      <td>4.365080</td>\n",
       "      <td>73.037750</td>\n",
       "    </tr>\n",
       "    <tr>\n",
       "      <td>2</td>\n",
       "      <td>1.022732</td>\n",
       "      <td>0.151990</td>\n",
       "      <td>1.419926</td>\n",
       "      <td>85.265647</td>\n",
       "    </tr>\n",
       "    <tr>\n",
       "      <td>3</td>\n",
       "      <td>-0.032172</td>\n",
       "      <td>0.139033</td>\n",
       "      <td>2.978566</td>\n",
       "      <td>168.620776</td>\n",
       "    </tr>\n",
       "    <tr>\n",
       "      <td>4</td>\n",
       "      <td>1.988431</td>\n",
       "      <td>0.155413</td>\n",
       "      <td>4.751769</td>\n",
       "      <td>154.036647</td>\n",
       "    </tr>\n",
       "  </tbody>\n",
       "</table>\n",
       "</div>"
      ],
      "text/plain": [
       "         f0        f1        f2     product\n",
       "0  0.705745 -0.497823  1.221170  105.280062\n",
       "1  1.334711 -0.340164  4.365080   73.037750\n",
       "2  1.022732  0.151990  1.419926   85.265647\n",
       "3 -0.032172  0.139033  2.978566  168.620776\n",
       "4  1.988431  0.155413  4.751769  154.036647"
      ]
     },
     "execution_count": 4,
     "metadata": {},
     "output_type": "execute_result"
    }
   ],
   "source": [
    "geo_data_0.head()"
   ]
  },
  {
   "cell_type": "code",
   "execution_count": 5,
   "metadata": {},
   "outputs": [
    {
     "data": {
      "text/html": [
       "<div>\n",
       "<style scoped>\n",
       "    .dataframe tbody tr th:only-of-type {\n",
       "        vertical-align: middle;\n",
       "    }\n",
       "\n",
       "    .dataframe tbody tr th {\n",
       "        vertical-align: top;\n",
       "    }\n",
       "\n",
       "    .dataframe thead th {\n",
       "        text-align: right;\n",
       "    }\n",
       "</style>\n",
       "<table border=\"1\" class=\"dataframe\">\n",
       "  <thead>\n",
       "    <tr style=\"text-align: right;\">\n",
       "      <th></th>\n",
       "      <th>f0</th>\n",
       "      <th>f1</th>\n",
       "      <th>f2</th>\n",
       "      <th>product</th>\n",
       "    </tr>\n",
       "  </thead>\n",
       "  <tbody>\n",
       "    <tr>\n",
       "      <td>count</td>\n",
       "      <td>100000.000000</td>\n",
       "      <td>100000.000000</td>\n",
       "      <td>100000.000000</td>\n",
       "      <td>100000.000000</td>\n",
       "    </tr>\n",
       "    <tr>\n",
       "      <td>mean</td>\n",
       "      <td>1.141296</td>\n",
       "      <td>-4.796579</td>\n",
       "      <td>2.494541</td>\n",
       "      <td>68.825000</td>\n",
       "    </tr>\n",
       "    <tr>\n",
       "      <td>std</td>\n",
       "      <td>8.965932</td>\n",
       "      <td>5.119872</td>\n",
       "      <td>1.703572</td>\n",
       "      <td>45.944423</td>\n",
       "    </tr>\n",
       "    <tr>\n",
       "      <td>min</td>\n",
       "      <td>-31.609576</td>\n",
       "      <td>-26.358598</td>\n",
       "      <td>-0.018144</td>\n",
       "      <td>0.000000</td>\n",
       "    </tr>\n",
       "    <tr>\n",
       "      <td>25%</td>\n",
       "      <td>-6.298551</td>\n",
       "      <td>-8.267985</td>\n",
       "      <td>1.000021</td>\n",
       "      <td>26.953261</td>\n",
       "    </tr>\n",
       "    <tr>\n",
       "      <td>50%</td>\n",
       "      <td>1.153055</td>\n",
       "      <td>-4.813172</td>\n",
       "      <td>2.011479</td>\n",
       "      <td>57.085625</td>\n",
       "    </tr>\n",
       "    <tr>\n",
       "      <td>75%</td>\n",
       "      <td>8.621015</td>\n",
       "      <td>-1.332816</td>\n",
       "      <td>3.999904</td>\n",
       "      <td>107.813044</td>\n",
       "    </tr>\n",
       "    <tr>\n",
       "      <td>max</td>\n",
       "      <td>29.421755</td>\n",
       "      <td>18.734063</td>\n",
       "      <td>5.019721</td>\n",
       "      <td>137.945408</td>\n",
       "    </tr>\n",
       "  </tbody>\n",
       "</table>\n",
       "</div>"
      ],
      "text/plain": [
       "                  f0             f1             f2        product\n",
       "count  100000.000000  100000.000000  100000.000000  100000.000000\n",
       "mean        1.141296      -4.796579       2.494541      68.825000\n",
       "std         8.965932       5.119872       1.703572      45.944423\n",
       "min       -31.609576     -26.358598      -0.018144       0.000000\n",
       "25%        -6.298551      -8.267985       1.000021      26.953261\n",
       "50%         1.153055      -4.813172       2.011479      57.085625\n",
       "75%         8.621015      -1.332816       3.999904     107.813044\n",
       "max        29.421755      18.734063       5.019721     137.945408"
      ]
     },
     "execution_count": 5,
     "metadata": {},
     "output_type": "execute_result"
    }
   ],
   "source": [
    "geo_data_1.describe()"
   ]
  },
  {
   "cell_type": "code",
   "execution_count": 6,
   "metadata": {},
   "outputs": [],
   "source": [
    "geo_data_1 = geo_data_1.drop(columns=['id'])"
   ]
  },
  {
   "cell_type": "code",
   "execution_count": 7,
   "metadata": {},
   "outputs": [
    {
     "data": {
      "text/html": [
       "<div>\n",
       "<style scoped>\n",
       "    .dataframe tbody tr th:only-of-type {\n",
       "        vertical-align: middle;\n",
       "    }\n",
       "\n",
       "    .dataframe tbody tr th {\n",
       "        vertical-align: top;\n",
       "    }\n",
       "\n",
       "    .dataframe thead th {\n",
       "        text-align: right;\n",
       "    }\n",
       "</style>\n",
       "<table border=\"1\" class=\"dataframe\">\n",
       "  <thead>\n",
       "    <tr style=\"text-align: right;\">\n",
       "      <th></th>\n",
       "      <th>f0</th>\n",
       "      <th>f1</th>\n",
       "      <th>f2</th>\n",
       "      <th>product</th>\n",
       "    </tr>\n",
       "  </thead>\n",
       "  <tbody>\n",
       "    <tr>\n",
       "      <td>count</td>\n",
       "      <td>100000.000000</td>\n",
       "      <td>100000.000000</td>\n",
       "      <td>100000.000000</td>\n",
       "      <td>100000.000000</td>\n",
       "    </tr>\n",
       "    <tr>\n",
       "      <td>mean</td>\n",
       "      <td>0.002023</td>\n",
       "      <td>-0.002081</td>\n",
       "      <td>2.495128</td>\n",
       "      <td>95.000000</td>\n",
       "    </tr>\n",
       "    <tr>\n",
       "      <td>std</td>\n",
       "      <td>1.732045</td>\n",
       "      <td>1.730417</td>\n",
       "      <td>3.473445</td>\n",
       "      <td>44.749921</td>\n",
       "    </tr>\n",
       "    <tr>\n",
       "      <td>min</td>\n",
       "      <td>-8.760004</td>\n",
       "      <td>-7.084020</td>\n",
       "      <td>-11.970335</td>\n",
       "      <td>0.000000</td>\n",
       "    </tr>\n",
       "    <tr>\n",
       "      <td>25%</td>\n",
       "      <td>-1.162288</td>\n",
       "      <td>-1.174820</td>\n",
       "      <td>0.130359</td>\n",
       "      <td>59.450441</td>\n",
       "    </tr>\n",
       "    <tr>\n",
       "      <td>50%</td>\n",
       "      <td>0.009424</td>\n",
       "      <td>-0.009482</td>\n",
       "      <td>2.484236</td>\n",
       "      <td>94.925613</td>\n",
       "    </tr>\n",
       "    <tr>\n",
       "      <td>75%</td>\n",
       "      <td>1.158535</td>\n",
       "      <td>1.163678</td>\n",
       "      <td>4.858794</td>\n",
       "      <td>130.595027</td>\n",
       "    </tr>\n",
       "    <tr>\n",
       "      <td>max</td>\n",
       "      <td>7.238262</td>\n",
       "      <td>7.844801</td>\n",
       "      <td>16.739402</td>\n",
       "      <td>190.029838</td>\n",
       "    </tr>\n",
       "  </tbody>\n",
       "</table>\n",
       "</div>"
      ],
      "text/plain": [
       "                  f0             f1             f2        product\n",
       "count  100000.000000  100000.000000  100000.000000  100000.000000\n",
       "mean        0.002023      -0.002081       2.495128      95.000000\n",
       "std         1.732045       1.730417       3.473445      44.749921\n",
       "min        -8.760004      -7.084020     -11.970335       0.000000\n",
       "25%        -1.162288      -1.174820       0.130359      59.450441\n",
       "50%         0.009424      -0.009482       2.484236      94.925613\n",
       "75%         1.158535       1.163678       4.858794     130.595027\n",
       "max         7.238262       7.844801      16.739402     190.029838"
      ]
     },
     "execution_count": 7,
     "metadata": {},
     "output_type": "execute_result"
    }
   ],
   "source": [
    "geo_data_2.describe()"
   ]
  },
  {
   "cell_type": "code",
   "execution_count": 8,
   "metadata": {},
   "outputs": [],
   "source": [
    "geo_data_2 = geo_data_2.drop(columns=['id'])"
   ]
  },
  {
   "cell_type": "code",
   "execution_count": 9,
   "metadata": {},
   "outputs": [
    {
     "data": {
      "text/plain": [
       "(100000, 4)"
      ]
     },
     "execution_count": 9,
     "metadata": {},
     "output_type": "execute_result"
    }
   ],
   "source": [
    "geo_data_0.shape"
   ]
  },
  {
   "cell_type": "code",
   "execution_count": 10,
   "metadata": {},
   "outputs": [
    {
     "data": {
      "text/plain": [
       "(100000, 4)"
      ]
     },
     "execution_count": 10,
     "metadata": {},
     "output_type": "execute_result"
    }
   ],
   "source": [
    "geo_data_1.shape"
   ]
  },
  {
   "cell_type": "code",
   "execution_count": 11,
   "metadata": {},
   "outputs": [
    {
     "data": {
      "text/plain": [
       "(100000, 4)"
      ]
     },
     "execution_count": 11,
     "metadata": {},
     "output_type": "execute_result"
    }
   ],
   "source": [
    "geo_data_2.shape"
   ]
  },
  {
   "cell_type": "markdown",
   "metadata": {},
   "source": [
    "Зафиксируем псевдослучайность для всех используемых в проекте алгоритмов:"
   ]
  },
  {
   "cell_type": "code",
   "execution_count": null,
   "metadata": {},
   "outputs": [],
   "source": []
  },
  {
   "cell_type": "markdown",
   "metadata": {},
   "source": [
    "<font color='blue'> \n",
    "### <u>КОММЕНТАРИЙ РЕВЬЮЕРА</u>\n",
    "</font>\n",
    "<font color='green'>\n",
    "ОК! лёгкое аналитическое начало)<br>\n",
    "    "
   ]
  },
  {
   "cell_type": "code",
   "execution_count": 12,
   "metadata": {},
   "outputs": [],
   "source": [
    "rnd_state = 12345"
   ]
  },
  {
   "cell_type": "markdown",
   "metadata": {},
   "source": [
    "### Выводы:\n",
    "\n",
    "- Представленные данные состоят из 4 признаков и 100000 объектов. Целевым признаком, в данном случае, является Product — объём запасов в месторождении (тыс. баррелей) \n",
    "\n",
    "- Удалили ненужный столбец id для дальнейшего решение задачи\n",
    "\n",
    "- Зафиксировали псевдослучайность для всех используемых в проекте алгоритмов"
   ]
  },
  {
   "cell_type": "markdown",
   "metadata": {},
   "source": [
    "# 2. Обучение и проверка модели"
   ]
  },
  {
   "cell_type": "markdown",
   "metadata": {},
   "source": [
    "### Рассмотрим регион 1 (geo_data_0):\n",
    "\n",
    "- обучим модель Линейной регрессии на первом регионе \n",
    "\n",
    "- Проверим MSE, R2, RMSE"
   ]
  },
  {
   "cell_type": "code",
   "execution_count": 13,
   "metadata": {},
   "outputs": [
    {
     "name": "stdout",
     "output_type": "stream",
     "text": [
      "MSE первого региона: 1412.2129364399243\n",
      "R2 первого региона: 0.27994321524487786\n",
      "RMSE первого региона: 37.5794217150813\n"
     ]
    }
   ],
   "source": [
    "#Для первого региона geo_0\n",
    "\n",
    "target_0 = geo_data_0['product']\n",
    "features_0 = geo_data_0.drop('product', axis=1)\n",
    "features_train_0, features_valid_0, target_train_0, target_valid_0 = train_test_split(\n",
    "    features_0, target_0, test_size=0.25, random_state=rnd_state)\n",
    "\n",
    "model = LinearRegression()\n",
    "model.fit(features_train_0, target_train_0)\n",
    "predicted_valid_0 = model.predict(features_valid_0)\n",
    "r2 = r2_score(target_valid_0, predicted_valid_0)\n",
    "mse = mean_squared_error(target_valid_0, predicted_valid_0)\n",
    "print(\"MSE первого региона:\", mse)\n",
    "print(\"R2 первого региона:\", r2)\n",
    "print(\"RMSE первого региона:\", mse ** 0.5)"
   ]
  },
  {
   "cell_type": "code",
   "execution_count": 14,
   "metadata": {},
   "outputs": [
    {
     "name": "stdout",
     "output_type": "stream",
     "text": [
      "MSE второго региона: 0.7976263360391139\n",
      "R2 второго региона: 0.9996233978805127\n",
      "RMSE второго региона: 0.893099286775616\n"
     ]
    }
   ],
   "source": [
    "#Для первого региона geo_1\n",
    "\n",
    "target_1 = geo_data_1['product']\n",
    "features_1 = geo_data_1.drop('product', axis=1)\n",
    "features_train_1, features_valid_1, target_train_1, target_valid_1 = train_test_split(\n",
    "    features_1, target_1, test_size=0.25, random_state=rnd_state)\n",
    "\n",
    "model = LinearRegression()\n",
    "model.fit(features_train_1, target_train_1)\n",
    "predicted_valid_1 = model.predict(features_valid_1)\n",
    "r2 = r2_score(target_valid_1, predicted_valid_1)\n",
    "mse = mean_squared_error(target_valid_1, predicted_valid_1)\n",
    "print(\"MSE второго региона:\", mse)\n",
    "print(\"R2 второго региона:\", r2)\n",
    "print(\"RMSE второго региона:\", mse ** 0.5)"
   ]
  },
  {
   "cell_type": "code",
   "execution_count": 15,
   "metadata": {},
   "outputs": [
    {
     "name": "stdout",
     "output_type": "stream",
     "text": [
      "MSE третьего региона: 1602.3775813236196\n",
      "R2 третьего региона: 0.20524758386040443\n",
      "RMSE третьего региона: 40.02970873393434\n"
     ]
    }
   ],
   "source": [
    "#Для первого региона geo_2\n",
    "\n",
    "target_2 = geo_data_2['product']\n",
    "features_2 = geo_data_2.drop('product', axis=1)\n",
    "features_train_2, features_valid_2, target_train_2, target_valid_2 = train_test_split(\n",
    "    features_2, target_2, test_size=0.25, random_state=rnd_state)\n",
    "\n",
    "model = LinearRegression()\n",
    "model.fit(features_train_2, target_train_2)\n",
    "predicted_valid_2 = model.predict(features_valid_2)\n",
    "r2 = r2_score(target_valid_2, predicted_valid_2)\n",
    "mse = mean_squared_error(target_valid_2, predicted_valid_2)\n",
    "print(\"MSE третьего региона:\", mse)\n",
    "print(\"R2 третьего региона:\", r2)\n",
    "print(\"RMSE третьего региона:\", mse ** 0.5)"
   ]
  },
  {
   "cell_type": "markdown",
   "metadata": {},
   "source": [
    "### Вывод:\n",
    "В 1 и 3 регионах средние значение объема в месторождении примерно одинаковые, при этом модели имеют большую погрешность.\n",
    "\n",
    "Во 2 регионе средние запасы нефти в месторождениях ниже, но и погрешность модели значительно ниже."
   ]
  },
  {
   "cell_type": "markdown",
   "metadata": {},
   "source": [
    "<font color='blue'> \n",
    "### <u>КОММЕНТАРИЙ РЕВЬЮЕРА</u>\n",
    "</font>\n",
    "<font color='green'>\n",
    "так же среднее тут было бы для полной картины кстати)<br>\n",
    "    "
   ]
  },
  {
   "cell_type": "markdown",
   "metadata": {},
   "source": [
    "# 3. Подготовка к расчёту прибыли"
   ]
  },
  {
   "cell_type": "markdown",
   "metadata": {},
   "source": [
    "Для всех ключевых значений созданы константы Python:"
   ]
  },
  {
   "cell_type": "code",
   "execution_count": 16,
   "metadata": {},
   "outputs": [],
   "source": [
    "POINTS = 500\n",
    "BOOTSTRAP_SAMPLES = 1000\n",
    "BUDGET = 10e9\n",
    "COST = 50e6\n",
    "BARREL_PROFIT = 450 #4500\n",
    "RISK_DAMAGE = 0.025\n",
    "CONF_INTERVAL = 0.95"
   ]
  },
  {
   "cell_type": "markdown",
   "metadata": {},
   "source": [
    "Минимальное среднее количество продукта в месторождениях региона, достаточное для разработки:"
   ]
  },
  {
   "cell_type": "code",
   "execution_count": 17,
   "metadata": {},
   "outputs": [
    {
     "data": {
      "text/plain": [
       "111.11111111111111"
      ]
     },
     "execution_count": 17,
     "metadata": {},
     "output_type": "execute_result"
    }
   ],
   "source": [
    "min_barrels = COST / (BARREL_PROFIT * 1000)\n",
    "min_barrels"
   ]
  },
  {
   "cell_type": "markdown",
   "metadata": {},
   "source": [
    "<font color='blue'> \n",
    "### <u>КОММЕНТАРИЙ РЕВЬЮЕРА</u>\n",
    "</font>\n",
    "<font color='green'>\n",
    "есть точка безубыточности) И видно, что нужны DS-специалисты нефтянке:)<br>\n",
    "(убрал один 0 в BARREL_PROFIT ) \n",
    "\n",
    "<font color='black'> спасибо! =)\n",
    "    "
   ]
  },
  {
   "cell_type": "markdown",
   "metadata": {},
   "source": [
    "Максимальное количество месторождений, которое можно разработать:"
   ]
  },
  {
   "cell_type": "code",
   "execution_count": 18,
   "metadata": {},
   "outputs": [
    {
     "data": {
      "text/plain": [
       "200"
      ]
     },
     "execution_count": 18,
     "metadata": {},
     "output_type": "execute_result"
    }
   ],
   "source": [
    "max_wells = int(BUDGET / COST)\n",
    "max_wells"
   ]
  },
  {
   "cell_type": "markdown",
   "metadata": {},
   "source": [
    "Функция расчета прибыли:"
   ]
  },
  {
   "cell_type": "code",
   "execution_count": 19,
   "metadata": {},
   "outputs": [],
   "source": [
    "def revenue(target, probabilities, count):\n",
    "    top = probabilities.sort_values(ascending=False)#.head(count)\n",
    "    total_profit = (target.loc[top.index][:count] * 1000 * BARREL_PROFIT).sum()\n",
    "    return total_profit - (COST * count)"
   ]
  },
  {
   "cell_type": "markdown",
   "metadata": {},
   "source": [
    "### Вывод:\n",
    "\n",
    "- Посчитали среднее количество продукта\n",
    "\n",
    "- Максимальное количество месторождений\n",
    "\n",
    "- Создали константы для ключевых значений\n",
    "\n",
    "- Создали функцию прибыли"
   ]
  },
  {
   "cell_type": "markdown",
   "metadata": {},
   "source": [
    "# 4. Расчёт прибыли и рисков "
   ]
  },
  {
   "cell_type": "markdown",
   "metadata": {},
   "source": [
    "### Расчёт прибыли и рисков для geo_0 (для первого региона)"
   ]
  },
  {
   "cell_type": "code",
   "execution_count": 20,
   "metadata": {},
   "outputs": [],
   "source": [
    "target_valid_0 = target_valid_0.reset_index(drop=True)"
   ]
  },
  {
   "cell_type": "code",
   "execution_count": 21,
   "metadata": {},
   "outputs": [
    {
     "name": "stdout",
     "output_type": "stream",
     "text": [
      "Средняя выручка: 425938526.91059226\n",
      "Доверительный интервал: (-102090094.8379384, 947976353.358369)\n",
      "Риск убытков: 0.06\n"
     ]
    }
   ],
   "source": [
    "state = np.random.RandomState(seed=12345)\n",
    "\n",
    "values = []\n",
    "for i in range(BOOTSTRAP_SAMPLES):\n",
    "    target_subsample = target_valid_0.sample(POINTS, replace=True, random_state=state)\n",
    "#    probs_subsample = pd.Series(data=target_subsample, index=target_subsample.index)\n",
    "    probs_subsample = pd.Series(predicted_valid_0)[target_subsample.index]   \n",
    "    values.append(revenue(target_subsample, probs_subsample, max_wells))\n",
    "\n",
    "values = pd.Series(values)\n",
    "risk = (values < 0).mean()\n",
    "mean = values.mean()\n",
    "\n",
    "confidence_interval = (values.quantile(0.025), values.quantile(0.975))\n",
    "\n",
    "print(\"Средняя выручка:\", mean)\n",
    "print(\"Доверительный интервал:\", confidence_interval)\n",
    "print(\"Риск убытков:\", risk)\n",
    "#print(\"Квантиль 2,5%:\", lower)"
   ]
  },
  {
   "cell_type": "markdown",
   "metadata": {},
   "source": [
    "### Расчёт прибыли и рисков для geo_1 (для второго региона)"
   ]
  },
  {
   "cell_type": "code",
   "execution_count": 22,
   "metadata": {},
   "outputs": [],
   "source": [
    "target_valid_1 = target_valid_1.reset_index(drop=True)"
   ]
  },
  {
   "cell_type": "code",
   "execution_count": 23,
   "metadata": {},
   "outputs": [
    {
     "name": "stdout",
     "output_type": "stream",
     "text": [
      "Средняя выручка: 515222773.4432914\n",
      "Доверительный интервал: (68873225.37050182, 931547591.2570513)\n",
      "Риск убытков: 0.01\n"
     ]
    }
   ],
   "source": [
    "state = np.random.RandomState(seed=12345)\n",
    "\n",
    "values = []\n",
    "for i in range(BOOTSTRAP_SAMPLES):\n",
    "    target_subsample = target_valid_1.sample(POINTS, replace=True, random_state=state)\n",
    "    probs_subsample = pd.Series(predicted_valid_1)[target_subsample.index]  \n",
    "    values.append(revenue(target_subsample, probs_subsample, max_wells))\n",
    "\n",
    "values = pd.Series(values)\n",
    "risk = (values < 0).mean()\n",
    "mean = values.mean()\n",
    "#lower = values.quantile(0.025)\n",
    "# confidence_interval = st.t.interval(0.95, len(values)-1, loc=values.mean(), scale=values.sem())\n",
    "confidence_interval = (values.quantile(0.025), values.quantile(0.975))\n",
    "print(\"Средняя выручка:\", mean)\n",
    "print(\"Доверительный интервал:\", confidence_interval)\n",
    "print(\"Риск убытков:\", risk)\n",
    "#print(\"Квантиль 2,5%:\", lower)"
   ]
  },
  {
   "cell_type": "markdown",
   "metadata": {},
   "source": [
    "### Расчёт прибыли и рисков для geo_2 (для третьего региона)"
   ]
  },
  {
   "cell_type": "code",
   "execution_count": 24,
   "metadata": {},
   "outputs": [],
   "source": [
    "target_valid_2 = target_valid_2.reset_index(drop=True)"
   ]
  },
  {
   "cell_type": "code",
   "execution_count": 25,
   "metadata": {},
   "outputs": [
    {
     "name": "stdout",
     "output_type": "stream",
     "text": [
      "Средняя выручка: 435008362.7827556\n",
      "Доверительный интервал: (-128880547.32978901, 969706954.1802661)\n",
      "Риск убытков: 0.064\n"
     ]
    }
   ],
   "source": [
    "state = np.random.RandomState(seed=12345)\n",
    "\n",
    "values = []\n",
    "for i in range(BOOTSTRAP_SAMPLES):\n",
    "    target_subsample = target_valid_2.sample(POINTS, replace=True, random_state=state)\n",
    "    probs_subsample = pd.Series(predicted_valid_2)[target_subsample.index]  \n",
    "    values.append(revenue(target_subsample, probs_subsample, max_wells))\n",
    "\n",
    "\n",
    "values = pd.Series(values)\n",
    "risk = (values < 0).mean()\n",
    "mean = values.mean()\n",
    "#lower = values.quantile(0.025)\n",
    "confidence_interval = (values.quantile(0.025), values.quantile(0.975))\n",
    "#confidence_interval = st.t.interval(0.95, len(values)-1, loc=values.mean(), scale=values.sem())\n",
    "\n",
    "print(\"Средняя выручка:\", mean)\n",
    "print(\"Доверительный интервал:\", confidence_interval)\n",
    "print(\"Риск убытков:\", risk)\n",
    "#print(\"Квантиль 2,5%:\", lower)"
   ]
  },
  {
   "cell_type": "markdown",
   "metadata": {},
   "source": [
    "### Вывод: \n",
    "\n",
    "Исходя из результатов и анализа расчета прибыли и рисков, наиболее продуктивным является второй регион по средней выручке, с наименьшим риском убытков, чем у остальных регионов = 0,01. Доверительный интервал при этом наиболее узкий, в сравнении с остальными регионами. \n",
    "\n",
    "Первый и третий регионы по прибыли и рискам очень похожи. Я бы порекомендовала выбрать второй регион. "
   ]
  },
  {
   "cell_type": "code",
   "execution_count": 26,
   "metadata": {},
   "outputs": [],
   "source": [
    "#Вывод с прошлими значениями\n",
    "#Исходя из результатов расчета прибыли и рисков, \n",
    "#наиболее продуктивным регионом является - второй. \n",
    "#В котором выше средняя выручка, риск убытков (как и остальных регионов) равен нулю, \n",
    "#а доверительный интервал самый узкий в сравнении с другими регионами. "
   ]
  },
  {
   "cell_type": "markdown",
   "metadata": {},
   "source": [
    "<font color='blue'> \n",
    "### <u>КОММЕНТАРИЙ РЕВЬЮЕРА</u>\n",
    "</font>\n",
    "<font color='green'>\n",
    "Антон, на самом деле очень хорошая работа!<br>\n",
    "Аргументация, удобный для просмотра и чтения код - многое удалось как надо<br>\n",
    "Оформление выводов в конце - понятно и доходчиво вышло)<br>\n",
    "\n",
    "<font color='red'>    \n",
    "1)Есть пару моментов, который надо бы проверить: он касается доверительных интервалов.<br>\n",
    "Cмотри, какие узкие доверительные интервалы - очень уж точная прогнозная модель выходит.<br>\n",
    "Это доверительный интервала для истинного среднего.<br>\n",
    "    \n",
    "На мой взгляд, для бизгнеса важно выводить интервал именно для прогноза<br>\n",
    "Посмотри, пожалуйста вот на этот код<br>\n",
    "confidence_interval = (profit_values.quantile(0.025), profit_values.quantile(0.975))<br><br><br>\n",
    "\n",
    "2)И ещё: вот в этих строках по каждому региону<br> probs_subsample = pd.Series(data=target_subsample, index=target_subsample.index)<br>\n",
    "мне кажется должно присутствовать предсказанное значение. Посмотри, пожалуйста)\n",
    "\n",
    "<font color='green'>    \n",
    "Спасибо)<br>\n",
    "Буду ждать комментариев)\n",
    "<br>\n",
    "</font>"
   ]
  },
  {
   "cell_type": "markdown",
   "metadata": {},
   "source": [
    "Николай, привет! \n",
    "\n",
    "Спасибо за рекомендации и комментарии, постараюсь их учесть в будущих проектах. \n",
    "\n",
    "1. По первому пункту я исправил и поставил код, который ты порекоменовал. \n",
    "\n",
    "2. Не совсем понял, что ты имеешь ввиду вот тут: \n",
    "\n",
    "<font color='red'>    \n",
    "\n",
    "2)И ещё: вот в этих строках по каждому региону<br> probs_subsample = pd.Series(data=target_subsample, index=target_subsample.index)<br>\n",
    "мне кажется должно присутствовать предсказанное значение. Посмотри, пожалуйста)\n",
    "\n",
    "<font color='black'>\n",
    "Ты имеешь ввиду сделать код таким? =) \n",
    "probs_subsample = pd.Series[target_subsample.index]\n",
    "    \n",
    "Заранее спасибо =)"
   ]
  },
  {
   "cell_type": "markdown",
   "metadata": {},
   "source": [
    "<font color='blue'> \n",
    "### <u>КОММЕНТАРИЙ РЕВЬЮЕРА 2</u>\n",
    "</font>\n",
    "<font color='green'>\n",
    "Антон, привет! Спасибо за доработку)<br>\n",
    "Я подставил в регион 0 строку.<br>\n",
    "Посмотри, пожалуйста.\n",
    "\n",
    "</font>    \n",
    "<font color='black'>\n",
    "Николай, класс! Спасибо за помощь =)\n",
    "У меня единственное вопрос (этого просто не было в тренажере), ты рекомендуешь использовать во всех случаях вот такое решение: \n",
    "1. confidence_interval = (values.quantile(0.025), values.quantile(0.975))\n",
    "2. probs_subsample = pd.Series(predicted_valid_2)[target_subsample.index] \n",
    "    \n",
    "???\n",
    "    \n",
    "Заранее спасибо за ответ)"
   ]
  },
  {
   "cell_type": "markdown",
   "metadata": {},
   "source": [
    "<font color='blue'> \n",
    "### <u>КОММЕНТАРИЙ РЕВЬЮЕРА 3</u>\n",
    "</font>\n",
    "<font color='green'>\n",
    "Антон, привет! Спасибо за отклик)) <br>\n",
    "Для данной задачи - точно такое) А в других - надо смотреть будет))<br>\n",
    "1) Это доверительный интерва прогноза. Он показывает по сути - мин-макс возможного уровня прибыли.<br>\n",
    "2) Опять же да, для этой задачи ТАК: из предсказанных выбираем проиндексированные по таргету.<br>\n",
    "    \n",
    "УСПЕШНОГО ДАЛЬНЕЙШЕГО ОБУЧЕНИЯ!"
   ]
  },
  {
   "cell_type": "markdown",
   "metadata": {},
   "source": [
    "# Чек-лист готовности проекта"
   ]
  },
  {
   "cell_type": "markdown",
   "metadata": {},
   "source": [
    "Поставьте 'x' в выполненных пунктах. Далее нажмите Shift+Enter."
   ]
  },
  {
   "cell_type": "markdown",
   "metadata": {},
   "source": [
    "- [x]  Jupyter Notebook открыт\n",
    "- [x]  Весь код выполняется без ошибок\n",
    "- [x]  Ячейки с кодом расположены в порядке исполнения\n",
    "- [x]  Выполнен шаг 1: данные подготовлены\n",
    "- [x]  Выполнен шаг 2: модели обучены и проверены\n",
    "    - [x]  Данные корректно разбиты на обучающую и валидационную выборки\n",
    "    - [x]  Модели обучены, предсказания сделаны\n",
    "    - [x]  Предсказания и правильные ответы на валидационной выборке сохранены\n",
    "    - [x]  На экране напечатаны результаты\n",
    "    - [x]  Сделаны выводы\n",
    "- [x]  Выполнен шаг 3: проведена подготовка к расчёту прибыли\n",
    "    - [x]  Для всех ключевых значений созданы константы Python\n",
    "    - [x]  Посчитано минимальное среднее количество продукта в месторождениях региона, достаточное для разработки\n",
    "    - [x]  По предыдущему пункту сделаны выводы\n",
    "    - [x]  Написана функция расчёта прибыли\n",
    "- [x]  Выполнен шаг 4: посчитаны риски и прибыль\n",
    "    - [x]  Проведена процедура *Bootstrap*\n",
    "    - [x]  Все параметры бутстрепа соответствуют условию\n",
    "    - [x]  Найдены все нужные величины\n",
    "    - [x]  Предложен регион для разработки месторождения\n",
    "    - [x]  Выбор региона обоснован"
   ]
  },
  {
   "cell_type": "code",
   "execution_count": null,
   "metadata": {},
   "outputs": [],
   "source": []
  }
 ],
 "metadata": {
  "kernelspec": {
   "display_name": "Python 3",
   "language": "python",
   "name": "python3"
  },
  "language_info": {
   "codemirror_mode": {
    "name": "ipython",
    "version": 3
   },
   "file_extension": ".py",
   "mimetype": "text/x-python",
   "name": "python",
   "nbconvert_exporter": "python",
   "pygments_lexer": "ipython3",
   "version": "3.7.6"
  }
 },
 "nbformat": 4,
 "nbformat_minor": 2
}
