{
 "cells": [
  {
   "cell_type": "markdown",
   "metadata": {},
   "source": [
    "<font color='blue'> \n",
    "### <u>КОММЕНТАРИЙ РЕВЬЮЕРА</u>\n",
    "</font>\n",
    "\n",
    "<font color='blue'>\n",
    "<br />\n",
    "Мария, рад приветствовать ВАС! <br />\n",
    "<br />    \n",
    "\n",
    "<br />\n",
    "Меня зовут Николай. <br />И на этом этапе Вашего движения к новой профессии от меня будут комментарии по написанному коду. <br />Чтобы меньше \"мусорить эфир\" и чтобы максимально наглядно отделяться от основного кода, есть предложение условиться в некоторых обозначениях:<br /> <br />\n",
    "<u><b>ТАКОЙ ШРИФТ</b></u> - всегда начало комментария <br />\n",
    "<font color='green'>такой шрифт</font> - комментарии о том, что всё ОК <br/>\n",
    "<font color='orange'>такой шрифт</font> - комментарии о том, что всё ОК по результату,<br> однако есть на что обратить внимание в плане применения техник, или есть способы сделать более короткий или быстрый код <br/>\n",
    "<font color='red'>такой шрифт</font> - комментарии о том, что есть критичный момент, влияющий на бизнес-результат проекта.<br/>\n",
    "</font><br /><br />\n",
    "<font color='green'>Моей целью является не \"уличить\" в не знании, а просто высказать сверху Ваших знаний - свой опыт, что бы Вы могли использовать его для Вашего дальнейшего успеха)\n",
    "<br>\n",
    "</font>\n",
    "<br>\n",
    "\n",
    "</font>"
   ]
  },
  {
   "cell_type": "code",
   "execution_count": null,
   "metadata": {},
   "outputs": [],
   "source": []
  },
  {
   "cell_type": "markdown",
   "metadata": {},
   "source": [
    "### Шаг 1. Откройте файл с данными и изучите общую информацию. \n",
    "Для начала импортируем библиотеки и получим данные"
   ]
  },
  {
   "cell_type": "code",
   "execution_count": 1,
   "metadata": {},
   "outputs": [],
   "source": [
    "import pandas as pd\n",
    "import numpy as np\n",
    "import matplotlib.pyplot as plt\n",
    "from datetime import datetime\n",
    "import pprint\n",
    "\n",
    "from pymystem3 import Mystem\n",
    "from collections import Counter"
   ]
  },
  {
   "cell_type": "code",
   "execution_count": 2,
   "metadata": {},
   "outputs": [],
   "source": [
    "pd.set_option('display.max_columns', None)\n",
    "pd.options.display.float_format = '{:,.2f}'.format"
   ]
  },
  {
   "cell_type": "code",
   "execution_count": 3,
   "metadata": {},
   "outputs": [
    {
     "data": {
      "text/html": [
       "<div>\n",
       "<style scoped>\n",
       "    .dataframe tbody tr th:only-of-type {\n",
       "        vertical-align: middle;\n",
       "    }\n",
       "\n",
       "    .dataframe tbody tr th {\n",
       "        vertical-align: top;\n",
       "    }\n",
       "\n",
       "    .dataframe thead th {\n",
       "        text-align: right;\n",
       "    }\n",
       "</style>\n",
       "<table border=\"1\" class=\"dataframe\">\n",
       "  <thead>\n",
       "    <tr style=\"text-align: right;\">\n",
       "      <th></th>\n",
       "      <th>total_images</th>\n",
       "      <th>last_price</th>\n",
       "      <th>total_area</th>\n",
       "      <th>first_day_exposition</th>\n",
       "      <th>rooms</th>\n",
       "      <th>ceiling_height</th>\n",
       "      <th>floors_total</th>\n",
       "      <th>living_area</th>\n",
       "      <th>floor</th>\n",
       "      <th>is_apartment</th>\n",
       "      <th>studio</th>\n",
       "      <th>open_plan</th>\n",
       "      <th>kitchen_area</th>\n",
       "      <th>balcony</th>\n",
       "      <th>locality_name</th>\n",
       "      <th>airports_nearest</th>\n",
       "      <th>cityCenters_nearest</th>\n",
       "      <th>parks_around3000</th>\n",
       "      <th>parks_nearest</th>\n",
       "      <th>ponds_around3000</th>\n",
       "      <th>ponds_nearest</th>\n",
       "      <th>days_exposition</th>\n",
       "    </tr>\n",
       "  </thead>\n",
       "  <tbody>\n",
       "    <tr>\n",
       "      <td>0</td>\n",
       "      <td>20</td>\n",
       "      <td>13,000,000.00</td>\n",
       "      <td>108.00</td>\n",
       "      <td>2019-03-07T00:00:00</td>\n",
       "      <td>3</td>\n",
       "      <td>2.70</td>\n",
       "      <td>16.00</td>\n",
       "      <td>51.00</td>\n",
       "      <td>8</td>\n",
       "      <td>NaN</td>\n",
       "      <td>False</td>\n",
       "      <td>False</td>\n",
       "      <td>25.00</td>\n",
       "      <td>nan</td>\n",
       "      <td>Санкт-Петербург</td>\n",
       "      <td>18,863.00</td>\n",
       "      <td>16,028.00</td>\n",
       "      <td>1.00</td>\n",
       "      <td>482.00</td>\n",
       "      <td>2.00</td>\n",
       "      <td>755.00</td>\n",
       "      <td>nan</td>\n",
       "    </tr>\n",
       "    <tr>\n",
       "      <td>1</td>\n",
       "      <td>7</td>\n",
       "      <td>3,350,000.00</td>\n",
       "      <td>40.40</td>\n",
       "      <td>2018-12-04T00:00:00</td>\n",
       "      <td>1</td>\n",
       "      <td>nan</td>\n",
       "      <td>11.00</td>\n",
       "      <td>18.60</td>\n",
       "      <td>1</td>\n",
       "      <td>NaN</td>\n",
       "      <td>False</td>\n",
       "      <td>False</td>\n",
       "      <td>11.00</td>\n",
       "      <td>2.00</td>\n",
       "      <td>посёлок Шушары</td>\n",
       "      <td>12,817.00</td>\n",
       "      <td>18,603.00</td>\n",
       "      <td>0.00</td>\n",
       "      <td>nan</td>\n",
       "      <td>0.00</td>\n",
       "      <td>nan</td>\n",
       "      <td>81.00</td>\n",
       "    </tr>\n",
       "    <tr>\n",
       "      <td>2</td>\n",
       "      <td>10</td>\n",
       "      <td>5,196,000.00</td>\n",
       "      <td>56.00</td>\n",
       "      <td>2015-08-20T00:00:00</td>\n",
       "      <td>2</td>\n",
       "      <td>nan</td>\n",
       "      <td>5.00</td>\n",
       "      <td>34.30</td>\n",
       "      <td>4</td>\n",
       "      <td>NaN</td>\n",
       "      <td>False</td>\n",
       "      <td>False</td>\n",
       "      <td>8.30</td>\n",
       "      <td>0.00</td>\n",
       "      <td>Санкт-Петербург</td>\n",
       "      <td>21,741.00</td>\n",
       "      <td>13,933.00</td>\n",
       "      <td>1.00</td>\n",
       "      <td>90.00</td>\n",
       "      <td>2.00</td>\n",
       "      <td>574.00</td>\n",
       "      <td>558.00</td>\n",
       "    </tr>\n",
       "    <tr>\n",
       "      <td>3</td>\n",
       "      <td>0</td>\n",
       "      <td>64,900,000.00</td>\n",
       "      <td>159.00</td>\n",
       "      <td>2015-07-24T00:00:00</td>\n",
       "      <td>3</td>\n",
       "      <td>nan</td>\n",
       "      <td>14.00</td>\n",
       "      <td>nan</td>\n",
       "      <td>9</td>\n",
       "      <td>NaN</td>\n",
       "      <td>False</td>\n",
       "      <td>False</td>\n",
       "      <td>nan</td>\n",
       "      <td>0.00</td>\n",
       "      <td>Санкт-Петербург</td>\n",
       "      <td>28,098.00</td>\n",
       "      <td>6,800.00</td>\n",
       "      <td>2.00</td>\n",
       "      <td>84.00</td>\n",
       "      <td>3.00</td>\n",
       "      <td>234.00</td>\n",
       "      <td>424.00</td>\n",
       "    </tr>\n",
       "    <tr>\n",
       "      <td>4</td>\n",
       "      <td>2</td>\n",
       "      <td>10,000,000.00</td>\n",
       "      <td>100.00</td>\n",
       "      <td>2018-06-19T00:00:00</td>\n",
       "      <td>2</td>\n",
       "      <td>3.03</td>\n",
       "      <td>14.00</td>\n",
       "      <td>32.00</td>\n",
       "      <td>13</td>\n",
       "      <td>NaN</td>\n",
       "      <td>False</td>\n",
       "      <td>False</td>\n",
       "      <td>41.00</td>\n",
       "      <td>nan</td>\n",
       "      <td>Санкт-Петербург</td>\n",
       "      <td>31,856.00</td>\n",
       "      <td>8,098.00</td>\n",
       "      <td>2.00</td>\n",
       "      <td>112.00</td>\n",
       "      <td>1.00</td>\n",
       "      <td>48.00</td>\n",
       "      <td>121.00</td>\n",
       "    </tr>\n",
       "    <tr>\n",
       "      <td>5</td>\n",
       "      <td>10</td>\n",
       "      <td>2,890,000.00</td>\n",
       "      <td>30.40</td>\n",
       "      <td>2018-09-10T00:00:00</td>\n",
       "      <td>1</td>\n",
       "      <td>nan</td>\n",
       "      <td>12.00</td>\n",
       "      <td>14.40</td>\n",
       "      <td>5</td>\n",
       "      <td>NaN</td>\n",
       "      <td>False</td>\n",
       "      <td>False</td>\n",
       "      <td>9.10</td>\n",
       "      <td>nan</td>\n",
       "      <td>городской посёлок Янино-1</td>\n",
       "      <td>nan</td>\n",
       "      <td>nan</td>\n",
       "      <td>nan</td>\n",
       "      <td>nan</td>\n",
       "      <td>nan</td>\n",
       "      <td>nan</td>\n",
       "      <td>55.00</td>\n",
       "    </tr>\n",
       "    <tr>\n",
       "      <td>6</td>\n",
       "      <td>6</td>\n",
       "      <td>3,700,000.00</td>\n",
       "      <td>37.30</td>\n",
       "      <td>2017-11-02T00:00:00</td>\n",
       "      <td>1</td>\n",
       "      <td>nan</td>\n",
       "      <td>26.00</td>\n",
       "      <td>10.60</td>\n",
       "      <td>6</td>\n",
       "      <td>NaN</td>\n",
       "      <td>False</td>\n",
       "      <td>False</td>\n",
       "      <td>14.40</td>\n",
       "      <td>1.00</td>\n",
       "      <td>посёлок Парголово</td>\n",
       "      <td>52,996.00</td>\n",
       "      <td>19,143.00</td>\n",
       "      <td>0.00</td>\n",
       "      <td>nan</td>\n",
       "      <td>0.00</td>\n",
       "      <td>nan</td>\n",
       "      <td>155.00</td>\n",
       "    </tr>\n",
       "    <tr>\n",
       "      <td>7</td>\n",
       "      <td>5</td>\n",
       "      <td>7,915,000.00</td>\n",
       "      <td>71.60</td>\n",
       "      <td>2019-04-18T00:00:00</td>\n",
       "      <td>2</td>\n",
       "      <td>nan</td>\n",
       "      <td>24.00</td>\n",
       "      <td>nan</td>\n",
       "      <td>22</td>\n",
       "      <td>NaN</td>\n",
       "      <td>False</td>\n",
       "      <td>False</td>\n",
       "      <td>18.90</td>\n",
       "      <td>2.00</td>\n",
       "      <td>Санкт-Петербург</td>\n",
       "      <td>23,982.00</td>\n",
       "      <td>11,634.00</td>\n",
       "      <td>0.00</td>\n",
       "      <td>nan</td>\n",
       "      <td>0.00</td>\n",
       "      <td>nan</td>\n",
       "      <td>nan</td>\n",
       "    </tr>\n",
       "    <tr>\n",
       "      <td>8</td>\n",
       "      <td>20</td>\n",
       "      <td>2,900,000.00</td>\n",
       "      <td>33.16</td>\n",
       "      <td>2018-05-23T00:00:00</td>\n",
       "      <td>1</td>\n",
       "      <td>nan</td>\n",
       "      <td>27.00</td>\n",
       "      <td>15.43</td>\n",
       "      <td>26</td>\n",
       "      <td>NaN</td>\n",
       "      <td>False</td>\n",
       "      <td>False</td>\n",
       "      <td>8.81</td>\n",
       "      <td>nan</td>\n",
       "      <td>посёлок Мурино</td>\n",
       "      <td>nan</td>\n",
       "      <td>nan</td>\n",
       "      <td>nan</td>\n",
       "      <td>nan</td>\n",
       "      <td>nan</td>\n",
       "      <td>nan</td>\n",
       "      <td>189.00</td>\n",
       "    </tr>\n",
       "    <tr>\n",
       "      <td>9</td>\n",
       "      <td>18</td>\n",
       "      <td>5,400,000.00</td>\n",
       "      <td>61.00</td>\n",
       "      <td>2017-02-26T00:00:00</td>\n",
       "      <td>3</td>\n",
       "      <td>2.50</td>\n",
       "      <td>9.00</td>\n",
       "      <td>43.60</td>\n",
       "      <td>7</td>\n",
       "      <td>NaN</td>\n",
       "      <td>False</td>\n",
       "      <td>False</td>\n",
       "      <td>6.50</td>\n",
       "      <td>2.00</td>\n",
       "      <td>Санкт-Петербург</td>\n",
       "      <td>50,898.00</td>\n",
       "      <td>15,008.00</td>\n",
       "      <td>0.00</td>\n",
       "      <td>nan</td>\n",
       "      <td>0.00</td>\n",
       "      <td>nan</td>\n",
       "      <td>289.00</td>\n",
       "    </tr>\n",
       "  </tbody>\n",
       "</table>\n",
       "</div>"
      ],
      "text/plain": [
       "   total_images    last_price  total_area first_day_exposition  rooms  \\\n",
       "0            20 13,000,000.00      108.00  2019-03-07T00:00:00      3   \n",
       "1             7  3,350,000.00       40.40  2018-12-04T00:00:00      1   \n",
       "2            10  5,196,000.00       56.00  2015-08-20T00:00:00      2   \n",
       "3             0 64,900,000.00      159.00  2015-07-24T00:00:00      3   \n",
       "4             2 10,000,000.00      100.00  2018-06-19T00:00:00      2   \n",
       "5            10  2,890,000.00       30.40  2018-09-10T00:00:00      1   \n",
       "6             6  3,700,000.00       37.30  2017-11-02T00:00:00      1   \n",
       "7             5  7,915,000.00       71.60  2019-04-18T00:00:00      2   \n",
       "8            20  2,900,000.00       33.16  2018-05-23T00:00:00      1   \n",
       "9            18  5,400,000.00       61.00  2017-02-26T00:00:00      3   \n",
       "\n",
       "   ceiling_height  floors_total  living_area  floor is_apartment  studio  \\\n",
       "0            2.70         16.00        51.00      8          NaN   False   \n",
       "1             nan         11.00        18.60      1          NaN   False   \n",
       "2             nan          5.00        34.30      4          NaN   False   \n",
       "3             nan         14.00          nan      9          NaN   False   \n",
       "4            3.03         14.00        32.00     13          NaN   False   \n",
       "5             nan         12.00        14.40      5          NaN   False   \n",
       "6             nan         26.00        10.60      6          NaN   False   \n",
       "7             nan         24.00          nan     22          NaN   False   \n",
       "8             nan         27.00        15.43     26          NaN   False   \n",
       "9            2.50          9.00        43.60      7          NaN   False   \n",
       "\n",
       "   open_plan  kitchen_area  balcony              locality_name  \\\n",
       "0      False         25.00      nan            Санкт-Петербург   \n",
       "1      False         11.00     2.00             посёлок Шушары   \n",
       "2      False          8.30     0.00            Санкт-Петербург   \n",
       "3      False           nan     0.00            Санкт-Петербург   \n",
       "4      False         41.00      nan            Санкт-Петербург   \n",
       "5      False          9.10      nan  городской посёлок Янино-1   \n",
       "6      False         14.40     1.00          посёлок Парголово   \n",
       "7      False         18.90     2.00            Санкт-Петербург   \n",
       "8      False          8.81      nan             посёлок Мурино   \n",
       "9      False          6.50     2.00            Санкт-Петербург   \n",
       "\n",
       "   airports_nearest  cityCenters_nearest  parks_around3000  parks_nearest  \\\n",
       "0         18,863.00            16,028.00              1.00         482.00   \n",
       "1         12,817.00            18,603.00              0.00            nan   \n",
       "2         21,741.00            13,933.00              1.00          90.00   \n",
       "3         28,098.00             6,800.00              2.00          84.00   \n",
       "4         31,856.00             8,098.00              2.00         112.00   \n",
       "5               nan                  nan               nan            nan   \n",
       "6         52,996.00            19,143.00              0.00            nan   \n",
       "7         23,982.00            11,634.00              0.00            nan   \n",
       "8               nan                  nan               nan            nan   \n",
       "9         50,898.00            15,008.00              0.00            nan   \n",
       "\n",
       "   ponds_around3000  ponds_nearest  days_exposition  \n",
       "0              2.00         755.00              nan  \n",
       "1              0.00            nan            81.00  \n",
       "2              2.00         574.00           558.00  \n",
       "3              3.00         234.00           424.00  \n",
       "4              1.00          48.00           121.00  \n",
       "5               nan            nan            55.00  \n",
       "6              0.00            nan           155.00  \n",
       "7              0.00            nan              nan  \n",
       "8               nan            nan           189.00  \n",
       "9              0.00            nan           289.00  "
      ]
     },
     "execution_count": 3,
     "metadata": {},
     "output_type": "execute_result"
    }
   ],
   "source": [
    "data = pd.read_csv('/datasets/real_estate_data.csv', sep='\\t') \n",
    "data.head(10)\n",
    "#посмотрим первые 10 строчек таблицы"
   ]
  },
  {
   "cell_type": "code",
   "execution_count": 4,
   "metadata": {},
   "outputs": [
    {
     "data": {
      "text/html": [
       "<div>\n",
       "<style scoped>\n",
       "    .dataframe tbody tr th:only-of-type {\n",
       "        vertical-align: middle;\n",
       "    }\n",
       "\n",
       "    .dataframe tbody tr th {\n",
       "        vertical-align: top;\n",
       "    }\n",
       "\n",
       "    .dataframe thead th {\n",
       "        text-align: right;\n",
       "    }\n",
       "</style>\n",
       "<table border=\"1\" class=\"dataframe\">\n",
       "  <thead>\n",
       "    <tr style=\"text-align: right;\">\n",
       "      <th></th>\n",
       "      <th>total_images</th>\n",
       "      <th>last_price</th>\n",
       "      <th>total_area</th>\n",
       "      <th>first_day_exposition</th>\n",
       "      <th>rooms</th>\n",
       "      <th>ceiling_height</th>\n",
       "      <th>floors_total</th>\n",
       "      <th>living_area</th>\n",
       "      <th>floor</th>\n",
       "      <th>is_apartment</th>\n",
       "      <th>studio</th>\n",
       "      <th>open_plan</th>\n",
       "      <th>kitchen_area</th>\n",
       "      <th>balcony</th>\n",
       "      <th>locality_name</th>\n",
       "      <th>airports_nearest</th>\n",
       "      <th>cityCenters_nearest</th>\n",
       "      <th>parks_around3000</th>\n",
       "      <th>parks_nearest</th>\n",
       "      <th>ponds_around3000</th>\n",
       "      <th>ponds_nearest</th>\n",
       "      <th>days_exposition</th>\n",
       "    </tr>\n",
       "  </thead>\n",
       "  <tbody>\n",
       "    <tr>\n",
       "      <td>23689</td>\n",
       "      <td>13</td>\n",
       "      <td>3,550,000.00</td>\n",
       "      <td>35.30</td>\n",
       "      <td>2018-02-28T00:00:00</td>\n",
       "      <td>1</td>\n",
       "      <td>2.86</td>\n",
       "      <td>15.00</td>\n",
       "      <td>16.30</td>\n",
       "      <td>4</td>\n",
       "      <td>NaN</td>\n",
       "      <td>False</td>\n",
       "      <td>False</td>\n",
       "      <td>9.10</td>\n",
       "      <td>2.00</td>\n",
       "      <td>Санкт-Петербург</td>\n",
       "      <td>17,284.00</td>\n",
       "      <td>16,081.00</td>\n",
       "      <td>1.00</td>\n",
       "      <td>353.00</td>\n",
       "      <td>2.00</td>\n",
       "      <td>652.00</td>\n",
       "      <td>29.00</td>\n",
       "    </tr>\n",
       "    <tr>\n",
       "      <td>23690</td>\n",
       "      <td>3</td>\n",
       "      <td>5,500,000.00</td>\n",
       "      <td>52.00</td>\n",
       "      <td>2018-07-19T00:00:00</td>\n",
       "      <td>2</td>\n",
       "      <td>nan</td>\n",
       "      <td>5.00</td>\n",
       "      <td>31.00</td>\n",
       "      <td>2</td>\n",
       "      <td>NaN</td>\n",
       "      <td>False</td>\n",
       "      <td>False</td>\n",
       "      <td>6.00</td>\n",
       "      <td>nan</td>\n",
       "      <td>Санкт-Петербург</td>\n",
       "      <td>20,151.00</td>\n",
       "      <td>6,263.00</td>\n",
       "      <td>1.00</td>\n",
       "      <td>300.00</td>\n",
       "      <td>0.00</td>\n",
       "      <td>nan</td>\n",
       "      <td>15.00</td>\n",
       "    </tr>\n",
       "    <tr>\n",
       "      <td>23691</td>\n",
       "      <td>11</td>\n",
       "      <td>9,470,000.00</td>\n",
       "      <td>72.90</td>\n",
       "      <td>2016-10-13T00:00:00</td>\n",
       "      <td>2</td>\n",
       "      <td>2.75</td>\n",
       "      <td>25.00</td>\n",
       "      <td>40.30</td>\n",
       "      <td>7</td>\n",
       "      <td>NaN</td>\n",
       "      <td>False</td>\n",
       "      <td>False</td>\n",
       "      <td>10.60</td>\n",
       "      <td>1.00</td>\n",
       "      <td>Санкт-Петербург</td>\n",
       "      <td>19,424.00</td>\n",
       "      <td>4,489.00</td>\n",
       "      <td>0.00</td>\n",
       "      <td>nan</td>\n",
       "      <td>1.00</td>\n",
       "      <td>806.00</td>\n",
       "      <td>519.00</td>\n",
       "    </tr>\n",
       "    <tr>\n",
       "      <td>23692</td>\n",
       "      <td>2</td>\n",
       "      <td>1,350,000.00</td>\n",
       "      <td>30.00</td>\n",
       "      <td>2017-07-07T00:00:00</td>\n",
       "      <td>1</td>\n",
       "      <td>nan</td>\n",
       "      <td>5.00</td>\n",
       "      <td>17.50</td>\n",
       "      <td>4</td>\n",
       "      <td>NaN</td>\n",
       "      <td>False</td>\n",
       "      <td>False</td>\n",
       "      <td>6.00</td>\n",
       "      <td>nan</td>\n",
       "      <td>Тихвин</td>\n",
       "      <td>nan</td>\n",
       "      <td>nan</td>\n",
       "      <td>nan</td>\n",
       "      <td>nan</td>\n",
       "      <td>nan</td>\n",
       "      <td>nan</td>\n",
       "      <td>413.00</td>\n",
       "    </tr>\n",
       "    <tr>\n",
       "      <td>23693</td>\n",
       "      <td>9</td>\n",
       "      <td>4,600,000.00</td>\n",
       "      <td>62.40</td>\n",
       "      <td>2016-08-05T00:00:00</td>\n",
       "      <td>3</td>\n",
       "      <td>2.60</td>\n",
       "      <td>9.00</td>\n",
       "      <td>40.00</td>\n",
       "      <td>8</td>\n",
       "      <td>NaN</td>\n",
       "      <td>False</td>\n",
       "      <td>False</td>\n",
       "      <td>8.00</td>\n",
       "      <td>0.00</td>\n",
       "      <td>Петергоф</td>\n",
       "      <td>45,602.00</td>\n",
       "      <td>34,104.00</td>\n",
       "      <td>1.00</td>\n",
       "      <td>352.00</td>\n",
       "      <td>1.00</td>\n",
       "      <td>675.00</td>\n",
       "      <td>239.00</td>\n",
       "    </tr>\n",
       "    <tr>\n",
       "      <td>23694</td>\n",
       "      <td>9</td>\n",
       "      <td>9,700,000.00</td>\n",
       "      <td>133.81</td>\n",
       "      <td>2017-03-21T00:00:00</td>\n",
       "      <td>3</td>\n",
       "      <td>3.70</td>\n",
       "      <td>5.00</td>\n",
       "      <td>73.30</td>\n",
       "      <td>3</td>\n",
       "      <td>NaN</td>\n",
       "      <td>False</td>\n",
       "      <td>False</td>\n",
       "      <td>13.83</td>\n",
       "      <td>nan</td>\n",
       "      <td>Санкт-Петербург</td>\n",
       "      <td>24,665.00</td>\n",
       "      <td>4,232.00</td>\n",
       "      <td>1.00</td>\n",
       "      <td>796.00</td>\n",
       "      <td>3.00</td>\n",
       "      <td>381.00</td>\n",
       "      <td>nan</td>\n",
       "    </tr>\n",
       "    <tr>\n",
       "      <td>23695</td>\n",
       "      <td>14</td>\n",
       "      <td>3,100,000.00</td>\n",
       "      <td>59.00</td>\n",
       "      <td>2018-01-15T00:00:00</td>\n",
       "      <td>3</td>\n",
       "      <td>nan</td>\n",
       "      <td>5.00</td>\n",
       "      <td>38.00</td>\n",
       "      <td>4</td>\n",
       "      <td>NaN</td>\n",
       "      <td>False</td>\n",
       "      <td>False</td>\n",
       "      <td>8.50</td>\n",
       "      <td>nan</td>\n",
       "      <td>Тосно</td>\n",
       "      <td>nan</td>\n",
       "      <td>nan</td>\n",
       "      <td>nan</td>\n",
       "      <td>nan</td>\n",
       "      <td>nan</td>\n",
       "      <td>nan</td>\n",
       "      <td>45.00</td>\n",
       "    </tr>\n",
       "    <tr>\n",
       "      <td>23696</td>\n",
       "      <td>18</td>\n",
       "      <td>2,500,000.00</td>\n",
       "      <td>56.70</td>\n",
       "      <td>2018-02-11T00:00:00</td>\n",
       "      <td>2</td>\n",
       "      <td>nan</td>\n",
       "      <td>3.00</td>\n",
       "      <td>29.70</td>\n",
       "      <td>1</td>\n",
       "      <td>NaN</td>\n",
       "      <td>False</td>\n",
       "      <td>False</td>\n",
       "      <td>nan</td>\n",
       "      <td>nan</td>\n",
       "      <td>село Рождествено</td>\n",
       "      <td>nan</td>\n",
       "      <td>nan</td>\n",
       "      <td>nan</td>\n",
       "      <td>nan</td>\n",
       "      <td>nan</td>\n",
       "      <td>nan</td>\n",
       "      <td>nan</td>\n",
       "    </tr>\n",
       "    <tr>\n",
       "      <td>23697</td>\n",
       "      <td>13</td>\n",
       "      <td>11,475,000.00</td>\n",
       "      <td>76.75</td>\n",
       "      <td>2017-03-28T00:00:00</td>\n",
       "      <td>2</td>\n",
       "      <td>3.00</td>\n",
       "      <td>17.00</td>\n",
       "      <td>nan</td>\n",
       "      <td>12</td>\n",
       "      <td>NaN</td>\n",
       "      <td>False</td>\n",
       "      <td>False</td>\n",
       "      <td>23.30</td>\n",
       "      <td>2.00</td>\n",
       "      <td>Санкт-Петербург</td>\n",
       "      <td>39,140.00</td>\n",
       "      <td>10,364.00</td>\n",
       "      <td>2.00</td>\n",
       "      <td>173.00</td>\n",
       "      <td>3.00</td>\n",
       "      <td>196.00</td>\n",
       "      <td>602.00</td>\n",
       "    </tr>\n",
       "    <tr>\n",
       "      <td>23698</td>\n",
       "      <td>4</td>\n",
       "      <td>1,350,000.00</td>\n",
       "      <td>32.30</td>\n",
       "      <td>2017-07-21T00:00:00</td>\n",
       "      <td>1</td>\n",
       "      <td>2.50</td>\n",
       "      <td>5.00</td>\n",
       "      <td>12.30</td>\n",
       "      <td>1</td>\n",
       "      <td>NaN</td>\n",
       "      <td>False</td>\n",
       "      <td>False</td>\n",
       "      <td>9.00</td>\n",
       "      <td>nan</td>\n",
       "      <td>поселок Новый Учхоз</td>\n",
       "      <td>nan</td>\n",
       "      <td>nan</td>\n",
       "      <td>nan</td>\n",
       "      <td>nan</td>\n",
       "      <td>nan</td>\n",
       "      <td>nan</td>\n",
       "      <td>nan</td>\n",
       "    </tr>\n",
       "  </tbody>\n",
       "</table>\n",
       "</div>"
      ],
      "text/plain": [
       "       total_images    last_price  total_area first_day_exposition  rooms  \\\n",
       "23689            13  3,550,000.00       35.30  2018-02-28T00:00:00      1   \n",
       "23690             3  5,500,000.00       52.00  2018-07-19T00:00:00      2   \n",
       "23691            11  9,470,000.00       72.90  2016-10-13T00:00:00      2   \n",
       "23692             2  1,350,000.00       30.00  2017-07-07T00:00:00      1   \n",
       "23693             9  4,600,000.00       62.40  2016-08-05T00:00:00      3   \n",
       "23694             9  9,700,000.00      133.81  2017-03-21T00:00:00      3   \n",
       "23695            14  3,100,000.00       59.00  2018-01-15T00:00:00      3   \n",
       "23696            18  2,500,000.00       56.70  2018-02-11T00:00:00      2   \n",
       "23697            13 11,475,000.00       76.75  2017-03-28T00:00:00      2   \n",
       "23698             4  1,350,000.00       32.30  2017-07-21T00:00:00      1   \n",
       "\n",
       "       ceiling_height  floors_total  living_area  floor is_apartment  studio  \\\n",
       "23689            2.86         15.00        16.30      4          NaN   False   \n",
       "23690             nan          5.00        31.00      2          NaN   False   \n",
       "23691            2.75         25.00        40.30      7          NaN   False   \n",
       "23692             nan          5.00        17.50      4          NaN   False   \n",
       "23693            2.60          9.00        40.00      8          NaN   False   \n",
       "23694            3.70          5.00        73.30      3          NaN   False   \n",
       "23695             nan          5.00        38.00      4          NaN   False   \n",
       "23696             nan          3.00        29.70      1          NaN   False   \n",
       "23697            3.00         17.00          nan     12          NaN   False   \n",
       "23698            2.50          5.00        12.30      1          NaN   False   \n",
       "\n",
       "       open_plan  kitchen_area  balcony        locality_name  \\\n",
       "23689      False          9.10     2.00      Санкт-Петербург   \n",
       "23690      False          6.00      nan      Санкт-Петербург   \n",
       "23691      False         10.60     1.00      Санкт-Петербург   \n",
       "23692      False          6.00      nan               Тихвин   \n",
       "23693      False          8.00     0.00             Петергоф   \n",
       "23694      False         13.83      nan      Санкт-Петербург   \n",
       "23695      False          8.50      nan                Тосно   \n",
       "23696      False           nan      nan     село Рождествено   \n",
       "23697      False         23.30     2.00      Санкт-Петербург   \n",
       "23698      False          9.00      nan  поселок Новый Учхоз   \n",
       "\n",
       "       airports_nearest  cityCenters_nearest  parks_around3000  parks_nearest  \\\n",
       "23689         17,284.00            16,081.00              1.00         353.00   \n",
       "23690         20,151.00             6,263.00              1.00         300.00   \n",
       "23691         19,424.00             4,489.00              0.00            nan   \n",
       "23692               nan                  nan               nan            nan   \n",
       "23693         45,602.00            34,104.00              1.00         352.00   \n",
       "23694         24,665.00             4,232.00              1.00         796.00   \n",
       "23695               nan                  nan               nan            nan   \n",
       "23696               nan                  nan               nan            nan   \n",
       "23697         39,140.00            10,364.00              2.00         173.00   \n",
       "23698               nan                  nan               nan            nan   \n",
       "\n",
       "       ponds_around3000  ponds_nearest  days_exposition  \n",
       "23689              2.00         652.00            29.00  \n",
       "23690              0.00            nan            15.00  \n",
       "23691              1.00         806.00           519.00  \n",
       "23692               nan            nan           413.00  \n",
       "23693              1.00         675.00           239.00  \n",
       "23694              3.00         381.00              nan  \n",
       "23695               nan            nan            45.00  \n",
       "23696               nan            nan              nan  \n",
       "23697              3.00         196.00           602.00  \n",
       "23698               nan            nan              nan  "
      ]
     },
     "execution_count": 4,
     "metadata": {},
     "output_type": "execute_result"
    }
   ],
   "source": [
    "data.tail(10)"
   ]
  },
  {
   "cell_type": "code",
   "execution_count": 5,
   "metadata": {},
   "outputs": [
    {
     "data": {
      "text/html": [
       "<div>\n",
       "<style scoped>\n",
       "    .dataframe tbody tr th:only-of-type {\n",
       "        vertical-align: middle;\n",
       "    }\n",
       "\n",
       "    .dataframe tbody tr th {\n",
       "        vertical-align: top;\n",
       "    }\n",
       "\n",
       "    .dataframe thead th {\n",
       "        text-align: right;\n",
       "    }\n",
       "</style>\n",
       "<table border=\"1\" class=\"dataframe\">\n",
       "  <thead>\n",
       "    <tr style=\"text-align: right;\">\n",
       "      <th></th>\n",
       "      <th>total_images</th>\n",
       "      <th>last_price</th>\n",
       "      <th>total_area</th>\n",
       "      <th>rooms</th>\n",
       "      <th>ceiling_height</th>\n",
       "      <th>floors_total</th>\n",
       "      <th>living_area</th>\n",
       "      <th>floor</th>\n",
       "      <th>kitchen_area</th>\n",
       "      <th>balcony</th>\n",
       "      <th>airports_nearest</th>\n",
       "      <th>cityCenters_nearest</th>\n",
       "      <th>parks_around3000</th>\n",
       "      <th>parks_nearest</th>\n",
       "      <th>ponds_around3000</th>\n",
       "      <th>ponds_nearest</th>\n",
       "      <th>days_exposition</th>\n",
       "    </tr>\n",
       "  </thead>\n",
       "  <tbody>\n",
       "    <tr>\n",
       "      <td>count</td>\n",
       "      <td>23,699.00</td>\n",
       "      <td>23,699.00</td>\n",
       "      <td>23,699.00</td>\n",
       "      <td>23,699.00</td>\n",
       "      <td>14,504.00</td>\n",
       "      <td>23,613.00</td>\n",
       "      <td>21,796.00</td>\n",
       "      <td>23,699.00</td>\n",
       "      <td>21,421.00</td>\n",
       "      <td>12,180.00</td>\n",
       "      <td>18,157.00</td>\n",
       "      <td>18,180.00</td>\n",
       "      <td>18,181.00</td>\n",
       "      <td>8,079.00</td>\n",
       "      <td>18,181.00</td>\n",
       "      <td>9,110.00</td>\n",
       "      <td>20,518.00</td>\n",
       "    </tr>\n",
       "    <tr>\n",
       "      <td>mean</td>\n",
       "      <td>9.86</td>\n",
       "      <td>6,541,548.77</td>\n",
       "      <td>60.35</td>\n",
       "      <td>2.07</td>\n",
       "      <td>2.77</td>\n",
       "      <td>10.67</td>\n",
       "      <td>34.46</td>\n",
       "      <td>5.89</td>\n",
       "      <td>10.57</td>\n",
       "      <td>1.15</td>\n",
       "      <td>28,793.67</td>\n",
       "      <td>14,191.28</td>\n",
       "      <td>0.61</td>\n",
       "      <td>490.80</td>\n",
       "      <td>0.77</td>\n",
       "      <td>517.98</td>\n",
       "      <td>180.89</td>\n",
       "    </tr>\n",
       "    <tr>\n",
       "      <td>std</td>\n",
       "      <td>5.68</td>\n",
       "      <td>10,887,013.27</td>\n",
       "      <td>35.65</td>\n",
       "      <td>1.08</td>\n",
       "      <td>1.26</td>\n",
       "      <td>6.60</td>\n",
       "      <td>22.03</td>\n",
       "      <td>4.89</td>\n",
       "      <td>5.91</td>\n",
       "      <td>1.07</td>\n",
       "      <td>12,630.88</td>\n",
       "      <td>8,608.39</td>\n",
       "      <td>0.80</td>\n",
       "      <td>342.32</td>\n",
       "      <td>0.94</td>\n",
       "      <td>277.72</td>\n",
       "      <td>219.73</td>\n",
       "    </tr>\n",
       "    <tr>\n",
       "      <td>min</td>\n",
       "      <td>0.00</td>\n",
       "      <td>12,190.00</td>\n",
       "      <td>12.00</td>\n",
       "      <td>0.00</td>\n",
       "      <td>1.00</td>\n",
       "      <td>1.00</td>\n",
       "      <td>2.00</td>\n",
       "      <td>1.00</td>\n",
       "      <td>1.30</td>\n",
       "      <td>0.00</td>\n",
       "      <td>0.00</td>\n",
       "      <td>181.00</td>\n",
       "      <td>0.00</td>\n",
       "      <td>1.00</td>\n",
       "      <td>0.00</td>\n",
       "      <td>13.00</td>\n",
       "      <td>1.00</td>\n",
       "    </tr>\n",
       "    <tr>\n",
       "      <td>25%</td>\n",
       "      <td>6.00</td>\n",
       "      <td>3,400,000.00</td>\n",
       "      <td>40.00</td>\n",
       "      <td>1.00</td>\n",
       "      <td>2.52</td>\n",
       "      <td>5.00</td>\n",
       "      <td>18.60</td>\n",
       "      <td>2.00</td>\n",
       "      <td>7.00</td>\n",
       "      <td>0.00</td>\n",
       "      <td>18,585.00</td>\n",
       "      <td>9,238.00</td>\n",
       "      <td>0.00</td>\n",
       "      <td>288.00</td>\n",
       "      <td>0.00</td>\n",
       "      <td>294.00</td>\n",
       "      <td>45.00</td>\n",
       "    </tr>\n",
       "    <tr>\n",
       "      <td>50%</td>\n",
       "      <td>9.00</td>\n",
       "      <td>4,650,000.00</td>\n",
       "      <td>52.00</td>\n",
       "      <td>2.00</td>\n",
       "      <td>2.65</td>\n",
       "      <td>9.00</td>\n",
       "      <td>30.00</td>\n",
       "      <td>4.00</td>\n",
       "      <td>9.10</td>\n",
       "      <td>1.00</td>\n",
       "      <td>26,726.00</td>\n",
       "      <td>13,098.50</td>\n",
       "      <td>0.00</td>\n",
       "      <td>455.00</td>\n",
       "      <td>1.00</td>\n",
       "      <td>502.00</td>\n",
       "      <td>95.00</td>\n",
       "    </tr>\n",
       "    <tr>\n",
       "      <td>75%</td>\n",
       "      <td>14.00</td>\n",
       "      <td>6,800,000.00</td>\n",
       "      <td>69.90</td>\n",
       "      <td>3.00</td>\n",
       "      <td>2.80</td>\n",
       "      <td>16.00</td>\n",
       "      <td>42.30</td>\n",
       "      <td>8.00</td>\n",
       "      <td>12.00</td>\n",
       "      <td>2.00</td>\n",
       "      <td>37,273.00</td>\n",
       "      <td>16,293.00</td>\n",
       "      <td>1.00</td>\n",
       "      <td>612.00</td>\n",
       "      <td>1.00</td>\n",
       "      <td>729.00</td>\n",
       "      <td>232.00</td>\n",
       "    </tr>\n",
       "    <tr>\n",
       "      <td>max</td>\n",
       "      <td>50.00</td>\n",
       "      <td>763,000,000.00</td>\n",
       "      <td>900.00</td>\n",
       "      <td>19.00</td>\n",
       "      <td>100.00</td>\n",
       "      <td>60.00</td>\n",
       "      <td>409.70</td>\n",
       "      <td>33.00</td>\n",
       "      <td>112.00</td>\n",
       "      <td>5.00</td>\n",
       "      <td>84,869.00</td>\n",
       "      <td>65,968.00</td>\n",
       "      <td>3.00</td>\n",
       "      <td>3,190.00</td>\n",
       "      <td>3.00</td>\n",
       "      <td>1,344.00</td>\n",
       "      <td>1,580.00</td>\n",
       "    </tr>\n",
       "  </tbody>\n",
       "</table>\n",
       "</div>"
      ],
      "text/plain": [
       "       total_images     last_price  total_area     rooms  ceiling_height  \\\n",
       "count     23,699.00      23,699.00   23,699.00 23,699.00       14,504.00   \n",
       "mean           9.86   6,541,548.77       60.35      2.07            2.77   \n",
       "std            5.68  10,887,013.27       35.65      1.08            1.26   \n",
       "min            0.00      12,190.00       12.00      0.00            1.00   \n",
       "25%            6.00   3,400,000.00       40.00      1.00            2.52   \n",
       "50%            9.00   4,650,000.00       52.00      2.00            2.65   \n",
       "75%           14.00   6,800,000.00       69.90      3.00            2.80   \n",
       "max           50.00 763,000,000.00      900.00     19.00          100.00   \n",
       "\n",
       "       floors_total  living_area     floor  kitchen_area   balcony  \\\n",
       "count     23,613.00    21,796.00 23,699.00     21,421.00 12,180.00   \n",
       "mean          10.67        34.46      5.89         10.57      1.15   \n",
       "std            6.60        22.03      4.89          5.91      1.07   \n",
       "min            1.00         2.00      1.00          1.30      0.00   \n",
       "25%            5.00        18.60      2.00          7.00      0.00   \n",
       "50%            9.00        30.00      4.00          9.10      1.00   \n",
       "75%           16.00        42.30      8.00         12.00      2.00   \n",
       "max           60.00       409.70     33.00        112.00      5.00   \n",
       "\n",
       "       airports_nearest  cityCenters_nearest  parks_around3000  parks_nearest  \\\n",
       "count         18,157.00            18,180.00         18,181.00       8,079.00   \n",
       "mean          28,793.67            14,191.28              0.61         490.80   \n",
       "std           12,630.88             8,608.39              0.80         342.32   \n",
       "min                0.00               181.00              0.00           1.00   \n",
       "25%           18,585.00             9,238.00              0.00         288.00   \n",
       "50%           26,726.00            13,098.50              0.00         455.00   \n",
       "75%           37,273.00            16,293.00              1.00         612.00   \n",
       "max           84,869.00            65,968.00              3.00       3,190.00   \n",
       "\n",
       "       ponds_around3000  ponds_nearest  days_exposition  \n",
       "count         18,181.00       9,110.00        20,518.00  \n",
       "mean               0.77         517.98           180.89  \n",
       "std                0.94         277.72           219.73  \n",
       "min                0.00          13.00             1.00  \n",
       "25%                0.00         294.00            45.00  \n",
       "50%                1.00         502.00            95.00  \n",
       "75%                1.00         729.00           232.00  \n",
       "max                3.00       1,344.00         1,580.00  "
      ]
     },
     "execution_count": 5,
     "metadata": {},
     "output_type": "execute_result"
    }
   ],
   "source": [
    "data.describe()"
   ]
  },
  {
   "cell_type": "code",
   "execution_count": 6,
   "metadata": {},
   "outputs": [
    {
     "name": "stdout",
     "output_type": "stream",
     "text": [
      "<class 'pandas.core.frame.DataFrame'>\n",
      "RangeIndex: 23699 entries, 0 to 23698\n",
      "Data columns (total 22 columns):\n",
      "total_images            23699 non-null int64\n",
      "last_price              23699 non-null float64\n",
      "total_area              23699 non-null float64\n",
      "first_day_exposition    23699 non-null object\n",
      "rooms                   23699 non-null int64\n",
      "ceiling_height          14504 non-null float64\n",
      "floors_total            23613 non-null float64\n",
      "living_area             21796 non-null float64\n",
      "floor                   23699 non-null int64\n",
      "is_apartment            2775 non-null object\n",
      "studio                  23699 non-null bool\n",
      "open_plan               23699 non-null bool\n",
      "kitchen_area            21421 non-null float64\n",
      "balcony                 12180 non-null float64\n",
      "locality_name           23650 non-null object\n",
      "airports_nearest        18157 non-null float64\n",
      "cityCenters_nearest     18180 non-null float64\n",
      "parks_around3000        18181 non-null float64\n",
      "parks_nearest           8079 non-null float64\n",
      "ponds_around3000        18181 non-null float64\n",
      "ponds_nearest           9110 non-null float64\n",
      "days_exposition         20518 non-null float64\n",
      "dtypes: bool(2), float64(14), int64(3), object(3)\n",
      "memory usage: 3.7+ MB\n"
     ]
    }
   ],
   "source": [
    "data.info()"
   ]
  },
  {
   "cell_type": "markdown",
   "metadata": {},
   "source": [
    "### Вывод"
   ]
  },
  {
   "cell_type": "markdown",
   "metadata": {},
   "source": [
    "Для дальнейшего анализа приведем данные представленной таблицы впорядок, проверим пропущенные значения (которых очень много), проверим на наличии дубликатов, изменим типы данных и категоризуем их. "
   ]
  },
  {
   "cell_type": "markdown",
   "metadata": {},
   "source": [
    "<font color='blue'> \n",
    "### <u>КОММЕНТАРИЙ РЕВЬЮЕРА</u>\n",
    "</font>\n",
    "<font color='green'>\n",
    "Хорошее начало)<br>\n",
    "Действительно, очень хорошая привычка - ставить точку в конце шага. <br>\n",
    "\n",
    "<br>\n",
    "</font>"
   ]
  },
  {
   "cell_type": "markdown",
   "metadata": {},
   "source": [
    "### Шаг 2. Предобработка данных\n",
    "Обработаем данные для дальнейшего анализа и выполнения поставленных задач."
   ]
  },
  {
   "cell_type": "code",
   "execution_count": 7,
   "metadata": {},
   "outputs": [
    {
     "data": {
      "text/plain": [
       "total_images                0\n",
       "last_price                  0\n",
       "total_area                  0\n",
       "first_day_exposition        0\n",
       "rooms                       0\n",
       "ceiling_height           9195\n",
       "floors_total               86\n",
       "living_area              1903\n",
       "floor                       0\n",
       "is_apartment            20924\n",
       "studio                      0\n",
       "open_plan                   0\n",
       "kitchen_area             2278\n",
       "balcony                 11519\n",
       "locality_name              49\n",
       "airports_nearest         5542\n",
       "cityCenters_nearest      5519\n",
       "parks_around3000         5518\n",
       "parks_nearest           15620\n",
       "ponds_around3000         5518\n",
       "ponds_nearest           14589\n",
       "days_exposition          3181\n",
       "dtype: int64"
      ]
     },
     "execution_count": 7,
     "metadata": {},
     "output_type": "execute_result"
    }
   ],
   "source": [
    "#посмотрим на суммарное количество пропусков\n",
    "data.isnull().sum()\n",
    "#далее будем рассматривать только те столбцы, которые нам необходимы"
   ]
  },
  {
   "cell_type": "code",
   "execution_count": 8,
   "metadata": {
    "scrolled": true
   },
   "outputs": [
    {
     "data": {
      "text/plain": [
       "total_images            0.00\n",
       "open_plan               0.00\n",
       "floor                   0.00\n",
       "rooms                   0.00\n",
       "studio                  0.00\n",
       "total_area              0.00\n",
       "last_price              0.00\n",
       "first_day_exposition    0.00\n",
       "locality_name           0.21\n",
       "floors_total            0.36\n",
       "living_area             8.03\n",
       "kitchen_area            9.61\n",
       "days_exposition        13.42\n",
       "ponds_around3000       23.28\n",
       "parks_around3000       23.28\n",
       "cityCenters_nearest    23.29\n",
       "airports_nearest       23.38\n",
       "ceiling_height         38.80\n",
       "balcony                48.61\n",
       "ponds_nearest          61.56\n",
       "parks_nearest          65.91\n",
       "is_apartment           88.29\n",
       "dtype: float64"
      ]
     },
     "execution_count": 8,
     "metadata": {},
     "output_type": "execute_result"
    }
   ],
   "source": [
    "#посмотрим теперь в процентом соотношении. \n",
    "data.isnull().sum().sort_values()/data.shape[0]*100"
   ]
  },
  {
   "cell_type": "code",
   "execution_count": 9,
   "metadata": {},
   "outputs": [
    {
     "data": {
      "text/plain": [
       "['total_images',\n",
       " 'last_price',\n",
       " 'total_area',\n",
       " 'first_day_exposition',\n",
       " 'rooms',\n",
       " 'ceiling_height',\n",
       " 'floors_total',\n",
       " 'living_area',\n",
       " 'floor',\n",
       " 'is_apartment',\n",
       " 'studio',\n",
       " 'open_plan',\n",
       " 'kitchen_area',\n",
       " 'balcony',\n",
       " 'locality_name',\n",
       " 'airports_nearest',\n",
       " 'cityCenters_nearest',\n",
       " 'parks_around3000',\n",
       " 'parks_nearest',\n",
       " 'ponds_around3000',\n",
       " 'ponds_nearest',\n",
       " 'days_exposition']"
      ]
     },
     "execution_count": 9,
     "metadata": {},
     "output_type": "execute_result"
    }
   ],
   "source": [
    "#переименуем столбцы и приведем названия столбцов к единому регитру: \n",
    "data.columns.tolist()"
   ]
  },
  {
   "cell_type": "code",
   "execution_count": 10,
   "metadata": {},
   "outputs": [],
   "source": [
    "names = ['total_images',\n",
    " 'price',\n",
    " 'total_area',\n",
    " 'first_day_exposition',\n",
    " 'rooms',\n",
    " 'ceiling_height',\n",
    " 'floors_total',\n",
    " 'living_area',\n",
    " 'floor',\n",
    " 'apartment',\n",
    " 'studio',\n",
    " 'open_plan',\n",
    " 'kitchen_area',\n",
    " 'balcony',\n",
    " 'locality_name',\n",
    " 'airports_nearest',\n",
    " 'citycenters_nearest',\n",
    " 'parks_around_3km', \n",
    " 'parks_nearest',\n",
    " 'ponds_around_3km',\n",
    " 'ponds_nearest',\n",
    " 'days_exposition']\n",
    "data.set_axis(names, axis='columns', inplace=True)"
   ]
  },
  {
   "cell_type": "code",
   "execution_count": 11,
   "metadata": {},
   "outputs": [
    {
     "data": {
      "text/plain": [
       "['total_images',\n",
       " 'price',\n",
       " 'total_area',\n",
       " 'first_day_exposition',\n",
       " 'rooms',\n",
       " 'ceiling_height',\n",
       " 'floors_total',\n",
       " 'living_area',\n",
       " 'floor',\n",
       " 'apartment',\n",
       " 'studio',\n",
       " 'open_plan',\n",
       " 'kitchen_area',\n",
       " 'balcony',\n",
       " 'locality_name',\n",
       " 'airports_nearest',\n",
       " 'citycenters_nearest',\n",
       " 'parks_around_3km',\n",
       " 'parks_nearest',\n",
       " 'ponds_around_3km',\n",
       " 'ponds_nearest',\n",
       " 'days_exposition']"
      ]
     },
     "execution_count": 11,
     "metadata": {},
     "output_type": "execute_result"
    }
   ],
   "source": [
    "data.columns.tolist()"
   ]
  },
  {
   "cell_type": "markdown",
   "metadata": {},
   "source": [
    "Предположительно, пропуски возникли потому что люди могут просто не знать такие вещи как удаленность квартиры от парка или пруда или число парков и прудов в районе их квартиры и т.д. \n",
    "Далее рассмотрим только те столбцы, которые нам необходимы для решения задач (это практически все =))."
   ]
  },
  {
   "cell_type": "markdown",
   "metadata": {},
   "source": [
    "<font color='blue'> \n",
    "### <u>КОММЕНТАРИЙ РЕВЬЮЕРА</u>\n",
    "</font>\n",
    "<font color='green'>\n",
    "Да, это точно не знают.<br>\n",
    "И там, кажется, робот должен был подставить сам...<br>\n",
    "Но, видимо, сбои какие-то...\n",
    "</font>"
   ]
  },
  {
   "cell_type": "code",
   "execution_count": 12,
   "metadata": {},
   "outputs": [],
   "source": [
    "#по логике мы можем заменить пропуски в столбце \"balcony\", \n",
    "#логично предположить, что пропуск в этом столбце - может означать, что балкона нет\n",
    "#заменим пропуск на 0.\n",
    "data['balcony'] = data['balcony'].fillna(0)"
   ]
  },
  {
   "cell_type": "code",
   "execution_count": 13,
   "metadata": {},
   "outputs": [
    {
     "data": {
      "text/plain": [
       "3.00       81\n",
       "4.00      183\n",
       "5.00      304\n",
       "2.00     3659\n",
       "1.00     4195\n",
       "0.00    15277\n",
       "Name: balcony, dtype: int64"
      ]
     },
     "execution_count": 13,
     "metadata": {},
     "output_type": "execute_result"
    }
   ],
   "source": [
    "data['balcony'].value_counts().sort_values()"
   ]
  },
  {
   "cell_type": "markdown",
   "metadata": {},
   "source": [
    "<font color='blue'> \n",
    "### <u>КОММЕНТАРИЙ РЕВЬЮЕРА</u>\n",
    "</font>\n",
    "<font color='orange'>\n",
    "ОК, заменили на 0,т.к. предположили, что люди не заполняли анкету по этому пункту<br>\n",
    "потому что у них нет балкона.<br>\n",
    "А если сделать другое предположение:<br>\n",
    "Балконы есть, просто люди забыли проставить в анкетах. Тогда надо чем-то заполгнять пропуски. Например, проанализировав данные на предмет \"номер этажа - есть балкон/нет балкона\" и если вероятность наличия балкона на каком-либо этаже - высока, то и основную выборку маркировали \"1\"<br><br>\n",
    "Это пример того, как изначальная предпосылка может менять весь анализ)))<br>\n",
    "Т.е. предпосылка, на которой аналитик строит фундамент своего проекта - очень важная и ответсвенная история))))<br>\n",
    "Вообще, \"Аналитик здесь главный\", как шутят некоторые.<br>\n",
    "И можно согласиться с этим. Только и ответсвенность от этого также высокая!!!<br>\n",
    "Например, если взять проект по медицине. Там от предпосылок зависит результат.<br>\n",
    "А от результата может зависеть жизнь и здоровье многих людей)\n",
    "<br>\n",
    "</font>"
   ]
  },
  {
   "cell_type": "code",
   "execution_count": 14,
   "metadata": {},
   "outputs": [
    {
     "data": {
      "text/plain": [
       "365"
      ]
     },
     "execution_count": 14,
     "metadata": {},
     "output_type": "execute_result"
    }
   ],
   "source": [
    "#далее рассмотрим столбец locality_name\n",
    "len(data['locality_name'].unique())"
   ]
  },
  {
   "cell_type": "markdown",
   "metadata": {},
   "source": [
    "<font color='blue'> \n",
    "### <u>КОММЕНТАРИЙ РЕВЬЮЕРА</u>\n",
    "</font>\n",
    "<font color='green'>\n",
    "Вот здесь даааа, тучу всего нужно бы понаделать..\n",
    "<br>\n",
    "</font>"
   ]
  },
  {
   "cell_type": "code",
   "execution_count": 15,
   "metadata": {},
   "outputs": [
    {
     "data": {
      "text/plain": [
       "['Санкт-Петербург',\n",
       " 'посёлок Шушары',\n",
       " 'городской посёлок Янино-1',\n",
       " 'посёлок Парголово',\n",
       " 'посёлок Мурино',\n",
       " 'Ломоносов',\n",
       " 'Сертолово',\n",
       " 'Петергоф',\n",
       " 'Пушкин',\n",
       " 'деревня Кудрово',\n",
       " 'Коммунар',\n",
       " 'Колпино',\n",
       " 'поселок городского типа Красный Бор',\n",
       " 'Гатчина',\n",
       " 'поселок Мурино',\n",
       " 'деревня Фёдоровское',\n",
       " 'Выборг',\n",
       " 'Кронштадт',\n",
       " 'Кировск',\n",
       " 'деревня Новое Девяткино',\n",
       " 'посёлок Металлострой',\n",
       " 'посёлок городского типа Лебяжье',\n",
       " 'посёлок городского типа Сиверский',\n",
       " 'поселок Молодцово',\n",
       " 'поселок городского типа Кузьмоловский',\n",
       " 'садовое товарищество Новая Ропша',\n",
       " 'Павловск',\n",
       " 'деревня Пикколово',\n",
       " 'Всеволожск',\n",
       " 'Волхов',\n",
       " 'Кингисепп',\n",
       " 'Приозерск',\n",
       " 'Сестрорецк',\n",
       " 'деревня Куттузи',\n",
       " 'посёлок Аннино',\n",
       " 'поселок городского типа Ефимовский',\n",
       " 'посёлок Плодовое',\n",
       " 'деревня Заклинье',\n",
       " 'поселок Торковичи',\n",
       " 'поселок Первомайское',\n",
       " 'Красное Село',\n",
       " 'посёлок Понтонный',\n",
       " 'Сясьстрой',\n",
       " 'деревня Старая',\n",
       " 'деревня Лесколово',\n",
       " 'посёлок Новый Свет',\n",
       " 'Сланцы',\n",
       " 'село Путилово',\n",
       " 'Ивангород',\n",
       " 'Мурино',\n",
       " 'Шлиссельбург',\n",
       " 'Никольское',\n",
       " 'Зеленогорск',\n",
       " 'Сосновый Бор',\n",
       " 'поселок Новый Свет',\n",
       " 'деревня Оржицы',\n",
       " 'деревня Кальтино',\n",
       " 'Кудрово',\n",
       " 'поселок Романовка',\n",
       " 'посёлок Бугры',\n",
       " 'поселок Бугры',\n",
       " 'поселок городского типа Рощино',\n",
       " 'Кириши',\n",
       " 'Луга',\n",
       " 'Волосово',\n",
       " 'Отрадное',\n",
       " 'село Павлово',\n",
       " 'поселок Оредеж',\n",
       " 'село Копорье',\n",
       " 'посёлок городского типа Красный Бор',\n",
       " 'посёлок Молодёжное',\n",
       " 'Тихвин',\n",
       " 'посёлок Победа',\n",
       " 'деревня Нурма',\n",
       " 'поселок городского типа Синявино',\n",
       " 'Тосно',\n",
       " 'посёлок городского типа Кузьмоловский',\n",
       " 'посёлок Стрельна',\n",
       " 'Бокситогорск',\n",
       " 'посёлок Александровская',\n",
       " 'деревня Лопухинка',\n",
       " 'Пикалёво',\n",
       " 'поселок Терволово',\n",
       " 'поселок городского типа Советский',\n",
       " 'Подпорожье',\n",
       " 'посёлок Петровское',\n",
       " 'посёлок городского типа Токсово',\n",
       " 'поселок Сельцо',\n",
       " 'посёлок городского типа Вырица',\n",
       " 'деревня Кипень',\n",
       " 'деревня Келози',\n",
       " 'деревня Вартемяги',\n",
       " 'посёлок Тельмана',\n",
       " 'поселок Севастьяново',\n",
       " 'городской поселок Большая Ижора',\n",
       " nan,\n",
       " 'городской посёлок Павлово',\n",
       " 'деревня Агалатово',\n",
       " 'посёлок Новогорелово',\n",
       " 'городской посёлок Лесогорский',\n",
       " 'деревня Лаголово',\n",
       " 'поселок Цвелодубово',\n",
       " 'поселок городского типа Рахья',\n",
       " 'поселок городского типа Вырица',\n",
       " 'деревня Белогорка',\n",
       " 'поселок Заводской',\n",
       " 'городской посёлок Новоселье',\n",
       " 'деревня Большие Колпаны',\n",
       " 'деревня Горбунки',\n",
       " 'деревня Батово',\n",
       " 'деревня Заневка',\n",
       " 'деревня Иссад',\n",
       " 'Приморск',\n",
       " 'городской посёлок Фёдоровское',\n",
       " 'деревня Мистолово',\n",
       " 'Новая Ладога',\n",
       " 'поселок Зимитицы',\n",
       " 'поселок Барышево',\n",
       " 'деревня Разметелево',\n",
       " 'поселок городского типа имени Свердлова',\n",
       " 'деревня Пеники',\n",
       " 'поселок Рябово',\n",
       " 'деревня Пудомяги',\n",
       " 'поселок станции Корнево',\n",
       " 'деревня Низино',\n",
       " 'деревня Бегуницы',\n",
       " 'посёлок Поляны',\n",
       " 'городской посёлок Мга',\n",
       " 'поселок Елизаветино',\n",
       " 'посёлок городского типа Кузнечное',\n",
       " 'деревня Колтуши',\n",
       " 'поселок Запорожское',\n",
       " 'посёлок городского типа Рощино',\n",
       " 'деревня Гостилицы',\n",
       " 'деревня Малое Карлино',\n",
       " 'посёлок Мичуринское',\n",
       " 'посёлок городского типа имени Морозова',\n",
       " 'посёлок Песочный',\n",
       " 'посёлок Сосново',\n",
       " 'деревня Аро',\n",
       " 'поселок Ильичёво',\n",
       " 'посёлок городского типа Тайцы',\n",
       " 'деревня Малое Верево',\n",
       " 'деревня Извара',\n",
       " 'поселок станции Вещево',\n",
       " 'село Паша',\n",
       " 'деревня Калитино',\n",
       " 'посёлок городского типа Ульяновка',\n",
       " 'деревня Чудской Бор',\n",
       " 'поселок городского типа Дубровка',\n",
       " 'деревня Мины',\n",
       " 'поселок Войсковицы',\n",
       " 'посёлок городского типа имени Свердлова',\n",
       " 'деревня Коркино',\n",
       " 'посёлок Ропша',\n",
       " 'поселок городского типа Приладожский',\n",
       " 'посёлок Щеглово',\n",
       " 'посёлок Гаврилово',\n",
       " 'Лодейное Поле',\n",
       " 'деревня Рабитицы',\n",
       " 'поселок городского типа Никольский',\n",
       " 'деревня Кузьмолово',\n",
       " 'деревня Малые Колпаны',\n",
       " 'поселок Тельмана',\n",
       " 'посёлок Петро-Славянка',\n",
       " 'городской посёлок Назия',\n",
       " 'посёлок Репино',\n",
       " 'посёлок Ильичёво',\n",
       " 'поселок Углово',\n",
       " 'поселок Старая Малукса',\n",
       " 'садовое товарищество Рахья',\n",
       " 'поселок Аннино',\n",
       " 'поселок Победа',\n",
       " 'деревня Меньково',\n",
       " 'деревня Старые Бегуницы',\n",
       " 'посёлок Сапёрный',\n",
       " 'поселок Семрино',\n",
       " 'поселок Гаврилово',\n",
       " 'поселок Глажево',\n",
       " 'поселок Кобринское',\n",
       " 'деревня Гарболово',\n",
       " 'деревня Юкки',\n",
       " 'поселок станции Приветнинское',\n",
       " 'деревня Мануйлово',\n",
       " 'деревня Пчева',\n",
       " 'поселок Поляны',\n",
       " 'поселок Цвылёво',\n",
       " 'поселок Мельниково',\n",
       " 'посёлок Пудость',\n",
       " 'посёлок Усть-Луга',\n",
       " 'Светогорск',\n",
       " 'Любань',\n",
       " 'поселок Селезнёво',\n",
       " 'поселок городского типа Рябово',\n",
       " 'Каменногорск',\n",
       " 'деревня Кривко',\n",
       " 'поселок Глебычево',\n",
       " 'деревня Парицы',\n",
       " 'поселок Жилпосёлок',\n",
       " 'посёлок городского типа Мга',\n",
       " 'городской поселок Янино-1',\n",
       " 'посёлок Войскорово',\n",
       " 'село Никольское',\n",
       " 'посёлок Терволово',\n",
       " 'поселок Стеклянный',\n",
       " 'посёлок городского типа Важины',\n",
       " 'посёлок Мыза-Ивановка',\n",
       " 'село Русско-Высоцкое',\n",
       " 'поселок городского типа Лебяжье',\n",
       " 'поселок городского типа Форносово',\n",
       " 'село Старая Ладога',\n",
       " 'поселок Житково',\n",
       " 'городской посёлок Виллози',\n",
       " 'деревня Лампово',\n",
       " 'деревня Шпаньково',\n",
       " 'деревня Лаврики',\n",
       " 'посёлок Сумино',\n",
       " 'посёлок Возрождение',\n",
       " 'деревня Старосиверская',\n",
       " 'посёлок Кикерино',\n",
       " 'поселок Возрождение',\n",
       " 'деревня Старое Хинколово',\n",
       " 'посёлок Пригородный',\n",
       " 'посёлок Торфяное',\n",
       " 'городской посёлок Будогощь',\n",
       " 'поселок Суходолье',\n",
       " 'поселок Красная Долина',\n",
       " 'деревня Хапо-Ое',\n",
       " 'поселок городского типа Дружная Горка',\n",
       " 'поселок Лисий Нос',\n",
       " 'деревня Яльгелево',\n",
       " 'посёлок Стеклянный',\n",
       " 'село Рождествено',\n",
       " 'деревня Старополье',\n",
       " 'посёлок Левашово',\n",
       " 'деревня Сяськелево',\n",
       " 'деревня Камышовка',\n",
       " 'садоводческое некоммерческое товарищество Лесная Поляна',\n",
       " 'деревня Хязельки',\n",
       " 'поселок Жилгородок',\n",
       " 'посёлок городского типа Павлово',\n",
       " 'деревня Ялгино',\n",
       " 'поселок Новый Учхоз',\n",
       " 'городской посёлок Рощино',\n",
       " 'поселок Гончарово',\n",
       " 'поселок Почап',\n",
       " 'посёлок Сапёрное',\n",
       " 'посёлок Платформа 69-й километр',\n",
       " 'поселок Каложицы',\n",
       " 'деревня Фалилеево',\n",
       " 'деревня Пельгора',\n",
       " 'поселок городского типа Лесогорский',\n",
       " 'деревня Торошковичи',\n",
       " 'посёлок Белоостров',\n",
       " 'посёлок Алексеевка',\n",
       " 'поселок Серебрянский',\n",
       " 'поселок Лукаши',\n",
       " 'поселок Петровское',\n",
       " 'деревня Щеглово',\n",
       " 'поселок Мичуринское',\n",
       " 'деревня Тарасово',\n",
       " 'поселок Кингисеппский',\n",
       " 'посёлок при железнодорожной станции Вещево',\n",
       " 'поселок Ушаки',\n",
       " 'деревня Котлы',\n",
       " 'деревня Сижно',\n",
       " 'деревня Торосово',\n",
       " 'посёлок Форт Красная Горка',\n",
       " 'поселок городского типа Токсово',\n",
       " 'деревня Новолисино',\n",
       " 'посёлок станции Громово',\n",
       " 'деревня Глинка',\n",
       " 'посёлок Мельниково',\n",
       " 'поселок городского типа Назия',\n",
       " 'деревня Старая Пустошь',\n",
       " 'поселок Коммунары',\n",
       " 'поселок Починок',\n",
       " 'посёлок городского типа Вознесенье',\n",
       " 'деревня Разбегаево',\n",
       " 'посёлок городского типа Рябово',\n",
       " 'поселок Гладкое',\n",
       " 'посёлок при железнодорожной станции Приветнинское',\n",
       " 'поселок Тёсово-4',\n",
       " 'посёлок Жилгородок',\n",
       " 'деревня Бор',\n",
       " 'посёлок Коробицыно',\n",
       " 'деревня Большая Вруда',\n",
       " 'деревня Курковицы',\n",
       " 'посёлок Лисий Нос',\n",
       " 'городской посёлок Советский',\n",
       " 'посёлок Кобралово',\n",
       " 'деревня Суоранда',\n",
       " 'поселок Кобралово',\n",
       " 'поселок городского типа Кондратьево',\n",
       " 'коттеджный поселок Счастье',\n",
       " 'поселок Любань',\n",
       " 'деревня Реброво',\n",
       " 'деревня Зимитицы',\n",
       " 'деревня Тойворово',\n",
       " 'поселок Семиозерье',\n",
       " 'поселок Лесное',\n",
       " 'поселок Совхозный',\n",
       " 'поселок Усть-Луга',\n",
       " 'посёлок Ленинское',\n",
       " 'посёлок Суйда',\n",
       " 'посёлок городского типа Форносово',\n",
       " 'деревня Нижние Осельки',\n",
       " 'посёлок станции Свирь',\n",
       " 'поселок Перово',\n",
       " 'Высоцк',\n",
       " 'поселок Гарболово',\n",
       " 'село Шум',\n",
       " 'поселок Котельский',\n",
       " 'поселок станции Лужайка',\n",
       " 'деревня Большая Пустомержа',\n",
       " 'поселок Красносельское',\n",
       " 'деревня Вахнова Кара',\n",
       " 'деревня Пижма',\n",
       " 'коттеджный поселок Кивеннапа Север',\n",
       " 'поселок Коробицыно',\n",
       " 'поселок Ромашки',\n",
       " 'посёлок Перово',\n",
       " 'деревня Каськово',\n",
       " 'деревня Куровицы',\n",
       " 'посёлок Плоское',\n",
       " 'поселок Сумино',\n",
       " 'поселок городского типа Большая Ижора',\n",
       " 'поселок Кирпичное',\n",
       " 'деревня Ям-Тесово',\n",
       " 'деревня Раздолье',\n",
       " 'деревня Терпилицы',\n",
       " 'посёлок Шугозеро',\n",
       " 'деревня Ваганово',\n",
       " 'поселок Пушное',\n",
       " 'садовое товарищество Садко',\n",
       " 'посёлок Усть-Ижора',\n",
       " 'деревня Выскатка',\n",
       " 'городской посёлок Свирьстрой',\n",
       " 'поселок Громово',\n",
       " 'деревня Кисельня',\n",
       " 'посёлок Старая Малукса',\n",
       " 'деревня Трубников Бор',\n",
       " 'поселок Калитино',\n",
       " 'посёлок Высокоключевой',\n",
       " 'садовое товарищество Приладожский',\n",
       " 'посёлок Пансионат Зелёный Бор',\n",
       " 'деревня Ненимяки',\n",
       " 'поселок Пансионат Зелёный Бор',\n",
       " 'деревня Снегирёвка',\n",
       " 'деревня Рапполово',\n",
       " 'деревня Пустынка',\n",
       " 'поселок Рабитицы',\n",
       " 'деревня Большой Сабск',\n",
       " 'деревня Русско',\n",
       " 'деревня Лупполово',\n",
       " 'деревня Большое Рейзино',\n",
       " 'деревня Малая Романовка',\n",
       " 'поселок Дружноселье',\n",
       " 'поселок Пчевжа',\n",
       " 'поселок Володарское',\n",
       " 'деревня Нижняя',\n",
       " 'коттеджный посёлок Лесное',\n",
       " 'деревня Тихковицы',\n",
       " 'деревня Борисова Грива',\n",
       " 'посёлок Дзержинского']"
      ]
     },
     "execution_count": 15,
     "metadata": {},
     "output_type": "execute_result"
    }
   ],
   "source": [
    "data['locality_name'].unique().tolist()"
   ]
  },
  {
   "cell_type": "markdown",
   "metadata": {},
   "source": [
    "Сходу видно, что не унифицировано заполнение этого столбца. Поселок могут писать как через е, так и через ё. Попробуем привести впорядок этот столбец"
   ]
  },
  {
   "cell_type": "code",
   "execution_count": 16,
   "metadata": {},
   "outputs": [],
   "source": [
    "data['locality_name'] = data['locality_name'].str.replace('ё', 'е', regex=True)"
   ]
  },
  {
   "cell_type": "code",
   "execution_count": 17,
   "metadata": {},
   "outputs": [
    {
     "data": {
      "text/plain": [
       "331"
      ]
     },
     "execution_count": 17,
     "metadata": {},
     "output_type": "execute_result"
    }
   ],
   "source": [
    "len(data['locality_name'].unique())"
   ]
  },
  {
   "cell_type": "code",
   "execution_count": 18,
   "metadata": {},
   "outputs": [
    {
     "data": {
      "text/plain": [
       "49"
      ]
     },
     "execution_count": 18,
     "metadata": {},
     "output_type": "execute_result"
    }
   ],
   "source": [
    "#Ушли 34 дубля. Теперь посмотрим сколько пропусков осталось в этом столбце\n",
    "data['locality_name'].isnull().sum()"
   ]
  },
  {
   "cell_type": "markdown",
   "metadata": {},
   "source": [
    "Попробуем удалить эти пропуска, ведь даже клиента, который в поисках квартиры, вряд ли заинтересует объявление, в котором не указан населенный пункт."
   ]
  },
  {
   "cell_type": "markdown",
   "metadata": {},
   "source": [
    "<font color='blue'> \n",
    "### <u>КОММЕНТАРИЙ РЕВЬЮЕРА</u>\n",
    "</font>\n",
    "<font color='green'>\n",
    "В общем-то согласен, ловко Вы с поселками то)<br>\n",
    "\n",
    "в locality_name есть ещё один недочёт, который может повлиять на выводы: это запись одной и той же локации разными названиями.<br>\n",
    "Например: деревня кудрово, кудрово, поселок кудрово - было бы правильнее эти вещи также убрать))<br>\n",
    "Где это может сказаться: например в задаче рассчитать среднюю стоимость квартиры в кудрово.<br>\n",
    "Ну и вот, тогда приехали....как говорится)))\n",
    "<br>\n",
    "</font>"
   ]
  },
  {
   "cell_type": "code",
   "execution_count": 19,
   "metadata": {},
   "outputs": [],
   "source": [
    "data = data.dropna(subset = ['locality_name'])"
   ]
  },
  {
   "cell_type": "code",
   "execution_count": 20,
   "metadata": {},
   "outputs": [
    {
     "data": {
      "text/plain": [
       "0"
      ]
     },
     "execution_count": 20,
     "metadata": {},
     "output_type": "execute_result"
    }
   ],
   "source": [
    "data['locality_name'].isnull().sum()"
   ]
  },
  {
   "cell_type": "code",
   "execution_count": 21,
   "metadata": {},
   "outputs": [
    {
     "data": {
      "text/plain": [
       "array([nan, False, True], dtype=object)"
      ]
     },
     "execution_count": 21,
     "metadata": {},
     "output_type": "execute_result"
    }
   ],
   "source": [
    "#продолжим рассматривать столбцы с большим количеством пропусков:\n",
    "#'apartment', 'studio', 'open_plan'\n",
    "data['apartment'].unique()"
   ]
  },
  {
   "cell_type": "code",
   "execution_count": 22,
   "metadata": {},
   "outputs": [],
   "source": [
    "#Заменяем Nan на False, так как объекты жилой фонд (ПЕРЕФОРМУЛИРОВАТЬ!)\n",
    "data['apartment'] = data['apartment'].fillna(0)"
   ]
  },
  {
   "cell_type": "code",
   "execution_count": 23,
   "metadata": {},
   "outputs": [],
   "source": [
    "data['apartment'] = data['apartment'].map({True: 1, False: 0})"
   ]
  },
  {
   "cell_type": "code",
   "execution_count": 24,
   "metadata": {},
   "outputs": [
    {
     "data": {
      "text/plain": [
       "array([False,  True])"
      ]
     },
     "execution_count": 24,
     "metadata": {},
     "output_type": "execute_result"
    }
   ],
   "source": [
    "#тоже самое сделаем и с остальными столбцами:  'studio', 'open_plan'\n",
    "data['studio'].unique()"
   ]
  },
  {
   "cell_type": "code",
   "execution_count": 25,
   "metadata": {},
   "outputs": [],
   "source": [
    "data['studio'] = data['studio'].map({True: 1, False: 0})"
   ]
  },
  {
   "cell_type": "code",
   "execution_count": 26,
   "metadata": {},
   "outputs": [
    {
     "data": {
      "text/plain": [
       "array([False,  True])"
      ]
     },
     "execution_count": 26,
     "metadata": {},
     "output_type": "execute_result"
    }
   ],
   "source": [
    "data['open_plan'].unique()"
   ]
  },
  {
   "cell_type": "code",
   "execution_count": 27,
   "metadata": {},
   "outputs": [],
   "source": [
    "data['open_plan'] = data['open_plan'].map({True: 1, False: 0})"
   ]
  },
  {
   "cell_type": "code",
   "execution_count": 28,
   "metadata": {},
   "outputs": [],
   "source": [
    "data['apartment'] = data['apartment'].astype('int16')\n",
    "data['studio'] = data['studio'].astype('int16')\n",
    "data['open_plan'] = data['open_plan'].astype('int16')"
   ]
  },
  {
   "cell_type": "code",
   "execution_count": 29,
   "metadata": {},
   "outputs": [
    {
     "data": {
      "text/html": [
       "<div>\n",
       "<style scoped>\n",
       "    .dataframe tbody tr th:only-of-type {\n",
       "        vertical-align: middle;\n",
       "    }\n",
       "\n",
       "    .dataframe tbody tr th {\n",
       "        vertical-align: top;\n",
       "    }\n",
       "\n",
       "    .dataframe thead th {\n",
       "        text-align: right;\n",
       "    }\n",
       "</style>\n",
       "<table border=\"1\" class=\"dataframe\">\n",
       "  <thead>\n",
       "    <tr style=\"text-align: right;\">\n",
       "      <th></th>\n",
       "      <th>total_images</th>\n",
       "      <th>price</th>\n",
       "      <th>total_area</th>\n",
       "      <th>first_day_exposition</th>\n",
       "      <th>rooms</th>\n",
       "      <th>ceiling_height</th>\n",
       "      <th>floors_total</th>\n",
       "      <th>living_area</th>\n",
       "      <th>floor</th>\n",
       "      <th>apartment</th>\n",
       "      <th>studio</th>\n",
       "      <th>open_plan</th>\n",
       "      <th>kitchen_area</th>\n",
       "      <th>balcony</th>\n",
       "      <th>locality_name</th>\n",
       "      <th>airports_nearest</th>\n",
       "      <th>citycenters_nearest</th>\n",
       "      <th>parks_around_3km</th>\n",
       "      <th>parks_nearest</th>\n",
       "      <th>ponds_around_3km</th>\n",
       "      <th>ponds_nearest</th>\n",
       "      <th>days_exposition</th>\n",
       "    </tr>\n",
       "  </thead>\n",
       "  <tbody>\n",
       "    <tr>\n",
       "      <td>0</td>\n",
       "      <td>20</td>\n",
       "      <td>13,000,000.00</td>\n",
       "      <td>108.00</td>\n",
       "      <td>2019-03-07T00:00:00</td>\n",
       "      <td>3</td>\n",
       "      <td>2.70</td>\n",
       "      <td>16.00</td>\n",
       "      <td>51.00</td>\n",
       "      <td>8</td>\n",
       "      <td>0</td>\n",
       "      <td>0</td>\n",
       "      <td>0</td>\n",
       "      <td>25.00</td>\n",
       "      <td>0.00</td>\n",
       "      <td>Санкт-Петербург</td>\n",
       "      <td>18,863.00</td>\n",
       "      <td>16,028.00</td>\n",
       "      <td>1.00</td>\n",
       "      <td>482.00</td>\n",
       "      <td>2.00</td>\n",
       "      <td>755.00</td>\n",
       "      <td>nan</td>\n",
       "    </tr>\n",
       "    <tr>\n",
       "      <td>1</td>\n",
       "      <td>7</td>\n",
       "      <td>3,350,000.00</td>\n",
       "      <td>40.40</td>\n",
       "      <td>2018-12-04T00:00:00</td>\n",
       "      <td>1</td>\n",
       "      <td>nan</td>\n",
       "      <td>11.00</td>\n",
       "      <td>18.60</td>\n",
       "      <td>1</td>\n",
       "      <td>0</td>\n",
       "      <td>0</td>\n",
       "      <td>0</td>\n",
       "      <td>11.00</td>\n",
       "      <td>2.00</td>\n",
       "      <td>поселок Шушары</td>\n",
       "      <td>12,817.00</td>\n",
       "      <td>18,603.00</td>\n",
       "      <td>0.00</td>\n",
       "      <td>nan</td>\n",
       "      <td>0.00</td>\n",
       "      <td>nan</td>\n",
       "      <td>81.00</td>\n",
       "    </tr>\n",
       "    <tr>\n",
       "      <td>2</td>\n",
       "      <td>10</td>\n",
       "      <td>5,196,000.00</td>\n",
       "      <td>56.00</td>\n",
       "      <td>2015-08-20T00:00:00</td>\n",
       "      <td>2</td>\n",
       "      <td>nan</td>\n",
       "      <td>5.00</td>\n",
       "      <td>34.30</td>\n",
       "      <td>4</td>\n",
       "      <td>0</td>\n",
       "      <td>0</td>\n",
       "      <td>0</td>\n",
       "      <td>8.30</td>\n",
       "      <td>0.00</td>\n",
       "      <td>Санкт-Петербург</td>\n",
       "      <td>21,741.00</td>\n",
       "      <td>13,933.00</td>\n",
       "      <td>1.00</td>\n",
       "      <td>90.00</td>\n",
       "      <td>2.00</td>\n",
       "      <td>574.00</td>\n",
       "      <td>558.00</td>\n",
       "    </tr>\n",
       "    <tr>\n",
       "      <td>3</td>\n",
       "      <td>0</td>\n",
       "      <td>64,900,000.00</td>\n",
       "      <td>159.00</td>\n",
       "      <td>2015-07-24T00:00:00</td>\n",
       "      <td>3</td>\n",
       "      <td>nan</td>\n",
       "      <td>14.00</td>\n",
       "      <td>nan</td>\n",
       "      <td>9</td>\n",
       "      <td>0</td>\n",
       "      <td>0</td>\n",
       "      <td>0</td>\n",
       "      <td>nan</td>\n",
       "      <td>0.00</td>\n",
       "      <td>Санкт-Петербург</td>\n",
       "      <td>28,098.00</td>\n",
       "      <td>6,800.00</td>\n",
       "      <td>2.00</td>\n",
       "      <td>84.00</td>\n",
       "      <td>3.00</td>\n",
       "      <td>234.00</td>\n",
       "      <td>424.00</td>\n",
       "    </tr>\n",
       "    <tr>\n",
       "      <td>4</td>\n",
       "      <td>2</td>\n",
       "      <td>10,000,000.00</td>\n",
       "      <td>100.00</td>\n",
       "      <td>2018-06-19T00:00:00</td>\n",
       "      <td>2</td>\n",
       "      <td>3.03</td>\n",
       "      <td>14.00</td>\n",
       "      <td>32.00</td>\n",
       "      <td>13</td>\n",
       "      <td>0</td>\n",
       "      <td>0</td>\n",
       "      <td>0</td>\n",
       "      <td>41.00</td>\n",
       "      <td>0.00</td>\n",
       "      <td>Санкт-Петербург</td>\n",
       "      <td>31,856.00</td>\n",
       "      <td>8,098.00</td>\n",
       "      <td>2.00</td>\n",
       "      <td>112.00</td>\n",
       "      <td>1.00</td>\n",
       "      <td>48.00</td>\n",
       "      <td>121.00</td>\n",
       "    </tr>\n",
       "  </tbody>\n",
       "</table>\n",
       "</div>"
      ],
      "text/plain": [
       "   total_images         price  total_area first_day_exposition  rooms  \\\n",
       "0            20 13,000,000.00      108.00  2019-03-07T00:00:00      3   \n",
       "1             7  3,350,000.00       40.40  2018-12-04T00:00:00      1   \n",
       "2            10  5,196,000.00       56.00  2015-08-20T00:00:00      2   \n",
       "3             0 64,900,000.00      159.00  2015-07-24T00:00:00      3   \n",
       "4             2 10,000,000.00      100.00  2018-06-19T00:00:00      2   \n",
       "\n",
       "   ceiling_height  floors_total  living_area  floor  apartment  studio  \\\n",
       "0            2.70         16.00        51.00      8          0       0   \n",
       "1             nan         11.00        18.60      1          0       0   \n",
       "2             nan          5.00        34.30      4          0       0   \n",
       "3             nan         14.00          nan      9          0       0   \n",
       "4            3.03         14.00        32.00     13          0       0   \n",
       "\n",
       "   open_plan  kitchen_area  balcony    locality_name  airports_nearest  \\\n",
       "0          0         25.00     0.00  Санкт-Петербург         18,863.00   \n",
       "1          0         11.00     2.00   поселок Шушары         12,817.00   \n",
       "2          0          8.30     0.00  Санкт-Петербург         21,741.00   \n",
       "3          0           nan     0.00  Санкт-Петербург         28,098.00   \n",
       "4          0         41.00     0.00  Санкт-Петербург         31,856.00   \n",
       "\n",
       "   citycenters_nearest  parks_around_3km  parks_nearest  ponds_around_3km  \\\n",
       "0            16,028.00              1.00         482.00              2.00   \n",
       "1            18,603.00              0.00            nan              0.00   \n",
       "2            13,933.00              1.00          90.00              2.00   \n",
       "3             6,800.00              2.00          84.00              3.00   \n",
       "4             8,098.00              2.00         112.00              1.00   \n",
       "\n",
       "   ponds_nearest  days_exposition  \n",
       "0         755.00              nan  \n",
       "1            nan            81.00  \n",
       "2         574.00           558.00  \n",
       "3         234.00           424.00  \n",
       "4          48.00           121.00  "
      ]
     },
     "execution_count": 29,
     "metadata": {},
     "output_type": "execute_result"
    }
   ],
   "source": [
    "#проверим замену типов данных и устранение пропусков (+привели к целому числу)\n",
    "data.head()"
   ]
  },
  {
   "cell_type": "markdown",
   "metadata": {},
   "source": [
    "<font color='blue'> \n",
    "### <u>КОММЕНТАРИЙ РЕВЬЮЕРА</u>\n",
    "</font>\n",
    "<font color='green'>\n",
    "команда - проверка результата. Это верная привычка)\n",
    "<br>\n",
    "</font>"
   ]
  },
  {
   "cell_type": "code",
   "execution_count": 30,
   "metadata": {},
   "outputs": [
    {
     "data": {
      "text/plain": [
       "total_images                0\n",
       "price                       0\n",
       "total_area                  0\n",
       "first_day_exposition        0\n",
       "rooms                       0\n",
       "ceiling_height           9160\n",
       "floors_total               85\n",
       "living_area              1898\n",
       "floor                       0\n",
       "apartment                   0\n",
       "studio                      0\n",
       "open_plan                   0\n",
       "kitchen_area             2269\n",
       "balcony                     0\n",
       "locality_name               0\n",
       "airports_nearest         5534\n",
       "citycenters_nearest      5511\n",
       "parks_around_3km         5510\n",
       "parks_nearest           15586\n",
       "ponds_around_3km         5510\n",
       "ponds_nearest           14565\n",
       "days_exposition          3180\n",
       "dtype: int64"
      ]
     },
     "execution_count": 30,
     "metadata": {},
     "output_type": "execute_result"
    }
   ],
   "source": [
    "data.isnull().sum()"
   ]
  },
  {
   "cell_type": "markdown",
   "metadata": {},
   "source": [
    "Что делать с пропусками следующих столбцов: \n",
    "airports_nearest         5534\n",
    "citycenters_nearest      5511\n",
    "parks_around3000         5510\n",
    "parks_nearest           15586\n",
    "ponds_around3000         5510\n",
    "ponds_nearest           14565\n",
    "Люди могут просто не обладать информацией по этим данным, но удалять информацию о них некорректно, заменять пропуски mead или средним значением, 0 или каким-то еще - просто исказить информацию. оставим пока их в покое. "
   ]
  },
  {
   "cell_type": "markdown",
   "metadata": {},
   "source": [
    "<font color='blue'> \n",
    "### <u>КОММЕНТАРИЙ РЕВЬЮЕРА</u>\n",
    "</font>\n",
    "<font color='green'>\n",
    "Ок, с таким подходом согласен.<br>\n",
    "Не всегда и надо бороться с пропусками)<br><font color='orange'>\n",
    "    \n",
    "Тут критерий - здравый смысл, относительно конечной бизнес-задачи.<br>\n",
    "Например, есть пропуски в данных, но не понятно чем их заполнить. А если удалить пропущенные строки, то\n",
    "может удалить ценная инфо по другим столбцам.<br>\n",
    "    \n",
    "Пару ещё моментов на обсуждение:<br>\n",
    "1) По поводу замену медианами - верная идея. суммарно, это меньшая ошибка (ведь когда подставляем какие-то значения, то всегда тем самым сами уже вносим искажения в результат)<br>\n",
    "Есть один случай, медиана однозначно наврёт. Это когда в данных есть тренд<br>\n",
    "Это больше подходит к временным рядам, но и сейчас уже можно намотать на ус))<br>\n",
    "2) Ну и сраузу уж с выбросами: выбросы - конечно же это зло для моделей. НО...<br>\n",
    "Иногда, правда, случается, что совокупность выбросов образует некий свой кластер данных<br>\n",
    "И тогда анлитика этого материала может быть ценнейшим кладом<br>\n",
    "    \n",
    "<br>\n",
    "</font>"
   ]
  },
  {
   "cell_type": "code",
   "execution_count": 31,
   "metadata": {},
   "outputs": [],
   "source": [
    "data[\"studio\"].fillna(\"unk\", inplace=True)\n",
    "\n",
    "studio_height = data.groupby('studio')['ceiling_height'].median().to_dict()\n",
    "\n",
    "data[\"ceiling_height\"].fillna(-1, inplace=True)\n",
    "\n",
    "def mapper(row):\n",
    "    if row[\"ceiling_height\"] == -1:\n",
    "        return studio_height[row['studio']]\n",
    "    return row[\"ceiling_height\"]\n",
    "\n",
    "data[\"ceiling_height\"] = data.apply(mapper, axis=1)"
   ]
  },
  {
   "cell_type": "code",
   "execution_count": 32,
   "metadata": {},
   "outputs": [
    {
     "data": {
      "text/plain": [
       "0"
      ]
     },
     "execution_count": 32,
     "metadata": {},
     "output_type": "execute_result"
    }
   ],
   "source": [
    "data.query('studio')['ceiling_height'].isnull().sum()"
   ]
  },
  {
   "cell_type": "code",
   "execution_count": 33,
   "metadata": {},
   "outputs": [],
   "source": [
    "data[\"apartment\"].fillna(\"unk\", inplace=True)\n",
    "\n",
    "apartment_height = data.groupby('apartment')['ceiling_height'].median().to_dict()\n",
    "\n",
    "data[\"ceiling_height\"].fillna(-1, inplace=True)\n",
    "\n",
    "def mapper(row):\n",
    "    if row[\"ceiling_height\"] == -1:\n",
    "        return studio_height[row['apartment']]\n",
    "    return row[\"ceiling_height\"]\n",
    "\n",
    "data[\"ceiling_height\"] = data.apply(mapper, axis=1)"
   ]
  },
  {
   "cell_type": "code",
   "execution_count": 34,
   "metadata": {},
   "outputs": [
    {
     "data": {
      "text/plain": [
       "0"
      ]
     },
     "execution_count": 34,
     "metadata": {},
     "output_type": "execute_result"
    }
   ],
   "source": [
    "data.query('apartment')['ceiling_height'].isnull().sum()"
   ]
  },
  {
   "cell_type": "code",
   "execution_count": 35,
   "metadata": {},
   "outputs": [],
   "source": [
    "data[\"open_plan\"].fillna(\"unk\", inplace=True)\n",
    "\n",
    "apartment_height = data.groupby('open_plan')['ceiling_height'].median().to_dict()\n",
    "\n",
    "data[\"open_plan\"].fillna(-1, inplace=True)\n",
    "\n",
    "def mapper(row):\n",
    "    if row[\"ceiling_height\"] == -1:\n",
    "        return studio_height[row['open_plan']]\n",
    "    return row[\"ceiling_height\"]\n",
    "\n",
    "data[\"ceiling_height\"] = data.apply(mapper, axis=1)"
   ]
  },
  {
   "cell_type": "code",
   "execution_count": 36,
   "metadata": {},
   "outputs": [
    {
     "data": {
      "text/plain": [
       "0"
      ]
     },
     "execution_count": 36,
     "metadata": {},
     "output_type": "execute_result"
    }
   ],
   "source": [
    "data.query('open_plan')['ceiling_height'].isnull().sum()"
   ]
  },
  {
   "cell_type": "code",
   "execution_count": 37,
   "metadata": {},
   "outputs": [
    {
     "data": {
      "text/plain": [
       "0"
      ]
     },
     "execution_count": 37,
     "metadata": {},
     "output_type": "execute_result"
    }
   ],
   "source": [
    "data['ceiling_height'].isnull().sum()"
   ]
  },
  {
   "cell_type": "code",
   "execution_count": 38,
   "metadata": {},
   "outputs": [],
   "source": [
    "#в таблице представлены следующие параметры в метрах: \n",
    "#'airports_nearest', 'cityсenters_nearest', 'parks_nearest', , 'ponds_nearest'. \n",
    "#Для удобства переведем метры в километры, унифицируем все в таблице =)\n",
    "\n",
    "data['airports_distance'] = data['airports_nearest'] / 1000\n",
    "data['citycenters_distance'] = data['citycenters_nearest'] / 1000\n",
    "data['parks_distance'] = data['parks_nearest'] / 1000\n",
    "data['ponds_distance'] = data['ponds_nearest'] / 1000"
   ]
  },
  {
   "cell_type": "code",
   "execution_count": 39,
   "metadata": {
    "scrolled": true
   },
   "outputs": [
    {
     "data": {
      "text/html": [
       "<div>\n",
       "<style scoped>\n",
       "    .dataframe tbody tr th:only-of-type {\n",
       "        vertical-align: middle;\n",
       "    }\n",
       "\n",
       "    .dataframe tbody tr th {\n",
       "        vertical-align: top;\n",
       "    }\n",
       "\n",
       "    .dataframe thead th {\n",
       "        text-align: right;\n",
       "    }\n",
       "</style>\n",
       "<table border=\"1\" class=\"dataframe\">\n",
       "  <thead>\n",
       "    <tr style=\"text-align: right;\">\n",
       "      <th></th>\n",
       "      <th>total_images</th>\n",
       "      <th>price</th>\n",
       "      <th>total_area</th>\n",
       "      <th>first_day_exposition</th>\n",
       "      <th>rooms</th>\n",
       "      <th>ceiling_height</th>\n",
       "      <th>floors_total</th>\n",
       "      <th>living_area</th>\n",
       "      <th>floor</th>\n",
       "      <th>apartment</th>\n",
       "      <th>studio</th>\n",
       "      <th>open_plan</th>\n",
       "      <th>kitchen_area</th>\n",
       "      <th>balcony</th>\n",
       "      <th>locality_name</th>\n",
       "      <th>airports_nearest</th>\n",
       "      <th>citycenters_nearest</th>\n",
       "      <th>parks_around_3km</th>\n",
       "      <th>parks_nearest</th>\n",
       "      <th>ponds_around_3km</th>\n",
       "      <th>ponds_nearest</th>\n",
       "      <th>days_exposition</th>\n",
       "      <th>airports_distance</th>\n",
       "      <th>citycenters_distance</th>\n",
       "      <th>parks_distance</th>\n",
       "      <th>ponds_distance</th>\n",
       "    </tr>\n",
       "  </thead>\n",
       "  <tbody>\n",
       "    <tr>\n",
       "      <td>0</td>\n",
       "      <td>20</td>\n",
       "      <td>13,000,000.00</td>\n",
       "      <td>108.00</td>\n",
       "      <td>2019-03-07T00:00:00</td>\n",
       "      <td>3</td>\n",
       "      <td>2.70</td>\n",
       "      <td>16.00</td>\n",
       "      <td>51.00</td>\n",
       "      <td>8</td>\n",
       "      <td>0</td>\n",
       "      <td>0</td>\n",
       "      <td>0</td>\n",
       "      <td>25.00</td>\n",
       "      <td>0.00</td>\n",
       "      <td>Санкт-Петербург</td>\n",
       "      <td>18,863.00</td>\n",
       "      <td>16,028.00</td>\n",
       "      <td>1.00</td>\n",
       "      <td>482.00</td>\n",
       "      <td>2.00</td>\n",
       "      <td>755.00</td>\n",
       "      <td>nan</td>\n",
       "      <td>18.86</td>\n",
       "      <td>16.03</td>\n",
       "      <td>0.48</td>\n",
       "      <td>0.76</td>\n",
       "    </tr>\n",
       "    <tr>\n",
       "      <td>1</td>\n",
       "      <td>7</td>\n",
       "      <td>3,350,000.00</td>\n",
       "      <td>40.40</td>\n",
       "      <td>2018-12-04T00:00:00</td>\n",
       "      <td>1</td>\n",
       "      <td>2.65</td>\n",
       "      <td>11.00</td>\n",
       "      <td>18.60</td>\n",
       "      <td>1</td>\n",
       "      <td>0</td>\n",
       "      <td>0</td>\n",
       "      <td>0</td>\n",
       "      <td>11.00</td>\n",
       "      <td>2.00</td>\n",
       "      <td>поселок Шушары</td>\n",
       "      <td>12,817.00</td>\n",
       "      <td>18,603.00</td>\n",
       "      <td>0.00</td>\n",
       "      <td>nan</td>\n",
       "      <td>0.00</td>\n",
       "      <td>nan</td>\n",
       "      <td>81.00</td>\n",
       "      <td>12.82</td>\n",
       "      <td>18.60</td>\n",
       "      <td>nan</td>\n",
       "      <td>nan</td>\n",
       "    </tr>\n",
       "    <tr>\n",
       "      <td>2</td>\n",
       "      <td>10</td>\n",
       "      <td>5,196,000.00</td>\n",
       "      <td>56.00</td>\n",
       "      <td>2015-08-20T00:00:00</td>\n",
       "      <td>2</td>\n",
       "      <td>2.65</td>\n",
       "      <td>5.00</td>\n",
       "      <td>34.30</td>\n",
       "      <td>4</td>\n",
       "      <td>0</td>\n",
       "      <td>0</td>\n",
       "      <td>0</td>\n",
       "      <td>8.30</td>\n",
       "      <td>0.00</td>\n",
       "      <td>Санкт-Петербург</td>\n",
       "      <td>21,741.00</td>\n",
       "      <td>13,933.00</td>\n",
       "      <td>1.00</td>\n",
       "      <td>90.00</td>\n",
       "      <td>2.00</td>\n",
       "      <td>574.00</td>\n",
       "      <td>558.00</td>\n",
       "      <td>21.74</td>\n",
       "      <td>13.93</td>\n",
       "      <td>0.09</td>\n",
       "      <td>0.57</td>\n",
       "    </tr>\n",
       "    <tr>\n",
       "      <td>3</td>\n",
       "      <td>0</td>\n",
       "      <td>64,900,000.00</td>\n",
       "      <td>159.00</td>\n",
       "      <td>2015-07-24T00:00:00</td>\n",
       "      <td>3</td>\n",
       "      <td>2.65</td>\n",
       "      <td>14.00</td>\n",
       "      <td>nan</td>\n",
       "      <td>9</td>\n",
       "      <td>0</td>\n",
       "      <td>0</td>\n",
       "      <td>0</td>\n",
       "      <td>nan</td>\n",
       "      <td>0.00</td>\n",
       "      <td>Санкт-Петербург</td>\n",
       "      <td>28,098.00</td>\n",
       "      <td>6,800.00</td>\n",
       "      <td>2.00</td>\n",
       "      <td>84.00</td>\n",
       "      <td>3.00</td>\n",
       "      <td>234.00</td>\n",
       "      <td>424.00</td>\n",
       "      <td>28.10</td>\n",
       "      <td>6.80</td>\n",
       "      <td>0.08</td>\n",
       "      <td>0.23</td>\n",
       "    </tr>\n",
       "    <tr>\n",
       "      <td>4</td>\n",
       "      <td>2</td>\n",
       "      <td>10,000,000.00</td>\n",
       "      <td>100.00</td>\n",
       "      <td>2018-06-19T00:00:00</td>\n",
       "      <td>2</td>\n",
       "      <td>3.03</td>\n",
       "      <td>14.00</td>\n",
       "      <td>32.00</td>\n",
       "      <td>13</td>\n",
       "      <td>0</td>\n",
       "      <td>0</td>\n",
       "      <td>0</td>\n",
       "      <td>41.00</td>\n",
       "      <td>0.00</td>\n",
       "      <td>Санкт-Петербург</td>\n",
       "      <td>31,856.00</td>\n",
       "      <td>8,098.00</td>\n",
       "      <td>2.00</td>\n",
       "      <td>112.00</td>\n",
       "      <td>1.00</td>\n",
       "      <td>48.00</td>\n",
       "      <td>121.00</td>\n",
       "      <td>31.86</td>\n",
       "      <td>8.10</td>\n",
       "      <td>0.11</td>\n",
       "      <td>0.05</td>\n",
       "    </tr>\n",
       "  </tbody>\n",
       "</table>\n",
       "</div>"
      ],
      "text/plain": [
       "   total_images         price  total_area first_day_exposition  rooms  \\\n",
       "0            20 13,000,000.00      108.00  2019-03-07T00:00:00      3   \n",
       "1             7  3,350,000.00       40.40  2018-12-04T00:00:00      1   \n",
       "2            10  5,196,000.00       56.00  2015-08-20T00:00:00      2   \n",
       "3             0 64,900,000.00      159.00  2015-07-24T00:00:00      3   \n",
       "4             2 10,000,000.00      100.00  2018-06-19T00:00:00      2   \n",
       "\n",
       "   ceiling_height  floors_total  living_area  floor  apartment  studio  \\\n",
       "0            2.70         16.00        51.00      8          0       0   \n",
       "1            2.65         11.00        18.60      1          0       0   \n",
       "2            2.65          5.00        34.30      4          0       0   \n",
       "3            2.65         14.00          nan      9          0       0   \n",
       "4            3.03         14.00        32.00     13          0       0   \n",
       "\n",
       "   open_plan  kitchen_area  balcony    locality_name  airports_nearest  \\\n",
       "0          0         25.00     0.00  Санкт-Петербург         18,863.00   \n",
       "1          0         11.00     2.00   поселок Шушары         12,817.00   \n",
       "2          0          8.30     0.00  Санкт-Петербург         21,741.00   \n",
       "3          0           nan     0.00  Санкт-Петербург         28,098.00   \n",
       "4          0         41.00     0.00  Санкт-Петербург         31,856.00   \n",
       "\n",
       "   citycenters_nearest  parks_around_3km  parks_nearest  ponds_around_3km  \\\n",
       "0            16,028.00              1.00         482.00              2.00   \n",
       "1            18,603.00              0.00            nan              0.00   \n",
       "2            13,933.00              1.00          90.00              2.00   \n",
       "3             6,800.00              2.00          84.00              3.00   \n",
       "4             8,098.00              2.00         112.00              1.00   \n",
       "\n",
       "   ponds_nearest  days_exposition  airports_distance  citycenters_distance  \\\n",
       "0         755.00              nan              18.86                 16.03   \n",
       "1            nan            81.00              12.82                 18.60   \n",
       "2         574.00           558.00              21.74                 13.93   \n",
       "3         234.00           424.00              28.10                  6.80   \n",
       "4          48.00           121.00              31.86                  8.10   \n",
       "\n",
       "   parks_distance  ponds_distance  \n",
       "0            0.48            0.76  \n",
       "1             nan             nan  \n",
       "2            0.09            0.57  \n",
       "3            0.08            0.23  \n",
       "4            0.11            0.05  "
      ]
     },
     "execution_count": 39,
     "metadata": {},
     "output_type": "execute_result"
    }
   ],
   "source": [
    "data.head(5)"
   ]
  },
  {
   "cell_type": "markdown",
   "metadata": {},
   "source": [
    "### Вывод\n",
    "- Определили и заменили пропущенные значения в следующих столбцах: 'balcony', 'ceiling_height', 'locality_name'.\n",
    "- Унифицировали данные в столбцах: 'locality_name'\n",
    "- Изменили типы данных в столбцах: 'airports_distance', 'citycenters_distance', 'parks_distance', 'ponds_distance'. "
   ]
  },
  {
   "cell_type": "markdown",
   "metadata": {},
   "source": [
    "<font color='blue'> \n",
    "### <u>КОММЕНТАРИЙ РЕВЬЮЕРА</u>\n",
    "</font>\n",
    "<font color='green'>\n",
    "А вот и вывод подоспел)))<br>\n",
    "Это я с радостью написал, потому что не у всех подобное есть(((<br>\n",
    "А, повторюсь, это важно в подобных проектах логически заканчивать блок исследований<br>\n",
    " \n",
    "С выводами идейно - ОК.<br>\n",
    "Остальное - написал в комментариях\n",
    "<br>\n",
    "</font>"
   ]
  },
  {
   "cell_type": "markdown",
   "metadata": {},
   "source": [
    "### Шаг 3. Посчитайте и добавьте в таблицу"
   ]
  },
  {
   "cell_type": "code",
   "execution_count": 40,
   "metadata": {},
   "outputs": [],
   "source": [
    "#посчитано и добавлено в таблицу: \n",
    "#день недели, месяц и год публикации объявления \n",
    "data['first_day_exposition'] = pd.to_datetime(data['first_day_exposition'], format=\"%Y-%m-%dT%H:%M:%S\")"
   ]
  },
  {
   "cell_type": "code",
   "execution_count": 41,
   "metadata": {},
   "outputs": [],
   "source": [
    "data['day_of_week'] = data['first_day_exposition'].dt.day_name()\n",
    "data['month'] = data['first_day_exposition'].dt.month_name()\n",
    "data['year'] = data['first_day_exposition'].dt.year"
   ]
  },
  {
   "cell_type": "code",
   "execution_count": 42,
   "metadata": {},
   "outputs": [
    {
     "data": {
      "text/html": [
       "<div>\n",
       "<style scoped>\n",
       "    .dataframe tbody tr th:only-of-type {\n",
       "        vertical-align: middle;\n",
       "    }\n",
       "\n",
       "    .dataframe tbody tr th {\n",
       "        vertical-align: top;\n",
       "    }\n",
       "\n",
       "    .dataframe thead th {\n",
       "        text-align: right;\n",
       "    }\n",
       "</style>\n",
       "<table border=\"1\" class=\"dataframe\">\n",
       "  <thead>\n",
       "    <tr style=\"text-align: right;\">\n",
       "      <th></th>\n",
       "      <th>total_images</th>\n",
       "      <th>price</th>\n",
       "      <th>total_area</th>\n",
       "      <th>first_day_exposition</th>\n",
       "      <th>rooms</th>\n",
       "      <th>ceiling_height</th>\n",
       "      <th>floors_total</th>\n",
       "      <th>living_area</th>\n",
       "      <th>floor</th>\n",
       "      <th>apartment</th>\n",
       "      <th>studio</th>\n",
       "      <th>open_plan</th>\n",
       "      <th>kitchen_area</th>\n",
       "      <th>balcony</th>\n",
       "      <th>locality_name</th>\n",
       "      <th>airports_nearest</th>\n",
       "      <th>citycenters_nearest</th>\n",
       "      <th>parks_around_3km</th>\n",
       "      <th>parks_nearest</th>\n",
       "      <th>ponds_around_3km</th>\n",
       "      <th>ponds_nearest</th>\n",
       "      <th>days_exposition</th>\n",
       "      <th>airports_distance</th>\n",
       "      <th>citycenters_distance</th>\n",
       "      <th>parks_distance</th>\n",
       "      <th>ponds_distance</th>\n",
       "      <th>day_of_week</th>\n",
       "      <th>month</th>\n",
       "      <th>year</th>\n",
       "    </tr>\n",
       "  </thead>\n",
       "  <tbody>\n",
       "    <tr>\n",
       "      <td>0</td>\n",
       "      <td>20</td>\n",
       "      <td>13,000,000.00</td>\n",
       "      <td>108.00</td>\n",
       "      <td>2019-03-07</td>\n",
       "      <td>3</td>\n",
       "      <td>2.70</td>\n",
       "      <td>16.00</td>\n",
       "      <td>51.00</td>\n",
       "      <td>8</td>\n",
       "      <td>0</td>\n",
       "      <td>0</td>\n",
       "      <td>0</td>\n",
       "      <td>25.00</td>\n",
       "      <td>0.00</td>\n",
       "      <td>Санкт-Петербург</td>\n",
       "      <td>18,863.00</td>\n",
       "      <td>16,028.00</td>\n",
       "      <td>1.00</td>\n",
       "      <td>482.00</td>\n",
       "      <td>2.00</td>\n",
       "      <td>755.00</td>\n",
       "      <td>nan</td>\n",
       "      <td>18.86</td>\n",
       "      <td>16.03</td>\n",
       "      <td>0.48</td>\n",
       "      <td>0.76</td>\n",
       "      <td>Thursday</td>\n",
       "      <td>March</td>\n",
       "      <td>2019</td>\n",
       "    </tr>\n",
       "    <tr>\n",
       "      <td>1</td>\n",
       "      <td>7</td>\n",
       "      <td>3,350,000.00</td>\n",
       "      <td>40.40</td>\n",
       "      <td>2018-12-04</td>\n",
       "      <td>1</td>\n",
       "      <td>2.65</td>\n",
       "      <td>11.00</td>\n",
       "      <td>18.60</td>\n",
       "      <td>1</td>\n",
       "      <td>0</td>\n",
       "      <td>0</td>\n",
       "      <td>0</td>\n",
       "      <td>11.00</td>\n",
       "      <td>2.00</td>\n",
       "      <td>поселок Шушары</td>\n",
       "      <td>12,817.00</td>\n",
       "      <td>18,603.00</td>\n",
       "      <td>0.00</td>\n",
       "      <td>nan</td>\n",
       "      <td>0.00</td>\n",
       "      <td>nan</td>\n",
       "      <td>81.00</td>\n",
       "      <td>12.82</td>\n",
       "      <td>18.60</td>\n",
       "      <td>nan</td>\n",
       "      <td>nan</td>\n",
       "      <td>Tuesday</td>\n",
       "      <td>December</td>\n",
       "      <td>2018</td>\n",
       "    </tr>\n",
       "    <tr>\n",
       "      <td>2</td>\n",
       "      <td>10</td>\n",
       "      <td>5,196,000.00</td>\n",
       "      <td>56.00</td>\n",
       "      <td>2015-08-20</td>\n",
       "      <td>2</td>\n",
       "      <td>2.65</td>\n",
       "      <td>5.00</td>\n",
       "      <td>34.30</td>\n",
       "      <td>4</td>\n",
       "      <td>0</td>\n",
       "      <td>0</td>\n",
       "      <td>0</td>\n",
       "      <td>8.30</td>\n",
       "      <td>0.00</td>\n",
       "      <td>Санкт-Петербург</td>\n",
       "      <td>21,741.00</td>\n",
       "      <td>13,933.00</td>\n",
       "      <td>1.00</td>\n",
       "      <td>90.00</td>\n",
       "      <td>2.00</td>\n",
       "      <td>574.00</td>\n",
       "      <td>558.00</td>\n",
       "      <td>21.74</td>\n",
       "      <td>13.93</td>\n",
       "      <td>0.09</td>\n",
       "      <td>0.57</td>\n",
       "      <td>Thursday</td>\n",
       "      <td>August</td>\n",
       "      <td>2015</td>\n",
       "    </tr>\n",
       "    <tr>\n",
       "      <td>3</td>\n",
       "      <td>0</td>\n",
       "      <td>64,900,000.00</td>\n",
       "      <td>159.00</td>\n",
       "      <td>2015-07-24</td>\n",
       "      <td>3</td>\n",
       "      <td>2.65</td>\n",
       "      <td>14.00</td>\n",
       "      <td>nan</td>\n",
       "      <td>9</td>\n",
       "      <td>0</td>\n",
       "      <td>0</td>\n",
       "      <td>0</td>\n",
       "      <td>nan</td>\n",
       "      <td>0.00</td>\n",
       "      <td>Санкт-Петербург</td>\n",
       "      <td>28,098.00</td>\n",
       "      <td>6,800.00</td>\n",
       "      <td>2.00</td>\n",
       "      <td>84.00</td>\n",
       "      <td>3.00</td>\n",
       "      <td>234.00</td>\n",
       "      <td>424.00</td>\n",
       "      <td>28.10</td>\n",
       "      <td>6.80</td>\n",
       "      <td>0.08</td>\n",
       "      <td>0.23</td>\n",
       "      <td>Friday</td>\n",
       "      <td>July</td>\n",
       "      <td>2015</td>\n",
       "    </tr>\n",
       "    <tr>\n",
       "      <td>4</td>\n",
       "      <td>2</td>\n",
       "      <td>10,000,000.00</td>\n",
       "      <td>100.00</td>\n",
       "      <td>2018-06-19</td>\n",
       "      <td>2</td>\n",
       "      <td>3.03</td>\n",
       "      <td>14.00</td>\n",
       "      <td>32.00</td>\n",
       "      <td>13</td>\n",
       "      <td>0</td>\n",
       "      <td>0</td>\n",
       "      <td>0</td>\n",
       "      <td>41.00</td>\n",
       "      <td>0.00</td>\n",
       "      <td>Санкт-Петербург</td>\n",
       "      <td>31,856.00</td>\n",
       "      <td>8,098.00</td>\n",
       "      <td>2.00</td>\n",
       "      <td>112.00</td>\n",
       "      <td>1.00</td>\n",
       "      <td>48.00</td>\n",
       "      <td>121.00</td>\n",
       "      <td>31.86</td>\n",
       "      <td>8.10</td>\n",
       "      <td>0.11</td>\n",
       "      <td>0.05</td>\n",
       "      <td>Tuesday</td>\n",
       "      <td>June</td>\n",
       "      <td>2018</td>\n",
       "    </tr>\n",
       "  </tbody>\n",
       "</table>\n",
       "</div>"
      ],
      "text/plain": [
       "   total_images         price  total_area first_day_exposition  rooms  \\\n",
       "0            20 13,000,000.00      108.00           2019-03-07      3   \n",
       "1             7  3,350,000.00       40.40           2018-12-04      1   \n",
       "2            10  5,196,000.00       56.00           2015-08-20      2   \n",
       "3             0 64,900,000.00      159.00           2015-07-24      3   \n",
       "4             2 10,000,000.00      100.00           2018-06-19      2   \n",
       "\n",
       "   ceiling_height  floors_total  living_area  floor  apartment  studio  \\\n",
       "0            2.70         16.00        51.00      8          0       0   \n",
       "1            2.65         11.00        18.60      1          0       0   \n",
       "2            2.65          5.00        34.30      4          0       0   \n",
       "3            2.65         14.00          nan      9          0       0   \n",
       "4            3.03         14.00        32.00     13          0       0   \n",
       "\n",
       "   open_plan  kitchen_area  balcony    locality_name  airports_nearest  \\\n",
       "0          0         25.00     0.00  Санкт-Петербург         18,863.00   \n",
       "1          0         11.00     2.00   поселок Шушары         12,817.00   \n",
       "2          0          8.30     0.00  Санкт-Петербург         21,741.00   \n",
       "3          0           nan     0.00  Санкт-Петербург         28,098.00   \n",
       "4          0         41.00     0.00  Санкт-Петербург         31,856.00   \n",
       "\n",
       "   citycenters_nearest  parks_around_3km  parks_nearest  ponds_around_3km  \\\n",
       "0            16,028.00              1.00         482.00              2.00   \n",
       "1            18,603.00              0.00            nan              0.00   \n",
       "2            13,933.00              1.00          90.00              2.00   \n",
       "3             6,800.00              2.00          84.00              3.00   \n",
       "4             8,098.00              2.00         112.00              1.00   \n",
       "\n",
       "   ponds_nearest  days_exposition  airports_distance  citycenters_distance  \\\n",
       "0         755.00              nan              18.86                 16.03   \n",
       "1            nan            81.00              12.82                 18.60   \n",
       "2         574.00           558.00              21.74                 13.93   \n",
       "3         234.00           424.00              28.10                  6.80   \n",
       "4          48.00           121.00              31.86                  8.10   \n",
       "\n",
       "   parks_distance  ponds_distance day_of_week     month  year  \n",
       "0            0.48            0.76    Thursday     March  2019  \n",
       "1             nan             nan     Tuesday  December  2018  \n",
       "2            0.09            0.57    Thursday    August  2015  \n",
       "3            0.08            0.23      Friday      July  2015  \n",
       "4            0.11            0.05     Tuesday      June  2018  "
      ]
     },
     "execution_count": 42,
     "metadata": {},
     "output_type": "execute_result"
    }
   ],
   "source": [
    "data.head()"
   ]
  },
  {
   "cell_type": "code",
   "execution_count": 43,
   "metadata": {},
   "outputs": [],
   "source": [
    "#посчитаем цену квадратного метра и добавим отдельным столбцом\n",
    "data['price_per_m2'] = data['price'] / data['total_area']"
   ]
  },
  {
   "cell_type": "code",
   "execution_count": 44,
   "metadata": {},
   "outputs": [
    {
     "data": {
      "text/html": [
       "<div>\n",
       "<style scoped>\n",
       "    .dataframe tbody tr th:only-of-type {\n",
       "        vertical-align: middle;\n",
       "    }\n",
       "\n",
       "    .dataframe tbody tr th {\n",
       "        vertical-align: top;\n",
       "    }\n",
       "\n",
       "    .dataframe thead th {\n",
       "        text-align: right;\n",
       "    }\n",
       "</style>\n",
       "<table border=\"1\" class=\"dataframe\">\n",
       "  <thead>\n",
       "    <tr style=\"text-align: right;\">\n",
       "      <th></th>\n",
       "      <th>total_images</th>\n",
       "      <th>price</th>\n",
       "      <th>total_area</th>\n",
       "      <th>first_day_exposition</th>\n",
       "      <th>rooms</th>\n",
       "      <th>ceiling_height</th>\n",
       "      <th>floors_total</th>\n",
       "      <th>living_area</th>\n",
       "      <th>floor</th>\n",
       "      <th>apartment</th>\n",
       "      <th>studio</th>\n",
       "      <th>open_plan</th>\n",
       "      <th>kitchen_area</th>\n",
       "      <th>balcony</th>\n",
       "      <th>locality_name</th>\n",
       "      <th>airports_nearest</th>\n",
       "      <th>citycenters_nearest</th>\n",
       "      <th>parks_around_3km</th>\n",
       "      <th>parks_nearest</th>\n",
       "      <th>ponds_around_3km</th>\n",
       "      <th>ponds_nearest</th>\n",
       "      <th>days_exposition</th>\n",
       "      <th>airports_distance</th>\n",
       "      <th>citycenters_distance</th>\n",
       "      <th>parks_distance</th>\n",
       "      <th>ponds_distance</th>\n",
       "      <th>day_of_week</th>\n",
       "      <th>month</th>\n",
       "      <th>year</th>\n",
       "      <th>price_per_m2</th>\n",
       "    </tr>\n",
       "  </thead>\n",
       "  <tbody>\n",
       "    <tr>\n",
       "      <td>0</td>\n",
       "      <td>20</td>\n",
       "      <td>13,000,000.00</td>\n",
       "      <td>108.00</td>\n",
       "      <td>2019-03-07</td>\n",
       "      <td>3</td>\n",
       "      <td>2.70</td>\n",
       "      <td>16.00</td>\n",
       "      <td>51.00</td>\n",
       "      <td>8</td>\n",
       "      <td>0</td>\n",
       "      <td>0</td>\n",
       "      <td>0</td>\n",
       "      <td>25.00</td>\n",
       "      <td>0.00</td>\n",
       "      <td>Санкт-Петербург</td>\n",
       "      <td>18,863.00</td>\n",
       "      <td>16,028.00</td>\n",
       "      <td>1.00</td>\n",
       "      <td>482.00</td>\n",
       "      <td>2.00</td>\n",
       "      <td>755.00</td>\n",
       "      <td>nan</td>\n",
       "      <td>18.86</td>\n",
       "      <td>16.03</td>\n",
       "      <td>0.48</td>\n",
       "      <td>0.76</td>\n",
       "      <td>Thursday</td>\n",
       "      <td>March</td>\n",
       "      <td>2019</td>\n",
       "      <td>120,370.37</td>\n",
       "    </tr>\n",
       "    <tr>\n",
       "      <td>1</td>\n",
       "      <td>7</td>\n",
       "      <td>3,350,000.00</td>\n",
       "      <td>40.40</td>\n",
       "      <td>2018-12-04</td>\n",
       "      <td>1</td>\n",
       "      <td>2.65</td>\n",
       "      <td>11.00</td>\n",
       "      <td>18.60</td>\n",
       "      <td>1</td>\n",
       "      <td>0</td>\n",
       "      <td>0</td>\n",
       "      <td>0</td>\n",
       "      <td>11.00</td>\n",
       "      <td>2.00</td>\n",
       "      <td>поселок Шушары</td>\n",
       "      <td>12,817.00</td>\n",
       "      <td>18,603.00</td>\n",
       "      <td>0.00</td>\n",
       "      <td>nan</td>\n",
       "      <td>0.00</td>\n",
       "      <td>nan</td>\n",
       "      <td>81.00</td>\n",
       "      <td>12.82</td>\n",
       "      <td>18.60</td>\n",
       "      <td>nan</td>\n",
       "      <td>nan</td>\n",
       "      <td>Tuesday</td>\n",
       "      <td>December</td>\n",
       "      <td>2018</td>\n",
       "      <td>82,920.79</td>\n",
       "    </tr>\n",
       "    <tr>\n",
       "      <td>2</td>\n",
       "      <td>10</td>\n",
       "      <td>5,196,000.00</td>\n",
       "      <td>56.00</td>\n",
       "      <td>2015-08-20</td>\n",
       "      <td>2</td>\n",
       "      <td>2.65</td>\n",
       "      <td>5.00</td>\n",
       "      <td>34.30</td>\n",
       "      <td>4</td>\n",
       "      <td>0</td>\n",
       "      <td>0</td>\n",
       "      <td>0</td>\n",
       "      <td>8.30</td>\n",
       "      <td>0.00</td>\n",
       "      <td>Санкт-Петербург</td>\n",
       "      <td>21,741.00</td>\n",
       "      <td>13,933.00</td>\n",
       "      <td>1.00</td>\n",
       "      <td>90.00</td>\n",
       "      <td>2.00</td>\n",
       "      <td>574.00</td>\n",
       "      <td>558.00</td>\n",
       "      <td>21.74</td>\n",
       "      <td>13.93</td>\n",
       "      <td>0.09</td>\n",
       "      <td>0.57</td>\n",
       "      <td>Thursday</td>\n",
       "      <td>August</td>\n",
       "      <td>2015</td>\n",
       "      <td>92,785.71</td>\n",
       "    </tr>\n",
       "    <tr>\n",
       "      <td>3</td>\n",
       "      <td>0</td>\n",
       "      <td>64,900,000.00</td>\n",
       "      <td>159.00</td>\n",
       "      <td>2015-07-24</td>\n",
       "      <td>3</td>\n",
       "      <td>2.65</td>\n",
       "      <td>14.00</td>\n",
       "      <td>nan</td>\n",
       "      <td>9</td>\n",
       "      <td>0</td>\n",
       "      <td>0</td>\n",
       "      <td>0</td>\n",
       "      <td>nan</td>\n",
       "      <td>0.00</td>\n",
       "      <td>Санкт-Петербург</td>\n",
       "      <td>28,098.00</td>\n",
       "      <td>6,800.00</td>\n",
       "      <td>2.00</td>\n",
       "      <td>84.00</td>\n",
       "      <td>3.00</td>\n",
       "      <td>234.00</td>\n",
       "      <td>424.00</td>\n",
       "      <td>28.10</td>\n",
       "      <td>6.80</td>\n",
       "      <td>0.08</td>\n",
       "      <td>0.23</td>\n",
       "      <td>Friday</td>\n",
       "      <td>July</td>\n",
       "      <td>2015</td>\n",
       "      <td>408,176.10</td>\n",
       "    </tr>\n",
       "    <tr>\n",
       "      <td>4</td>\n",
       "      <td>2</td>\n",
       "      <td>10,000,000.00</td>\n",
       "      <td>100.00</td>\n",
       "      <td>2018-06-19</td>\n",
       "      <td>2</td>\n",
       "      <td>3.03</td>\n",
       "      <td>14.00</td>\n",
       "      <td>32.00</td>\n",
       "      <td>13</td>\n",
       "      <td>0</td>\n",
       "      <td>0</td>\n",
       "      <td>0</td>\n",
       "      <td>41.00</td>\n",
       "      <td>0.00</td>\n",
       "      <td>Санкт-Петербург</td>\n",
       "      <td>31,856.00</td>\n",
       "      <td>8,098.00</td>\n",
       "      <td>2.00</td>\n",
       "      <td>112.00</td>\n",
       "      <td>1.00</td>\n",
       "      <td>48.00</td>\n",
       "      <td>121.00</td>\n",
       "      <td>31.86</td>\n",
       "      <td>8.10</td>\n",
       "      <td>0.11</td>\n",
       "      <td>0.05</td>\n",
       "      <td>Tuesday</td>\n",
       "      <td>June</td>\n",
       "      <td>2018</td>\n",
       "      <td>100,000.00</td>\n",
       "    </tr>\n",
       "  </tbody>\n",
       "</table>\n",
       "</div>"
      ],
      "text/plain": [
       "   total_images         price  total_area first_day_exposition  rooms  \\\n",
       "0            20 13,000,000.00      108.00           2019-03-07      3   \n",
       "1             7  3,350,000.00       40.40           2018-12-04      1   \n",
       "2            10  5,196,000.00       56.00           2015-08-20      2   \n",
       "3             0 64,900,000.00      159.00           2015-07-24      3   \n",
       "4             2 10,000,000.00      100.00           2018-06-19      2   \n",
       "\n",
       "   ceiling_height  floors_total  living_area  floor  apartment  studio  \\\n",
       "0            2.70         16.00        51.00      8          0       0   \n",
       "1            2.65         11.00        18.60      1          0       0   \n",
       "2            2.65          5.00        34.30      4          0       0   \n",
       "3            2.65         14.00          nan      9          0       0   \n",
       "4            3.03         14.00        32.00     13          0       0   \n",
       "\n",
       "   open_plan  kitchen_area  balcony    locality_name  airports_nearest  \\\n",
       "0          0         25.00     0.00  Санкт-Петербург         18,863.00   \n",
       "1          0         11.00     2.00   поселок Шушары         12,817.00   \n",
       "2          0          8.30     0.00  Санкт-Петербург         21,741.00   \n",
       "3          0           nan     0.00  Санкт-Петербург         28,098.00   \n",
       "4          0         41.00     0.00  Санкт-Петербург         31,856.00   \n",
       "\n",
       "   citycenters_nearest  parks_around_3km  parks_nearest  ponds_around_3km  \\\n",
       "0            16,028.00              1.00         482.00              2.00   \n",
       "1            18,603.00              0.00            nan              0.00   \n",
       "2            13,933.00              1.00          90.00              2.00   \n",
       "3             6,800.00              2.00          84.00              3.00   \n",
       "4             8,098.00              2.00         112.00              1.00   \n",
       "\n",
       "   ponds_nearest  days_exposition  airports_distance  citycenters_distance  \\\n",
       "0         755.00              nan              18.86                 16.03   \n",
       "1            nan            81.00              12.82                 18.60   \n",
       "2         574.00           558.00              21.74                 13.93   \n",
       "3         234.00           424.00              28.10                  6.80   \n",
       "4          48.00           121.00              31.86                  8.10   \n",
       "\n",
       "   parks_distance  ponds_distance day_of_week     month  year  price_per_m2  \n",
       "0            0.48            0.76    Thursday     March  2019    120,370.37  \n",
       "1             nan             nan     Tuesday  December  2018     82,920.79  \n",
       "2            0.09            0.57    Thursday    August  2015     92,785.71  \n",
       "3            0.08            0.23      Friday      July  2015    408,176.10  \n",
       "4            0.11            0.05     Tuesday      June  2018    100,000.00  "
      ]
     },
     "execution_count": 44,
     "metadata": {},
     "output_type": "execute_result"
    }
   ],
   "source": [
    "data.head()"
   ]
  },
  {
   "cell_type": "code",
   "execution_count": 45,
   "metadata": {},
   "outputs": [],
   "source": [
    "#посчитано и добавлено в таблицу: соотношение жилой и общей площади, \n",
    "#а также отношение площади кухни к общей\n",
    "data['ratio_total_living_area'] = data['living_area'] / data['total_area']\n",
    "data['ratio_total_kitchen_area'] = data['kitchen_area'] / data['total_area']"
   ]
  },
  {
   "cell_type": "code",
   "execution_count": 46,
   "metadata": {},
   "outputs": [],
   "source": [
    "#посчитано и добавлено в таблицу: \n",
    "#этаж квартиры; варианты — первый, последний, другой\n",
    "def floor_area(row):\n",
    "    if row['floor'] == 1:\n",
    "        return 'первый'\n",
    "    elif row['floor'] == row['floors_total']:\n",
    "        return 'последний'\n",
    "    else:\n",
    "        return 'другой'\n",
    "\n",
    "data['floor_area'] = data.apply(floor_area, axis=1)"
   ]
  },
  {
   "cell_type": "code",
   "execution_count": 47,
   "metadata": {},
   "outputs": [
    {
     "data": {
      "text/html": [
       "<div>\n",
       "<style scoped>\n",
       "    .dataframe tbody tr th:only-of-type {\n",
       "        vertical-align: middle;\n",
       "    }\n",
       "\n",
       "    .dataframe tbody tr th {\n",
       "        vertical-align: top;\n",
       "    }\n",
       "\n",
       "    .dataframe thead th {\n",
       "        text-align: right;\n",
       "    }\n",
       "</style>\n",
       "<table border=\"1\" class=\"dataframe\">\n",
       "  <thead>\n",
       "    <tr style=\"text-align: right;\">\n",
       "      <th></th>\n",
       "      <th>total_images</th>\n",
       "      <th>price</th>\n",
       "      <th>total_area</th>\n",
       "      <th>first_day_exposition</th>\n",
       "      <th>rooms</th>\n",
       "      <th>ceiling_height</th>\n",
       "      <th>floors_total</th>\n",
       "      <th>living_area</th>\n",
       "      <th>floor</th>\n",
       "      <th>apartment</th>\n",
       "      <th>studio</th>\n",
       "      <th>open_plan</th>\n",
       "      <th>kitchen_area</th>\n",
       "      <th>balcony</th>\n",
       "      <th>locality_name</th>\n",
       "      <th>airports_nearest</th>\n",
       "      <th>citycenters_nearest</th>\n",
       "      <th>parks_around_3km</th>\n",
       "      <th>parks_nearest</th>\n",
       "      <th>ponds_around_3km</th>\n",
       "      <th>ponds_nearest</th>\n",
       "      <th>days_exposition</th>\n",
       "      <th>airports_distance</th>\n",
       "      <th>citycenters_distance</th>\n",
       "      <th>parks_distance</th>\n",
       "      <th>ponds_distance</th>\n",
       "      <th>day_of_week</th>\n",
       "      <th>month</th>\n",
       "      <th>year</th>\n",
       "      <th>price_per_m2</th>\n",
       "      <th>ratio_total_living_area</th>\n",
       "      <th>ratio_total_kitchen_area</th>\n",
       "      <th>floor_area</th>\n",
       "    </tr>\n",
       "  </thead>\n",
       "  <tbody>\n",
       "    <tr>\n",
       "      <td>0</td>\n",
       "      <td>20</td>\n",
       "      <td>13,000,000.00</td>\n",
       "      <td>108.00</td>\n",
       "      <td>2019-03-07</td>\n",
       "      <td>3</td>\n",
       "      <td>2.70</td>\n",
       "      <td>16.00</td>\n",
       "      <td>51.00</td>\n",
       "      <td>8</td>\n",
       "      <td>0</td>\n",
       "      <td>0</td>\n",
       "      <td>0</td>\n",
       "      <td>25.00</td>\n",
       "      <td>0.00</td>\n",
       "      <td>Санкт-Петербург</td>\n",
       "      <td>18,863.00</td>\n",
       "      <td>16,028.00</td>\n",
       "      <td>1.00</td>\n",
       "      <td>482.00</td>\n",
       "      <td>2.00</td>\n",
       "      <td>755.00</td>\n",
       "      <td>nan</td>\n",
       "      <td>18.86</td>\n",
       "      <td>16.03</td>\n",
       "      <td>0.48</td>\n",
       "      <td>0.76</td>\n",
       "      <td>Thursday</td>\n",
       "      <td>March</td>\n",
       "      <td>2019</td>\n",
       "      <td>120,370.37</td>\n",
       "      <td>0.47</td>\n",
       "      <td>0.23</td>\n",
       "      <td>другой</td>\n",
       "    </tr>\n",
       "    <tr>\n",
       "      <td>1</td>\n",
       "      <td>7</td>\n",
       "      <td>3,350,000.00</td>\n",
       "      <td>40.40</td>\n",
       "      <td>2018-12-04</td>\n",
       "      <td>1</td>\n",
       "      <td>2.65</td>\n",
       "      <td>11.00</td>\n",
       "      <td>18.60</td>\n",
       "      <td>1</td>\n",
       "      <td>0</td>\n",
       "      <td>0</td>\n",
       "      <td>0</td>\n",
       "      <td>11.00</td>\n",
       "      <td>2.00</td>\n",
       "      <td>поселок Шушары</td>\n",
       "      <td>12,817.00</td>\n",
       "      <td>18,603.00</td>\n",
       "      <td>0.00</td>\n",
       "      <td>nan</td>\n",
       "      <td>0.00</td>\n",
       "      <td>nan</td>\n",
       "      <td>81.00</td>\n",
       "      <td>12.82</td>\n",
       "      <td>18.60</td>\n",
       "      <td>nan</td>\n",
       "      <td>nan</td>\n",
       "      <td>Tuesday</td>\n",
       "      <td>December</td>\n",
       "      <td>2018</td>\n",
       "      <td>82,920.79</td>\n",
       "      <td>0.46</td>\n",
       "      <td>0.27</td>\n",
       "      <td>первый</td>\n",
       "    </tr>\n",
       "    <tr>\n",
       "      <td>2</td>\n",
       "      <td>10</td>\n",
       "      <td>5,196,000.00</td>\n",
       "      <td>56.00</td>\n",
       "      <td>2015-08-20</td>\n",
       "      <td>2</td>\n",
       "      <td>2.65</td>\n",
       "      <td>5.00</td>\n",
       "      <td>34.30</td>\n",
       "      <td>4</td>\n",
       "      <td>0</td>\n",
       "      <td>0</td>\n",
       "      <td>0</td>\n",
       "      <td>8.30</td>\n",
       "      <td>0.00</td>\n",
       "      <td>Санкт-Петербург</td>\n",
       "      <td>21,741.00</td>\n",
       "      <td>13,933.00</td>\n",
       "      <td>1.00</td>\n",
       "      <td>90.00</td>\n",
       "      <td>2.00</td>\n",
       "      <td>574.00</td>\n",
       "      <td>558.00</td>\n",
       "      <td>21.74</td>\n",
       "      <td>13.93</td>\n",
       "      <td>0.09</td>\n",
       "      <td>0.57</td>\n",
       "      <td>Thursday</td>\n",
       "      <td>August</td>\n",
       "      <td>2015</td>\n",
       "      <td>92,785.71</td>\n",
       "      <td>0.61</td>\n",
       "      <td>0.15</td>\n",
       "      <td>другой</td>\n",
       "    </tr>\n",
       "    <tr>\n",
       "      <td>3</td>\n",
       "      <td>0</td>\n",
       "      <td>64,900,000.00</td>\n",
       "      <td>159.00</td>\n",
       "      <td>2015-07-24</td>\n",
       "      <td>3</td>\n",
       "      <td>2.65</td>\n",
       "      <td>14.00</td>\n",
       "      <td>nan</td>\n",
       "      <td>9</td>\n",
       "      <td>0</td>\n",
       "      <td>0</td>\n",
       "      <td>0</td>\n",
       "      <td>nan</td>\n",
       "      <td>0.00</td>\n",
       "      <td>Санкт-Петербург</td>\n",
       "      <td>28,098.00</td>\n",
       "      <td>6,800.00</td>\n",
       "      <td>2.00</td>\n",
       "      <td>84.00</td>\n",
       "      <td>3.00</td>\n",
       "      <td>234.00</td>\n",
       "      <td>424.00</td>\n",
       "      <td>28.10</td>\n",
       "      <td>6.80</td>\n",
       "      <td>0.08</td>\n",
       "      <td>0.23</td>\n",
       "      <td>Friday</td>\n",
       "      <td>July</td>\n",
       "      <td>2015</td>\n",
       "      <td>408,176.10</td>\n",
       "      <td>nan</td>\n",
       "      <td>nan</td>\n",
       "      <td>другой</td>\n",
       "    </tr>\n",
       "    <tr>\n",
       "      <td>4</td>\n",
       "      <td>2</td>\n",
       "      <td>10,000,000.00</td>\n",
       "      <td>100.00</td>\n",
       "      <td>2018-06-19</td>\n",
       "      <td>2</td>\n",
       "      <td>3.03</td>\n",
       "      <td>14.00</td>\n",
       "      <td>32.00</td>\n",
       "      <td>13</td>\n",
       "      <td>0</td>\n",
       "      <td>0</td>\n",
       "      <td>0</td>\n",
       "      <td>41.00</td>\n",
       "      <td>0.00</td>\n",
       "      <td>Санкт-Петербург</td>\n",
       "      <td>31,856.00</td>\n",
       "      <td>8,098.00</td>\n",
       "      <td>2.00</td>\n",
       "      <td>112.00</td>\n",
       "      <td>1.00</td>\n",
       "      <td>48.00</td>\n",
       "      <td>121.00</td>\n",
       "      <td>31.86</td>\n",
       "      <td>8.10</td>\n",
       "      <td>0.11</td>\n",
       "      <td>0.05</td>\n",
       "      <td>Tuesday</td>\n",
       "      <td>June</td>\n",
       "      <td>2018</td>\n",
       "      <td>100,000.00</td>\n",
       "      <td>0.32</td>\n",
       "      <td>0.41</td>\n",
       "      <td>другой</td>\n",
       "    </tr>\n",
       "  </tbody>\n",
       "</table>\n",
       "</div>"
      ],
      "text/plain": [
       "   total_images         price  total_area first_day_exposition  rooms  \\\n",
       "0            20 13,000,000.00      108.00           2019-03-07      3   \n",
       "1             7  3,350,000.00       40.40           2018-12-04      1   \n",
       "2            10  5,196,000.00       56.00           2015-08-20      2   \n",
       "3             0 64,900,000.00      159.00           2015-07-24      3   \n",
       "4             2 10,000,000.00      100.00           2018-06-19      2   \n",
       "\n",
       "   ceiling_height  floors_total  living_area  floor  apartment  studio  \\\n",
       "0            2.70         16.00        51.00      8          0       0   \n",
       "1            2.65         11.00        18.60      1          0       0   \n",
       "2            2.65          5.00        34.30      4          0       0   \n",
       "3            2.65         14.00          nan      9          0       0   \n",
       "4            3.03         14.00        32.00     13          0       0   \n",
       "\n",
       "   open_plan  kitchen_area  balcony    locality_name  airports_nearest  \\\n",
       "0          0         25.00     0.00  Санкт-Петербург         18,863.00   \n",
       "1          0         11.00     2.00   поселок Шушары         12,817.00   \n",
       "2          0          8.30     0.00  Санкт-Петербург         21,741.00   \n",
       "3          0           nan     0.00  Санкт-Петербург         28,098.00   \n",
       "4          0         41.00     0.00  Санкт-Петербург         31,856.00   \n",
       "\n",
       "   citycenters_nearest  parks_around_3km  parks_nearest  ponds_around_3km  \\\n",
       "0            16,028.00              1.00         482.00              2.00   \n",
       "1            18,603.00              0.00            nan              0.00   \n",
       "2            13,933.00              1.00          90.00              2.00   \n",
       "3             6,800.00              2.00          84.00              3.00   \n",
       "4             8,098.00              2.00         112.00              1.00   \n",
       "\n",
       "   ponds_nearest  days_exposition  airports_distance  citycenters_distance  \\\n",
       "0         755.00              nan              18.86                 16.03   \n",
       "1            nan            81.00              12.82                 18.60   \n",
       "2         574.00           558.00              21.74                 13.93   \n",
       "3         234.00           424.00              28.10                  6.80   \n",
       "4          48.00           121.00              31.86                  8.10   \n",
       "\n",
       "   parks_distance  ponds_distance day_of_week     month  year  price_per_m2  \\\n",
       "0            0.48            0.76    Thursday     March  2019    120,370.37   \n",
       "1             nan             nan     Tuesday  December  2018     82,920.79   \n",
       "2            0.09            0.57    Thursday    August  2015     92,785.71   \n",
       "3            0.08            0.23      Friday      July  2015    408,176.10   \n",
       "4            0.11            0.05     Tuesday      June  2018    100,000.00   \n",
       "\n",
       "   ratio_total_living_area  ratio_total_kitchen_area floor_area  \n",
       "0                     0.47                      0.23     другой  \n",
       "1                     0.46                      0.27     первый  \n",
       "2                     0.61                      0.15     другой  \n",
       "3                      nan                       nan     другой  \n",
       "4                     0.32                      0.41     другой  "
      ]
     },
     "execution_count": 47,
     "metadata": {},
     "output_type": "execute_result"
    }
   ],
   "source": [
    "data.head()"
   ]
  },
  {
   "cell_type": "markdown",
   "metadata": {},
   "source": [
    "Все поставленные задачи выполнены: \n",
    "- посчитано и добавлено в таблицу: цена квадратного метра\n",
    "- посчитано и добавлено в таблицу: день недели, месяц и год публикации объявления\n",
    "- посчитано и добавлено в таблицу: этаж квартиры; варианты — первый, последний, другой\n",
    "- посчитано и добавлено в таблицу: соотношение жилой и общей площади, а также отношение площади кухни к общей"
   ]
  },
  {
   "cell_type": "markdown",
   "metadata": {},
   "source": [
    "<font color='blue'> \n",
    "### <u>КОММЕНТАРИЙ РЕВЬЮЕРА</u>\n",
    "</font>\n",
    "<font color='green'>\n",
    "Вот, кстати, один из способов заполнить пропуски в кухнях: соотношение жилой и кухни. Надо только добавить расчёты отдельно однушки, двушки.. наверняка есть разница.<br>\n",
    "    \n",
    "Выводы - ОК.\n",
    "<br>\n",
    "</font>"
   ]
  },
  {
   "cell_type": "markdown",
   "metadata": {},
   "source": [
    "### Шаг 4. Проведите исследовательский анализ данных и выполните инструкции:\n",
    "- Изучите следующие параметры: площадь, цена, число комнат, высота потолков. Постройте гистограммы для каждого параметра.\n",
    "- Изучите время продажи квартиры. Постройте гистограмму. Посчитайте среднее и медиану. Опишите, сколько обычно занимает продажа. Когда можно считать, что продажи прошли очень быстро, а когда необычно долго?\n",
    "- Уберите редкие и выбивающиеся значения. Опишите, какие особенности обнаружили.\n",
    "- Какие факторы больше всего влияют на стоимость квартиры? Изучите, зависит ли цена от квадратного метра, числа комнат, удалённости от центра. Изучите зависимость цены от того, на каком этаже расположена квартира: первом, последнем или другом. Также изучите зависимость от даты размещения: дня недели, месяца и года.\n",
    "- Выберите 10 населённых пунктов с наибольшим числом объявлений. Посчитайте среднюю цену квадратного метра в этих населённых пунктах. Выделите населённые пункты с самой высокой и низкой стоимостью жилья. Эти данные можно найти по имени в столбце 'locality_name'.\n",
    "- Изучите предложения квартир: для каждой квартиры есть информация о расстоянии до центра. Выделите квартиры в Санкт-Петербурге ('locality_name'). Ваша задача — выяснить, какая область входит в центр. Создайте столбец с расстоянием до центра в километрах: округлите до целых значений. После этого посчитайте среднюю цену для каждого километра. Постройте график: он должен показывать, как цена зависит от удалённости от центра. Определите границу, где график сильно меняется — это и будет центральная зона.\n",
    "- Выделите сегмент квартир в центре. Проанализируйте эту территорию и изучите следующие параметры: площадь, цена, число комнат, высота потолков. Также выделите факторы, которые влияют на стоимость квартиры (число комнат, этаж, удалённость от центра, дата размещения объявления). Сделайте выводы. Отличаются ли они от общих выводов по всему городу?"
   ]
  },
  {
   "cell_type": "markdown",
   "metadata": {},
   "source": [
    "### Изучим следующие параметры: площадь, цена, число комнат, высота потолков и построим гистограммы для каждого параметра."
   ]
  },
  {
   "cell_type": "code",
   "execution_count": 48,
   "metadata": {},
   "outputs": [
    {
     "data": {
      "text/html": [
       "<div>\n",
       "<style scoped>\n",
       "    .dataframe tbody tr th:only-of-type {\n",
       "        vertical-align: middle;\n",
       "    }\n",
       "\n",
       "    .dataframe tbody tr th {\n",
       "        vertical-align: top;\n",
       "    }\n",
       "\n",
       "    .dataframe thead th {\n",
       "        text-align: right;\n",
       "    }\n",
       "</style>\n",
       "<table border=\"1\" class=\"dataframe\">\n",
       "  <thead>\n",
       "    <tr style=\"text-align: right;\">\n",
       "      <th></th>\n",
       "      <th>total_area</th>\n",
       "      <th>rooms</th>\n",
       "      <th>ceiling_height</th>\n",
       "      <th>price</th>\n",
       "    </tr>\n",
       "  </thead>\n",
       "  <tbody>\n",
       "    <tr>\n",
       "      <td>count</td>\n",
       "      <td>23,650.00</td>\n",
       "      <td>23,650.00</td>\n",
       "      <td>23,650.00</td>\n",
       "      <td>23,650.00</td>\n",
       "    </tr>\n",
       "    <tr>\n",
       "      <td>mean</td>\n",
       "      <td>60.33</td>\n",
       "      <td>2.07</td>\n",
       "      <td>2.72</td>\n",
       "      <td>6,541,126.90</td>\n",
       "    </tr>\n",
       "    <tr>\n",
       "      <td>std</td>\n",
       "      <td>35.66</td>\n",
       "      <td>1.08</td>\n",
       "      <td>0.99</td>\n",
       "      <td>10,896,399.18</td>\n",
       "    </tr>\n",
       "    <tr>\n",
       "      <td>min</td>\n",
       "      <td>12.00</td>\n",
       "      <td>0.00</td>\n",
       "      <td>1.00</td>\n",
       "      <td>12,190.00</td>\n",
       "    </tr>\n",
       "    <tr>\n",
       "      <td>25%</td>\n",
       "      <td>40.00</td>\n",
       "      <td>1.00</td>\n",
       "      <td>2.60</td>\n",
       "      <td>3,400,000.00</td>\n",
       "    </tr>\n",
       "    <tr>\n",
       "      <td>50%</td>\n",
       "      <td>52.00</td>\n",
       "      <td>2.00</td>\n",
       "      <td>2.65</td>\n",
       "      <td>4,650,000.00</td>\n",
       "    </tr>\n",
       "    <tr>\n",
       "      <td>75%</td>\n",
       "      <td>69.70</td>\n",
       "      <td>3.00</td>\n",
       "      <td>2.70</td>\n",
       "      <td>6,799,000.00</td>\n",
       "    </tr>\n",
       "    <tr>\n",
       "      <td>max</td>\n",
       "      <td>900.00</td>\n",
       "      <td>19.00</td>\n",
       "      <td>100.00</td>\n",
       "      <td>763,000,000.00</td>\n",
       "    </tr>\n",
       "  </tbody>\n",
       "</table>\n",
       "</div>"
      ],
      "text/plain": [
       "       total_area     rooms  ceiling_height          price\n",
       "count   23,650.00 23,650.00       23,650.00      23,650.00\n",
       "mean        60.33      2.07            2.72   6,541,126.90\n",
       "std         35.66      1.08            0.99  10,896,399.18\n",
       "min         12.00      0.00            1.00      12,190.00\n",
       "25%         40.00      1.00            2.60   3,400,000.00\n",
       "50%         52.00      2.00            2.65   4,650,000.00\n",
       "75%         69.70      3.00            2.70   6,799,000.00\n",
       "max        900.00     19.00          100.00 763,000,000.00"
      ]
     },
     "execution_count": 48,
     "metadata": {},
     "output_type": "execute_result"
    }
   ],
   "source": [
    "data[['total_area', 'rooms', 'ceiling_height', 'price']].describe()"
   ]
  },
  {
   "cell_type": "code",
   "execution_count": 49,
   "metadata": {},
   "outputs": [
    {
     "data": {
      "text/plain": [
       "<matplotlib.axes._subplots.AxesSubplot at 0x7fd6c01a2ad0>"
      ]
     },
     "execution_count": 49,
     "metadata": {},
     "output_type": "execute_result"
    },
    {
     "data": {
      "image/png": "[encoded data removed]",
      "text/plain": [
       "<Figure size 1080x720 with 1 Axes>"
      ]
     },
     "metadata": {
      "needs_background": "light"
     },
     "output_type": "display_data"
    }
   ],
   "source": [
    "data['price'].hist(bins=50, figsize=(15,10), ec='black')"
   ]
  },
  {
   "cell_type": "code",
   "execution_count": 50,
   "metadata": {},
   "outputs": [
    {
     "data": {
      "text/plain": [
       "6541126.897928119"
      ]
     },
     "execution_count": 50,
     "metadata": {},
     "output_type": "execute_result"
    }
   ],
   "source": [
    "data['price'].mean()"
   ]
  },
  {
   "cell_type": "code",
   "execution_count": 51,
   "metadata": {},
   "outputs": [
    {
     "data": {
      "text/plain": [
       "<matplotlib.axes._subplots.AxesSubplot at 0x7fd6bf87da10>"
      ]
     },
     "execution_count": 51,
     "metadata": {},
     "output_type": "execute_result"
    },
    {
     "data": {
      "image/png": "[encoded data removed]",
      "text/plain": [
       "<Figure size 1080x720 with 1 Axes>"
      ]
     },
     "metadata": {
      "needs_background": "light"
     },
     "output_type": "display_data"
    }
   ],
   "source": [
    "data['total_area'].hist(bins=50, figsize=(15,10), ec='black')"
   ]
  },
  {
   "cell_type": "code",
   "execution_count": 52,
   "metadata": {},
   "outputs": [
    {
     "data": {
      "text/plain": [
       "60.32906934460889"
      ]
     },
     "execution_count": 52,
     "metadata": {},
     "output_type": "execute_result"
    }
   ],
   "source": [
    "data['total_area'].mean()"
   ]
  },
  {
   "cell_type": "code",
   "execution_count": 53,
   "metadata": {},
   "outputs": [
    {
     "data": {
      "text/plain": [
       "<matplotlib.axes._subplots.AxesSubplot at 0x7fd6bf364d10>"
      ]
     },
     "execution_count": 53,
     "metadata": {},
     "output_type": "execute_result"
    },
    {
     "data": {
      "image/png": "[encoded data removed]",
      "text/plain": [
       "<Figure size 1080x720 with 1 Axes>"
      ]
     },
     "metadata": {
      "needs_background": "light"
     },
     "output_type": "display_data"
    }
   ],
   "source": [
    "data['rooms'].hist(bins=50, figsize=(15,10), ec='black')"
   ]
  },
  {
   "cell_type": "code",
   "execution_count": 54,
   "metadata": {},
   "outputs": [
    {
     "data": {
      "text/plain": [
       "2.070105708245243"
      ]
     },
     "execution_count": 54,
     "metadata": {},
     "output_type": "execute_result"
    }
   ],
   "source": [
    "data['rooms'].mean()"
   ]
  },
  {
   "cell_type": "code",
   "execution_count": 55,
   "metadata": {},
   "outputs": [
    {
     "data": {
      "text/plain": [
       "<matplotlib.axes._subplots.AxesSubplot at 0x7fd6beec5690>"
      ]
     },
     "execution_count": 55,
     "metadata": {},
     "output_type": "execute_result"
    },
    {
     "data": {
      "image/png": "[encoded data removed]",
      "text/plain": [
       "<Figure size 1080x720 with 1 Axes>"
      ]
     },
     "metadata": {
      "needs_background": "light"
     },
     "output_type": "display_data"
    }
   ],
   "source": [
    "data['ceiling_height'].hist(bins=50, figsize=(15,10), ec='black')"
   ]
  },
  {
   "cell_type": "code",
   "execution_count": 56,
   "metadata": {},
   "outputs": [
    {
     "data": {
      "text/plain": [
       "2.724463002114165"
      ]
     },
     "execution_count": 56,
     "metadata": {},
     "output_type": "execute_result"
    }
   ],
   "source": [
    "data['ceiling_height'].mean()"
   ]
  },
  {
   "cell_type": "markdown",
   "metadata": {},
   "source": [
    "Предварительный анализ дал следующее, странными данными показались, что есть квартира площадью 12 кв.м., а также 900 кв.м.\n",
    "Также же вызвало вопрос максимальное значение комнат - 19, хотя при квартире в 900 кв.м., это вполне реально =) \n",
    "Обнаружили стоимость квартиры в 12 тысяч рублей, эта стоимость кажется нереальной. В высоте потолков смутили потолки как в 1 метр высоты, так и в 100 метров. При этом средние значения, даже до выбросов, выглядят вполне реальными. "
   ]
  },
  {
   "cell_type": "markdown",
   "metadata": {},
   "source": [
    "<font color='blue'> \n",
    "### <u>КОММЕНТАРИЙ РЕВЬЮЕРА</u>\n",
    "</font>\n",
    "<font color='green'>\n",
    "Ок, верные находки. Вопрос, что предлагаете с ними делать?\n",
    "<br>\n",
    "</font>"
   ]
  },
  {
   "cell_type": "markdown",
   "metadata": {},
   "source": [
    "### Уберем редкие и выбивающиеся значения и опишем особенности, которые обнаружили"
   ]
  },
  {
   "cell_type": "code",
   "execution_count": 57,
   "metadata": {},
   "outputs": [
    {
     "data": {
      "text/html": [
       "<div>\n",
       "<style scoped>\n",
       "    .dataframe tbody tr th:only-of-type {\n",
       "        vertical-align: middle;\n",
       "    }\n",
       "\n",
       "    .dataframe tbody tr th {\n",
       "        vertical-align: top;\n",
       "    }\n",
       "\n",
       "    .dataframe thead th {\n",
       "        text-align: right;\n",
       "    }\n",
       "</style>\n",
       "<table border=\"1\" class=\"dataframe\">\n",
       "  <thead>\n",
       "    <tr style=\"text-align: right;\">\n",
       "      <th></th>\n",
       "      <th>total_images</th>\n",
       "      <th>price</th>\n",
       "      <th>total_area</th>\n",
       "      <th>rooms</th>\n",
       "      <th>ceiling_height</th>\n",
       "      <th>floors_total</th>\n",
       "      <th>living_area</th>\n",
       "      <th>floor</th>\n",
       "      <th>apartment</th>\n",
       "      <th>studio</th>\n",
       "      <th>open_plan</th>\n",
       "      <th>kitchen_area</th>\n",
       "      <th>balcony</th>\n",
       "      <th>airports_nearest</th>\n",
       "      <th>citycenters_nearest</th>\n",
       "      <th>parks_around_3km</th>\n",
       "      <th>parks_nearest</th>\n",
       "      <th>ponds_around_3km</th>\n",
       "      <th>ponds_nearest</th>\n",
       "      <th>days_exposition</th>\n",
       "      <th>airports_distance</th>\n",
       "      <th>citycenters_distance</th>\n",
       "      <th>parks_distance</th>\n",
       "      <th>ponds_distance</th>\n",
       "      <th>year</th>\n",
       "      <th>price_per_m2</th>\n",
       "      <th>ratio_total_living_area</th>\n",
       "      <th>ratio_total_kitchen_area</th>\n",
       "    </tr>\n",
       "  </thead>\n",
       "  <tbody>\n",
       "    <tr>\n",
       "      <td>count</td>\n",
       "      <td>23,650.00</td>\n",
       "      <td>23,650.00</td>\n",
       "      <td>23,650.00</td>\n",
       "      <td>23,650.00</td>\n",
       "      <td>23,650.00</td>\n",
       "      <td>23,565.00</td>\n",
       "      <td>21,752.00</td>\n",
       "      <td>23,650.00</td>\n",
       "      <td>23,650.00</td>\n",
       "      <td>23,650.00</td>\n",
       "      <td>23,650.00</td>\n",
       "      <td>21,381.00</td>\n",
       "      <td>23,650.00</td>\n",
       "      <td>18,116.00</td>\n",
       "      <td>18,139.00</td>\n",
       "      <td>18,140.00</td>\n",
       "      <td>8,064.00</td>\n",
       "      <td>18,140.00</td>\n",
       "      <td>9,085.00</td>\n",
       "      <td>20,470.00</td>\n",
       "      <td>18,116.00</td>\n",
       "      <td>18,139.00</td>\n",
       "      <td>8,064.00</td>\n",
       "      <td>9,085.00</td>\n",
       "      <td>23,650.00</td>\n",
       "      <td>23,650.00</td>\n",
       "      <td>21,752.00</td>\n",
       "      <td>21,381.00</td>\n",
       "    </tr>\n",
       "    <tr>\n",
       "      <td>mean</td>\n",
       "      <td>9.86</td>\n",
       "      <td>6,541,126.90</td>\n",
       "      <td>60.33</td>\n",
       "      <td>2.07</td>\n",
       "      <td>2.72</td>\n",
       "      <td>10.68</td>\n",
       "      <td>34.45</td>\n",
       "      <td>5.89</td>\n",
       "      <td>0.00</td>\n",
       "      <td>0.01</td>\n",
       "      <td>0.00</td>\n",
       "      <td>10.57</td>\n",
       "      <td>0.59</td>\n",
       "      <td>28,803.23</td>\n",
       "      <td>14,197.86</td>\n",
       "      <td>0.61</td>\n",
       "      <td>490.83</td>\n",
       "      <td>0.77</td>\n",
       "      <td>518.06</td>\n",
       "      <td>180.75</td>\n",
       "      <td>28.80</td>\n",
       "      <td>14.20</td>\n",
       "      <td>0.49</td>\n",
       "      <td>0.52</td>\n",
       "      <td>2,017.37</td>\n",
       "      <td>99,432.25</td>\n",
       "      <td>0.56</td>\n",
       "      <td>0.19</td>\n",
       "    </tr>\n",
       "    <tr>\n",
       "      <td>std</td>\n",
       "      <td>5.68</td>\n",
       "      <td>10,896,399.18</td>\n",
       "      <td>35.66</td>\n",
       "      <td>1.08</td>\n",
       "      <td>0.99</td>\n",
       "      <td>6.59</td>\n",
       "      <td>22.04</td>\n",
       "      <td>4.88</td>\n",
       "      <td>0.05</td>\n",
       "      <td>0.08</td>\n",
       "      <td>0.05</td>\n",
       "      <td>5.90</td>\n",
       "      <td>0.96</td>\n",
       "      <td>12,637.31</td>\n",
       "      <td>8,606.83</td>\n",
       "      <td>0.80</td>\n",
       "      <td>342.55</td>\n",
       "      <td>0.94</td>\n",
       "      <td>277.84</td>\n",
       "      <td>219.78</td>\n",
       "      <td>12.64</td>\n",
       "      <td>8.61</td>\n",
       "      <td>0.34</td>\n",
       "      <td>0.28</td>\n",
       "      <td>1.04</td>\n",
       "      <td>50,337.94</td>\n",
       "      <td>0.11</td>\n",
       "      <td>0.07</td>\n",
       "    </tr>\n",
       "    <tr>\n",
       "      <td>min</td>\n",
       "      <td>0.00</td>\n",
       "      <td>12,190.00</td>\n",
       "      <td>12.00</td>\n",
       "      <td>0.00</td>\n",
       "      <td>1.00</td>\n",
       "      <td>1.00</td>\n",
       "      <td>2.00</td>\n",
       "      <td>1.00</td>\n",
       "      <td>0.00</td>\n",
       "      <td>0.00</td>\n",
       "      <td>0.00</td>\n",
       "      <td>1.30</td>\n",
       "      <td>0.00</td>\n",
       "      <td>0.00</td>\n",
       "      <td>181.00</td>\n",
       "      <td>0.00</td>\n",
       "      <td>1.00</td>\n",
       "      <td>0.00</td>\n",
       "      <td>13.00</td>\n",
       "      <td>1.00</td>\n",
       "      <td>0.00</td>\n",
       "      <td>0.18</td>\n",
       "      <td>0.00</td>\n",
       "      <td>0.01</td>\n",
       "      <td>2,014.00</td>\n",
       "      <td>111.83</td>\n",
       "      <td>0.02</td>\n",
       "      <td>0.03</td>\n",
       "    </tr>\n",
       "    <tr>\n",
       "      <td>25%</td>\n",
       "      <td>6.00</td>\n",
       "      <td>3,400,000.00</td>\n",
       "      <td>40.00</td>\n",
       "      <td>1.00</td>\n",
       "      <td>2.60</td>\n",
       "      <td>5.00</td>\n",
       "      <td>18.60</td>\n",
       "      <td>2.00</td>\n",
       "      <td>0.00</td>\n",
       "      <td>0.00</td>\n",
       "      <td>0.00</td>\n",
       "      <td>7.00</td>\n",
       "      <td>0.00</td>\n",
       "      <td>18,575.75</td>\n",
       "      <td>9,241.00</td>\n",
       "      <td>0.00</td>\n",
       "      <td>288.00</td>\n",
       "      <td>0.00</td>\n",
       "      <td>293.00</td>\n",
       "      <td>45.00</td>\n",
       "      <td>18.58</td>\n",
       "      <td>9.24</td>\n",
       "      <td>0.29</td>\n",
       "      <td>0.29</td>\n",
       "      <td>2,017.00</td>\n",
       "      <td>76,614.97</td>\n",
       "      <td>0.50</td>\n",
       "      <td>0.13</td>\n",
       "    </tr>\n",
       "    <tr>\n",
       "      <td>50%</td>\n",
       "      <td>9.00</td>\n",
       "      <td>4,650,000.00</td>\n",
       "      <td>52.00</td>\n",
       "      <td>2.00</td>\n",
       "      <td>2.65</td>\n",
       "      <td>9.00</td>\n",
       "      <td>30.00</td>\n",
       "      <td>4.00</td>\n",
       "      <td>0.00</td>\n",
       "      <td>0.00</td>\n",
       "      <td>0.00</td>\n",
       "      <td>9.10</td>\n",
       "      <td>0.00</td>\n",
       "      <td>26,756.50</td>\n",
       "      <td>13,105.00</td>\n",
       "      <td>0.00</td>\n",
       "      <td>454.50</td>\n",
       "      <td>1.00</td>\n",
       "      <td>502.00</td>\n",
       "      <td>95.00</td>\n",
       "      <td>26.76</td>\n",
       "      <td>13.11</td>\n",
       "      <td>0.45</td>\n",
       "      <td>0.50</td>\n",
       "      <td>2,017.00</td>\n",
       "      <td>95,000.00</td>\n",
       "      <td>0.57</td>\n",
       "      <td>0.17</td>\n",
       "    </tr>\n",
       "    <tr>\n",
       "      <td>75%</td>\n",
       "      <td>14.00</td>\n",
       "      <td>6,799,000.00</td>\n",
       "      <td>69.70</td>\n",
       "      <td>3.00</td>\n",
       "      <td>2.70</td>\n",
       "      <td>16.00</td>\n",
       "      <td>42.30</td>\n",
       "      <td>8.00</td>\n",
       "      <td>0.00</td>\n",
       "      <td>0.00</td>\n",
       "      <td>0.00</td>\n",
       "      <td>12.00</td>\n",
       "      <td>1.00</td>\n",
       "      <td>37,294.00</td>\n",
       "      <td>16,293.00</td>\n",
       "      <td>1.00</td>\n",
       "      <td>612.00</td>\n",
       "      <td>1.00</td>\n",
       "      <td>730.00</td>\n",
       "      <td>231.00</td>\n",
       "      <td>37.29</td>\n",
       "      <td>16.29</td>\n",
       "      <td>0.61</td>\n",
       "      <td>0.73</td>\n",
       "      <td>2,018.00</td>\n",
       "      <td>114,274.16</td>\n",
       "      <td>0.64</td>\n",
       "      <td>0.23</td>\n",
       "    </tr>\n",
       "    <tr>\n",
       "      <td>max</td>\n",
       "      <td>50.00</td>\n",
       "      <td>763,000,000.00</td>\n",
       "      <td>900.00</td>\n",
       "      <td>19.00</td>\n",
       "      <td>100.00</td>\n",
       "      <td>60.00</td>\n",
       "      <td>409.70</td>\n",
       "      <td>33.00</td>\n",
       "      <td>1.00</td>\n",
       "      <td>1.00</td>\n",
       "      <td>1.00</td>\n",
       "      <td>112.00</td>\n",
       "      <td>5.00</td>\n",
       "      <td>84,869.00</td>\n",
       "      <td>65,968.00</td>\n",
       "      <td>3.00</td>\n",
       "      <td>3,190.00</td>\n",
       "      <td>3.00</td>\n",
       "      <td>1,344.00</td>\n",
       "      <td>1,580.00</td>\n",
       "      <td>84.87</td>\n",
       "      <td>65.97</td>\n",
       "      <td>3.19</td>\n",
       "      <td>1.34</td>\n",
       "      <td>2,019.00</td>\n",
       "      <td>1,907,500.00</td>\n",
       "      <td>1.00</td>\n",
       "      <td>0.79</td>\n",
       "    </tr>\n",
       "  </tbody>\n",
       "</table>\n",
       "</div>"
      ],
      "text/plain": [
       "       total_images          price  total_area     rooms  ceiling_height  \\\n",
       "count     23,650.00      23,650.00   23,650.00 23,650.00       23,650.00   \n",
       "mean           9.86   6,541,126.90       60.33      2.07            2.72   \n",
       "std            5.68  10,896,399.18       35.66      1.08            0.99   \n",
       "min            0.00      12,190.00       12.00      0.00            1.00   \n",
       "25%            6.00   3,400,000.00       40.00      1.00            2.60   \n",
       "50%            9.00   4,650,000.00       52.00      2.00            2.65   \n",
       "75%           14.00   6,799,000.00       69.70      3.00            2.70   \n",
       "max           50.00 763,000,000.00      900.00     19.00          100.00   \n",
       "\n",
       "       floors_total  living_area     floor  apartment    studio  open_plan  \\\n",
       "count     23,565.00    21,752.00 23,650.00  23,650.00 23,650.00  23,650.00   \n",
       "mean          10.68        34.45      5.89       0.00      0.01       0.00   \n",
       "std            6.59        22.04      4.88       0.05      0.08       0.05   \n",
       "min            1.00         2.00      1.00       0.00      0.00       0.00   \n",
       "25%            5.00        18.60      2.00       0.00      0.00       0.00   \n",
       "50%            9.00        30.00      4.00       0.00      0.00       0.00   \n",
       "75%           16.00        42.30      8.00       0.00      0.00       0.00   \n",
       "max           60.00       409.70     33.00       1.00      1.00       1.00   \n",
       "\n",
       "       kitchen_area   balcony  airports_nearest  citycenters_nearest  \\\n",
       "count     21,381.00 23,650.00         18,116.00            18,139.00   \n",
       "mean          10.57      0.59         28,803.23            14,197.86   \n",
       "std            5.90      0.96         12,637.31             8,606.83   \n",
       "min            1.30      0.00              0.00               181.00   \n",
       "25%            7.00      0.00         18,575.75             9,241.00   \n",
       "50%            9.10      0.00         26,756.50            13,105.00   \n",
       "75%           12.00      1.00         37,294.00            16,293.00   \n",
       "max          112.00      5.00         84,869.00            65,968.00   \n",
       "\n",
       "       parks_around_3km  parks_nearest  ponds_around_3km  ponds_nearest  \\\n",
       "count         18,140.00       8,064.00         18,140.00       9,085.00   \n",
       "mean               0.61         490.83              0.77         518.06   \n",
       "std                0.80         342.55              0.94         277.84   \n",
       "min                0.00           1.00              0.00          13.00   \n",
       "25%                0.00         288.00              0.00         293.00   \n",
       "50%                0.00         454.50              1.00         502.00   \n",
       "75%                1.00         612.00              1.00         730.00   \n",
       "max                3.00       3,190.00              3.00       1,344.00   \n",
       "\n",
       "       days_exposition  airports_distance  citycenters_distance  \\\n",
       "count        20,470.00          18,116.00             18,139.00   \n",
       "mean            180.75              28.80                 14.20   \n",
       "std             219.78              12.64                  8.61   \n",
       "min               1.00               0.00                  0.18   \n",
       "25%              45.00              18.58                  9.24   \n",
       "50%              95.00              26.76                 13.11   \n",
       "75%             231.00              37.29                 16.29   \n",
       "max           1,580.00              84.87                 65.97   \n",
       "\n",
       "       parks_distance  ponds_distance      year  price_per_m2  \\\n",
       "count        8,064.00        9,085.00 23,650.00     23,650.00   \n",
       "mean             0.49            0.52  2,017.37     99,432.25   \n",
       "std              0.34            0.28      1.04     50,337.94   \n",
       "min              0.00            0.01  2,014.00        111.83   \n",
       "25%              0.29            0.29  2,017.00     76,614.97   \n",
       "50%              0.45            0.50  2,017.00     95,000.00   \n",
       "75%              0.61            0.73  2,018.00    114,274.16   \n",
       "max              3.19            1.34  2,019.00  1,907,500.00   \n",
       "\n",
       "       ratio_total_living_area  ratio_total_kitchen_area  \n",
       "count                21,752.00                 21,381.00  \n",
       "mean                      0.56                      0.19  \n",
       "std                       0.11                      0.07  \n",
       "min                       0.02                      0.03  \n",
       "25%                       0.50                      0.13  \n",
       "50%                       0.57                      0.17  \n",
       "75%                       0.64                      0.23  \n",
       "max                       1.00                      0.79  "
      ]
     },
     "execution_count": 57,
     "metadata": {},
     "output_type": "execute_result"
    }
   ],
   "source": [
    "data.describe()"
   ]
  },
  {
   "cell_type": "markdown",
   "metadata": {},
   "source": [
    "Рассмотрим значения не во всех столбцах, а только те, которые вызывают вопросы:\n",
    "- минимальная и максимальная цены в столбце price\n",
    "- минимальная и максимальная площади в столбце total_area\n",
    "- минимальная и максимальная высоты потолка в столбце ceiling_height\n",
    "- минимальная и максимальная площади в столбце kitchen_area\n",
    "- максимальная стоимость в стобце price_per_m2\n",
    "\n",
    "Удалим эти выбивающиеся значения"
   ]
  },
  {
   "cell_type": "code",
   "execution_count": 58,
   "metadata": {},
   "outputs": [],
   "source": [
    "#напишем функцию для дальнейшего удаления выбросов\n",
    "\n",
    "def del_outliers(data, column,graphic=0,x=10,y=10):\n",
    "    q1 = data[column].quantile(0.25)                 \n",
    "    q3 = data[column].quantile(0.75)\n",
    "    iqr = q3 - q1\n",
    "    outliers = (data[column] >= (q1 - 1.5*iqr)) & (data[column] <= (q3 + 1.5*iqr))\n",
    "    if graphic == 1:\n",
    "        return data.loc[outliers].boxplot([column], figsize=(x,y))\n",
    "    else:\n",
    "        return data.loc[outliers]"
   ]
  },
  {
   "cell_type": "code",
   "execution_count": 59,
   "metadata": {},
   "outputs": [
    {
     "name": "stdout",
     "output_type": "stream",
     "text": [
      "4838942.090946979\n",
      "4400000.0\n"
     ]
    }
   ],
   "source": [
    "mean_price_outliers = del_outliers(data,'price',0)['price'].mean()\n",
    "print(mean_price_outliers)\n",
    "median_price_outliers = del_outliers(data,'price',0)['price'].median()\n",
    "print(median_price_outliers)"
   ]
  },
  {
   "cell_type": "code",
   "execution_count": 60,
   "metadata": {},
   "outputs": [
    {
     "data": {
      "text/plain": [
       "(0, 10000000)"
      ]
     },
     "execution_count": 60,
     "metadata": {},
     "output_type": "execute_result"
    },
    {
     "data": {
      "image/png": "[encoded data removed]",
      "text/plain": [
       "<Figure size 720x720 with 1 Axes>"
      ]
     },
     "metadata": {
      "needs_background": "light"
     },
     "output_type": "display_data"
    }
   ],
   "source": [
    "del_outliers(data,'price',1,10,10).set_ylim(0, 10000000)"
   ]
  },
  {
   "cell_type": "code",
   "execution_count": 61,
   "metadata": {},
   "outputs": [
    {
     "name": "stdout",
     "output_type": "stream",
     "text": [
      "54.32568508435241\n",
      "50.1\n"
     ]
    }
   ],
   "source": [
    "mean_total_area_outliers = del_outliers(data,'total_area',0)['total_area'].mean()\n",
    "print(mean_total_area_outliers)\n",
    "median_total_area_outliers = del_outliers(data,'total_area',0)['total_area'].median()\n",
    "print(median_total_area_outliers)"
   ]
  },
  {
   "cell_type": "code",
   "execution_count": 62,
   "metadata": {},
   "outputs": [
    {
     "data": {
      "text/plain": [
       "(0, 100)"
      ]
     },
     "execution_count": 62,
     "metadata": {},
     "output_type": "execute_result"
    },
    {
     "data": {
      "image/png": "[encoded data removed]",
      "text/plain": [
       "<Figure size 720x720 with 1 Axes>"
      ]
     },
     "metadata": {
      "needs_background": "light"
     },
     "output_type": "display_data"
    }
   ],
   "source": [
    "del_outliers(data,'total_area',1,10,10).set_ylim(0, 100)"
   ]
  },
  {
   "cell_type": "code",
   "execution_count": 63,
   "metadata": {},
   "outputs": [
    {
     "name": "stdout",
     "output_type": "stream",
     "text": [
      "2.6312468599033814\n",
      "2.65\n"
     ]
    }
   ],
   "source": [
    "mean_ceiling_height_outliers = del_outliers(data,'ceiling_height',0)['ceiling_height'].mean()\n",
    "print(mean_ceiling_height_outliers)\n",
    "median_ceiling_height_outliers = del_outliers(data,'ceiling_height',0)['ceiling_height'].median()\n",
    "print(median_ceiling_height_outliers)"
   ]
  },
  {
   "cell_type": "code",
   "execution_count": 64,
   "metadata": {},
   "outputs": [
    {
     "data": {
      "text/plain": [
       "(0, 5)"
      ]
     },
     "execution_count": 64,
     "metadata": {},
     "output_type": "execute_result"
    },
    {
     "data": {
      "image/png": "[encoded data removed]",
      "text/plain": [
       "<Figure size 720x720 with 1 Axes>"
      ]
     },
     "metadata": {
      "needs_background": "light"
     },
     "output_type": "display_data"
    }
   ],
   "source": [
    "del_outliers(data,'ceiling_height',1,10,10).set_ylim(0, 5)"
   ]
  },
  {
   "cell_type": "code",
   "execution_count": 65,
   "metadata": {},
   "outputs": [
    {
     "name": "stdout",
     "output_type": "stream",
     "text": [
      "9.5097880768469\n",
      "9.0\n"
     ]
    }
   ],
   "source": [
    "mean_kitchen_area_outliers = del_outliers(data,'kitchen_area',0)['kitchen_area'].mean()\n",
    "print(mean_kitchen_area_outliers)\n",
    "median_kitchen_area_outliers = del_outliers(data,'kitchen_area',0)['kitchen_area'].median()\n",
    "print(median_kitchen_area_outliers)"
   ]
  },
  {
   "cell_type": "code",
   "execution_count": 66,
   "metadata": {},
   "outputs": [
    {
     "data": {
      "text/plain": [
       "(0, 20)"
      ]
     },
     "execution_count": 66,
     "metadata": {},
     "output_type": "execute_result"
    },
    {
     "data": {
      "image/png": "[encoded data removed]",
      "text/plain": [
       "<Figure size 720x720 with 1 Axes>"
      ]
     },
     "metadata": {
      "needs_background": "light"
     },
     "output_type": "display_data"
    }
   ],
   "source": [
    "del_outliers(data,'kitchen_area',1,10,10).set_ylim(0, 20)"
   ]
  },
  {
   "cell_type": "code",
   "execution_count": 67,
   "metadata": {},
   "outputs": [
    {
     "name": "stdout",
     "output_type": "stream",
     "text": [
      "93773.45888470388\n",
      "93913.04347826086\n"
     ]
    }
   ],
   "source": [
    "mean_price_per_m2_outliers = del_outliers(data,'price_per_m2',0)['price_per_m2'].mean()\n",
    "print(mean_price_per_m2_outliers)\n",
    "median_price_per_m2_outliers = del_outliers(data,'price_per_m2',0)['price_per_m2'].median()\n",
    "print(median_price_per_m2_outliers)"
   ]
  },
  {
   "cell_type": "code",
   "execution_count": 68,
   "metadata": {},
   "outputs": [
    {
     "data": {
      "text/plain": [
       "(0, 100000)"
      ]
     },
     "execution_count": 68,
     "metadata": {},
     "output_type": "execute_result"
    },
    {
     "data": {
      "image/png": "[encoded data removed]",
      "text/plain": [
       "<Figure size 720x720 with 1 Axes>"
      ]
     },
     "metadata": {
      "needs_background": "light"
     },
     "output_type": "display_data"
    }
   ],
   "source": [
    "del_outliers(data,'price_per_m2',1,10,10).set_ylim(0, 100000)"
   ]
  },
  {
   "cell_type": "markdown",
   "metadata": {},
   "source": [
    "Особенности, которые мы увидели в значениях, возможно связаны с ошибкой заполнения, так как средние величины значений выглядят вполне реальными. Выбросы есть, которые мы убрали. \n",
    "Также редкие значения, конечно, могут быть связаны с какими-то индивидуальными особенностями квартир. "
   ]
  },
  {
   "cell_type": "markdown",
   "metadata": {},
   "source": [
    "<font color='blue'> \n",
    "### <u>КОММЕНТАРИЙ РЕВЬЮЕРА</u>\n",
    "</font>\n",
    "<font color='green'>\n",
    "Идея понятна - убить врага)). И интструмент подходящий - ящик с усами..<br><font color='orange'>\n",
    "\n",
    "А если в данных, например высота потолка, просто описка. например 25. Тогда очень высока вероятность, что надо просто поставить разделительный знак между 2 и 5.<br>\n",
    "Это я к тому, что выбросы могут быть разные. И если данных - не так много, и разбрасываться ими - себе дороже, то лучше поробовать побороться за каждую строку))))<br>\n",
    "    \n",
    "Ну и ещё одна идея (озвучивал уже) - может выбросы - это что-то особой, что может быть также результатом анализа\n",
    "<br>\n",
    "</font>"
   ]
  },
  {
   "cell_type": "markdown",
   "metadata": {},
   "source": [
    "### Изучим время продажи квартиры. Постройте гистограмму. Посчитайте среднее и медиану. Опишите, сколько обычно занимает продажа. Когда можно считать, что продажи прошли очень быстро, а когда необычно долго? "
   ]
  },
  {
   "cell_type": "code",
   "execution_count": 69,
   "metadata": {},
   "outputs": [],
   "source": [
    "#Напишем функцию для удаления выбросов\n",
    "\n",
    "def del_outliers(data, column,graphic=0,x=10,y=10):\n",
    "    q1 = data[column].quantile(0.25)                 \n",
    "    q3 = data[column].quantile(0.75)\n",
    "    iqr = q3 - q1\n",
    "    outliers = (data[column] >= (q1 - 1.5*iqr)) & (data[column] <= (q3 + 1.5*iqr))\n",
    "    if graphic == 1:\n",
    "        return data.loc[outliers].boxplot([column], figsize=(x,y))\n",
    "    else:\n",
    "        return data.loc[outliers]"
   ]
  },
  {
   "cell_type": "code",
   "execution_count": 70,
   "metadata": {},
   "outputs": [
    {
     "data": {
      "text/plain": [
       "count   20,470.00\n",
       "mean       180.75\n",
       "std        219.78\n",
       "min          1.00\n",
       "25%         45.00\n",
       "50%         95.00\n",
       "75%        231.00\n",
       "max      1,580.00\n",
       "Name: days_exposition, dtype: float64"
      ]
     },
     "execution_count": 70,
     "metadata": {},
     "output_type": "execute_result"
    }
   ],
   "source": [
    "data['days_exposition'].describe()"
   ]
  },
  {
   "cell_type": "code",
   "execution_count": 71,
   "metadata": {},
   "outputs": [
    {
     "data": {
      "text/plain": [
       "<matplotlib.axes._subplots.AxesSubplot at 0x7fd6beb0ae50>"
      ]
     },
     "execution_count": 71,
     "metadata": {},
     "output_type": "execute_result"
    },
    {
     "data": {
      "image/png": "[encoded data removed]",
      "text/plain": [
       "<Figure size 432x288 with 1 Axes>"
      ]
     },
     "metadata": {
      "needs_background": "light"
     },
     "output_type": "display_data"
    }
   ],
   "source": [
    "data['days_exposition'].hist()"
   ]
  },
  {
   "cell_type": "code",
   "execution_count": 72,
   "metadata": {},
   "outputs": [
    {
     "data": {
      "text/plain": [
       "3180"
      ]
     },
     "execution_count": 72,
     "metadata": {},
     "output_type": "execute_result"
    }
   ],
   "source": [
    "data['days_exposition'].isnull().sum()"
   ]
  },
  {
   "cell_type": "code",
   "execution_count": 73,
   "metadata": {},
   "outputs": [],
   "source": [
    "data['days_exposition'] = data['days_exposition'].fillna(-1)"
   ]
  },
  {
   "cell_type": "code",
   "execution_count": 74,
   "metadata": {},
   "outputs": [
    {
     "data": {
      "text/plain": [
       "0"
      ]
     },
     "execution_count": 74,
     "metadata": {},
     "output_type": "execute_result"
    }
   ],
   "source": [
    "data['days_exposition'].isnull().sum()"
   ]
  },
  {
   "cell_type": "code",
   "execution_count": 75,
   "metadata": {},
   "outputs": [
    {
     "data": {
      "text/plain": [
       "<matplotlib.axes._subplots.AxesSubplot at 0x7fd6bfc3d990>"
      ]
     },
     "execution_count": 75,
     "metadata": {},
     "output_type": "execute_result"
    },
    {
     "data": {
      "image/png": "[encoded data removed]",
      "text/plain": [
       "<Figure size 720x360 with 1 Axes>"
      ]
     },
     "metadata": {
      "needs_background": "light"
     },
     "output_type": "display_data"
    }
   ],
   "source": [
    "data['days_exposition'].hist(bins=70, figsize=(10,5), ec='black')"
   ]
  },
  {
   "cell_type": "code",
   "execution_count": 76,
   "metadata": {
    "scrolled": true
   },
   "outputs": [
    {
     "name": "stdout",
     "output_type": "stream",
     "text": [
      "156.31450317124737\n",
      "73.0\n"
     ]
    }
   ],
   "source": [
    "mean_days_exposition = data['days_exposition'].mean()\n",
    "print(mean_days_exposition)\n",
    "median_days_exposition = data['days_exposition'].median()\n",
    "print(median_days_exposition)"
   ]
  },
  {
   "cell_type": "markdown",
   "metadata": {},
   "source": [
    "Мы видим, что среднее время продажи - 156 дней, это примерно 5 месяцев, медианное - 73 дня (два с половиной месяца). При этом максимальное количество времени продажи квартиры - 1580 дней (около пяти лет). Скорее всего эти объявления просто не были закрыты после сделки. Также можно отметить, что большая часть квартир продается в первые 50-60 дней. "
   ]
  },
  {
   "cell_type": "markdown",
   "metadata": {},
   "source": [
    "<font color='blue'> \n",
    "### <u>КОММЕНТАРИЙ РЕВЬЮЕРА</u>\n",
    "</font>\n",
    "<font color='green'>\n",
    "да, понятно\n",
    "<br>\n",
    "</font>"
   ]
  },
  {
   "cell_type": "code",
   "execution_count": 77,
   "metadata": {},
   "outputs": [
    {
     "name": "stdout",
     "output_type": "stream",
     "text": [
      "103.55859230484647\n",
      "61.0\n"
     ]
    }
   ],
   "source": [
    "mean_days_exposition_outliers = del_outliers(data,'days_exposition',0)['days_exposition'].mean()\n",
    "print(mean_days_exposition_outliers)\n",
    "median_days_exposition_outliers = del_outliers(data,'days_exposition',0)['days_exposition'].median()\n",
    "print(median_days_exposition_outliers)"
   ]
  },
  {
   "cell_type": "code",
   "execution_count": 78,
   "metadata": {
    "scrolled": true
   },
   "outputs": [
    {
     "data": {
      "text/plain": [
       "(0, 200)"
      ]
     },
     "execution_count": 78,
     "metadata": {},
     "output_type": "execute_result"
    },
    {
     "data": {
      "image/png": "[encoded data removed]",
      "text/plain": [
       "<Figure size 720x720 with 1 Axes>"
      ]
     },
     "metadata": {
      "needs_background": "light"
     },
     "output_type": "display_data"
    }
   ],
   "source": [
    "del_outliers(data,'days_exposition',1,10,10).set_ylim(0, 200)"
   ]
  },
  {
   "cell_type": "code",
   "execution_count": 79,
   "metadata": {},
   "outputs": [
    {
     "data": {
      "text/plain": [
       "<matplotlib.axes._subplots.AxesSubplot at 0x7fd6bea94510>"
      ]
     },
     "execution_count": 79,
     "metadata": {},
     "output_type": "execute_result"
    },
    {
     "data": {
      "image/png": "[encoded data removed]",
      "text/plain": [
       "<Figure size 720x216 with 1 Axes>"
      ]
     },
     "metadata": {
      "needs_background": "light"
     },
     "output_type": "display_data"
    }
   ],
   "source": [
    "#Попробуем ограничить продажу квартир 400 днями, чтобы посмотреть как будет без выбросов. \n",
    "data.query('days_exposition < 400')['days_exposition'].hist(bins=70, figsize=(10,3), ec='black')"
   ]
  },
  {
   "cell_type": "markdown",
   "metadata": {},
   "source": [
    "Можно сделать вывод, что время до выбросов и после не отличается, остается все прежде, в первые 50-60 дней происходит продажа (пик продаж наблюдается в первую неделю), далее число сделок сокращается, чем дальше по времени, тем меньше. "
   ]
  },
  {
   "cell_type": "markdown",
   "metadata": {},
   "source": [
    "### Выберите 10 населённых пунктов с наибольшим числом объявлений. Посчитайте среднюю цену квадратного метра в этих населённых пунктах. Выделите населённые пункты с самой высокой и низкой стоимостью жилья. Эти данные можно найти по имени в столбце 'locality_name'."
   ]
  },
  {
   "cell_type": "code",
   "execution_count": 80,
   "metadata": {},
   "outputs": [
    {
     "name": "stdout",
     "output_type": "stream",
     "text": [
      "Санкт-Петербург      15721\n",
      "поселок Мурино         556\n",
      "поселок Шушары         440\n",
      "Всеволожск             398\n",
      "Пушкин                 369\n",
      "Колпино                338\n",
      "поселок Парголово      327\n",
      "Гатчина                307\n",
      "деревня Кудрово        299\n",
      "Выборг                 237\n",
      "Name: locality_name, dtype: int64\n"
     ]
    }
   ],
   "source": [
    "top_10_name = data['locality_name'].value_counts().head(10)\n",
    "print(top_10_name)"
   ]
  },
  {
   "cell_type": "code",
   "execution_count": 81,
   "metadata": {},
   "outputs": [
    {
     "data": {
      "text/html": [
       "<div>\n",
       "<style scoped>\n",
       "    .dataframe tbody tr th:only-of-type {\n",
       "        vertical-align: middle;\n",
       "    }\n",
       "\n",
       "    .dataframe tbody tr th {\n",
       "        vertical-align: top;\n",
       "    }\n",
       "\n",
       "    .dataframe thead th {\n",
       "        text-align: right;\n",
       "    }\n",
       "</style>\n",
       "<table border=\"1\" class=\"dataframe\">\n",
       "  <thead>\n",
       "    <tr style=\"text-align: right;\">\n",
       "      <th></th>\n",
       "      <th>Населенный пункт</th>\n",
       "      <th>Средняя цена за кв.м.</th>\n",
       "      <th>Средняя цена за квартиру</th>\n",
       "    </tr>\n",
       "  </thead>\n",
       "  <tbody>\n",
       "    <tr>\n",
       "      <td>0</td>\n",
       "      <td>Санкт-Петербург</td>\n",
       "      <td>104,761.90</td>\n",
       "      <td>5,500,000.00</td>\n",
       "    </tr>\n",
       "    <tr>\n",
       "      <td>4</td>\n",
       "      <td>Пушкин</td>\n",
       "      <td>100,000.00</td>\n",
       "      <td>5,180,000.00</td>\n",
       "    </tr>\n",
       "    <tr>\n",
       "      <td>8</td>\n",
       "      <td>деревня Кудрово</td>\n",
       "      <td>91,860.47</td>\n",
       "      <td>3,790,000.00</td>\n",
       "    </tr>\n",
       "    <tr>\n",
       "      <td>6</td>\n",
       "      <td>поселок Парголово</td>\n",
       "      <td>91,642.86</td>\n",
       "      <td>4,100,000.00</td>\n",
       "    </tr>\n",
       "    <tr>\n",
       "      <td>1</td>\n",
       "      <td>поселок Мурино</td>\n",
       "      <td>85,878.46</td>\n",
       "      <td>3,400,000.00</td>\n",
       "    </tr>\n",
       "    <tr>\n",
       "      <td>2</td>\n",
       "      <td>поселок Шушары</td>\n",
       "      <td>76,876.17</td>\n",
       "      <td>3,950,000.00</td>\n",
       "    </tr>\n",
       "    <tr>\n",
       "      <td>5</td>\n",
       "      <td>Колпино</td>\n",
       "      <td>74,723.75</td>\n",
       "      <td>3,600,000.00</td>\n",
       "    </tr>\n",
       "    <tr>\n",
       "      <td>7</td>\n",
       "      <td>Гатчина</td>\n",
       "      <td>67,796.61</td>\n",
       "      <td>3,100,000.00</td>\n",
       "    </tr>\n",
       "    <tr>\n",
       "      <td>3</td>\n",
       "      <td>Всеволожск</td>\n",
       "      <td>65,789.47</td>\n",
       "      <td>3,450,000.00</td>\n",
       "    </tr>\n",
       "    <tr>\n",
       "      <td>9</td>\n",
       "      <td>Выборг</td>\n",
       "      <td>58,158.32</td>\n",
       "      <td>2,897,000.00</td>\n",
       "    </tr>\n",
       "  </tbody>\n",
       "</table>\n",
       "</div>"
      ],
      "text/plain": [
       "    Населенный пункт  Средняя цена за кв.м.  Средняя цена за квартиру\n",
       "0    Санкт-Петербург             104,761.90              5,500,000.00\n",
       "4             Пушкин             100,000.00              5,180,000.00\n",
       "8    деревня Кудрово              91,860.47              3,790,000.00\n",
       "6  поселок Парголово              91,642.86              4,100,000.00\n",
       "1     поселок Мурино              85,878.46              3,400,000.00\n",
       "2     поселок Шушары              76,876.17              3,950,000.00\n",
       "5            Колпино              74,723.75              3,600,000.00\n",
       "7            Гатчина              67,796.61              3,100,000.00\n",
       "3         Всеволожск              65,789.47              3,450,000.00\n",
       "9             Выборг              58,158.32              2,897,000.00"
      ]
     },
     "execution_count": 81,
     "metadata": {},
     "output_type": "execute_result"
    }
   ],
   "source": [
    "top_10_name = data['locality_name'].value_counts().index.tolist()[:10]\n",
    "mean_top_10_price_per_m2 = [data[data['locality_name'] == city]['price_per_m2'].median().round(2) for city in top_10_name]\n",
    "mean_top_10_price = [data[data['locality_name'] == city]['price'].median() for city in top_10_name]\n",
    "frame = {'Населенный пункт': top_10_name, 'Средняя цена за кв.м.': mean_top_10_price_per_m2, 'Средняя цена за квартиру': mean_top_10_price}\n",
    "dataframe = pd.DataFrame(frame).sort_values(by='Средняя цена за кв.м.', ascending=False)\n",
    "dataframe"
   ]
  },
  {
   "cell_type": "markdown",
   "metadata": {},
   "source": [
    "<font color='blue'> \n",
    "### <u>КОММЕНТАРИЙ РЕВЬЮЕРА</u>\n",
    "</font>\n",
    "<font color='green'>\n",
    "Вот, здесь как раз и будет небольшая неточность в выводах.<br>\n",
    "То, что писал в самом начале о названии локаций..<br>\n",
    "Питер, наверняка останется на первом месте. А вот остаьные позиции - могут и измениться, если скорректировать названия локаций\n",
    "<br>\n",
    "    \n",
    "Идейно с подходм анализа согласен\n",
    "<br>\n",
    "</font>"
   ]
  },
  {
   "cell_type": "markdown",
   "metadata": {},
   "source": [
    "Как и предполагалось, в Санкт-Петербурге самые дорогие квартиры. "
   ]
  },
  {
   "cell_type": "markdown",
   "metadata": {},
   "source": [
    "### Какие факторы больше всего влияют на стоимость квартиры? Изучите, зависит ли цена от квадратного метра, числа комнат, удалённости от центра. Изучите зависимость цены от того, на каком этаже расположена квартира: первом, последнем или другом. Также изучите зависимость от даты размещения: дня недели, месяца и года."
   ]
  },
  {
   "cell_type": "code",
   "execution_count": 82,
   "metadata": {},
   "outputs": [
    {
     "data": {
      "text/html": [
       "<div>\n",
       "<style scoped>\n",
       "    .dataframe tbody tr th:only-of-type {\n",
       "        vertical-align: middle;\n",
       "    }\n",
       "\n",
       "    .dataframe tbody tr th {\n",
       "        vertical-align: top;\n",
       "    }\n",
       "\n",
       "    .dataframe thead th {\n",
       "        text-align: right;\n",
       "    }\n",
       "</style>\n",
       "<table border=\"1\" class=\"dataframe\">\n",
       "  <thead>\n",
       "    <tr style=\"text-align: right;\">\n",
       "      <th></th>\n",
       "      <th>total_images</th>\n",
       "      <th>price</th>\n",
       "      <th>total_area</th>\n",
       "      <th>first_day_exposition</th>\n",
       "      <th>rooms</th>\n",
       "      <th>ceiling_height</th>\n",
       "      <th>floors_total</th>\n",
       "      <th>living_area</th>\n",
       "      <th>floor</th>\n",
       "      <th>apartment</th>\n",
       "      <th>studio</th>\n",
       "      <th>open_plan</th>\n",
       "      <th>kitchen_area</th>\n",
       "      <th>balcony</th>\n",
       "      <th>locality_name</th>\n",
       "      <th>airports_nearest</th>\n",
       "      <th>citycenters_nearest</th>\n",
       "      <th>parks_around_3km</th>\n",
       "      <th>parks_nearest</th>\n",
       "      <th>ponds_around_3km</th>\n",
       "      <th>ponds_nearest</th>\n",
       "      <th>days_exposition</th>\n",
       "      <th>airports_distance</th>\n",
       "      <th>citycenters_distance</th>\n",
       "      <th>parks_distance</th>\n",
       "      <th>ponds_distance</th>\n",
       "      <th>day_of_week</th>\n",
       "      <th>month</th>\n",
       "      <th>year</th>\n",
       "      <th>price_per_m2</th>\n",
       "      <th>ratio_total_living_area</th>\n",
       "      <th>ratio_total_kitchen_area</th>\n",
       "      <th>floor_area</th>\n",
       "    </tr>\n",
       "  </thead>\n",
       "  <tbody>\n",
       "    <tr>\n",
       "      <td>0</td>\n",
       "      <td>20</td>\n",
       "      <td>13,000,000.00</td>\n",
       "      <td>108.00</td>\n",
       "      <td>2019-03-07</td>\n",
       "      <td>3</td>\n",
       "      <td>2.70</td>\n",
       "      <td>16.00</td>\n",
       "      <td>51.00</td>\n",
       "      <td>8</td>\n",
       "      <td>0</td>\n",
       "      <td>0</td>\n",
       "      <td>0</td>\n",
       "      <td>25.00</td>\n",
       "      <td>0.00</td>\n",
       "      <td>Санкт-Петербург</td>\n",
       "      <td>18,863.00</td>\n",
       "      <td>16,028.00</td>\n",
       "      <td>1.00</td>\n",
       "      <td>482.00</td>\n",
       "      <td>2.00</td>\n",
       "      <td>755.00</td>\n",
       "      <td>-1.00</td>\n",
       "      <td>18.86</td>\n",
       "      <td>16.03</td>\n",
       "      <td>0.48</td>\n",
       "      <td>0.76</td>\n",
       "      <td>Thursday</td>\n",
       "      <td>March</td>\n",
       "      <td>2019</td>\n",
       "      <td>120,370.37</td>\n",
       "      <td>0.47</td>\n",
       "      <td>0.23</td>\n",
       "      <td>другой</td>\n",
       "    </tr>\n",
       "    <tr>\n",
       "      <td>1</td>\n",
       "      <td>7</td>\n",
       "      <td>3,350,000.00</td>\n",
       "      <td>40.40</td>\n",
       "      <td>2018-12-04</td>\n",
       "      <td>1</td>\n",
       "      <td>2.65</td>\n",
       "      <td>11.00</td>\n",
       "      <td>18.60</td>\n",
       "      <td>1</td>\n",
       "      <td>0</td>\n",
       "      <td>0</td>\n",
       "      <td>0</td>\n",
       "      <td>11.00</td>\n",
       "      <td>2.00</td>\n",
       "      <td>поселок Шушары</td>\n",
       "      <td>12,817.00</td>\n",
       "      <td>18,603.00</td>\n",
       "      <td>0.00</td>\n",
       "      <td>nan</td>\n",
       "      <td>0.00</td>\n",
       "      <td>nan</td>\n",
       "      <td>81.00</td>\n",
       "      <td>12.82</td>\n",
       "      <td>18.60</td>\n",
       "      <td>nan</td>\n",
       "      <td>nan</td>\n",
       "      <td>Tuesday</td>\n",
       "      <td>December</td>\n",
       "      <td>2018</td>\n",
       "      <td>82,920.79</td>\n",
       "      <td>0.46</td>\n",
       "      <td>0.27</td>\n",
       "      <td>первый</td>\n",
       "    </tr>\n",
       "    <tr>\n",
       "      <td>2</td>\n",
       "      <td>10</td>\n",
       "      <td>5,196,000.00</td>\n",
       "      <td>56.00</td>\n",
       "      <td>2015-08-20</td>\n",
       "      <td>2</td>\n",
       "      <td>2.65</td>\n",
       "      <td>5.00</td>\n",
       "      <td>34.30</td>\n",
       "      <td>4</td>\n",
       "      <td>0</td>\n",
       "      <td>0</td>\n",
       "      <td>0</td>\n",
       "      <td>8.30</td>\n",
       "      <td>0.00</td>\n",
       "      <td>Санкт-Петербург</td>\n",
       "      <td>21,741.00</td>\n",
       "      <td>13,933.00</td>\n",
       "      <td>1.00</td>\n",
       "      <td>90.00</td>\n",
       "      <td>2.00</td>\n",
       "      <td>574.00</td>\n",
       "      <td>558.00</td>\n",
       "      <td>21.74</td>\n",
       "      <td>13.93</td>\n",
       "      <td>0.09</td>\n",
       "      <td>0.57</td>\n",
       "      <td>Thursday</td>\n",
       "      <td>August</td>\n",
       "      <td>2015</td>\n",
       "      <td>92,785.71</td>\n",
       "      <td>0.61</td>\n",
       "      <td>0.15</td>\n",
       "      <td>другой</td>\n",
       "    </tr>\n",
       "    <tr>\n",
       "      <td>3</td>\n",
       "      <td>0</td>\n",
       "      <td>64,900,000.00</td>\n",
       "      <td>159.00</td>\n",
       "      <td>2015-07-24</td>\n",
       "      <td>3</td>\n",
       "      <td>2.65</td>\n",
       "      <td>14.00</td>\n",
       "      <td>nan</td>\n",
       "      <td>9</td>\n",
       "      <td>0</td>\n",
       "      <td>0</td>\n",
       "      <td>0</td>\n",
       "      <td>nan</td>\n",
       "      <td>0.00</td>\n",
       "      <td>Санкт-Петербург</td>\n",
       "      <td>28,098.00</td>\n",
       "      <td>6,800.00</td>\n",
       "      <td>2.00</td>\n",
       "      <td>84.00</td>\n",
       "      <td>3.00</td>\n",
       "      <td>234.00</td>\n",
       "      <td>424.00</td>\n",
       "      <td>28.10</td>\n",
       "      <td>6.80</td>\n",
       "      <td>0.08</td>\n",
       "      <td>0.23</td>\n",
       "      <td>Friday</td>\n",
       "      <td>July</td>\n",
       "      <td>2015</td>\n",
       "      <td>408,176.10</td>\n",
       "      <td>nan</td>\n",
       "      <td>nan</td>\n",
       "      <td>другой</td>\n",
       "    </tr>\n",
       "    <tr>\n",
       "      <td>4</td>\n",
       "      <td>2</td>\n",
       "      <td>10,000,000.00</td>\n",
       "      <td>100.00</td>\n",
       "      <td>2018-06-19</td>\n",
       "      <td>2</td>\n",
       "      <td>3.03</td>\n",
       "      <td>14.00</td>\n",
       "      <td>32.00</td>\n",
       "      <td>13</td>\n",
       "      <td>0</td>\n",
       "      <td>0</td>\n",
       "      <td>0</td>\n",
       "      <td>41.00</td>\n",
       "      <td>0.00</td>\n",
       "      <td>Санкт-Петербург</td>\n",
       "      <td>31,856.00</td>\n",
       "      <td>8,098.00</td>\n",
       "      <td>2.00</td>\n",
       "      <td>112.00</td>\n",
       "      <td>1.00</td>\n",
       "      <td>48.00</td>\n",
       "      <td>121.00</td>\n",
       "      <td>31.86</td>\n",
       "      <td>8.10</td>\n",
       "      <td>0.11</td>\n",
       "      <td>0.05</td>\n",
       "      <td>Tuesday</td>\n",
       "      <td>June</td>\n",
       "      <td>2018</td>\n",
       "      <td>100,000.00</td>\n",
       "      <td>0.32</td>\n",
       "      <td>0.41</td>\n",
       "      <td>другой</td>\n",
       "    </tr>\n",
       "  </tbody>\n",
       "</table>\n",
       "</div>"
      ],
      "text/plain": [
       "   total_images         price  total_area first_day_exposition  rooms  \\\n",
       "0            20 13,000,000.00      108.00           2019-03-07      3   \n",
       "1             7  3,350,000.00       40.40           2018-12-04      1   \n",
       "2            10  5,196,000.00       56.00           2015-08-20      2   \n",
       "3             0 64,900,000.00      159.00           2015-07-24      3   \n",
       "4             2 10,000,000.00      100.00           2018-06-19      2   \n",
       "\n",
       "   ceiling_height  floors_total  living_area  floor  apartment  studio  \\\n",
       "0            2.70         16.00        51.00      8          0       0   \n",
       "1            2.65         11.00        18.60      1          0       0   \n",
       "2            2.65          5.00        34.30      4          0       0   \n",
       "3            2.65         14.00          nan      9          0       0   \n",
       "4            3.03         14.00        32.00     13          0       0   \n",
       "\n",
       "   open_plan  kitchen_area  balcony    locality_name  airports_nearest  \\\n",
       "0          0         25.00     0.00  Санкт-Петербург         18,863.00   \n",
       "1          0         11.00     2.00   поселок Шушары         12,817.00   \n",
       "2          0          8.30     0.00  Санкт-Петербург         21,741.00   \n",
       "3          0           nan     0.00  Санкт-Петербург         28,098.00   \n",
       "4          0         41.00     0.00  Санкт-Петербург         31,856.00   \n",
       "\n",
       "   citycenters_nearest  parks_around_3km  parks_nearest  ponds_around_3km  \\\n",
       "0            16,028.00              1.00         482.00              2.00   \n",
       "1            18,603.00              0.00            nan              0.00   \n",
       "2            13,933.00              1.00          90.00              2.00   \n",
       "3             6,800.00              2.00          84.00              3.00   \n",
       "4             8,098.00              2.00         112.00              1.00   \n",
       "\n",
       "   ponds_nearest  days_exposition  airports_distance  citycenters_distance  \\\n",
       "0         755.00            -1.00              18.86                 16.03   \n",
       "1            nan            81.00              12.82                 18.60   \n",
       "2         574.00           558.00              21.74                 13.93   \n",
       "3         234.00           424.00              28.10                  6.80   \n",
       "4          48.00           121.00              31.86                  8.10   \n",
       "\n",
       "   parks_distance  ponds_distance day_of_week     month  year  price_per_m2  \\\n",
       "0            0.48            0.76    Thursday     March  2019    120,370.37   \n",
       "1             nan             nan     Tuesday  December  2018     82,920.79   \n",
       "2            0.09            0.57    Thursday    August  2015     92,785.71   \n",
       "3            0.08            0.23      Friday      July  2015    408,176.10   \n",
       "4            0.11            0.05     Tuesday      June  2018    100,000.00   \n",
       "\n",
       "   ratio_total_living_area  ratio_total_kitchen_area floor_area  \n",
       "0                     0.47                      0.23     другой  \n",
       "1                     0.46                      0.27     первый  \n",
       "2                     0.61                      0.15     другой  \n",
       "3                      nan                       nan     другой  \n",
       "4                     0.32                      0.41     другой  "
      ]
     },
     "execution_count": 82,
     "metadata": {},
     "output_type": "execute_result"
    }
   ],
   "source": [
    "data.head()"
   ]
  },
  {
   "cell_type": "code",
   "execution_count": 83,
   "metadata": {},
   "outputs": [
    {
     "data": {
      "text/html": [
       "<style  type=\"text/css\" >\n",
       "    #T_643f60ae_9e77_11ea_8fac_02420a39324drow0_col0 {\n",
       "            background-color:  #b40426;\n",
       "            color:  #f1f1f1;\n",
       "        }    #T_643f60ae_9e77_11ea_8fac_02420a39324drow0_col1 {\n",
       "            background-color:  #cad8ef;\n",
       "            color:  #000000;\n",
       "        }    #T_643f60ae_9e77_11ea_8fac_02420a39324drow0_col2 {\n",
       "            background-color:  #7b9ff9;\n",
       "            color:  #000000;\n",
       "        }    #T_643f60ae_9e77_11ea_8fac_02420a39324drow0_col3 {\n",
       "            background-color:  #3b4cc0;\n",
       "            color:  #f1f1f1;\n",
       "        }    #T_643f60ae_9e77_11ea_8fac_02420a39324drow0_col4 {\n",
       "            background-color:  #bed2f6;\n",
       "            color:  #000000;\n",
       "        }    #T_643f60ae_9e77_11ea_8fac_02420a39324drow0_col5 {\n",
       "            background-color:  #bbd1f8;\n",
       "            color:  #000000;\n",
       "        }    #T_643f60ae_9e77_11ea_8fac_02420a39324drow1_col0 {\n",
       "            background-color:  #d5dbe5;\n",
       "            color:  #000000;\n",
       "        }    #T_643f60ae_9e77_11ea_8fac_02420a39324drow1_col1 {\n",
       "            background-color:  #b40426;\n",
       "            color:  #f1f1f1;\n",
       "        }    #T_643f60ae_9e77_11ea_8fac_02420a39324drow1_col2 {\n",
       "            background-color:  #ee8669;\n",
       "            color:  #000000;\n",
       "        }    #T_643f60ae_9e77_11ea_8fac_02420a39324drow1_col3 {\n",
       "            background-color:  #4e68d8;\n",
       "            color:  #000000;\n",
       "        }    #T_643f60ae_9e77_11ea_8fac_02420a39324drow1_col4 {\n",
       "            background-color:  #ccd9ed;\n",
       "            color:  #000000;\n",
       "        }    #T_643f60ae_9e77_11ea_8fac_02420a39324drow1_col5 {\n",
       "            background-color:  #a9c6fd;\n",
       "            color:  #000000;\n",
       "        }    #T_643f60ae_9e77_11ea_8fac_02420a39324drow2_col0 {\n",
       "            background-color:  #98b9ff;\n",
       "            color:  #000000;\n",
       "        }    #T_643f60ae_9e77_11ea_8fac_02420a39324drow2_col1 {\n",
       "            background-color:  #ed8366;\n",
       "            color:  #000000;\n",
       "        }    #T_643f60ae_9e77_11ea_8fac_02420a39324drow2_col2 {\n",
       "            background-color:  #b40426;\n",
       "            color:  #f1f1f1;\n",
       "        }    #T_643f60ae_9e77_11ea_8fac_02420a39324drow2_col3 {\n",
       "            background-color:  #5977e3;\n",
       "            color:  #000000;\n",
       "        }    #T_643f60ae_9e77_11ea_8fac_02420a39324drow2_col4 {\n",
       "            background-color:  #c9d7f0;\n",
       "            color:  #000000;\n",
       "        }    #T_643f60ae_9e77_11ea_8fac_02420a39324drow2_col5 {\n",
       "            background-color:  #aec9fc;\n",
       "            color:  #000000;\n",
       "        }    #T_643f60ae_9e77_11ea_8fac_02420a39324drow3_col0 {\n",
       "            background-color:  #3b4cc0;\n",
       "            color:  #f1f1f1;\n",
       "        }    #T_643f60ae_9e77_11ea_8fac_02420a39324drow3_col1 {\n",
       "            background-color:  #3b4cc0;\n",
       "            color:  #f1f1f1;\n",
       "        }    #T_643f60ae_9e77_11ea_8fac_02420a39324drow3_col2 {\n",
       "            background-color:  #3b4cc0;\n",
       "            color:  #f1f1f1;\n",
       "        }    #T_643f60ae_9e77_11ea_8fac_02420a39324drow3_col3 {\n",
       "            background-color:  #b40426;\n",
       "            color:  #f1f1f1;\n",
       "        }    #T_643f60ae_9e77_11ea_8fac_02420a39324drow3_col4 {\n",
       "            background-color:  #b1cbfc;\n",
       "            color:  #000000;\n",
       "        }    #T_643f60ae_9e77_11ea_8fac_02420a39324drow3_col5 {\n",
       "            background-color:  #c0d4f5;\n",
       "            color:  #000000;\n",
       "        }    #T_643f60ae_9e77_11ea_8fac_02420a39324drow4_col0 {\n",
       "            background-color:  #8fb1fe;\n",
       "            color:  #000000;\n",
       "        }    #T_643f60ae_9e77_11ea_8fac_02420a39324drow4_col1 {\n",
       "            background-color:  #93b5fe;\n",
       "            color:  #000000;\n",
       "        }    #T_643f60ae_9e77_11ea_8fac_02420a39324drow4_col2 {\n",
       "            background-color:  #82a6fb;\n",
       "            color:  #000000;\n",
       "        }    #T_643f60ae_9e77_11ea_8fac_02420a39324drow4_col3 {\n",
       "            background-color:  #7ea1fa;\n",
       "            color:  #000000;\n",
       "        }    #T_643f60ae_9e77_11ea_8fac_02420a39324drow4_col4 {\n",
       "            background-color:  #b40426;\n",
       "            color:  #f1f1f1;\n",
       "        }    #T_643f60ae_9e77_11ea_8fac_02420a39324drow4_col5 {\n",
       "            background-color:  #3b4cc0;\n",
       "            color:  #f1f1f1;\n",
       "        }    #T_643f60ae_9e77_11ea_8fac_02420a39324drow5_col0 {\n",
       "            background-color:  #8caffe;\n",
       "            color:  #000000;\n",
       "        }    #T_643f60ae_9e77_11ea_8fac_02420a39324drow5_col1 {\n",
       "            background-color:  #6180e9;\n",
       "            color:  #000000;\n",
       "        }    #T_643f60ae_9e77_11ea_8fac_02420a39324drow5_col2 {\n",
       "            background-color:  #5d7ce6;\n",
       "            color:  #000000;\n",
       "        }    #T_643f60ae_9e77_11ea_8fac_02420a39324drow5_col3 {\n",
       "            background-color:  #92b4fe;\n",
       "            color:  #000000;\n",
       "        }    #T_643f60ae_9e77_11ea_8fac_02420a39324drow5_col4 {\n",
       "            background-color:  #3b4cc0;\n",
       "            color:  #f1f1f1;\n",
       "        }    #T_643f60ae_9e77_11ea_8fac_02420a39324drow5_col5 {\n",
       "            background-color:  #b40426;\n",
       "            color:  #f1f1f1;\n",
       "        }</style><table id=\"T_643f60ae_9e77_11ea_8fac_02420a39324d\" ><thead>    <tr>        <th class=\"blank level0\" ></th>        <th class=\"col_heading level0 col0\" >price_per_m2</th>        <th class=\"col_heading level0 col1\" >total_area</th>        <th class=\"col_heading level0 col2\" >rooms</th>        <th class=\"col_heading level0 col3\" >citycenters_distance</th>        <th class=\"col_heading level0 col4\" >days_exposition</th>        <th class=\"col_heading level0 col5\" >year</th>    </tr></thead><tbody>\n",
       "                <tr>\n",
       "                        <th id=\"T_643f60ae_9e77_11ea_8fac_02420a39324dlevel0_row0\" class=\"row_heading level0 row0\" >price_per_m2</th>\n",
       "                        <td id=\"T_643f60ae_9e77_11ea_8fac_02420a39324drow0_col0\" class=\"data row0 col0\" >1</td>\n",
       "                        <td id=\"T_643f60ae_9e77_11ea_8fac_02420a39324drow0_col1\" class=\"data row0 col1\" >0.302202</td>\n",
       "                        <td id=\"T_643f60ae_9e77_11ea_8fac_02420a39324drow0_col2\" class=\"data row0 col2\" >0.0554705</td>\n",
       "                        <td id=\"T_643f60ae_9e77_11ea_8fac_02420a39324drow0_col3\" class=\"data row0 col3\" >-0.318099</td>\n",
       "                        <td id=\"T_643f60ae_9e77_11ea_8fac_02420a39324drow0_col4\" class=\"data row0 col4\" >0.0198198</td>\n",
       "                        <td id=\"T_643f60ae_9e77_11ea_8fac_02420a39324drow0_col5\" class=\"data row0 col5\" >0.00889412</td>\n",
       "            </tr>\n",
       "            <tr>\n",
       "                        <th id=\"T_643f60ae_9e77_11ea_8fac_02420a39324dlevel0_row1\" class=\"row_heading level0 row1\" >total_area</th>\n",
       "                        <td id=\"T_643f60ae_9e77_11ea_8fac_02420a39324drow1_col0\" class=\"data row1 col0\" >0.302202</td>\n",
       "                        <td id=\"T_643f60ae_9e77_11ea_8fac_02420a39324drow1_col1\" class=\"data row1 col1\" >1</td>\n",
       "                        <td id=\"T_643f60ae_9e77_11ea_8fac_02420a39324drow1_col2\" class=\"data row1 col2\" >0.758745</td>\n",
       "                        <td id=\"T_643f60ae_9e77_11ea_8fac_02420a39324drow1_col3\" class=\"data row1 col3\" >-0.231904</td>\n",
       "                        <td id=\"T_643f60ae_9e77_11ea_8fac_02420a39324drow1_col4\" class=\"data row1 col4\" >0.0966259</td>\n",
       "                        <td id=\"T_643f60ae_9e77_11ea_8fac_02420a39324drow1_col5\" class=\"data row1 col5\" >-0.0794957</td>\n",
       "            </tr>\n",
       "            <tr>\n",
       "                        <th id=\"T_643f60ae_9e77_11ea_8fac_02420a39324dlevel0_row2\" class=\"row_heading level0 row2\" >rooms</th>\n",
       "                        <td id=\"T_643f60ae_9e77_11ea_8fac_02420a39324drow2_col0\" class=\"data row2 col0\" >0.0554705</td>\n",
       "                        <td id=\"T_643f60ae_9e77_11ea_8fac_02420a39324drow2_col1\" class=\"data row2 col1\" >0.758745</td>\n",
       "                        <td id=\"T_643f60ae_9e77_11ea_8fac_02420a39324drow2_col2\" class=\"data row2 col2\" >1</td>\n",
       "                        <td id=\"T_643f60ae_9e77_11ea_8fac_02420a39324drow2_col3\" class=\"data row2 col3\" >-0.184322</td>\n",
       "                        <td id=\"T_643f60ae_9e77_11ea_8fac_02420a39324drow2_col4\" class=\"data row2 col4\" >0.0786018</td>\n",
       "                        <td id=\"T_643f60ae_9e77_11ea_8fac_02420a39324drow2_col5\" class=\"data row2 col5\" >-0.0546411</td>\n",
       "            </tr>\n",
       "            <tr>\n",
       "                        <th id=\"T_643f60ae_9e77_11ea_8fac_02420a39324dlevel0_row3\" class=\"row_heading level0 row3\" >citycenters_distance</th>\n",
       "                        <td id=\"T_643f60ae_9e77_11ea_8fac_02420a39324drow3_col0\" class=\"data row3 col0\" >-0.318099</td>\n",
       "                        <td id=\"T_643f60ae_9e77_11ea_8fac_02420a39324drow3_col1\" class=\"data row3 col1\" >-0.231904</td>\n",
       "                        <td id=\"T_643f60ae_9e77_11ea_8fac_02420a39324drow3_col2\" class=\"data row3 col2\" >-0.184322</td>\n",
       "                        <td id=\"T_643f60ae_9e77_11ea_8fac_02420a39324drow3_col3\" class=\"data row3 col3\" >1</td>\n",
       "                        <td id=\"T_643f60ae_9e77_11ea_8fac_02420a39324drow3_col4\" class=\"data row3 col4\" >-0.0442073</td>\n",
       "                        <td id=\"T_643f60ae_9e77_11ea_8fac_02420a39324drow3_col5\" class=\"data row3 col5\" >0.0302172</td>\n",
       "            </tr>\n",
       "            <tr>\n",
       "                        <th id=\"T_643f60ae_9e77_11ea_8fac_02420a39324dlevel0_row4\" class=\"row_heading level0 row4\" >days_exposition</th>\n",
       "                        <td id=\"T_643f60ae_9e77_11ea_8fac_02420a39324drow4_col0\" class=\"data row4 col0\" >0.0198198</td>\n",
       "                        <td id=\"T_643f60ae_9e77_11ea_8fac_02420a39324drow4_col1\" class=\"data row4 col1\" >0.0966259</td>\n",
       "                        <td id=\"T_643f60ae_9e77_11ea_8fac_02420a39324drow4_col2\" class=\"data row4 col2\" >0.0786018</td>\n",
       "                        <td id=\"T_643f60ae_9e77_11ea_8fac_02420a39324drow4_col3\" class=\"data row4 col3\" >-0.0442073</td>\n",
       "                        <td id=\"T_643f60ae_9e77_11ea_8fac_02420a39324drow4_col4\" class=\"data row4 col4\" >1</td>\n",
       "                        <td id=\"T_643f60ae_9e77_11ea_8fac_02420a39324drow4_col5\" class=\"data row4 col5\" >-0.614516</td>\n",
       "            </tr>\n",
       "            <tr>\n",
       "                        <th id=\"T_643f60ae_9e77_11ea_8fac_02420a39324dlevel0_row5\" class=\"row_heading level0 row5\" >year</th>\n",
       "                        <td id=\"T_643f60ae_9e77_11ea_8fac_02420a39324drow5_col0\" class=\"data row5 col0\" >0.00889412</td>\n",
       "                        <td id=\"T_643f60ae_9e77_11ea_8fac_02420a39324drow5_col1\" class=\"data row5 col1\" >-0.0794957</td>\n",
       "                        <td id=\"T_643f60ae_9e77_11ea_8fac_02420a39324drow5_col2\" class=\"data row5 col2\" >-0.0546411</td>\n",
       "                        <td id=\"T_643f60ae_9e77_11ea_8fac_02420a39324drow5_col3\" class=\"data row5 col3\" >0.0302172</td>\n",
       "                        <td id=\"T_643f60ae_9e77_11ea_8fac_02420a39324drow5_col4\" class=\"data row5 col4\" >-0.614516</td>\n",
       "                        <td id=\"T_643f60ae_9e77_11ea_8fac_02420a39324drow5_col5\" class=\"data row5 col5\" >1</td>\n",
       "            </tr>\n",
       "    </tbody></table>"
      ],
      "text/plain": [
       "<pandas.io.formats.style.Styler at 0x7fd6becedcd0>"
      ]
     },
     "execution_count": 83,
     "metadata": {},
     "output_type": "execute_result"
    }
   ],
   "source": [
    "correlation_table = data[['price_per_m2',\n",
    "                   'total_area',\n",
    "                   'rooms',\n",
    "                   'citycenters_distance',\n",
    "                   'floor_area',\n",
    "                   'days_exposition',\n",
    "                   'day_of_week',\n",
    "                   'month',\n",
    "                   'year']].corr()\n",
    "correlation_table.style.background_gradient(cmap='coolwarm')"
   ]
  },
  {
   "cell_type": "markdown",
   "metadata": {},
   "source": [
    "<font color='blue'> \n",
    "### <u>КОММЕНТАРИЙ РЕВЬЮЕРА</u>\n",
    "</font>\n",
    "<font color='green'>\n",
    "Это даже красивее, чем тепловая карта выглядит)\n",
    "<br>\n",
    "</font>"
   ]
  },
  {
   "cell_type": "markdown",
   "metadata": {},
   "source": [
    "<font color='blue'> \n",
    "### <u>КОММЕНТАРИЙ РЕВЬЮЕРА</u>\n",
    "</font>\n",
    "<font color='orange'>\n",
    "ВАЖНО!!! по использованию корреляций<br>\n",
    "0) Этот инструмент - исключительно для данных в количественной шкале!!!!<br>\n",
    "Показатель \"год\" - он тоже в количественной. Но как интерпретировать результат?<br>\n",
    "Этот показатель, скорее всего, лучше интерпретировать как номинальная шкала (тут-то всего сколько годов - не боле 6-8)<br>\n",
    "И тогда, чтобы, анализировать среднюю цены квартиры, например, удобно и более понятно использовать другу технику - сравнение групп (из темы \"проверка гипотез\" - в будущем у Вас будет).<br><br>\n",
    "1) Наряду с силой связи, есть ещё характертеристика уровня значимости. Т.е. на сколько выявленной связи можно доверять (это теория р-уровня значений. Ещё будете изучать. Советую (если не очень пока знаете что это) попытать наставника по этому вопросу) <br>\n",
    "\n",
    "2) Вы уже чётко видите разницу между средним и медианой (опираюсь на Ваш проект)<br>\n",
    "Потому знаете, что данные имеют склонность быть нормальными и ненормальными (вот ёлки, всё как у людей:)))<br>\n",
    "Этот факт важен при использовании расчётов коэффициента корреляции:<br>\n",
    "Если данные нормальные - используют критерий Пирсона. если ненормальный - критерий Спирмена)<br>  \n",
    "Есть ли последствия от \"ложного\" использования методов? Да - ложные управленческие выводы!!!!   <br><br>\n",
    " 3) И ещё: корреляция - очень подвержена выбросам. Расчёты могут искажаться, если они есть!!! (ну Вы с этим справились)   \n",
    "<br>\n",
    "</font>"
   ]
  },
  {
   "cell_type": "code",
   "execution_count": 84,
   "metadata": {},
   "outputs": [],
   "source": [
    "def correlation_price(data, column):\n",
    "    title_dict = {'rooms': 'correlation_price_rooms', 'floor_area': 'correlation_price_floor_area',\n",
    "                  'citycenters_distance': 'correlation_price_citycenters_distance',\n",
    "                  'day_of_week':'median_day', 'month': 'median_month',\n",
    "                  'year': 'median_year'}\n",
    "    plt.style.use('seaborn-pastel')\n",
    "    if column == 'floor_area':\n",
    "        sort_key = 'price'\n",
    "    else:\n",
    "        sort_key = column\n",
    "    if column == 'floor_area':\n",
    "        fontsize = 12\n",
    "    else:\n",
    "        fontsize = 15\n",
    "    data_corr = data.groupby(column).median()['price'].reset_index().sort_values(by=sort_key)\n",
    "    plot = data_corr.plot(x=column, y=\"price\", kind='bar', ec='black', \n",
    "                            title=title_dict[column], legend=None, \n",
    "                            fontsize=fontsize, figsize=(9,4))\n",
    "    ax2 = plt.gca()  \n",
    "    x_axis = ax2.xaxis\n",
    "    x_axis.label.set_visible(False)\n",
    "    if column != 'citycenters_distance':\n",
    "        plt.xticks(rotation=0)\n",
    "    return plot"
   ]
  },
  {
   "cell_type": "code",
   "execution_count": 85,
   "metadata": {},
   "outputs": [
    {
     "data": {
      "text/plain": [
       "<matplotlib.axes._subplots.AxesSubplot at 0x7fd6bec045d0>"
      ]
     },
     "execution_count": 85,
     "metadata": {},
     "output_type": "execute_result"
    },
    {
     "data": {
      "image/png": "[encoded data removed]",
      "text/plain": [
       "<Figure size 648x288 with 1 Axes>"
      ]
     },
     "metadata": {
      "needs_background": "light"
     },
     "output_type": "display_data"
    }
   ],
   "source": [
    "correlation_price(data, 'rooms')"
   ]
  },
  {
   "cell_type": "code",
   "execution_count": 86,
   "metadata": {},
   "outputs": [
    {
     "data": {
      "text/plain": [
       "<matplotlib.axes._subplots.AxesSubplot at 0x7fd6dba63d50>"
      ]
     },
     "execution_count": 86,
     "metadata": {},
     "output_type": "execute_result"
    },
    {
     "data": {
      "image/png": "[encoded data removed]",
      "text/plain": [
       "<Figure size 648x288 with 1 Axes>"
      ]
     },
     "metadata": {
      "needs_background": "light"
     },
     "output_type": "display_data"
    }
   ],
   "source": [
    "correlation_price(data.query('rooms <= 7'), 'rooms')"
   ]
  },
  {
   "cell_type": "code",
   "execution_count": 87,
   "metadata": {},
   "outputs": [
    {
     "data": {
      "text/plain": [
       "<matplotlib.axes._subplots.AxesSubplot at 0x7fd6db9f9c10>"
      ]
     },
     "execution_count": 87,
     "metadata": {},
     "output_type": "execute_result"
    },
    {
     "data": {
      "image/png": "[encoded data removed]",
      "text/plain": [
       "<Figure size 648x288 with 1 Axes>"
      ]
     },
     "metadata": {
      "needs_background": "light"
     },
     "output_type": "display_data"
    }
   ],
   "source": [
    "correlation_price(data, 'floor_area')"
   ]
  },
  {
   "cell_type": "code",
   "execution_count": 88,
   "metadata": {},
   "outputs": [],
   "source": [
    "def corr_price(data, ylims=None):\n",
    "    price_day_month_year = ['day_of_week', 'month', 'year']\n",
    "    titles = ['median_day_of_week', 'median_month', 'median_year']\n",
    "\n",
    "    for i in range(len(price_day_month_year)):\n",
    "        price_day_month_year_new = data.groupby(price_day_month_year[i]).median()['price'].reset_index().sort_values(by=price_day_month_year[i])\n",
    "        if ylims is None:\n",
    "            plot = price_day_month_year_new.plot(x=price_day_month_year[i], y=\"price\", kind='bar', figsize=(10,5), ec='black',\n",
    "                                   legend=False, title=titles[i], fontsize=15)\n",
    "        else:\n",
    "            plot = price_day_month_year_new.plot(x=price_day_month_year[i], y=\"price\", kind='bar', figsize=(10,5), ec='black',\n",
    "                               legend=False, title=titles[i], fontsize=15, ylim=ylims[i])\n",
    "        ax2 = plt.gca()\n",
    "        x_axis = ax2.xaxis\n",
    "        x_axis.label.set_visible(False)\n",
    "        if price_day_month_year[i] != 'day_of_week':\n",
    "            plt.xticks(rotation=0)\n",
    "    return plot"
   ]
  },
  {
   "cell_type": "code",
   "execution_count": 89,
   "metadata": {},
   "outputs": [
    {
     "data": {
      "text/plain": [
       "<matplotlib.axes._subplots.AxesSubplot at 0x7fd6db84fc10>"
      ]
     },
     "execution_count": 89,
     "metadata": {},
     "output_type": "execute_result"
    },
    {
     "data": {
      "image/png": "[encoded data removed]",
      "text/plain": [
       "<Figure size 720x360 with 1 Axes>"
      ]
     },
     "metadata": {
      "needs_background": "light"
     },
     "output_type": "display_data"
    },
    {
     "data": {
      "image/png": "[encoded data removed]",
      "text/plain": [
       "<Figure size 720x360 with 1 Axes>"
      ]
     },
     "metadata": {
      "needs_background": "light"
     },
     "output_type": "display_data"
    },
    {
     "data": {
      "image/png": "[encoded data removed]",
      "text/plain": [
       "<Figure size 720x360 with 1 Axes>"
      ]
     },
     "metadata": {
      "needs_background": "light"
     },
     "output_type": "display_data"
    }
   ],
   "source": [
    "corr_price(data)"
   ]
  },
  {
   "cell_type": "markdown",
   "metadata": {},
   "source": [
    "Из таблицы мы видим, что на стоимость квадратного метра квартиры больше всего влияют количество комнат и общая площадь. \n",
    "Наблюдаем также отрицательную корреляцию между значениеями расстояние квартиры до центра. \n",
    "Вывод по графикам: \n",
    "1. Чем больше комнат, тем дороже стоимость \n",
    "2. Стоимость квартирна первом этаже ниже стоимости квартир на последнем или других этажах. \n",
    "3. Цена квартиры никак не зависит от дня недели\n",
    "4. Наименьшая зависимостьнаблюдается  в июне и мае. Возможно это связано с тем, что покупательская активность в эти месяцы снижена. \n",
    "5. Наибольшая зависимость наблюдается в 2014 году, скорее всего это связано с выгодной покупкой для покупателей, ослаблением рубля. "
   ]
  },
  {
   "cell_type": "markdown",
   "metadata": {},
   "source": [
    "<font color='blue'> \n",
    "### <u>КОММЕНТАРИЙ РЕВЬЮЕРА</u>\n",
    "</font>\n",
    "<font color='green'>\n",
    "Идейно - ОК, движение в эту сторону))<br><font color='orange'>\n",
    "ВАЖНО!<br>\n",
    "с интепретацией выводов о том где что больше/меньше<br>\n",
    "чтобы это утвержадать для коммерческого использования надо доплнительные расчёты. <br>\n",
    "А именно: учитывать стандартные отклонения. \n",
    "<br>Когда будете изучать тему \"проверка гипотез\" или сравнение групп, то там Вы сможете ответить на этот вопрос более точно. (если встречали: T-критерий Стьюдента, манна-Уитни...).))))\n",
    "<br>\n",
    "</font>"
   ]
  },
  {
   "cell_type": "markdown",
   "metadata": {},
   "source": [
    "### Изучите предложения квартир: для каждой квартиры есть информация о расстоянии до центра. Выделите квартиры в Санкт-Петербурге ('locality_name'). Ваша задача — выяснить, какая область входит в центр. Создайте столбец с расстоянием до центра в километрах: округлите до целых значений. После этого посчитайте среднюю цену для каждого километра. Постройте график: он должен показывать, как цена зависит от удалённости от центра. Определите границу, где график сильно меняется — это и будет центральная зона."
   ]
  },
  {
   "cell_type": "code",
   "execution_count": 90,
   "metadata": {},
   "outputs": [
    {
     "name": "stderr",
     "output_type": "stream",
     "text": [
      "/opt/conda/lib/python3.7/site-packages/pandas/core/indexing.py:494: SettingWithCopyWarning: \n",
      "A value is trying to be set on a copy of a slice from a DataFrame.\n",
      "Try using .loc[row_indexer,col_indexer] = value instead\n",
      "\n",
      "See the caveats in the documentation: http://pandas.pydata.org/pandas-docs/stable/user_guide/indexing.html#returning-a-view-versus-a-copy\n",
      "  self.obj[item] = s\n"
     ]
    },
    {
     "data": {
      "text/html": [
       "<div>\n",
       "<style scoped>\n",
       "    .dataframe tbody tr th:only-of-type {\n",
       "        vertical-align: middle;\n",
       "    }\n",
       "\n",
       "    .dataframe tbody tr th {\n",
       "        vertical-align: top;\n",
       "    }\n",
       "\n",
       "    .dataframe thead th {\n",
       "        text-align: right;\n",
       "    }\n",
       "</style>\n",
       "<table border=\"1\" class=\"dataframe\">\n",
       "  <thead>\n",
       "    <tr style=\"text-align: right;\">\n",
       "      <th></th>\n",
       "      <th>total_images</th>\n",
       "      <th>price</th>\n",
       "      <th>total_area</th>\n",
       "      <th>first_day_exposition</th>\n",
       "      <th>rooms</th>\n",
       "      <th>ceiling_height</th>\n",
       "      <th>floors_total</th>\n",
       "      <th>living_area</th>\n",
       "      <th>floor</th>\n",
       "      <th>apartment</th>\n",
       "      <th>studio</th>\n",
       "      <th>open_plan</th>\n",
       "      <th>kitchen_area</th>\n",
       "      <th>balcony</th>\n",
       "      <th>locality_name</th>\n",
       "      <th>airports_nearest</th>\n",
       "      <th>citycenters_nearest</th>\n",
       "      <th>parks_around_3km</th>\n",
       "      <th>parks_nearest</th>\n",
       "      <th>ponds_around_3km</th>\n",
       "      <th>ponds_nearest</th>\n",
       "      <th>days_exposition</th>\n",
       "      <th>airports_distance</th>\n",
       "      <th>citycenters_distance</th>\n",
       "      <th>parks_distance</th>\n",
       "      <th>ponds_distance</th>\n",
       "      <th>day_of_week</th>\n",
       "      <th>month</th>\n",
       "      <th>year</th>\n",
       "      <th>price_per_m2</th>\n",
       "      <th>ratio_total_living_area</th>\n",
       "      <th>ratio_total_kitchen_area</th>\n",
       "      <th>floor_area</th>\n",
       "    </tr>\n",
       "  </thead>\n",
       "  <tbody>\n",
       "    <tr>\n",
       "      <td>0</td>\n",
       "      <td>20</td>\n",
       "      <td>13,000,000.00</td>\n",
       "      <td>108.00</td>\n",
       "      <td>2019-03-07</td>\n",
       "      <td>3</td>\n",
       "      <td>2.70</td>\n",
       "      <td>16.00</td>\n",
       "      <td>51.00</td>\n",
       "      <td>8</td>\n",
       "      <td>0</td>\n",
       "      <td>0</td>\n",
       "      <td>0</td>\n",
       "      <td>25.00</td>\n",
       "      <td>0.00</td>\n",
       "      <td>Санкт-Петербург</td>\n",
       "      <td>18,863.00</td>\n",
       "      <td>16,028.00</td>\n",
       "      <td>1.00</td>\n",
       "      <td>482.00</td>\n",
       "      <td>2.00</td>\n",
       "      <td>755.00</td>\n",
       "      <td>-1.00</td>\n",
       "      <td>18.86</td>\n",
       "      <td>16.00</td>\n",
       "      <td>0.48</td>\n",
       "      <td>0.76</td>\n",
       "      <td>Thursday</td>\n",
       "      <td>March</td>\n",
       "      <td>2019</td>\n",
       "      <td>120,370.37</td>\n",
       "      <td>0.47</td>\n",
       "      <td>0.23</td>\n",
       "      <td>другой</td>\n",
       "    </tr>\n",
       "    <tr>\n",
       "      <td>2</td>\n",
       "      <td>10</td>\n",
       "      <td>5,196,000.00</td>\n",
       "      <td>56.00</td>\n",
       "      <td>2015-08-20</td>\n",
       "      <td>2</td>\n",
       "      <td>2.65</td>\n",
       "      <td>5.00</td>\n",
       "      <td>34.30</td>\n",
       "      <td>4</td>\n",
       "      <td>0</td>\n",
       "      <td>0</td>\n",
       "      <td>0</td>\n",
       "      <td>8.30</td>\n",
       "      <td>0.00</td>\n",
       "      <td>Санкт-Петербург</td>\n",
       "      <td>21,741.00</td>\n",
       "      <td>13,933.00</td>\n",
       "      <td>1.00</td>\n",
       "      <td>90.00</td>\n",
       "      <td>2.00</td>\n",
       "      <td>574.00</td>\n",
       "      <td>558.00</td>\n",
       "      <td>21.74</td>\n",
       "      <td>14.00</td>\n",
       "      <td>0.09</td>\n",
       "      <td>0.57</td>\n",
       "      <td>Thursday</td>\n",
       "      <td>August</td>\n",
       "      <td>2015</td>\n",
       "      <td>92,785.71</td>\n",
       "      <td>0.61</td>\n",
       "      <td>0.15</td>\n",
       "      <td>другой</td>\n",
       "    </tr>\n",
       "    <tr>\n",
       "      <td>3</td>\n",
       "      <td>0</td>\n",
       "      <td>64,900,000.00</td>\n",
       "      <td>159.00</td>\n",
       "      <td>2015-07-24</td>\n",
       "      <td>3</td>\n",
       "      <td>2.65</td>\n",
       "      <td>14.00</td>\n",
       "      <td>nan</td>\n",
       "      <td>9</td>\n",
       "      <td>0</td>\n",
       "      <td>0</td>\n",
       "      <td>0</td>\n",
       "      <td>nan</td>\n",
       "      <td>0.00</td>\n",
       "      <td>Санкт-Петербург</td>\n",
       "      <td>28,098.00</td>\n",
       "      <td>6,800.00</td>\n",
       "      <td>2.00</td>\n",
       "      <td>84.00</td>\n",
       "      <td>3.00</td>\n",
       "      <td>234.00</td>\n",
       "      <td>424.00</td>\n",
       "      <td>28.10</td>\n",
       "      <td>7.00</td>\n",
       "      <td>0.08</td>\n",
       "      <td>0.23</td>\n",
       "      <td>Friday</td>\n",
       "      <td>July</td>\n",
       "      <td>2015</td>\n",
       "      <td>408,176.10</td>\n",
       "      <td>nan</td>\n",
       "      <td>nan</td>\n",
       "      <td>другой</td>\n",
       "    </tr>\n",
       "    <tr>\n",
       "      <td>4</td>\n",
       "      <td>2</td>\n",
       "      <td>10,000,000.00</td>\n",
       "      <td>100.00</td>\n",
       "      <td>2018-06-19</td>\n",
       "      <td>2</td>\n",
       "      <td>3.03</td>\n",
       "      <td>14.00</td>\n",
       "      <td>32.00</td>\n",
       "      <td>13</td>\n",
       "      <td>0</td>\n",
       "      <td>0</td>\n",
       "      <td>0</td>\n",
       "      <td>41.00</td>\n",
       "      <td>0.00</td>\n",
       "      <td>Санкт-Петербург</td>\n",
       "      <td>31,856.00</td>\n",
       "      <td>8,098.00</td>\n",
       "      <td>2.00</td>\n",
       "      <td>112.00</td>\n",
       "      <td>1.00</td>\n",
       "      <td>48.00</td>\n",
       "      <td>121.00</td>\n",
       "      <td>31.86</td>\n",
       "      <td>8.00</td>\n",
       "      <td>0.11</td>\n",
       "      <td>0.05</td>\n",
       "      <td>Tuesday</td>\n",
       "      <td>June</td>\n",
       "      <td>2018</td>\n",
       "      <td>100,000.00</td>\n",
       "      <td>0.32</td>\n",
       "      <td>0.41</td>\n",
       "      <td>другой</td>\n",
       "    </tr>\n",
       "    <tr>\n",
       "      <td>7</td>\n",
       "      <td>5</td>\n",
       "      <td>7,915,000.00</td>\n",
       "      <td>71.60</td>\n",
       "      <td>2019-04-18</td>\n",
       "      <td>2</td>\n",
       "      <td>2.65</td>\n",
       "      <td>24.00</td>\n",
       "      <td>nan</td>\n",
       "      <td>22</td>\n",
       "      <td>0</td>\n",
       "      <td>0</td>\n",
       "      <td>0</td>\n",
       "      <td>18.90</td>\n",
       "      <td>2.00</td>\n",
       "      <td>Санкт-Петербург</td>\n",
       "      <td>23,982.00</td>\n",
       "      <td>11,634.00</td>\n",
       "      <td>0.00</td>\n",
       "      <td>nan</td>\n",
       "      <td>0.00</td>\n",
       "      <td>nan</td>\n",
       "      <td>-1.00</td>\n",
       "      <td>23.98</td>\n",
       "      <td>12.00</td>\n",
       "      <td>nan</td>\n",
       "      <td>nan</td>\n",
       "      <td>Thursday</td>\n",
       "      <td>April</td>\n",
       "      <td>2019</td>\n",
       "      <td>110,544.69</td>\n",
       "      <td>nan</td>\n",
       "      <td>0.26</td>\n",
       "      <td>другой</td>\n",
       "    </tr>\n",
       "  </tbody>\n",
       "</table>\n",
       "</div>"
      ],
      "text/plain": [
       "   total_images         price  total_area first_day_exposition  rooms  \\\n",
       "0            20 13,000,000.00      108.00           2019-03-07      3   \n",
       "2            10  5,196,000.00       56.00           2015-08-20      2   \n",
       "3             0 64,900,000.00      159.00           2015-07-24      3   \n",
       "4             2 10,000,000.00      100.00           2018-06-19      2   \n",
       "7             5  7,915,000.00       71.60           2019-04-18      2   \n",
       "\n",
       "   ceiling_height  floors_total  living_area  floor  apartment  studio  \\\n",
       "0            2.70         16.00        51.00      8          0       0   \n",
       "2            2.65          5.00        34.30      4          0       0   \n",
       "3            2.65         14.00          nan      9          0       0   \n",
       "4            3.03         14.00        32.00     13          0       0   \n",
       "7            2.65         24.00          nan     22          0       0   \n",
       "\n",
       "   open_plan  kitchen_area  balcony    locality_name  airports_nearest  \\\n",
       "0          0         25.00     0.00  Санкт-Петербург         18,863.00   \n",
       "2          0          8.30     0.00  Санкт-Петербург         21,741.00   \n",
       "3          0           nan     0.00  Санкт-Петербург         28,098.00   \n",
       "4          0         41.00     0.00  Санкт-Петербург         31,856.00   \n",
       "7          0         18.90     2.00  Санкт-Петербург         23,982.00   \n",
       "\n",
       "   citycenters_nearest  parks_around_3km  parks_nearest  ponds_around_3km  \\\n",
       "0            16,028.00              1.00         482.00              2.00   \n",
       "2            13,933.00              1.00          90.00              2.00   \n",
       "3             6,800.00              2.00          84.00              3.00   \n",
       "4             8,098.00              2.00         112.00              1.00   \n",
       "7            11,634.00              0.00            nan              0.00   \n",
       "\n",
       "   ponds_nearest  days_exposition  airports_distance  citycenters_distance  \\\n",
       "0         755.00            -1.00              18.86                 16.00   \n",
       "2         574.00           558.00              21.74                 14.00   \n",
       "3         234.00           424.00              28.10                  7.00   \n",
       "4          48.00           121.00              31.86                  8.00   \n",
       "7            nan            -1.00              23.98                 12.00   \n",
       "\n",
       "   parks_distance  ponds_distance day_of_week   month  year  price_per_m2  \\\n",
       "0            0.48            0.76    Thursday   March  2019    120,370.37   \n",
       "2            0.09            0.57    Thursday  August  2015     92,785.71   \n",
       "3            0.08            0.23      Friday    July  2015    408,176.10   \n",
       "4            0.11            0.05     Tuesday    June  2018    100,000.00   \n",
       "7             nan             nan    Thursday   April  2019    110,544.69   \n",
       "\n",
       "   ratio_total_living_area  ratio_total_kitchen_area floor_area  \n",
       "0                     0.47                      0.23     другой  \n",
       "2                     0.61                      0.15     другой  \n",
       "3                      nan                       nan     другой  \n",
       "4                     0.32                      0.41     другой  \n",
       "7                      nan                      0.26     другой  "
      ]
     },
     "execution_count": 90,
     "metadata": {},
     "output_type": "execute_result"
    }
   ],
   "source": [
    "data_piter = data.query('locality_name == \"Санкт-Петербург\"')\n",
    "data_piter.loc[:,'citycenters_distance'] = (data_piter.loc[:,'citycenters_nearest']/1000).round()\n",
    "data_piter.head()"
   ]
  },
  {
   "cell_type": "code",
   "execution_count": 91,
   "metadata": {},
   "outputs": [
    {
     "name": "stdout",
     "output_type": "stream",
     "text": [
      "                total_images  total_area  rooms  ceiling_height  floors_total  \\\n",
      "price                                                                           \n",
      "12,190.00               7.00      109.00   2.00            2.75         25.00   \n",
      "1,190,000.00            5.00       14.00   1.00            2.65          5.00   \n",
      "1,200,000.00            8.00       49.10   4.00            2.50          5.00   \n",
      "1,350,000.00            1.00       18.80   0.00            2.75         19.00   \n",
      "1,400,000.00            3.00       13.00   1.00            2.60          9.00   \n",
      "...                      ...         ...    ...             ...           ...   \n",
      "300,000,000.00         20.00      618.00   7.00            3.40          7.00   \n",
      "330,000,000.00         19.00      190.00   3.00            3.50          7.00   \n",
      "401,300,000.00         15.00      401.00   5.00            2.65          9.00   \n",
      "420,000,000.00          8.00      900.00  12.00            2.80         25.00   \n",
      "763,000,000.00         19.00      400.00   7.00            2.65         10.00   \n",
      "\n",
      "                living_area  floor  apartment  studio  open_plan  \\\n",
      "price                                                              \n",
      "12,190.00             32.00  25.00       0.00    0.00       0.00   \n",
      "1,190,000.00          11.00   1.00       0.00    0.00       0.00   \n",
      "1,200,000.00          36.90   1.00       0.00    0.00       0.00   \n",
      "1,350,000.00          15.80   1.00       0.00    1.00       0.00   \n",
      "1,400,000.00            nan   1.00       0.00    0.00       0.00   \n",
      "...                     ...    ...        ...     ...        ...   \n",
      "300,000,000.00       258.00   5.00       0.00    0.00       0.00   \n",
      "330,000,000.00        95.00   5.00       0.00    0.00       0.00   \n",
      "401,300,000.00       204.00   9.00       0.00    0.00       0.00   \n",
      "420,000,000.00       409.70  25.00       0.00    0.00       0.00   \n",
      "763,000,000.00       250.00  10.00       0.00    0.00       0.00   \n",
      "\n",
      "                kitchen_area  balcony  airports_nearest  citycenters_nearest  \\\n",
      "price                                                                          \n",
      "12,190.00              40.50     0.00         36,421.00             9,176.00   \n",
      "1,190,000.00            2.00     0.00          9,898.00            11,122.00   \n",
      "1,200,000.00            5.20     0.00         17,539.00            12,313.00   \n",
      "1,350,000.00             nan     0.00         37,636.00            14,479.00   \n",
      "1,400,000.00             nan     0.00         14,350.00            15,945.00   \n",
      "...                      ...      ...               ...                  ...   \n",
      "300,000,000.00         70.00     0.00         32,440.00             5,297.00   \n",
      "330,000,000.00         40.00     0.00         23,011.00             1,197.00   \n",
      "401,300,000.00         24.00     3.00         21,912.00             2,389.00   \n",
      "420,000,000.00        112.00     0.00         30,706.00             7,877.00   \n",
      "763,000,000.00           nan     2.00         25,108.00             3,956.00   \n",
      "\n",
      "                parks_around_3km  parks_nearest  ponds_around_3km  \\\n",
      "price                                                               \n",
      "12,190.00                   1.00         805.00              0.00   \n",
      "1,190,000.00                0.00            nan              0.00   \n",
      "1,200,000.00                0.00            nan              0.00   \n",
      "1,350,000.00                0.00            nan              1.00   \n",
      "1,400,000.00                0.00            nan              1.00   \n",
      "...                          ...            ...               ...   \n",
      "300,000,000.00              0.00            nan              2.00   \n",
      "330,000,000.00              3.00         519.00              3.00   \n",
      "401,300,000.00              1.00         545.00              1.00   \n",
      "420,000,000.00              0.00            nan              2.00   \n",
      "763,000,000.00              1.00         530.00              3.00   \n",
      "\n",
      "                ponds_nearest  days_exposition  airports_distance  \\\n",
      "price                                                               \n",
      "12,190.00                 nan             8.00              36.42   \n",
      "1,190,000.00              nan             4.00               9.90   \n",
      "1,200,000.00              nan            44.00              17.54   \n",
      "1,350,000.00         1,127.00           128.00              37.64   \n",
      "1,400,000.00           185.00           410.00              14.35   \n",
      "...                       ...              ...                ...   \n",
      "300,000,000.00         198.00           111.00              32.44   \n",
      "330,000,000.00         285.00           233.00              23.01   \n",
      "401,300,000.00         478.00           393.00              21.91   \n",
      "420,000,000.00         318.00           106.00              30.71   \n",
      "763,000,000.00         756.00            33.00              25.11   \n",
      "\n",
      "                citycenters_distance  parks_distance  ponds_distance     year  \\\n",
      "price                                                                           \n",
      "12,190.00                       9.00            0.81             nan 2,019.00   \n",
      "1,190,000.00                   11.00             nan             nan 2,018.00   \n",
      "1,200,000.00                   12.00             nan             nan 2,018.00   \n",
      "1,350,000.00                   14.00             nan            1.13 2,017.00   \n",
      "1,400,000.00                   16.00             nan            0.18 2,017.00   \n",
      "...                              ...             ...             ...      ...   \n",
      "300,000,000.00                  5.00             nan            0.20 2,017.00   \n",
      "330,000,000.00                  1.00            0.52            0.28 2,018.00   \n",
      "401,300,000.00                  2.00            0.55            0.48 2,016.00   \n",
      "420,000,000.00                  8.00             nan            0.32 2,017.00   \n",
      "763,000,000.00                  4.00            0.53            0.76 2,017.00   \n",
      "\n",
      "                price_per_m2  ratio_total_living_area  \\\n",
      "price                                                   \n",
      "12,190.00             111.83                     0.29   \n",
      "1,190,000.00       85,000.00                     0.79   \n",
      "1,200,000.00       24,439.92                     0.75   \n",
      "1,350,000.00       71,808.51                     0.84   \n",
      "1,400,000.00      107,692.31                      nan   \n",
      "...                      ...                      ...   \n",
      "300,000,000.00    485,436.89                     0.42   \n",
      "330,000,000.00  1,736,842.11                     0.50   \n",
      "401,300,000.00  1,000,748.13                     0.51   \n",
      "420,000,000.00    466,666.67                     0.46   \n",
      "763,000,000.00  1,907,500.00                     0.62   \n",
      "\n",
      "                ratio_total_kitchen_area  \n",
      "price                                     \n",
      "12,190.00                           0.37  \n",
      "1,190,000.00                        0.14  \n",
      "1,200,000.00                        0.11  \n",
      "1,350,000.00                         nan  \n",
      "1,400,000.00                         nan  \n",
      "...                                  ...  \n",
      "300,000,000.00                      0.11  \n",
      "330,000,000.00                      0.21  \n",
      "401,300,000.00                      0.06  \n",
      "420,000,000.00                      0.12  \n",
      "763,000,000.00                       nan  \n",
      "\n",
      "[2396 rows x 27 columns]\n"
     ]
    }
   ],
   "source": [
    "median_piter_price = data_piter.groupby('price').median()\n",
    "print(median_piter_price)"
   ]
  },
  {
   "cell_type": "code",
   "execution_count": 92,
   "metadata": {},
   "outputs": [
    {
     "data": {
      "text/plain": [
       "0.25    8.00\n",
       "0.50   12.00\n",
       "0.75   15.00\n",
       "1.00   29.00\n",
       "Name: citycenters_distance, dtype: float64"
      ]
     },
     "execution_count": 92,
     "metadata": {},
     "output_type": "execute_result"
    }
   ],
   "source": [
    "data_piter['citycenters_distance'].quantile([0.25,0.5,0.75,1])"
   ]
  },
  {
   "cell_type": "code",
   "execution_count": 93,
   "metadata": {},
   "outputs": [
    {
     "data": {
      "text/plain": [
       "4122"
      ]
     },
     "execution_count": 93,
     "metadata": {},
     "output_type": "execute_result"
    }
   ],
   "source": [
    "data_piter_center = data_piter.query('citycenters_distance <= 8')\n",
    "len(data_piter_center)"
   ]
  },
  {
   "cell_type": "code",
   "execution_count": 94,
   "metadata": {},
   "outputs": [
    {
     "name": "stdout",
     "output_type": "stream",
     "text": [
      "                      citycenters_distance  price_per_m2\n",
      "citycenters_distance                  1.00         -0.39\n",
      "price_per_m2                         -0.39          1.00\n"
     ]
    }
   ],
   "source": [
    "data_piter_center = data_piter.pivot_table(index = 'price', values = ['price_per_m2', 'citycenters_distance'])\n",
    "print(data_piter_center.corr())"
   ]
  },
  {
   "cell_type": "code",
   "execution_count": 95,
   "metadata": {},
   "outputs": [
    {
     "name": "stdout",
     "output_type": "stream",
     "text": [
      "                          total_images  price  total_area  rooms  \\\n",
      "total_images                      1.00   0.10        0.10   0.08   \n",
      "price                             0.10   1.00        0.66   0.37   \n",
      "total_area                        0.10   0.66        1.00   0.76   \n",
      "rooms                             0.08   0.37        0.76   1.00   \n",
      "ceiling_height                    0.00   0.07        0.09   0.06   \n",
      "floors_total                      0.02  -0.06       -0.11  -0.26   \n",
      "living_area                       0.09   0.57        0.94   0.84   \n",
      "floor                             0.04  -0.00       -0.04  -0.16   \n",
      "apartment                         0.00   0.02        0.02  -0.01   \n",
      "studio                           -0.02  -0.03       -0.06  -0.14   \n",
      "open_plan                        -0.01  -0.00       -0.02  -0.07   \n",
      "kitchen_area                      0.10   0.52        0.62   0.29   \n",
      "balcony                           0.06   0.01       -0.01  -0.04   \n",
      "airports_nearest                  0.01  -0.01       -0.02  -0.05   \n",
      "citycenters_nearest              -0.01  -0.26       -0.34  -0.29   \n",
      "parks_around_3km                  0.02   0.16        0.18   0.15   \n",
      "parks_nearest                    -0.02  -0.02       -0.03  -0.07   \n",
      "ponds_around_3km                 -0.01   0.17        0.18   0.10   \n",
      "ponds_nearest                    -0.01  -0.09       -0.11  -0.07   \n",
      "days_exposition                  -0.06   0.06        0.11   0.09   \n",
      "airports_distance                 0.01  -0.01       -0.02  -0.05   \n",
      "citycenters_distance             -0.00  -0.26       -0.34  -0.29   \n",
      "parks_distance                   -0.02  -0.02       -0.03  -0.07   \n",
      "ponds_distance                   -0.01  -0.09       -0.11  -0.07   \n",
      "year                              0.15  -0.04       -0.09  -0.06   \n",
      "price_per_m2                      0.12   0.76        0.29   0.04   \n",
      "ratio_total_living_area          -0.01   0.00        0.14   0.47   \n",
      "ratio_total_kitchen_area         -0.02  -0.10       -0.31  -0.58   \n",
      "\n",
      "                          ceiling_height  floors_total  living_area  floor  \\\n",
      "total_images                        0.00          0.02         0.09   0.04   \n",
      "price                               0.07         -0.06         0.57  -0.00   \n",
      "total_area                          0.09         -0.11         0.94  -0.04   \n",
      "rooms                               0.06         -0.26         0.84  -0.16   \n",
      "ceiling_height                      1.00         -0.04         0.08  -0.02   \n",
      "floors_total                       -0.04          1.00        -0.20   0.65   \n",
      "living_area                         0.08         -0.20         1.00  -0.11   \n",
      "floor                              -0.02          0.65        -0.11   1.00   \n",
      "apartment                           0.16         -0.03         0.02  -0.01   \n",
      "studio                              0.00          0.06        -0.05   0.03   \n",
      "open_plan                          -0.00          0.04        -0.03   0.04   \n",
      "kitchen_area                        0.07          0.11         0.45   0.10   \n",
      "balcony                             0.03          0.21        -0.03   0.19   \n",
      "airports_nearest                   -0.02          0.11        -0.05   0.07   \n",
      "citycenters_nearest                -0.11          0.36        -0.35   0.23   \n",
      "parks_around_3km                    0.06         -0.25         0.19  -0.15   \n",
      "parks_nearest                      -0.02          0.08        -0.06   0.07   \n",
      "ponds_around_3km                    0.07         -0.10         0.16  -0.06   \n",
      "ponds_nearest                      -0.05          0.02        -0.09   0.02   \n",
      "days_exposition                     0.01         -0.03         0.11  -0.02   \n",
      "airports_distance                  -0.02          0.11        -0.05   0.07   \n",
      "citycenters_distance               -0.11          0.36        -0.35   0.23   \n",
      "parks_distance                     -0.02          0.08        -0.06   0.07   \n",
      "ponds_distance                     -0.05          0.02        -0.09   0.02   \n",
      "year                               -0.00          0.02        -0.08   0.01   \n",
      "price_per_m2                        0.11          0.01         0.22   0.05   \n",
      "ratio_total_living_area             0.01         -0.38         0.41  -0.26   \n",
      "ratio_total_kitchen_area            0.01          0.33        -0.47   0.22   \n",
      "\n",
      "                          apartment  studio  open_plan  kitchen_area  balcony  \\\n",
      "total_images                   0.00   -0.02      -0.01          0.10     0.06   \n",
      "price                          0.02   -0.03      -0.00          0.52     0.01   \n",
      "total_area                     0.02   -0.06      -0.02          0.62    -0.01   \n",
      "rooms                         -0.01   -0.14      -0.07          0.29    -0.04   \n",
      "ceiling_height                 0.16    0.00      -0.00          0.07     0.03   \n",
      "floors_total                  -0.03    0.06       0.04          0.11     0.21   \n",
      "living_area                    0.02   -0.05      -0.03          0.45    -0.03   \n",
      "floor                         -0.01    0.03       0.04          0.10     0.19   \n",
      "apartment                      1.00   -0.00      -0.00          0.05     0.03   \n",
      "studio                        -0.00    1.00      -0.00           nan     0.03   \n",
      "open_plan                     -0.00   -0.00       1.00           nan     0.02   \n",
      "kitchen_area                   0.05     nan        nan          1.00     0.03   \n",
      "balcony                        0.03    0.03       0.02          0.03     1.00   \n",
      "airports_nearest               0.02   -0.02      -0.02          0.03     0.06   \n",
      "citycenters_nearest            0.01    0.02       0.01         -0.23     0.14   \n",
      "parks_around_3km               0.01   -0.03      -0.01          0.11    -0.08   \n",
      "parks_nearest                 -0.03    0.01       0.01          0.02     0.04   \n",
      "ponds_around_3km               0.02    0.00       0.01          0.18    -0.03   \n",
      "ponds_nearest                  0.01    0.00      -0.01         -0.12     0.01   \n",
      "days_exposition                0.01   -0.02      -0.02          0.09    -0.03   \n",
      "airports_distance              0.02   -0.02      -0.02          0.03     0.06   \n",
      "citycenters_distance           0.01    0.02       0.01         -0.23     0.14   \n",
      "parks_distance                -0.03    0.01       0.01          0.02     0.04   \n",
      "ponds_distance                 0.01    0.00      -0.01         -0.12     0.01   \n",
      "year                           0.01    0.01      -0.02         -0.07    -0.00   \n",
      "price_per_m2                   0.05    0.01       0.01          0.39     0.02   \n",
      "ratio_total_living_area       -0.00    0.09       0.07         -0.33    -0.07   \n",
      "ratio_total_kitchen_area       0.03     nan        nan          0.42     0.03   \n",
      "\n",
      "                          airports_nearest  citycenters_nearest  \\\n",
      "total_images                          0.01                -0.01   \n",
      "price                                -0.01                -0.26   \n",
      "total_area                           -0.02                -0.34   \n",
      "rooms                                -0.05                -0.29   \n",
      "ceiling_height                       -0.02                -0.11   \n",
      "floors_total                          0.11                 0.36   \n",
      "living_area                          -0.05                -0.35   \n",
      "floor                                 0.07                 0.23   \n",
      "apartment                             0.02                 0.01   \n",
      "studio                               -0.02                 0.02   \n",
      "open_plan                            -0.02                 0.01   \n",
      "kitchen_area                          0.03                -0.23   \n",
      "balcony                               0.06                 0.14   \n",
      "airports_nearest                      1.00                 0.17   \n",
      "citycenters_nearest                   0.17                 1.00   \n",
      "parks_around_3km                     -0.02                -0.35   \n",
      "parks_nearest                        -0.05                 0.04   \n",
      "ponds_around_3km                     -0.10                -0.24   \n",
      "ponds_nearest                         0.06                 0.12   \n",
      "days_exposition                      -0.02                -0.11   \n",
      "airports_distance                     1.00                 0.17   \n",
      "citycenters_distance                  0.17                 1.00   \n",
      "parks_distance                       -0.05                 0.04   \n",
      "ponds_distance                        0.06                 0.12   \n",
      "year                                  0.01                 0.09   \n",
      "price_per_m2                         -0.02                -0.31   \n",
      "ratio_total_living_area              -0.09                -0.12   \n",
      "ratio_total_kitchen_area              0.05                 0.12   \n",
      "\n",
      "                          parks_around_3km  parks_nearest  ponds_around_3km  \\\n",
      "total_images                          0.02          -0.02             -0.01   \n",
      "price                                 0.16          -0.02              0.17   \n",
      "total_area                            0.18          -0.03              0.18   \n",
      "rooms                                 0.15          -0.07              0.10   \n",
      "ceiling_height                        0.06          -0.02              0.07   \n",
      "floors_total                         -0.25           0.08             -0.10   \n",
      "living_area                           0.19          -0.06              0.16   \n",
      "floor                                -0.15           0.07             -0.06   \n",
      "apartment                             0.01          -0.03              0.02   \n",
      "studio                               -0.03           0.01              0.00   \n",
      "open_plan                            -0.01           0.01              0.01   \n",
      "kitchen_area                          0.11           0.02              0.18   \n",
      "balcony                              -0.08           0.04             -0.03   \n",
      "airports_nearest                     -0.02          -0.05             -0.10   \n",
      "citycenters_nearest                  -0.35           0.04             -0.24   \n",
      "parks_around_3km                      1.00          -0.25              0.25   \n",
      "parks_nearest                        -0.25           1.00              0.11   \n",
      "ponds_around_3km                      0.25           0.11              1.00   \n",
      "ponds_nearest                        -0.16          -0.02             -0.33   \n",
      "days_exposition                       0.05           0.02              0.06   \n",
      "airports_distance                    -0.02          -0.05             -0.10   \n",
      "citycenters_distance                 -0.35           0.04             -0.25   \n",
      "parks_distance                       -0.25           1.00              0.11   \n",
      "ponds_distance                       -0.16          -0.02             -0.33   \n",
      "year                                 -0.04          -0.02             -0.04   \n",
      "price_per_m2                          0.19          -0.00              0.21   \n",
      "ratio_total_living_area               0.08          -0.10             -0.03   \n",
      "ratio_total_kitchen_area             -0.07           0.06              0.01   \n",
      "\n",
      "                          ponds_nearest  days_exposition  airports_distance  \\\n",
      "total_images                      -0.01            -0.06               0.01   \n",
      "price                             -0.09             0.06              -0.01   \n",
      "total_area                        -0.11             0.11              -0.02   \n",
      "rooms                             -0.07             0.09              -0.05   \n",
      "ceiling_height                    -0.05             0.01              -0.02   \n",
      "floors_total                       0.02            -0.03               0.11   \n",
      "living_area                       -0.09             0.11              -0.05   \n",
      "floor                              0.02            -0.02               0.07   \n",
      "apartment                          0.01             0.01               0.02   \n",
      "studio                             0.00            -0.02              -0.02   \n",
      "open_plan                         -0.01            -0.02              -0.02   \n",
      "kitchen_area                      -0.12             0.09               0.03   \n",
      "balcony                            0.01            -0.03               0.06   \n",
      "airports_nearest                   0.06            -0.02               1.00   \n",
      "citycenters_nearest                0.12            -0.11               0.17   \n",
      "parks_around_3km                  -0.16             0.05              -0.02   \n",
      "parks_nearest                     -0.02             0.02              -0.05   \n",
      "ponds_around_3km                  -0.33             0.06              -0.10   \n",
      "ponds_nearest                      1.00            -0.07               0.06   \n",
      "days_exposition                   -0.07             1.00              -0.02   \n",
      "airports_distance                  0.06            -0.02               1.00   \n",
      "citycenters_distance               0.12            -0.11               0.17   \n",
      "parks_distance                    -0.02             0.02              -0.05   \n",
      "ponds_distance                     1.00            -0.07               0.06   \n",
      "year                               0.04            -0.62               0.01   \n",
      "price_per_m2                      -0.11             0.02              -0.02   \n",
      "ratio_total_living_area            0.03            -0.01              -0.09   \n",
      "ratio_total_kitchen_area          -0.01            -0.01               0.05   \n",
      "\n",
      "                          citycenters_distance  parks_distance  \\\n",
      "total_images                             -0.00           -0.02   \n",
      "price                                    -0.26           -0.02   \n",
      "total_area                               -0.34           -0.03   \n",
      "rooms                                    -0.29           -0.07   \n",
      "ceiling_height                           -0.11           -0.02   \n",
      "floors_total                              0.36            0.08   \n",
      "living_area                              -0.35           -0.06   \n",
      "floor                                     0.23            0.07   \n",
      "apartment                                 0.01           -0.03   \n",
      "studio                                    0.02            0.01   \n",
      "open_plan                                 0.01            0.01   \n",
      "kitchen_area                             -0.23            0.02   \n",
      "balcony                                   0.14            0.04   \n",
      "airports_nearest                          0.17           -0.05   \n",
      "citycenters_nearest                       1.00            0.04   \n",
      "parks_around_3km                         -0.35           -0.25   \n",
      "parks_nearest                             0.04            1.00   \n",
      "ponds_around_3km                         -0.25            0.11   \n",
      "ponds_nearest                             0.12           -0.02   \n",
      "days_exposition                          -0.11            0.02   \n",
      "airports_distance                         0.17           -0.05   \n",
      "citycenters_distance                      1.00            0.04   \n",
      "parks_distance                            0.04            1.00   \n",
      "ponds_distance                            0.12           -0.02   \n",
      "year                                      0.09           -0.02   \n",
      "price_per_m2                             -0.31           -0.00   \n",
      "ratio_total_living_area                  -0.12           -0.10   \n",
      "ratio_total_kitchen_area                  0.12            0.06   \n",
      "\n",
      "                          ponds_distance  year  price_per_m2  \\\n",
      "total_images                       -0.01  0.15          0.12   \n",
      "price                              -0.09 -0.04          0.76   \n",
      "total_area                         -0.11 -0.09          0.29   \n",
      "rooms                              -0.07 -0.06          0.04   \n",
      "ceiling_height                     -0.05 -0.00          0.11   \n",
      "floors_total                        0.02  0.02          0.01   \n",
      "living_area                        -0.09 -0.08          0.22   \n",
      "floor                               0.02  0.01          0.05   \n",
      "apartment                           0.01  0.01          0.05   \n",
      "studio                              0.00  0.01          0.01   \n",
      "open_plan                          -0.01 -0.02          0.01   \n",
      "kitchen_area                       -0.12 -0.07          0.39   \n",
      "balcony                             0.01 -0.00          0.02   \n",
      "airports_nearest                    0.06  0.01         -0.02   \n",
      "citycenters_nearest                 0.12  0.09         -0.31   \n",
      "parks_around_3km                   -0.16 -0.04          0.19   \n",
      "parks_nearest                      -0.02 -0.02         -0.00   \n",
      "ponds_around_3km                   -0.33 -0.04          0.21   \n",
      "ponds_nearest                       1.00  0.04         -0.11   \n",
      "days_exposition                    -0.07 -0.62          0.02   \n",
      "airports_distance                   0.06  0.01         -0.02   \n",
      "citycenters_distance                0.12  0.09         -0.31   \n",
      "parks_distance                     -0.02 -0.02         -0.00   \n",
      "ponds_distance                      1.00  0.04         -0.11   \n",
      "year                                0.04  1.00          0.02   \n",
      "price_per_m2                       -0.11  0.02          1.00   \n",
      "ratio_total_living_area             0.03  0.01         -0.15   \n",
      "ratio_total_kitchen_area           -0.01  0.02          0.16   \n",
      "\n",
      "                          ratio_total_living_area  ratio_total_kitchen_area  \n",
      "total_images                                -0.01                     -0.02  \n",
      "price                                        0.00                     -0.10  \n",
      "total_area                                   0.14                     -0.31  \n",
      "rooms                                        0.47                     -0.58  \n",
      "ceiling_height                               0.01                      0.01  \n",
      "floors_total                                -0.38                      0.33  \n",
      "living_area                                  0.41                     -0.47  \n",
      "floor                                       -0.26                      0.22  \n",
      "apartment                                   -0.00                      0.03  \n",
      "studio                                       0.09                       nan  \n",
      "open_plan                                    0.07                       nan  \n",
      "kitchen_area                                -0.33                      0.42  \n",
      "balcony                                     -0.07                      0.03  \n",
      "airports_nearest                            -0.09                      0.05  \n",
      "citycenters_nearest                         -0.12                      0.12  \n",
      "parks_around_3km                             0.08                     -0.07  \n",
      "parks_nearest                               -0.10                      0.06  \n",
      "ponds_around_3km                            -0.03                      0.01  \n",
      "ponds_nearest                                0.03                     -0.01  \n",
      "days_exposition                             -0.01                     -0.01  \n",
      "airports_distance                           -0.09                      0.05  \n",
      "citycenters_distance                        -0.12                      0.12  \n",
      "parks_distance                              -0.10                      0.06  \n",
      "ponds_distance                               0.03                     -0.01  \n",
      "year                                         0.01                      0.02  \n",
      "price_per_m2                                -0.15                      0.16  \n",
      "ratio_total_living_area                      1.00                     -0.71  \n",
      "ratio_total_kitchen_area                    -0.71                      1.00  \n"
     ]
    }
   ],
   "source": [
    "data_piter_corr = data.pivot_table(index = 'price', values = ['price_per_m2', 'citycenters_distance'])\n",
    "print(data_piter.corr())"
   ]
  },
  {
   "cell_type": "code",
   "execution_count": 96,
   "metadata": {},
   "outputs": [
    {
     "data": {
      "text/plain": [
       "<matplotlib.axes._subplots.AxesSubplot at 0x7fd6db750290>"
      ]
     },
     "execution_count": 96,
     "metadata": {},
     "output_type": "execute_result"
    },
    {
     "data": {
      "image/png": "[encoded data removed]",
      "text/plain": [
       "<Figure size 864x360 with 1 Axes>"
      ]
     },
     "metadata": {
      "needs_background": "light"
     },
     "output_type": "display_data"
    }
   ],
   "source": [
    "#перестроить гистограмму? \n",
    "data_piter_corr.plot(x='price_per_m2', y='citycenters_distance', figsize=(12, 5), grid=True)"
   ]
  },
  {
   "cell_type": "markdown",
   "metadata": {},
   "source": [
    "Как мы видим по таблицам и гистограмме, чем дальше от центра, тем квартиры дешевле."
   ]
  },
  {
   "cell_type": "markdown",
   "metadata": {},
   "source": [
    "### Выделим сегмент квартир в центре. Проанализируйте эту территорию и изучите следующие параметры: \n",
    "- площадь\n",
    "- цена \n",
    "- число комнат\n",
    "- высота потолков\n",
    "\n",
    "Также выделим факторы, которые влияют на стоимость квартиры (число комнат, этаж, удалённость от центра, дата размещения объявления). Сделайте выводы. Отличаются ли они от общих выводов по всему городу?"
   ]
  },
  {
   "cell_type": "markdown",
   "metadata": {},
   "source": [
    "В предыдущем задании, мы уже обозначили центр <= 8 км, а также узнали сколько объявлений с квартирами в центре (4122). Приступаем к построению графиков: "
   ]
  },
  {
   "cell_type": "code",
   "execution_count": 97,
   "metadata": {},
   "outputs": [
    {
     "name": "stdout",
     "output_type": "stream",
     "text": [
      "           price  total_area  rooms  ceiling_height  floor  days_exposition  \\\n",
      "0  13,000,000.00      108.00      3            2.70      8            -1.00   \n",
      "2   5,196,000.00       56.00      2            2.65      4           558.00   \n",
      "3  64,900,000.00      159.00      3            2.65      9           424.00   \n",
      "4  10,000,000.00      100.00      2            3.03     13           121.00   \n",
      "7   7,915,000.00       71.60      2            2.65     22            -1.00   \n",
      "9   5,400,000.00       61.00      3            2.50      7           289.00   \n",
      "10  5,050,000.00       39.60      1            2.67      3           137.00   \n",
      "15  4,650,000.00       39.00      1            2.65      5            19.00   \n",
      "16  6,700,000.00       82.00      3            3.05      1           397.00   \n",
      "17  4,180,000.00       36.00      1            2.65      7           571.00   \n",
      "\n",
      "    citycenters_distance  \n",
      "0                  16.00  \n",
      "2                  14.00  \n",
      "3                   7.00  \n",
      "4                   8.00  \n",
      "7                  12.00  \n",
      "9                  15.00  \n",
      "10                 14.00  \n",
      "15                 14.00  \n",
      "16                 11.00  \n",
      "17                 15.00  \n"
     ]
    }
   ],
   "source": [
    "center_piter = data_piter[['price',\n",
    "                   'total_area',\n",
    "                   'rooms',\n",
    "                   'ceiling_height',\n",
    "                   'floor',\n",
    "                   'days_exposition',\n",
    "                   'citycenters_distance']]\n",
    "\n",
    "print(center_piter.head(10))"
   ]
  },
  {
   "cell_type": "code",
   "execution_count": 98,
   "metadata": {},
   "outputs": [
    {
     "data": {
      "text/plain": [
       "<matplotlib.axes._subplots.AxesSubplot at 0x7fd6db733090>"
      ]
     },
     "execution_count": 98,
     "metadata": {},
     "output_type": "execute_result"
    },
    {
     "data": {
      "image/png": "[encoded data removed]",
      "text/plain": [
       "<Figure size 432x288 with 1 Axes>"
      ]
     },
     "metadata": {
      "needs_background": "light"
     },
     "output_type": "display_data"
    }
   ],
   "source": [
    "center_piter['price'].plot()"
   ]
  },
  {
   "cell_type": "code",
   "execution_count": 99,
   "metadata": {},
   "outputs": [
    {
     "data": {
      "text/plain": [
       "<matplotlib.axes._subplots.AxesSubplot at 0x7fd6db643d90>"
      ]
     },
     "execution_count": 99,
     "metadata": {},
     "output_type": "execute_result"
    },
    {
     "data": {
      "image/png": "[encoded data removed]",
      "text/plain": [
       "<Figure size 432x288 with 1 Axes>"
      ]
     },
     "metadata": {
      "needs_background": "light"
     },
     "output_type": "display_data"
    }
   ],
   "source": [
    "center_piter['total_area'].hist()"
   ]
  },
  {
   "cell_type": "code",
   "execution_count": 100,
   "metadata": {},
   "outputs": [
    {
     "data": {
      "text/plain": [
       "<matplotlib.axes._subplots.AxesSubplot at 0x7fd6db92b810>"
      ]
     },
     "execution_count": 100,
     "metadata": {},
     "output_type": "execute_result"
    },
    {
     "data": {
      "image/png": "[encoded data removed]",
      "text/plain": [
       "<Figure size 432x288 with 1 Axes>"
      ]
     },
     "metadata": {
      "needs_background": "light"
     },
     "output_type": "display_data"
    }
   ],
   "source": [
    "center_piter['rooms'].hist()"
   ]
  },
  {
   "cell_type": "code",
   "execution_count": 101,
   "metadata": {},
   "outputs": [
    {
     "data": {
      "text/plain": [
       "<matplotlib.axes._subplots.AxesSubplot at 0x7fd6db952790>"
      ]
     },
     "execution_count": 101,
     "metadata": {},
     "output_type": "execute_result"
    },
    {
     "data": {
      "image/png": "[encoded data removed]",
      "text/plain": [
       "<Figure size 432x288 with 1 Axes>"
      ]
     },
     "metadata": {
      "needs_background": "light"
     },
     "output_type": "display_data"
    }
   ],
   "source": [
    "center_piter['ceiling_height'].hist(bins=50, range= (0, 10))"
   ]
  },
  {
   "cell_type": "code",
   "execution_count": 102,
   "metadata": {},
   "outputs": [
    {
     "name": "stdout",
     "output_type": "stream",
     "text": [
      "       price  rooms\n",
      "price   1.00   0.36\n",
      "rooms   0.36   1.00\n"
     ]
    }
   ],
   "source": [
    "#Зависимость стоимости квартиры от количества комнат\n",
    "data_price_rooms = data.pivot_table(index = 'price_per_m2', values = ['price', 'rooms'])\n",
    "print(data_price_rooms.corr())"
   ]
  },
  {
   "cell_type": "code",
   "execution_count": 103,
   "metadata": {},
   "outputs": [
    {
     "name": "stdout",
     "output_type": "stream",
     "text": [
      "       price  rooms\n",
      "price   1.00   0.33\n",
      "rooms   0.33   1.00\n"
     ]
    }
   ],
   "source": [
    "#Зависимость стоимости квартиры от количества комнат ПИТЕР\n",
    "rooms_center_piter = center_piter.pivot_table(index = 'floor', values = ['price', 'rooms'])\n",
    "print(rooms_center_piter.corr())"
   ]
  },
  {
   "cell_type": "code",
   "execution_count": 104,
   "metadata": {},
   "outputs": [
    {
     "name": "stdout",
     "output_type": "stream",
     "text": [
      "       floor  price\n",
      "floor   1.00   0.03\n",
      "price   0.03   1.00\n"
     ]
    }
   ],
   "source": [
    "#Зависимость стоимости квартиры от этажа\n",
    "data_price_floor = data.pivot_table(index = 'price_per_m2', values = ['price', 'floor'])\n",
    "print(data_price_floor.corr())"
   ]
  },
  {
   "cell_type": "code",
   "execution_count": 105,
   "metadata": {},
   "outputs": [
    {
     "name": "stdout",
     "output_type": "stream",
     "text": [
      "       floor  price\n",
      "floor   1.00   0.90\n",
      "price   0.90   1.00\n"
     ]
    }
   ],
   "source": [
    "#Зависимость стоимости квартиры от этажа ПИТЕР\n",
    "floor_center_piter = center_piter.pivot_table(index = 'rooms', values = ['price', 'floor'])\n",
    "print(floor_center_piter.corr())"
   ]
  },
  {
   "cell_type": "code",
   "execution_count": 106,
   "metadata": {},
   "outputs": [
    {
     "name": "stdout",
     "output_type": "stream",
     "text": [
      "                      citycenters_distance  price\n",
      "citycenters_distance                  1.00  -0.22\n",
      "price                                -0.22   1.00\n"
     ]
    }
   ],
   "source": [
    "#Зависимость стоимости квартиры от удаленности от центра\n",
    "data_price_center = data.pivot_table(index = 'price_per_m2', values = ['price', 'citycenters_distance'])\n",
    "print(data_price_center.corr())"
   ]
  },
  {
   "cell_type": "code",
   "execution_count": 107,
   "metadata": {},
   "outputs": [
    {
     "name": "stdout",
     "output_type": "stream",
     "text": [
      "                      citycenters_distance  price\n",
      "citycenters_distance                  1.00  -0.06\n",
      "price                                -0.06   1.00\n"
     ]
    }
   ],
   "source": [
    "#Зависимость стоимости квартиры от удаленности от центра ПИТЕР\n",
    "km_center_piter = center_piter.pivot_table(index = 'rooms', values = ['price', 'citycenters_distance'])\n",
    "print(km_center_piter.corr())"
   ]
  },
  {
   "cell_type": "code",
   "execution_count": 108,
   "metadata": {},
   "outputs": [
    {
     "name": "stdout",
     "output_type": "stream",
     "text": [
      "                 days_exposition  price\n",
      "days_exposition             1.00   0.06\n",
      "price                       0.06   1.00\n"
     ]
    }
   ],
   "source": [
    "#Зависимость стоимости квартиры от даты размещения\n",
    "data_price_days = data.pivot_table(index = 'price_per_m2', values = ['price', 'days_exposition'])\n",
    "print(data_price_days.corr())"
   ]
  },
  {
   "cell_type": "code",
   "execution_count": 109,
   "metadata": {},
   "outputs": [
    {
     "name": "stdout",
     "output_type": "stream",
     "text": [
      "                 days_exposition  price\n",
      "days_exposition             1.00  -0.12\n",
      "price                      -0.12   1.00\n"
     ]
    }
   ],
   "source": [
    "#Зависимость стоимости квартиры от даты размещения ПИТЕР\n",
    "days_center_piter = center_piter.pivot_table(index = 'rooms', values = ['price', 'days_exposition'])\n",
    "print(days_center_piter.corr())"
   ]
  },
  {
   "cell_type": "markdown",
   "metadata": {},
   "source": [
    "Вывод по заданию: \n",
    "- зависимость цены от количества комнат существует как в пределах Санкт-Петербурга, так и в других населенных пунктах\n",
    "- В Петербурге наибольшая зависимость цены квартиры от этажа. В других населенных пунктах зависимость не значительная\n",
    "- Зависимость стоимости квартиры от центра наблюдается как в Питере, там и в других населенных пунктах. \n",
    "- Зависимость стоимости квартиры от даты размещения как в Питере, так и в других населенных пунктах незначительная."
   ]
  },
  {
   "cell_type": "markdown",
   "metadata": {},
   "source": [
    "<font color='blue'> \n",
    "### <u>КОММЕНТАРИЙ РЕВЬЮЕРА</u>\n",
    "</font>\n",
    "<font color='green'>\n",
    "С выводами - ОК<br>\n",
    "надо учесть только то, что говорил про корреляцию и проверку гипотез....\n",
    "    \n",
    "<br>\n",
    "</font>"
   ]
  },
  {
   "cell_type": "markdown",
   "metadata": {},
   "source": [
    "### Шаг 5. Общий вывод"
   ]
  },
  {
   "cell_type": "markdown",
   "metadata": {},
   "source": [
    "### Результаты исследования показали: \n",
    "В Санкт-Петербурге: \n",
    "1. Существует зависимость стоимости квартиры от количества комнат\n",
    "2. Наблюдается зависимость между стоимостью квартир от этажа, на котором эта квартира находится. Наименьшая стоимость квартир на первом этаже. \n",
    "\n",
    "В других населенных пунктах: \n",
    "1. Также существует зависимость стоимости квартиры от количества комнат\n",
    "2. Наблюдаем также зависимость стоимости квартиры от центра\n",
    "\n",
    "Пик сделок по проадажам квартир мы наблюдаем в первую неделю размещения объявления, основная активность продаж происходит в первые 50-60 дней.\n",
    "Продажи квартир лучше всего происходят в апреле, хуже всего в мае-июне. В 2014 году мы наблюдаем всплеск роста цен на квартиры. \n",
    "\n",
    "### Рекомендации поиспользованию данного анализа: \n",
    "1. Обратить внимание на заполнение данных клиентом (огромное количество пропусков), возможно программе стоит обращать внимание на пропуски в важных пунктах (этаж, количество балконов, метраж квартиры) и оповещать пользователя. \n",
    "2. Не загружать пользователя вопросами по удаленности квартиры до парков, прудов, человек может элементарно этого не знать (и как мы видим, скорее всего, не знает), из-за чего возникает большое количество пропусков. \n",
    "3. Расстояние удобнее изначально считать в киллометрах. "
   ]
  },
  {
   "cell_type": "markdown",
   "metadata": {},
   "source": [
    "<font color='blue'> \n",
    "### <u>КОММЕНТАРИЙ РЕВЬЮЕРА</u>\n",
    "</font>\n",
    "<font color='green'>\n",
    "Хорошая точка в конце книги:) <br>\n",
    "Вы сделали гораздо больше работы, чем описали в конце)<br>\n",
    "Не надо стесняться своего труда, презентуйте результат смелее:))<br>\n",
    "Любому заказчику это надо - увидеть смелые, уверенные и объёмные выводы\n",
    "    \n",
    "По предложениям:<br>\n",
    "1.)да, что-то не так с этим полем<br>\n",
    "2.)это поле заполняется автоматом уже, просто сбои программно<br>\n",
    "<br>\n",
    "</font>"
   ]
  },
  {
   "cell_type": "markdown",
   "metadata": {},
   "source": [
    "<font color='blue'> \n",
    "### <u>КОММЕНТАРИЙ РЕВЬЮЕРА</u>\n",
    "</font>\n",
    "<font color='green'>\n",
    "Мария, интереную Вы работу провели.<br><br>\n",
    "Думаю, что и Вам понравилось вскрывать шаг за шагом данные)<br>\n",
    "На мой взгляд, навыки которые Вы закрепляете с этой работой, наиважнейшие для дальнейших модельных дел<br>\n",
    "Предобработка данных, чистка, проверка предположений, графика - архиважно<br>\n",
    "И у Вас много уже того, как должно быть.<br>\n",
    "\n",
    "Обратите, пожалуйста, внимание, что выделено цветом в теле проекта.<br>\n",
    "Будет очень важным скорректировать знания в этих моментах<br>\n",
    "Т.к., надеюсь смог это донести, коммерческие выводы очень сильно зависят от:<br>\n",
    "1)сделанных предпосылок!<br>\n",
    "2)правильно выбранных методов исследования!<br>\n",
    "<br>\n",
    "\n",
    "Конечно же много чего можно улучшать и корректировать по коду по самим вычислениям...<br>\n",
    "Но не думаю, что это есть предмет обсуждения более важный,<br>\n",
    "чем умение ставить аналитическую задачу и воплощать её в конечном решении<br>\n",
    "А этот навык Вы смогли показать в этой работе<br>\n",
    "Остальное, уверен, будете набирать  каждым блоком обучения<br>\n",
    "(Ещё раз обращаю внимание на жёлтые комментарии):)\n",
    " <br>\n",
    "    \n",
    "УСПЕХОВ ВАМ В ДАЛЬНЕМ ОБУЧЕНИИ!!!!\n",
    "  \n",
    "<br>\n",
    "</font>"
   ]
  },
  {
   "cell_type": "markdown",
   "metadata": {},
   "source": [
    "### Чек-лист готовности проекта\n",
    "\n",
    "Поставьте 'x' в выполненных пунктах. Далее нажмите Shift+Enter."
   ]
  },
  {
   "cell_type": "markdown",
   "metadata": {},
   "source": [
    "- [x]  открыт файл\n",
    "- [x]  файлы изучены (выведены первые строки, метод info())\n",
    "- [x]  определены пропущенные значения\n",
    "- [x]  заполнены пропущенные значения\n",
    "- [x]  есть пояснение, какие пропущенные значения обнаружены\n",
    "- [x]  изменены типы данных\n",
    "- [x]  есть пояснение, в каких столбцах изменены типы и почему\n",
    "- [x]  посчитано и добавлено в таблицу: цена квадратного метра\n",
    "- [x]  посчитано и добавлено в таблицу: день недели, месяц и год публикации объявления\n",
    "- [x]  посчитано и добавлено в таблицу: этаж квартиры; варианты — первый, последний, другой\n",
    "- [x]  посчитано и добавлено в таблицу: соотношение жилой и общей площади, а также отношение площади кухни к общей\n",
    "- [x]  изучены следующие параметры: площадь, цена, число комнат, высота потолков\n",
    "- [x]  построены гистограммы для каждого параметра\n",
    "- [x]  выполнено задание: \"Изучите время продажи квартиры. Постройте гистограмму. Посчитайте среднее и медиану. Опишите, сколько обычно занимает продажа. Когда можно считать, что продажи прошли очень быстро, а когда необычно долго?\"\n",
    "- [x]  выполнено задание: \"Уберите редкие и выбивающиеся значения. Опишите, какие особенности обнаружили.\"\n",
    "- [x]  выполнено задание: \"Какие факторы больше всего влияют на стоимость квартиры? Изучите, зависит ли цена от квадратного метра, числа комнат, этажа (первого или последнего), удалённости от центра. Также изучите зависимость от даты размещения: дня недели, месяца и года. \n",
    "- [x] \"Выберите 10 населённых пунктов с наибольшим числом объявлений. Посчитайте среднюю цену квадратного метра в этих населённых пунктах. Выделите населённые пункты с самой высокой и низкой стоимостью жилья. Эти данные можно найти по имени в столбце '*locality_name'*. \"\n",
    "- [x]  выполнено задание: \"Изучите предложения квартир: для каждой квартиры есть информация о расстоянии до центра. Выделите квартиры в Санкт-Петербурге (*'locality_name'*). Ваша задача — выяснить, какая область входит в центр. Создайте столбец с расстоянием до центра в километрах: округлите до целых значений. После этого посчитайте среднюю цену для каждого километра. Постройте график: он должен показывать, как цена зависит от удалённости от центра. Определите границу, где график сильно меняется — это и будет центральная зона. \"\n",
    "- [x]  выполнено задание: \"Выделите сегмент квартир в центре. Проанализируйте эту территорию и изучите следующие параметры: площадь, цена, число комнат, высота потолков. Также выделите факторы, которые влияют на стоимость квартиры (число комнат, этаж, удалённость от центра, дата размещения объявления). Сделайте выводы. Отличаются ли они от общих выводов по всему городу?\"\n",
    "- [x]  в каждом этапе есть выводы\n",
    "- [x]  есть общий вывод"
   ]
  },
  {
   "cell_type": "code",
   "execution_count": null,
   "metadata": {},
   "outputs": [],
   "source": []
  }
 ],
 "metadata": {
  "kernelspec": {
   "display_name": "Python 3",
   "language": "python",
   "name": "python3"
  },
  "language_info": {
   "codemirror_mode": {
    "name": "ipython",
    "version": 3
   },
   "file_extension": ".py",
   "mimetype": "text/x-python",
   "name": "python",
   "nbconvert_exporter": "python",
   "pygments_lexer": "ipython3",
   "version": "3.7.6"
  }
 },
 "nbformat": 4,
 "nbformat_minor": 2
}
