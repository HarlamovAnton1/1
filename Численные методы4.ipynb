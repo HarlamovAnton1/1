{
 "cells": [
  {
   "cell_type": "markdown",
   "metadata": {},
   "source": [
    "<font color='blue'> \n",
    "### <u>КОММЕНТАРИЙ РЕВЬЮЕРА</u>\n",
    "</font>\n",
    "\n",
    "<font color='blue'>\n",
    "<br />\n",
    "Мария, доброго дня! рад приветствовать тебя вновь! <br />\n",
    "<br />    \n",
    "\n",
    "<br />\n",
    "Меня зовут Николай Шавлюго. <br />И на этом этапе твоего движения к новой профессии от меня будут комментарии по написанному коду. <br />Чтобы меньше \"мусорить эфир\" и чтобы максимально наглядно отделяться от основного кода, есть предложение условиться в некоторых обозначениях:<br /> <br />\n",
    "<u><b>ТАКОЙ ШРИФТ</b></u> - всегда начало комментария <br />\n",
    "<font color='green'>такой шрифт</font> - комментарии о том, что всё ОК <br/>\n",
    "<font color='orange'>такой шрифт</font> - комментарии о том, что всё ОК по результату,<br> однако есть на что обратить внимание в плане применения техник, или есть способы сделать более короткий или быстрый код <br/>\n",
    "<font color='red'>такой шрифт</font> - комментарии о том, что есть критичный момент, влияющий на бизнес-результат проекта.<br/>\n",
    "</font><br /><br />\n",
    "<font color='green'>Моей целью является не \"уличить\" в не знании, а просто высказать сверху твоих знаний - свой опыт, что бы ты мог использовать его для своего дальнейшего успеха) И очень здорово будет, если тебе удастся задавать вопросы. Да и вообще - всячески доставать меня:) При этом, из своего опыта скажу, хорошо и важно, когда переписка ревьюера и студента - сохраняется на следующие проекты и даже на будущую практическую деятельность.<br>\n",
    "<br> Я сразу же начал общаться на ты:) но если это не очень удобно, то дай знать)) <BR> В ПУТЬ!<br>\n",
    "    \n",
    "    \n",
    "<font color='black'>\n",
    "Николай, привет! На \"ты\" просто отлично =) \n",
    "Я подправила некоторые твои замечания, но у меня возник вопрос, задала его в конце проекта =) Заранее спасибо за ответ! "
   ]
  },
  {
   "cell_type": "markdown",
   "metadata": {},
   "source": [
    "Сервис по продаже автомобилей с пробегом «Не бит, не крашен» разрабатывает приложение для привлечения новых клиентов. В нём можно быстро узнать рыночную стоимость своего автомобиля. В вашем распоряжении исторические данные: технические характеристики, комплектации и цены автомобилей. Вам нужно построить модель для определения стоимости. \n",
    "\n",
    "Заказчику важны:\n",
    "\n",
    "- качество предсказания;\n",
    "- скорость предсказания;\n",
    "- время обучения."
   ]
  },
  {
   "cell_type": "markdown",
   "metadata": {},
   "source": [
    "### Инструкция по выполнению проекта\n",
    "\n",
    "#### 1. Загрузите и подготовьте данные.\n",
    "#### 2. Обучите разные модели с различными гиперпараметрами.\n",
    "#### 3. Проанализируйте скорость работы и качество моделей.\n",
    "\n",
    "##### Примечания:\n",
    "- Для оценки качества моделей применяйте метрику RMSE.\n",
    "- Самостоятельно освойте библиотеку LightGBM и её средствами постройте модели градиентного бустинга.\n",
    "- Время выполнения ячейки кода Jupyter Notebook можно получить специальной командой. Найдите её.\n",
    "- Поскольку модель градиентного бустинга может обучаться долго, измените у неё только два-три параметра.\n",
    "- Если перестанет работать Jupyter Notebook, удалите лишние переменные оператором del:\n",
    "\n",
    "Скопировать код:\n",
    "del features_train"
   ]
  },
  {
   "cell_type": "markdown",
   "metadata": {},
   "source": [
    "# 1. Подготовка данных"
   ]
  },
  {
   "cell_type": "markdown",
   "metadata": {},
   "source": [
    "#### Ознакомимся с данными:"
   ]
  },
  {
   "cell_type": "code",
   "execution_count": 1,
   "metadata": {},
   "outputs": [],
   "source": [
    "import numpy as np\n",
    "import pandas as pd\n",
    "import seaborn as sns\n",
    "import matplotlib.pyplot as plt\n",
    "import os\n",
    "import time\n",
    "from sklearn.metrics import r2_score\n",
    "from sklearn.linear_model import LinearRegression\n",
    "from sklearn.metrics import mean_squared_error\n",
    "import catboost as cb\n",
    "import xgboost as xgb\n",
    "import lightgbm as lgb\n",
    "from sklearn.base import BaseEstimator, TransformerMixin\n",
    "from sklearn.model_selection import train_test_split, GridSearchCV, KFold\n",
    "from lightgbm import LGBMRegressor\n",
    "import lightgbm as lgb\n",
    "from sklearn.pipeline import Pipeline\n",
    "from sklearn.metrics import mean_squared_error as mse\n",
    "from sklearn.preprocessing import OneHotEncoder, StandardScaler, LabelEncoder\n",
    "from sklearn.base import BaseEstimator\n",
    "from sklearn.linear_model import Lasso, Ridge\n",
    "from matplotlib import pyplot as plt\n",
    "from catboost import CatBoostRegressor, Pool\n",
    "from lightgbm import LGBMRegressor\n",
    "import lightgbm as lgb\n",
    "from sklearn.datasets import load_boston\n",
    "from sklearn.feature_selection import f_regression\n",
    "from sklearn.feature_selection import SelectKBest\n",
    "\n",
    "\n",
    "rnd_state = 12345\n",
    "data  = pd.read_csv('/datasets/autos.csv')"
   ]
  },
  {
   "cell_type": "code",
   "execution_count": 2,
   "metadata": {},
   "outputs": [
    {
     "data": {
      "text/html": [
       "<div>\n",
       "<style scoped>\n",
       "    .dataframe tbody tr th:only-of-type {\n",
       "        vertical-align: middle;\n",
       "    }\n",
       "\n",
       "    .dataframe tbody tr th {\n",
       "        vertical-align: top;\n",
       "    }\n",
       "\n",
       "    .dataframe thead th {\n",
       "        text-align: right;\n",
       "    }\n",
       "</style>\n",
       "<table border=\"1\" class=\"dataframe\">\n",
       "  <thead>\n",
       "    <tr style=\"text-align: right;\">\n",
       "      <th></th>\n",
       "      <th>DateCrawled</th>\n",
       "      <th>Price</th>\n",
       "      <th>VehicleType</th>\n",
       "      <th>RegistrationYear</th>\n",
       "      <th>Gearbox</th>\n",
       "      <th>Power</th>\n",
       "      <th>Model</th>\n",
       "      <th>Kilometer</th>\n",
       "      <th>RegistrationMonth</th>\n",
       "      <th>FuelType</th>\n",
       "      <th>Brand</th>\n",
       "      <th>NotRepaired</th>\n",
       "      <th>DateCreated</th>\n",
       "      <th>NumberOfPictures</th>\n",
       "      <th>PostalCode</th>\n",
       "      <th>LastSeen</th>\n",
       "    </tr>\n",
       "  </thead>\n",
       "  <tbody>\n",
       "    <tr>\n",
       "      <td>0</td>\n",
       "      <td>2016-03-24 11:52:17</td>\n",
       "      <td>480</td>\n",
       "      <td>NaN</td>\n",
       "      <td>1993</td>\n",
       "      <td>manual</td>\n",
       "      <td>0</td>\n",
       "      <td>golf</td>\n",
       "      <td>150000</td>\n",
       "      <td>0</td>\n",
       "      <td>petrol</td>\n",
       "      <td>volkswagen</td>\n",
       "      <td>NaN</td>\n",
       "      <td>2016-03-24 00:00:00</td>\n",
       "      <td>0</td>\n",
       "      <td>70435</td>\n",
       "      <td>2016-04-07 03:16:57</td>\n",
       "    </tr>\n",
       "    <tr>\n",
       "      <td>1</td>\n",
       "      <td>2016-03-24 10:58:45</td>\n",
       "      <td>18300</td>\n",
       "      <td>coupe</td>\n",
       "      <td>2011</td>\n",
       "      <td>manual</td>\n",
       "      <td>190</td>\n",
       "      <td>NaN</td>\n",
       "      <td>125000</td>\n",
       "      <td>5</td>\n",
       "      <td>gasoline</td>\n",
       "      <td>audi</td>\n",
       "      <td>yes</td>\n",
       "      <td>2016-03-24 00:00:00</td>\n",
       "      <td>0</td>\n",
       "      <td>66954</td>\n",
       "      <td>2016-04-07 01:46:50</td>\n",
       "    </tr>\n",
       "    <tr>\n",
       "      <td>2</td>\n",
       "      <td>2016-03-14 12:52:21</td>\n",
       "      <td>9800</td>\n",
       "      <td>suv</td>\n",
       "      <td>2004</td>\n",
       "      <td>auto</td>\n",
       "      <td>163</td>\n",
       "      <td>grand</td>\n",
       "      <td>125000</td>\n",
       "      <td>8</td>\n",
       "      <td>gasoline</td>\n",
       "      <td>jeep</td>\n",
       "      <td>NaN</td>\n",
       "      <td>2016-03-14 00:00:00</td>\n",
       "      <td>0</td>\n",
       "      <td>90480</td>\n",
       "      <td>2016-04-05 12:47:46</td>\n",
       "    </tr>\n",
       "    <tr>\n",
       "      <td>3</td>\n",
       "      <td>2016-03-17 16:54:04</td>\n",
       "      <td>1500</td>\n",
       "      <td>small</td>\n",
       "      <td>2001</td>\n",
       "      <td>manual</td>\n",
       "      <td>75</td>\n",
       "      <td>golf</td>\n",
       "      <td>150000</td>\n",
       "      <td>6</td>\n",
       "      <td>petrol</td>\n",
       "      <td>volkswagen</td>\n",
       "      <td>no</td>\n",
       "      <td>2016-03-17 00:00:00</td>\n",
       "      <td>0</td>\n",
       "      <td>91074</td>\n",
       "      <td>2016-03-17 17:40:17</td>\n",
       "    </tr>\n",
       "    <tr>\n",
       "      <td>4</td>\n",
       "      <td>2016-03-31 17:25:20</td>\n",
       "      <td>3600</td>\n",
       "      <td>small</td>\n",
       "      <td>2008</td>\n",
       "      <td>manual</td>\n",
       "      <td>69</td>\n",
       "      <td>fabia</td>\n",
       "      <td>90000</td>\n",
       "      <td>7</td>\n",
       "      <td>gasoline</td>\n",
       "      <td>skoda</td>\n",
       "      <td>no</td>\n",
       "      <td>2016-03-31 00:00:00</td>\n",
       "      <td>0</td>\n",
       "      <td>60437</td>\n",
       "      <td>2016-04-06 10:17:21</td>\n",
       "    </tr>\n",
       "  </tbody>\n",
       "</table>\n",
       "</div>"
      ],
      "text/plain": [
       "           DateCrawled  Price VehicleType  RegistrationYear Gearbox  Power  \\\n",
       "0  2016-03-24 11:52:17    480         NaN              1993  manual      0   \n",
       "1  2016-03-24 10:58:45  18300       coupe              2011  manual    190   \n",
       "2  2016-03-14 12:52:21   9800         suv              2004    auto    163   \n",
       "3  2016-03-17 16:54:04   1500       small              2001  manual     75   \n",
       "4  2016-03-31 17:25:20   3600       small              2008  manual     69   \n",
       "\n",
       "   Model  Kilometer  RegistrationMonth  FuelType       Brand NotRepaired  \\\n",
       "0   golf     150000                  0    petrol  volkswagen         NaN   \n",
       "1    NaN     125000                  5  gasoline        audi         yes   \n",
       "2  grand     125000                  8  gasoline        jeep         NaN   \n",
       "3   golf     150000                  6    petrol  volkswagen          no   \n",
       "4  fabia      90000                  7  gasoline       skoda          no   \n",
       "\n",
       "           DateCreated  NumberOfPictures  PostalCode             LastSeen  \n",
       "0  2016-03-24 00:00:00                 0       70435  2016-04-07 03:16:57  \n",
       "1  2016-03-24 00:00:00                 0       66954  2016-04-07 01:46:50  \n",
       "2  2016-03-14 00:00:00                 0       90480  2016-04-05 12:47:46  \n",
       "3  2016-03-17 00:00:00                 0       91074  2016-03-17 17:40:17  \n",
       "4  2016-03-31 00:00:00                 0       60437  2016-04-06 10:17:21  "
      ]
     },
     "execution_count": 2,
     "metadata": {},
     "output_type": "execute_result"
    }
   ],
   "source": [
    "data.head()"
   ]
  },
  {
   "cell_type": "code",
   "execution_count": 3,
   "metadata": {},
   "outputs": [
    {
     "data": {
      "text/html": [
       "<div>\n",
       "<style scoped>\n",
       "    .dataframe tbody tr th:only-of-type {\n",
       "        vertical-align: middle;\n",
       "    }\n",
       "\n",
       "    .dataframe tbody tr th {\n",
       "        vertical-align: top;\n",
       "    }\n",
       "\n",
       "    .dataframe thead th {\n",
       "        text-align: right;\n",
       "    }\n",
       "</style>\n",
       "<table border=\"1\" class=\"dataframe\">\n",
       "  <thead>\n",
       "    <tr style=\"text-align: right;\">\n",
       "      <th></th>\n",
       "      <th>Price</th>\n",
       "      <th>RegistrationYear</th>\n",
       "      <th>Power</th>\n",
       "      <th>Kilometer</th>\n",
       "      <th>RegistrationMonth</th>\n",
       "      <th>NumberOfPictures</th>\n",
       "      <th>PostalCode</th>\n",
       "    </tr>\n",
       "  </thead>\n",
       "  <tbody>\n",
       "    <tr>\n",
       "      <td>count</td>\n",
       "      <td>354369.000000</td>\n",
       "      <td>354369.000000</td>\n",
       "      <td>354369.000000</td>\n",
       "      <td>354369.000000</td>\n",
       "      <td>354369.000000</td>\n",
       "      <td>354369.0</td>\n",
       "      <td>354369.000000</td>\n",
       "    </tr>\n",
       "    <tr>\n",
       "      <td>mean</td>\n",
       "      <td>4416.656776</td>\n",
       "      <td>2004.234448</td>\n",
       "      <td>110.094337</td>\n",
       "      <td>128211.172535</td>\n",
       "      <td>5.714645</td>\n",
       "      <td>0.0</td>\n",
       "      <td>50508.689087</td>\n",
       "    </tr>\n",
       "    <tr>\n",
       "      <td>std</td>\n",
       "      <td>4514.158514</td>\n",
       "      <td>90.227958</td>\n",
       "      <td>189.850405</td>\n",
       "      <td>37905.341530</td>\n",
       "      <td>3.726421</td>\n",
       "      <td>0.0</td>\n",
       "      <td>25783.096248</td>\n",
       "    </tr>\n",
       "    <tr>\n",
       "      <td>min</td>\n",
       "      <td>0.000000</td>\n",
       "      <td>1000.000000</td>\n",
       "      <td>0.000000</td>\n",
       "      <td>5000.000000</td>\n",
       "      <td>0.000000</td>\n",
       "      <td>0.0</td>\n",
       "      <td>1067.000000</td>\n",
       "    </tr>\n",
       "    <tr>\n",
       "      <td>25%</td>\n",
       "      <td>1050.000000</td>\n",
       "      <td>1999.000000</td>\n",
       "      <td>69.000000</td>\n",
       "      <td>125000.000000</td>\n",
       "      <td>3.000000</td>\n",
       "      <td>0.0</td>\n",
       "      <td>30165.000000</td>\n",
       "    </tr>\n",
       "    <tr>\n",
       "      <td>50%</td>\n",
       "      <td>2700.000000</td>\n",
       "      <td>2003.000000</td>\n",
       "      <td>105.000000</td>\n",
       "      <td>150000.000000</td>\n",
       "      <td>6.000000</td>\n",
       "      <td>0.0</td>\n",
       "      <td>49413.000000</td>\n",
       "    </tr>\n",
       "    <tr>\n",
       "      <td>75%</td>\n",
       "      <td>6400.000000</td>\n",
       "      <td>2008.000000</td>\n",
       "      <td>143.000000</td>\n",
       "      <td>150000.000000</td>\n",
       "      <td>9.000000</td>\n",
       "      <td>0.0</td>\n",
       "      <td>71083.000000</td>\n",
       "    </tr>\n",
       "    <tr>\n",
       "      <td>max</td>\n",
       "      <td>20000.000000</td>\n",
       "      <td>9999.000000</td>\n",
       "      <td>20000.000000</td>\n",
       "      <td>150000.000000</td>\n",
       "      <td>12.000000</td>\n",
       "      <td>0.0</td>\n",
       "      <td>99998.000000</td>\n",
       "    </tr>\n",
       "  </tbody>\n",
       "</table>\n",
       "</div>"
      ],
      "text/plain": [
       "               Price  RegistrationYear          Power      Kilometer  \\\n",
       "count  354369.000000     354369.000000  354369.000000  354369.000000   \n",
       "mean     4416.656776       2004.234448     110.094337  128211.172535   \n",
       "std      4514.158514         90.227958     189.850405   37905.341530   \n",
       "min         0.000000       1000.000000       0.000000    5000.000000   \n",
       "25%      1050.000000       1999.000000      69.000000  125000.000000   \n",
       "50%      2700.000000       2003.000000     105.000000  150000.000000   \n",
       "75%      6400.000000       2008.000000     143.000000  150000.000000   \n",
       "max     20000.000000       9999.000000   20000.000000  150000.000000   \n",
       "\n",
       "       RegistrationMonth  NumberOfPictures     PostalCode  \n",
       "count      354369.000000          354369.0  354369.000000  \n",
       "mean            5.714645               0.0   50508.689087  \n",
       "std             3.726421               0.0   25783.096248  \n",
       "min             0.000000               0.0    1067.000000  \n",
       "25%             3.000000               0.0   30165.000000  \n",
       "50%             6.000000               0.0   49413.000000  \n",
       "75%             9.000000               0.0   71083.000000  \n",
       "max            12.000000               0.0   99998.000000  "
      ]
     },
     "execution_count": 3,
     "metadata": {},
     "output_type": "execute_result"
    }
   ],
   "source": [
    "data.describe()"
   ]
  },
  {
   "cell_type": "code",
   "execution_count": 4,
   "metadata": {},
   "outputs": [
    {
     "data": {
      "text/plain": [
       "(354369, 16)"
      ]
     },
     "execution_count": 4,
     "metadata": {},
     "output_type": "execute_result"
    }
   ],
   "source": [
    "data.shape"
   ]
  },
  {
   "cell_type": "markdown",
   "metadata": {},
   "source": [
    "<font color='blue'><u><b>КОММЕНТАРИЙ РЕВЬЮЕРА</b></u></font><br />\n",
    "<font color='green'>\n",
    "данные на базе)"
   ]
  },
  {
   "cell_type": "markdown",
   "metadata": {},
   "source": [
    "#### Подготовим данные для дальнейшего анализа: \n",
    "\n",
    "- Проверка числовых признаков на наличие аномалий\n",
    "- Проверка данных на наличие дубликатов и пропусков\n",
    "- Удаление дубликатов и обработка пропусков\n",
    "- Удаление ненужных данных для дальнейшего анализа"
   ]
  },
  {
   "cell_type": "markdown",
   "metadata": {},
   "source": [
    "##### Проверка числовых признаков на наличие аномалий"
   ]
  },
  {
   "cell_type": "code",
   "execution_count": 5,
   "metadata": {},
   "outputs": [],
   "source": [
    "columns_numeric = ['Price', 'RegistrationYear', 'Power', 'Kilometer']\n",
    "\n",
    "def numeric(data, columns_numeric):\n",
    "    fig, axes = plt.subplots(2, 2, figsize=(12, 12))\n",
    "    for column, ax in zip(columns_numeric, axes.ravel()):\n",
    "        ax.set_title(column)\n",
    "        sns.distplot(data[column], ax=ax)\n",
    "    \n",
    "    fig, axes = plt.subplots(2, 2, figsize=(12, 12))\n",
    "    for column, ax in zip(columns_numeric, axes.ravel()):\n",
    "        ax.set_title(column)\n",
    "        sns.boxplot(data[column], ax=ax)"
   ]
  },
  {
   "cell_type": "code",
   "execution_count": 6,
   "metadata": {},
   "outputs": [
    {
     "data": {
      "image/png": "[encoded data removed]",
      "text/plain": [
       "<Figure size 864x864 with 4 Axes>"
      ]
     },
     "metadata": {
      "needs_background": "light"
     },
     "output_type": "display_data"
    },
    {
     "data": {
      "image/png": "[encoded data removed]",
      "text/plain": [
       "<Figure size 864x864 with 4 Axes>"
      ]
     },
     "metadata": {
      "needs_background": "light"
     },
     "output_type": "display_data"
    }
   ],
   "source": [
    "numeric(data, columns_numeric)"
   ]
  },
  {
   "cell_type": "markdown",
   "metadata": {},
   "source": [
    "- Нули в стоимости - это мы отделим от датасета и будем использовать как тестовые данные\n",
    "- Не корректное указание года выпуска модели - исправим медианным по модели\n",
    "- Не корректное указание мощности, есть огромные выбросы - заменим медианным"
   ]
  },
  {
   "cell_type": "code",
   "execution_count": 7,
   "metadata": {},
   "outputs": [],
   "source": [
    "#Price\n",
    "# Странно вылядит стоимоть машины, которая менее предположим 200 евро\n",
    "# занулим ее и будем использовать часть датасета с нулевыми значениями как тестовый\n",
    "data.loc[data['Price']<=200, 'Price'] = 0"
   ]
  },
  {
   "cell_type": "code",
   "execution_count": 8,
   "metadata": {},
   "outputs": [
    {
     "name": "stdout",
     "output_type": "stream",
     "text": [
      "Процент данных с ошибками по годам: 0.10%\n"
     ]
    }
   ],
   "source": [
    "#RegistrationYear\n",
    "print(\"Процент данных с ошибками по годам: {:.2%}\".format(data\n",
    "                                                          .query('RegistrationYear<1950 or RegistrationYear>2019')\n",
    "                                                          .shape[0] / data.shape[0]))"
   ]
  },
  {
   "cell_type": "code",
   "execution_count": 9,
   "metadata": {},
   "outputs": [],
   "source": [
    "#Удалим аномальные значение в столбце RegistrationYear\n",
    "data = data.loc[(data['RegistrationYear']>1950) & (data['RegistrationYear']<2020)]"
   ]
  },
  {
   "cell_type": "code",
   "execution_count": 10,
   "metadata": {},
   "outputs": [
    {
     "data": {
      "text/plain": [
       "39960"
      ]
     },
     "execution_count": 10,
     "metadata": {},
     "output_type": "execute_result"
    }
   ],
   "source": [
    "#количество автомобилей с нулевой мощностью: \n",
    "data[data['Power']==0].shape[0]"
   ]
  },
  {
   "cell_type": "code",
   "execution_count": 11,
   "metadata": {},
   "outputs": [],
   "source": [
    "#Удалим аномальные значение в столбце RegistrationYear\n",
    "data = data.loc[(data['Power']>69) & (data['Power']<20000)]"
   ]
  },
  {
   "cell_type": "code",
   "execution_count": 12,
   "metadata": {},
   "outputs": [
    {
     "data": {
      "text/plain": [
       "(262285, 16)"
      ]
     },
     "execution_count": 12,
     "metadata": {},
     "output_type": "execute_result"
    }
   ],
   "source": [
    "data.shape"
   ]
  },
  {
   "cell_type": "markdown",
   "metadata": {},
   "source": [
    "##### Посмотрим data на наличие пропусков: "
   ]
  },
  {
   "cell_type": "code",
   "execution_count": 13,
   "metadata": {},
   "outputs": [
    {
     "data": {
      "text/plain": [
       "DateCrawled              0\n",
       "Price                    0\n",
       "VehicleType          17972\n",
       "RegistrationYear         0\n",
       "Gearbox               4492\n",
       "Power                    0\n",
       "Model                10688\n",
       "Kilometer                0\n",
       "RegistrationMonth        0\n",
       "FuelType             16550\n",
       "Brand                    0\n",
       "NotRepaired          39213\n",
       "DateCreated              0\n",
       "NumberOfPictures         0\n",
       "PostalCode               0\n",
       "LastSeen                 0\n",
       "dtype: int64"
      ]
     },
     "execution_count": 13,
     "metadata": {},
     "output_type": "execute_result"
    }
   ],
   "source": [
    "data.isnull().sum()"
   ]
  },
  {
   "cell_type": "markdown",
   "metadata": {},
   "source": [
    "##### Заполним пропуски в категориальных признаках: "
   ]
  },
  {
   "cell_type": "code",
   "execution_count": 14,
   "metadata": {},
   "outputs": [],
   "source": [
    "columns_isnull = ['VehicleType', 'Gearbox', 'Model', 'FuelType', 'NotRepaired']"
   ]
  },
  {
   "cell_type": "code",
   "execution_count": 15,
   "metadata": {},
   "outputs": [],
   "source": [
    "data[columns_isnull] = data[columns_isnull].fillna('Nan')"
   ]
  },
  {
   "cell_type": "code",
   "execution_count": 16,
   "metadata": {},
   "outputs": [
    {
     "data": {
      "text/plain": [
       "DateCrawled          0\n",
       "Price                0\n",
       "VehicleType          0\n",
       "RegistrationYear     0\n",
       "Gearbox              0\n",
       "Power                0\n",
       "Model                0\n",
       "Kilometer            0\n",
       "RegistrationMonth    0\n",
       "FuelType             0\n",
       "Brand                0\n",
       "NotRepaired          0\n",
       "DateCreated          0\n",
       "NumberOfPictures     0\n",
       "PostalCode           0\n",
       "LastSeen             0\n",
       "dtype: int64"
      ]
     },
     "execution_count": 16,
     "metadata": {},
     "output_type": "execute_result"
    }
   ],
   "source": [
    "data.isnull().sum()"
   ]
  },
  {
   "cell_type": "markdown",
   "metadata": {},
   "source": [
    "##### Посмотрим data на наличие дубликатов: "
   ]
  },
  {
   "cell_type": "code",
   "execution_count": 17,
   "metadata": {},
   "outputs": [
    {
     "data": {
      "text/plain": [
       "4"
      ]
     },
     "execution_count": 17,
     "metadata": {},
     "output_type": "execute_result"
    }
   ],
   "source": [
    "data.duplicated().sum()"
   ]
  },
  {
   "cell_type": "code",
   "execution_count": 18,
   "metadata": {},
   "outputs": [],
   "source": [
    "data = data.drop_duplicates().reset_index(drop=True)"
   ]
  },
  {
   "cell_type": "code",
   "execution_count": 19,
   "metadata": {},
   "outputs": [
    {
     "data": {
      "text/plain": [
       "0"
      ]
     },
     "execution_count": 19,
     "metadata": {},
     "output_type": "execute_result"
    }
   ],
   "source": [
    "data.duplicated().sum()"
   ]
  },
  {
   "cell_type": "markdown",
   "metadata": {},
   "source": [
    "##### Удалим ненужные для дальнейшего анализа столбцы:"
   ]
  },
  {
   "cell_type": "code",
   "execution_count": 20,
   "metadata": {},
   "outputs": [],
   "source": [
    "columns_drop = ['DateCrawled', 'LastSeen', 'DateCreated', 'NumberOfPictures']\n",
    "data = data.drop(columns=columns_drop)"
   ]
  },
  {
   "cell_type": "markdown",
   "metadata": {},
   "source": [
    "<font color='blue'><u><b>КОММЕНТАРИЙ РЕВЬЮЕРА</b></u></font><br />\n",
    "<font color='green'>\n",
    "отлично. Ещё почтовый индекс сюда же можно. В данном виде - он не несёт бизнес-инфо для модели."
   ]
  },
  {
   "cell_type": "markdown",
   "metadata": {},
   "source": [
    "#### Выводы:\n",
    "\n",
    "- Представленные данные состоят из 16 признаков и 354369 объектов. Целевым признаком, в данном случае, является Price — цена (евро)\n",
    "- Провели анализ аномалии количественных признаков в столбцах: Price, RegistrationYear и Power. В столбце Kilometer каких-то аномальных признаков я не заметила. \n",
    "- Удалили ненужные столбцы для дальнейшего анализа\n",
    "- Зафиксировали псевдослучайность для всех используемых в проекте алгоритмов\n",
    "- Проверили данные на наличие дубликатов и пропусков\n",
    "- Удалили дубликаты и обработали пропуска\n",
    "- Удалили ненужные данные для дальнейшего анализа"
   ]
  },
  {
   "cell_type": "markdown",
   "metadata": {},
   "source": [
    "<font color='blue'><u><b>КОММЕНТАРИЙ РЕВЬЮЕРА</b></u></font><br />\n",
    "<font color='green'>\n",
    "Различают как минимум, 2 типа данных: категориальные и количественные. И есть, как минимум, 2 направления работы с данными: пропуски и аномалии.<br>\n",
    "Сейчас тебе удалось поработать с пропусками и категориальными переменными.<br><font color='orange'>\n",
    "Но есть ещё аномалии в количественных данных. С ними тоже надо поработать)"
   ]
  },
  {
   "cell_type": "markdown",
   "metadata": {},
   "source": [
    "# 2. Обучение моделей\n",
    "\n",
    "\n",
    "### Действовать будем по следующему плану:\n",
    "\n",
    "- Напишем функцию которой на вход будут подаваться модель и датасеты и она будет возвращать время обучения, время предсказания\n",
    "- Проверим 3 модели: Линейная регрессия, CatBoost, LightGBM.\n",
    "- Для каждой моделии найдем лучшие гиперпараметры, и измерим время обучения на train"
   ]
  },
  {
   "cell_type": "markdown",
   "metadata": {},
   "source": [
    "Теперь разделим на обычные признаки и целевые. Применим для категориальных признаков метод OHE:"
   ]
  },
  {
   "cell_type": "code",
   "execution_count": 21,
   "metadata": {},
   "outputs": [],
   "source": [
    "data_ohe = pd.get_dummies(data, drop_first=True)\n",
    "target = data_ohe['Price']\n",
    "features = data_ohe.drop('Price', axis=1)"
   ]
  },
  {
   "cell_type": "code",
   "execution_count": 22,
   "metadata": {},
   "outputs": [],
   "source": [
    "data_train, data_valid = train_test_split(data_ohe, test_size=0.2, random_state=rnd_state)\n",
    "data_valid, data_test = train_test_split(data_valid , test_size=0.2, random_state=rnd_state)"
   ]
  },
  {
   "cell_type": "code",
   "execution_count": 23,
   "metadata": {},
   "outputs": [],
   "source": [
    "features_train = data_train.drop(columns=['Price'])\n",
    "target_train = data_train['Price']\n",
    "\n",
    "features_valid = data_valid.drop(columns=['Price'])\n",
    "target_valid = data_valid['Price']\n",
    "\n",
    "features_test = data_test.drop(columns=['Price'])\n",
    "target_test = data_test['Price']"
   ]
  },
  {
   "cell_type": "markdown",
   "metadata": {},
   "source": [
    "<font color='blue'><u><b>КОММЕНТАРИЙ РЕВЬЮЕРА</b></u></font><br />\n",
    "<font color='green'>\n",
    "понятно)"
   ]
  },
  {
   "cell_type": "markdown",
   "metadata": {},
   "source": [
    "Напишем функцию, которая на вход будет подавать модель и датасеты, будет возвращать время обучения, время предсказания и rmse"
   ]
  },
  {
   "cell_type": "code",
   "execution_count": 24,
   "metadata": {},
   "outputs": [],
   "source": [
    "def model_eval(model, features_train, target_train, features_test, target_test):\n",
    "    \n",
    "    start = time.time()    \n",
    "    model.fit(features_train, target_train)\n",
    "    training_time = time.time() - start\n",
    "    \n",
    "    start = time.time()  \n",
    "    target_pred = model.predict(features_test)\n",
    "    predict_time = time.time() - start\n",
    "\n",
    "    return training_time, predict_time"
   ]
  },
  {
   "cell_type": "markdown",
   "metadata": {},
   "source": [
    "<font color='blue'><u><b>КОММЕНТАРИЙ РЕВЬЮЕРА</b></u></font><br />\n",
    "<font color='green'>\n",
    "хорошее предложение)"
   ]
  },
  {
   "cell_type": "code",
   "execution_count": 25,
   "metadata": {},
   "outputs": [
    {
     "name": "stdout",
     "output_type": "stream",
     "text": [
      "RMSE LinearRegression: 2923.8460860212117\n",
      "Время обучения LinearRegression: (22.20138692855835, 0.11369538307189941)\n"
     ]
    }
   ],
   "source": [
    "model = LinearRegression()\n",
    "\n",
    "start_time = time.time()\n",
    "model.fit(features_train, target_train)\n",
    "\n",
    "training_time_lr = model_eval(model, features_train, target_train, features_test, target_test)\n",
    "\n",
    "predict_lr = pd.DataFrame(model.predict(features_valid))\n",
    "score_lr = mean_squared_error(target_valid, predict_lr) ** 0.5\n",
    "\n",
    "print(\"RMSE LinearRegression:\", score_lr)\n",
    "print(\"Время обучения LinearRegression:\", training_time_lr)"
   ]
  },
  {
   "cell_type": "code",
   "execution_count": null,
   "metadata": {},
   "outputs": [],
   "source": []
  },
  {
   "cell_type": "code",
   "execution_count": 27,
   "metadata": {},
   "outputs": [
    {
     "name": "stdout",
     "output_type": "stream",
     "text": [
      "RMSE LGBMRegressor: 2876.5248496701274\n",
      "Время обучения LGBMRegressor: (21.89083480834961, 0.021715402603149414)\n"
     ]
    }
   ],
   "source": [
    "from collections import defaultdict\n",
    "d = defaultdict(list)\n",
    "\n",
    "lgbm_model = LGBMRegressor(num_leaves=31, learning_rate=0.05, n_estimators=20, random_state=rnd_state)\n",
    "start_time = time.time()\n",
    "lgbm_model.fit(features_train, target_train)\n",
    "\n",
    "training_time_lgbm = model_eval(model, features_train, target_train, features_test, target_test)\n",
    "\n",
    "predict_lgbm = pd.DataFrame(lgbm_model.predict(features_valid))\n",
    "score_lgbm = mean_squared_error(target_valid, predict_lgbm) ** 0.5\n",
    "\n",
    "print(\"RMSE LGBMRegressor:\", score_lgbm)\n",
    "print(\"Время обучения LGBMRegressor:\", training_time_lgbm)"
   ]
  },
  {
   "cell_type": "code",
   "execution_count": 29,
   "metadata": {},
   "outputs": [
    {
     "data": {
      "image/png": "[encoded data removed]",
      "text/plain": [
       "<Figure size 432x288 with 1 Axes>"
      ]
     },
     "metadata": {
      "needs_background": "light"
     },
     "output_type": "display_data"
    }
   ],
   "source": [
    "import seaborn as sns\n",
    "def chart_feature_imp(cat_model):\n",
    "    feature_imp = pd.Series(cat_model.feature_importances_, index=features_valid.columns).sort_values(ascending=False).head(20)\n",
    "    ax = sns.barplot(x=feature_imp, y=feature_imp.index)\n",
    "    _ = ax.set(xlabel='Оценка важности признаков', ylabel='Признаки')\n",
    "    _ = ax.set_title('Визуализация важности признаков')\n",
    "\n",
    "chart_feature_imp(lgbm_model)"
   ]
  },
  {
   "cell_type": "code",
   "execution_count": 30,
   "metadata": {},
   "outputs": [
    {
     "name": "stdout",
     "output_type": "stream",
     "text": [
      "0:\tlearn: 4652.5121909\ttotal: 155ms\tremaining: 7.61s\n",
      "10:\tlearn: 3927.7598221\ttotal: 1.84s\tremaining: 6.53s\n",
      "20:\tlearn: 3418.3828933\ttotal: 3.44s\tremaining: 4.75s\n",
      "30:\tlearn: 3072.7355502\ttotal: 5.03s\tremaining: 3.08s\n",
      "40:\tlearn: 2831.8598825\ttotal: 6.53s\tremaining: 1.43s\n",
      "49:\tlearn: 2684.1343181\ttotal: 8.01s\tremaining: 0us\n",
      "RMSE CatBoostRegressor: 2715.147073964432\n",
      "Время обучения CatBoostRegressor: (22.474684715270996, 0.02092576026916504)\n"
     ]
    }
   ],
   "source": [
    "cat_model = CatBoostRegressor(loss_function=\"RMSE\", iterations=50, random_state=rnd_state)\n",
    "start_time = time.time()\n",
    "cat_model.fit(features_train, target_train, verbose=10)\n",
    "\n",
    "training_time_cat = model_eval(model, features_train, target_train, features_test, target_test)\n",
    "\n",
    "predict_cat = cat_model.predict(features_valid)\n",
    "score_cat = mean_squared_error(target_valid, predict_cat) ** 0.5\n",
    "\n",
    "print(\"RMSE CatBoostRegressor:\", score_cat)\n",
    "print(\"Время обучения CatBoostRegressor:\", training_time_cat)"
   ]
  },
  {
   "cell_type": "code",
   "execution_count": 28,
   "metadata": {},
   "outputs": [
    {
     "name": "stdout",
     "output_type": "stream",
     "text": [
      "0:\tlearn: 25918.4990475\ttotal: 427ms\tremaining: 20.9s\n",
      "1:\tlearn: 25908.4444164\ttotal: 835ms\tremaining: 20s\n",
      "2:\tlearn: 25898.7939030\ttotal: 1.32s\tremaining: 20.8s\n",
      "3:\tlearn: 25890.4079004\ttotal: 1.82s\tremaining: 20.9s\n",
      "4:\tlearn: 25882.2492024\ttotal: 2.22s\tremaining: 20s\n",
      "5:\tlearn: 25874.3470298\ttotal: 2.63s\tremaining: 19.3s\n",
      "6:\tlearn: 25866.9611430\ttotal: 3.12s\tremaining: 19.2s\n",
      "7:\tlearn: 25859.3988176\ttotal: 3.52s\tremaining: 18.5s\n",
      "8:\tlearn: 25852.9112210\ttotal: 3.92s\tremaining: 17.9s\n",
      "9:\tlearn: 25846.7544496\ttotal: 4.32s\tremaining: 17.3s\n",
      "10:\tlearn: 25840.6665798\ttotal: 4.72s\tremaining: 16.7s\n",
      "11:\tlearn: 25835.3001540\ttotal: 5.12s\tremaining: 16.2s\n",
      "12:\tlearn: 25829.7575136\ttotal: 5.52s\tremaining: 15.7s\n",
      "13:\tlearn: 25824.4789180\ttotal: 5.92s\tremaining: 15.2s\n",
      "14:\tlearn: 25819.5782099\ttotal: 6.32s\tremaining: 14.8s\n",
      "15:\tlearn: 25814.3377254\ttotal: 6.81s\tremaining: 14.5s\n",
      "16:\tlearn: 25808.6155918\ttotal: 7.21s\tremaining: 14s\n",
      "17:\tlearn: 25802.6532298\ttotal: 7.61s\tremaining: 13.5s\n",
      "18:\tlearn: 25796.7386177\ttotal: 8.01s\tremaining: 13.1s\n",
      "19:\tlearn: 25791.8308973\ttotal: 8.51s\tremaining: 12.8s\n",
      "20:\tlearn: 25786.8824656\ttotal: 8.91s\tremaining: 12.3s\n",
      "21:\tlearn: 25781.9865789\ttotal: 9.31s\tremaining: 11.8s\n",
      "22:\tlearn: 25777.5690218\ttotal: 9.71s\tremaining: 11.4s\n",
      "23:\tlearn: 25773.2139797\ttotal: 10.1s\tremaining: 11s\n",
      "24:\tlearn: 25769.1757147\ttotal: 10.5s\tremaining: 10.5s\n",
      "25:\tlearn: 25765.1337702\ttotal: 10.9s\tremaining: 10.1s\n",
      "26:\tlearn: 25761.6471083\ttotal: 11.3s\tremaining: 9.63s\n",
      "27:\tlearn: 25758.1679037\ttotal: 11.7s\tremaining: 9.2s\n",
      "28:\tlearn: 25755.0434049\ttotal: 12.1s\tremaining: 8.77s\n",
      "29:\tlearn: 25751.8452779\ttotal: 12.5s\tremaining: 8.34s\n",
      "30:\tlearn: 25749.0986483\ttotal: 12.9s\tremaining: 7.91s\n",
      "31:\tlearn: 25746.4026706\ttotal: 13.3s\tremaining: 7.48s\n",
      "32:\tlearn: 25743.4093814\ttotal: 13.7s\tremaining: 7.06s\n",
      "33:\tlearn: 25740.7941560\ttotal: 14.1s\tremaining: 6.63s\n",
      "34:\tlearn: 25738.0286841\ttotal: 14.5s\tremaining: 6.22s\n",
      "35:\tlearn: 25735.4933502\ttotal: 15s\tremaining: 5.83s\n",
      "36:\tlearn: 25732.8898699\ttotal: 15.4s\tremaining: 5.41s\n",
      "37:\tlearn: 25730.5504025\ttotal: 15.8s\tremaining: 4.99s\n",
      "38:\tlearn: 25728.5312863\ttotal: 16.2s\tremaining: 4.57s\n",
      "39:\tlearn: 25726.7510630\ttotal: 16.6s\tremaining: 4.15s\n",
      "40:\tlearn: 25724.8383503\ttotal: 17s\tremaining: 3.73s\n",
      "41:\tlearn: 25722.9477370\ttotal: 17.4s\tremaining: 3.31s\n",
      "42:\tlearn: 25721.0572179\ttotal: 17.8s\tremaining: 2.9s\n",
      "43:\tlearn: 25719.4130562\ttotal: 18.2s\tremaining: 2.48s\n",
      "44:\tlearn: 25717.5964118\ttotal: 18.6s\tremaining: 2.06s\n",
      "45:\tlearn: 25715.9954050\ttotal: 19s\tremaining: 1.65s\n",
      "46:\tlearn: 25714.5178582\ttotal: 19.4s\tremaining: 1.24s\n",
      "47:\tlearn: 25712.3230689\ttotal: 19.8s\tremaining: 824ms\n",
      "48:\tlearn: 25710.5582047\ttotal: 20.2s\tremaining: 412ms\n",
      "49:\tlearn: 25709.0511965\ttotal: 20.6s\tremaining: 0us\n",
      "[[ 1.76194661e+03  3.93080062e+02 -1.93702975e+00 ...  2.93527253e+01\n",
      "   6.63682735e+01  5.15007107e+04]\n",
      " [ 7.03438849e+02  2.95835906e+01  1.11521217e+01 ... -1.56891380e+01\n",
      "  -3.18543781e+02  5.15007107e+04]\n",
      " [-4.32101223e+02  7.91496424e+00 -9.16532313e-01 ... -8.20793235e+02\n",
      "   4.33529675e+01  5.15007107e+04]\n",
      " ...\n",
      " [-6.15657777e+02  1.60289835e+02 -2.22368977e+01 ...  8.98875556e+02\n",
      "   4.42394034e+01  5.15007107e+04]\n",
      " [ 1.01374621e+03  8.66643243e+00  2.10011592e+01 ... -9.31001790e+02\n",
      "   4.67153181e+01  5.15007107e+04]\n",
      " [-3.46372214e+02 -2.10643154e+01 -9.16532313e-01 ... -8.19872234e+02\n",
      "  -2.83212144e+02  5.15007107e+04]]\n"
     ]
    }
   ],
   "source": [
    "cat_features = [i for i, (col, ser) in enumerate(data.iteritems()) if ser.dtype == object]\n",
    "\n",
    "\n",
    "pool = Pool(data=data.iloc[:, :-1].values, label=data.iloc[:, -1].values, cat_features=cat_features)\n",
    "\n",
    "cat_model=CatBoostRegressor(iterations=50, verbose=True)\n",
    "cat_model.fit(pool)\n",
    "\n",
    "shap_values = cat_model.get_feature_importance(data=pool, fstr_type='ShapValues')\n",
    "\n",
    "print(shap_values)"
   ]
  },
  {
   "cell_type": "code",
   "execution_count": 36,
   "metadata": {},
   "outputs": [
    {
     "data": {
      "text/plain": [
       "(11,)"
      ]
     },
     "execution_count": 36,
     "metadata": {},
     "output_type": "execute_result"
    }
   ],
   "source": [
    "cat_model.feature_importances_.shape"
   ]
  },
  {
   "cell_type": "code",
   "execution_count": 43,
   "metadata": {},
   "outputs": [
    {
     "data": {
      "text/plain": [
       "(309,)"
      ]
     },
     "execution_count": 43,
     "metadata": {},
     "output_type": "execute_result"
    }
   ],
   "source": [
    "features_valid.columns.shape"
   ]
  },
  {
   "cell_type": "code",
   "execution_count": 32,
   "metadata": {},
   "outputs": [
    {
     "data": {
      "image/png": "[encoded data removed]",
      "text/plain": [
       "<Figure size 432x288 with 1 Axes>"
      ]
     },
     "metadata": {
      "needs_background": "light"
     },
     "output_type": "display_data"
    }
   ],
   "source": [
    "import seaborn as sns\n",
    "def chart_feature_imp(cat_model):\n",
    "    feature_imp = pd.Series(cat_model.feature_importances_, index=features_valid.columns).sort_values(ascending=False).head(20)\n",
    "    ax = sns.barplot(x=feature_imp, y=feature_imp.index)\n",
    "    _ = ax.set(xlabel='Оценка важности признаков', ylabel='Признаки')\n",
    "    _ = ax.set_title('Визуализация важности признаков')\n",
    "\n",
    "chart_feature_imp(cat_model)"
   ]
  },
  {
   "cell_type": "markdown",
   "metadata": {},
   "source": [
    "### Вывод:\n",
    "- Применили для категориальных признаков метод OHE\n",
    "- Рассмотрели три алгоритма классификации: CatBoostRegressor, LGBMRegressor, Линейная регрессия\n",
    "- Модель \"CatBoostRegressor\" наиболее подходящая для решения дальнейшей задачи"
   ]
  },
  {
   "cell_type": "markdown",
   "metadata": {},
   "source": [
    "<font color='blue'><u><b>КОММЕНТАРИЙ РЕВЬЮЕРА</b></u></font><br />\n",
    "<font color='green'>\n",
    "хороший раздел)"
   ]
  },
  {
   "cell_type": "markdown",
   "metadata": {},
   "source": [
    "# 3. Анализ моделей"
   ]
  },
  {
   "cell_type": "code",
   "execution_count": null,
   "metadata": {},
   "outputs": [],
   "source": [
    "data_time = pd.Series({'LinearRegression': training_time_lr,\n",
    "                           'LightGBM': training_time_lgbm,\n",
    "                           'CatBoost': training_time_cat}) \n",
    "\n",
    "data_time"
   ]
  },
  {
   "cell_type": "code",
   "execution_count": null,
   "metadata": {},
   "outputs": [],
   "source": [
    "data_score = pd.Series({'LinearRegression': score_lr,\n",
    "                           'LightGBM': score_lgbm,\n",
    "                           'CatBoost': score_cat}) \n",
    "\n",
    "data_score"
   ]
  },
  {
   "cell_type": "markdown",
   "metadata": {},
   "source": [
    "Проверим выбранную нами модель \"CatBoostRegressor\" на тестовой выборке:"
   ]
  },
  {
   "cell_type": "code",
   "execution_count": null,
   "metadata": {},
   "outputs": [],
   "source": [
    "features_test = data_ohe.drop('Price', axis=1)\n",
    "target_test = data_ohe['Price']\n",
    "\n",
    "cat_model = CatBoostRegressor(loss_function=\"RMSE\", iterations=50, random_state=rnd_state)\n",
    "start_time = time.time()\n",
    "cat_model.fit(features_train, target_train, verbose=10)\n",
    "training_time_cat = model_eval(model, features_train, target_train, features_test, target_test)\n",
    "\n",
    "predict_cat = cat_model.predict(features_test)\n",
    "score_cat = mean_squared_error(target_test, predict_cat) ** 0.5\n",
    "\n",
    "print(\"RMSE CatBoostRegressor:\", score_cat)\n",
    "print(\"Время обучения CatBoostRegressor:\", training_time_cat)"
   ]
  },
  {
   "cell_type": "markdown",
   "metadata": {},
   "source": [
    "Наиболее подходящей является модель CatBoostRegressor, она показала лучшие результаты по этим параметрам: \n",
    "\n",
    "- качество предсказания;\n",
    "- скорость предсказания;\n",
    "- время обучения."
   ]
  },
  {
   "cell_type": "markdown",
   "metadata": {},
   "source": [
    "<font color='blue'><u><b>КОММЕНТАРИЙ РЕВЬЮЕРА</b></u></font><br />\n",
    "<font color='green'>\n",
    "<br/> Мария, хорошая модельная работа<br>\n",
    "\n",
    "Было интерено двигаться от блока к блоку, читать размышления, код и выводы.<br>\n",
    "При этом оформление выводов такое же последовательное и адекватное.<br>\n",
    "В целом, ты не забыла поисследовать данные (не до конца правда), и достаточно разносторонне поработать с моделями. Наградой стола - приемлемая метрика (лучшим вариантом тут может быть около 1500)<br>\n",
    "    \n",
    "<font color='green'>\n",
    "Если говорить, что можно ещё улучшить в подобных проектах, то выделил бы такие моменты:<br>\n",
    "(возможно уже в спринте 6 писал. Но раз не использовано - повторюсь)\n",
    "    \n",
    "1) Для понимания, а какие в итоге факторы важны при моделировании, можно выводить их важность, использую feature_importances_, ну и график заодно. Это важный элемент анализа результатов моделирования.<br>  \n",
    "    \n",
    "2) предварительная работа с данными:<br>\n",
    "- На этом этапе нужно БОЛЬШЕ аргументации, для принимаемых решений.<br>\n",
    "- Также, можно организовать для себя некую систему работы с данными:<br>\n",
    "(ЭТО ПОЗВОЛИТ НЕ ПРОПУСКАТЬ ВАЖНУЮ ЧАСТЬ АНАЛИТИКИ)<BR><BR>\n",
    " \n",
    "Например, алгоритм такой может:<br>\n",
    "1) анализ аномалий: количественные и категориальные переменные <br>\n",
    "2) анализ пропусков: количественные и категориальные переменные<br>\n",
    "3) проверка дубликатов<br>\n",
    "4) Анализ факторов: исходя из типа шкалы, могут применять следующие графический и аналитический анализы:<br>\n",
    "- колличественная-колличественная: аналитически методод - корреляции, графический - скатерплот.<br>\n",
    "- колличественная-номинальная: аналитически методод - проверка гипотез (стьюдент, маннауитни), графический - боксплот.<br>\n",
    "- номинальная-номинальная: аналитически методод - Хи-квадрат, графический - круговая диаграмма<br>\n",
    "    \n",
    "<font color='red'>\n",
    "Что ещё лучше сделать в этой работе:<br>\n",
    "1) Добавь, пожалуйста, анализ количественных данных. (возможно и метрика улучшится).<br>\n",
    "2) И если будет время, то очень здорово будет, если найдёшь возможность сделать график важности факторов. Это необходимая вещь для финалной части любой модельной работы.<br>\n",
    "<font color='green'>    \n",
    "    \n",
    "<br><br>\n",
    "Спасибо) БУДУ ЖДАТЬ КОММЕНТАРИЕВ!\n",
    "    \n",
    "\n",
    "<font color='black'>  \n",
    "Николай привет! Спасибо за твои комментарии и рекомендации. \n",
    "Я добавила анализ количественных данных, у меня возник вопрос по поводу графика важности факторов. Ты его рекомендуешь делать после обучения каждой модели? Или делаеть его до обучения моделей, в прицнипе. Я не совсем поняла, что ты тут имеешь ввиду? \n",
    "    \n",
    "Заранее спасибо =) "
   ]
  },
  {
   "cell_type": "markdown",
   "metadata": {},
   "source": [
    "<font color='blue'><u><b>КОММЕНТАРИЙ РЕВЬЮЕРА 2</b></u></font><br />\n",
    "<font color='green'>\n",
    "<br/>\n",
    "ОК, Мария, спасибо за отклик на комментарии.<br>\n",
    "Хорошо тебе удалось ещё поработать)<br>\n",
    "По вопросу о важности факторов:<br>\n",
    "Так-то, если разобраться, то их нет смысла смотреть до того момента, как будет отобрана лучшая модель<br>\n",
    "C  другой стороны, бывает так, что разные модели дают разную комбинацию рейтинга фаткоров. Это следствия особенности расчёта самой важности.<br>\n",
    "Поэтому, можно так: опираться на рейтинг конечной модели. Но если промежуточные модели давали очерёдность факторов сильно отличающуюся от модели-победителя - например мощность на первом месте ку одной, на последнем - у другой (это крайне редко в реальности), то с победителем надо будет ещё раз подумать) Т.е. посмотерть всё ли в порядке с самими моделями. Потому что, должна быть примерная схожесть рейтингов.<br><font color='red'>\n",
    "Мне удалось ответить?)<br>\n",
    " \n",
    "<font color='black'>\n",
    "Николай, еще раз привет! Не сталкивалась с методом feature_importances ранее, но попыталась сделать из того, что нашла в интернете =) Я в нужном направлении двигаюсь? =) "
   ]
  },
  {
   "cell_type": "code",
   "execution_count": null,
   "metadata": {},
   "outputs": [],
   "source": []
  },
  {
   "cell_type": "markdown",
   "metadata": {},
   "source": [
    "<font color='blue'><u><b>КОММЕНТАРИЙ РЕВЬЮЕРА 3</b></u></font><br />\n",
    "<font color='green'>\n",
    "<br/>\n",
    "Здравствуй, Мария!<br>\n",
    "Вот можно вот такой функцией воспользоватся. Она сразу построит график. (подкорректировать по свои выборки надо, правда.)\n",
    "Посмотри, пожалуйста.\n",
    "\n",
    "    \n",
    "<font color='black'>\n",
    "    \n",
    "Николай, привет! Прошу прощение за долгий ответ, у меня вышел компьютер из строя.\n",
    "    Я посмотрела функцию, но я не понимаю почему разной длины получаются cat_model и features_valid.columns? Теоретически понимаю, а практически не совсем понимаю как исправить эту ситуацию. \n",
    "\n",
    "    Заранее спасибо за ответ! =) \n",
    "    "
   ]
  },
  {
   "cell_type": "markdown",
   "metadata": {},
   "source": [
    "<font color='blue'><u><b>КОММЕНТАРИЙ РЕВЬЮЕРА 4</b></u></font><br />\n",
    "<font color='green'>\n",
    "<br/>\n",
    "Здравствуй, Мария!<br>\n",
    "С компьютером - всегда не приятная вещь. Хорошо, что смогли восстановить<br>\n",
    "Заново прогнал весь код - заработало, вроде) Добавил только вывод 20 самых лучших.<br>\n",
    "что-то в памяти, наверное, было у юпитреа)))<br>\n",
    "    \n",
    "Всё вывело, как надо.<br>\n",
    "Тогда, получается, вопросов больше, пока, нет)<br>\n",
    "УСПЕШНОГО ДАЛЬНЕЙШЕГО ОБУЧЕНИЯ НА НОВОМ (НАДЕЮСЬ) КОМПЕ.\n",
    "                               "
   ]
  },
  {
   "cell_type": "code",
   "execution_count": null,
   "metadata": {},
   "outputs": [],
   "source": [
    "import seaborn as sns\n",
    "def chart_feature_imp(model):\n",
    "    feature_imp = pd.Series(model.feature_importances_, index=features_valid.columns).sort_values(ascending=False)\n",
    "\n",
    "    ax = sns.barplot(x=feature_imp, y=feature_imp)\n",
    "    _ = ax.set(xlabel='Оценка важности признаков', ylabel='Признаки')\n",
    "    _ = ax.set_title('Визуализация важности признаков')\n",
    "\n",
    "chart_feature_imp(model)"
   ]
  },
  {
   "cell_type": "markdown",
   "metadata": {},
   "source": [
    "## Чек-лист проверки"
   ]
  },
  {
   "cell_type": "markdown",
   "metadata": {},
   "source": [
    "Поставьте 'x' в выполненных пунктах. Далее нажмите Shift+Enter."
   ]
  },
  {
   "cell_type": "markdown",
   "metadata": {},
   "source": [
    "- [x]  Jupyter Notebook открыт\n",
    "- [x]  Весь код выполняется без ошибок\n",
    "- [x]  Ячейки с кодом расположены в порядке исполнения\n",
    "- [x]  Выполнена загрузка и подготовка данных\n",
    "- [x]  Выполнено обучение моделей\n",
    "- [x]  Есть анализ скорости работы и качества моделей"
   ]
  },
  {
   "cell_type": "code",
   "execution_count": null,
   "metadata": {},
   "outputs": [],
   "source": []
  }
 ],
 "metadata": {
  "kernelspec": {
   "display_name": "Python 3",
   "language": "python",
   "name": "python3"
  },
  "language_info": {
   "codemirror_mode": {
    "name": "ipython",
    "version": 3
   },
   "file_extension": ".py",
   "mimetype": "text/x-python",
   "name": "python",
   "nbconvert_exporter": "python",
   "pygments_lexer": "ipython3",
   "version": "3.7.6"
  }
 },
 "nbformat": 4,
 "nbformat_minor": 2
}
