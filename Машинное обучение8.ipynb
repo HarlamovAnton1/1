{
 "cells": [
  {
   "cell_type": "markdown",
   "metadata": {},
   "source": [
    "<div class=\"alert alert-block alert-warning\">\n",
    "<b>Комментарий от ревьюера:</b> \n",
    "    \n",
    "~~Мария, добрый день! Меня зовут Влада. Ниже в файле ты найдешь мои комментарии: <font color='green'>зеленый цвет — «все отлично»; </font> <font color='blue'>синий — «хорошо, но можно лучше (исправлять необязательно)»; </font> <font color='red'>красный — «нужно исправить».</font> Комментарии в самом коде я отделяю знаками «###». Пожалуйста, не удаляй мои комментарии, они мне нужны при повторной проверке.~~\n",
    "    \n",
    "Мария, спасибо за доработки, все в порядке!\n",
    "\n",
    "</div>"
   ]
  },
  {
   "cell_type": "markdown",
   "metadata": {},
   "source": [
    "# Рекомендация тарифов"
   ]
  },
  {
   "cell_type": "markdown",
   "metadata": {},
   "source": [
    "В вашем распоряжении данные о поведении клиентов, которые уже перешли на эти тарифы (из проекта курса «Статистический анализ данных»). Нужно построить модель для задачи классификации, которая выберет подходящий тариф. Предобработка данных не понадобится — вы её уже сделали.\n",
    "\n",
    "Постройте модель с максимально большим значением *accuracy*. Чтобы сдать проект успешно, нужно довести долю правильных ответов по крайней мере до 0.75. Проверьте *accuracy* на тестовой выборке самостоятельно."
   ]
  },
  {
   "cell_type": "markdown",
   "metadata": {},
   "source": [
    "#### Задачи исследования:\n",
    "1. Ознакомление с данными\n",
    " - Импортирование библиотеки\n",
    " - Предварительный просмотр данных\n",
    " - Общее получение информации для дальнейшего анализа\n",
    "\n",
    "\n",
    "2. Разделить исходные данные на обучающую, валидационную и тестовую выборки.\n",
    "\n",
    "\n",
    "3. Исследовать качество разных моделей, меняя гиперпараметры. Кратко написать выводы исследования.\n",
    "\n",
    "\n",
    "4. Проверка качества модели на тестовой выборке.\n",
    "\n",
    "\n",
    "5. Дополнительное задание: проверить модели на вменяемость."
   ]
  },
  {
   "cell_type": "markdown",
   "metadata": {},
   "source": [
    "## 1. Откройте и изучите файл"
   ]
  },
  {
   "cell_type": "code",
   "execution_count": 1,
   "metadata": {},
   "outputs": [],
   "source": [
    "import pandas as pd\n",
    "from sklearn.metrics import accuracy_score\n",
    "from sklearn.model_selection import train_test_split\n",
    "from sklearn.metrics import mean_squared_error\n",
    "\n",
    "from sklearn.tree import DecisionTreeClassifier\n",
    "from sklearn.ensemble import RandomForestClassifier\n",
    "from sklearn.linear_model import LogisticRegression\n",
    "from sklearn.tree import DecisionTreeRegressor\n",
    "from sklearn.ensemble import RandomForestRegressor\n",
    "from sklearn.linear_model import LinearRegression\n",
    "import joblib\n",
    "\n",
    "data = pd.read_csv('/datasets/users_behavior.csv')"
   ]
  },
  {
   "cell_type": "code",
   "execution_count": 2,
   "metadata": {},
   "outputs": [
    {
     "data": {
      "text/html": [
       "<div>\n",
       "<style scoped>\n",
       "    .dataframe tbody tr th:only-of-type {\n",
       "        vertical-align: middle;\n",
       "    }\n",
       "\n",
       "    .dataframe tbody tr th {\n",
       "        vertical-align: top;\n",
       "    }\n",
       "\n",
       "    .dataframe thead th {\n",
       "        text-align: right;\n",
       "    }\n",
       "</style>\n",
       "<table border=\"1\" class=\"dataframe\">\n",
       "  <thead>\n",
       "    <tr style=\"text-align: right;\">\n",
       "      <th></th>\n",
       "      <th>calls</th>\n",
       "      <th>minutes</th>\n",
       "      <th>messages</th>\n",
       "      <th>mb_used</th>\n",
       "      <th>is_ultra</th>\n",
       "    </tr>\n",
       "  </thead>\n",
       "  <tbody>\n",
       "    <tr>\n",
       "      <td>0</td>\n",
       "      <td>40.0</td>\n",
       "      <td>311.90</td>\n",
       "      <td>83.0</td>\n",
       "      <td>19915.42</td>\n",
       "      <td>0</td>\n",
       "    </tr>\n",
       "    <tr>\n",
       "      <td>1</td>\n",
       "      <td>85.0</td>\n",
       "      <td>516.75</td>\n",
       "      <td>56.0</td>\n",
       "      <td>22696.96</td>\n",
       "      <td>0</td>\n",
       "    </tr>\n",
       "    <tr>\n",
       "      <td>2</td>\n",
       "      <td>77.0</td>\n",
       "      <td>467.66</td>\n",
       "      <td>86.0</td>\n",
       "      <td>21060.45</td>\n",
       "      <td>0</td>\n",
       "    </tr>\n",
       "    <tr>\n",
       "      <td>3</td>\n",
       "      <td>106.0</td>\n",
       "      <td>745.53</td>\n",
       "      <td>81.0</td>\n",
       "      <td>8437.39</td>\n",
       "      <td>1</td>\n",
       "    </tr>\n",
       "    <tr>\n",
       "      <td>4</td>\n",
       "      <td>66.0</td>\n",
       "      <td>418.74</td>\n",
       "      <td>1.0</td>\n",
       "      <td>14502.75</td>\n",
       "      <td>0</td>\n",
       "    </tr>\n",
       "  </tbody>\n",
       "</table>\n",
       "</div>"
      ],
      "text/plain": [
       "   calls  minutes  messages   mb_used  is_ultra\n",
       "0   40.0   311.90      83.0  19915.42         0\n",
       "1   85.0   516.75      56.0  22696.96         0\n",
       "2   77.0   467.66      86.0  21060.45         0\n",
       "3  106.0   745.53      81.0   8437.39         1\n",
       "4   66.0   418.74       1.0  14502.75         0"
      ]
     },
     "execution_count": 2,
     "metadata": {},
     "output_type": "execute_result"
    }
   ],
   "source": [
    "data.head()"
   ]
  },
  {
   "cell_type": "code",
   "execution_count": 3,
   "metadata": {},
   "outputs": [
    {
     "data": {
      "text/plain": [
       "(3214, 5)"
      ]
     },
     "execution_count": 3,
     "metadata": {},
     "output_type": "execute_result"
    }
   ],
   "source": [
    "data.shape"
   ]
  },
  {
   "cell_type": "markdown",
   "metadata": {},
   "source": [
    "**Вывод:** Представленные данные состоят из 5 признаков и 3214 объектов. Целевым признаком, в данном случае, является is_ultra, т.е. каким тарифом пользовался клиент в течение месяца («Ультра» — 1, «Смарт» — 0). Целевой признак является категориальным. Задача относится к классу \"обучение с учителем\". Далее пойдет речь о бинарной (двоичной) классификации. "
   ]
  },
  {
   "cell_type": "markdown",
   "metadata": {},
   "source": [
    "<div class=\"alert alert-block alert-success\">\n",
    "Ок, на данные посмотрели. Да, перед нами задача классификации. Целевая метрика – accuracy.\n",
    "</div>"
   ]
  },
  {
   "cell_type": "markdown",
   "metadata": {},
   "source": [
    "## 2. Разбить данные на выборки\n",
    "1. Надо зафиксировать псевдослучайность для всех используемых в проекте алгоритмов.\n",
    "2. Разбиваем представленные данные на три выборки: 60% - обучающая, 20% - валидационная, 20% - тестовая. "
   ]
  },
  {
   "cell_type": "code",
   "execution_count": 4,
   "metadata": {},
   "outputs": [],
   "source": [
    "rnd_state = 12345"
   ]
  },
  {
   "cell_type": "code",
   "execution_count": 5,
   "metadata": {},
   "outputs": [],
   "source": [
    "#Бьем выборку один раз на 0.6/0.4, а потом оставшиеся 0.4 бьем по 0.5. \n",
    "\n",
    "data_train, data_valid = train_test_split(data, test_size=0.4, random_state=rnd_state)\n",
    "data_valid, data_test = train_test_split(data_valid, test_size=0.5, random_state=rnd_state)"
   ]
  },
  {
   "cell_type": "markdown",
   "metadata": {},
   "source": [
    "<div class=\"alert alert-block alert-danger\">\n",
    "\n",
    "~~Проверь размеры выборок, которые получились. Значения test_size следует задать другими в обоих вызовах train_test_split, чтобы пропорции получились 60%-20%-20%.~~\n",
    "</div> **Исправила**\n",
    "\n",
    "<div class=\"alert alert-block alert-success\">\n",
    "Все верно, молодец.\n",
    "</div>\n"
   ]
  },
  {
   "cell_type": "code",
   "execution_count": 6,
   "metadata": {},
   "outputs": [],
   "source": [
    "features_train = data_train.drop(['is_ultra'], axis=1) \n",
    "target_train = data_train['is_ultra']\n",
    "\n",
    "features_valid = data_valid.drop(['is_ultra'], axis=1)\n",
    "target_valid = data_valid['is_ultra']"
   ]
  },
  {
   "cell_type": "markdown",
   "metadata": {},
   "source": [
    "#### Вывод\n",
    "\n",
    "Разбили данные на выборки, получилось следующее соотношение: 60% / 20% / 20%. \n",
    "После проверки модели на валидационной выборки, проверим на тестовой.  "
   ]
  },
  {
   "cell_type": "markdown",
   "metadata": {},
   "source": [
    "<div class=\"alert alert-block alert-success\">\n",
    "Хорошо, данные подготовили.\n",
    "</div>"
   ]
  },
  {
   "cell_type": "markdown",
   "metadata": {},
   "source": [
    "## 3. Исследовать модели\n",
    "\n",
    "Рассмотрим три алгоритма классификации: \"Дерево решений\", \"Модель случайного леса\", \"Модель Логистической регрессии\". "
   ]
  },
  {
   "cell_type": "markdown",
   "metadata": {},
   "source": [
    "#### Модель \"Дерево решений\""
   ]
  },
  {
   "cell_type": "code",
   "execution_count": 7,
   "metadata": {},
   "outputs": [
    {
     "name": "stdout",
     "output_type": "stream",
     "text": [
      "1 0.7542768273716952\n",
      "3 0.7853810264385692\n",
      "5 0.7791601866251944\n",
      "7 0.7822706065318819\n",
      "9 0.7822706065318819\n",
      "11 0.7620528771384136\n",
      "13 0.7558320373250389\n",
      "15 0.7465007776049767\n",
      "17 0.7356143079315708\n",
      "19 0.7278382581648523\n"
     ]
    }
   ],
   "source": [
    "#Модель \"Дерево решений\"\n",
    "\n",
    "for max_depth in range(1, 21, 2):\n",
    "    model = DecisionTreeClassifier(random_state=rnd_state, max_depth=max_depth)\n",
    "    model.fit(features_train, target_train)\n",
    "    predicted_valid = model.predict(features_valid)\n",
    "    accuracy = accuracy_score(target_valid, predicted_valid)\n",
    "    print(max_depth, accuracy)"
   ]
  },
  {
   "cell_type": "markdown",
   "metadata": {},
   "source": [
    "**Вывод:** исходя из вылидационной выборки, мы наблюдаем, что наиболее высокую оценку правильности мы имеем при max_depth=3, accurecy = 0.7853810264385692. "
   ]
  },
  {
   "cell_type": "markdown",
   "metadata": {},
   "source": [
    "<div class=\"alert alert-block alert-success\">\n",
    "Молодец, что настраиваешь гиперпараметры, а также задаешь random_state для воспроизводимости результатов.\n",
    "</div>\n",
    "\n",
    "<div class=\"alert alert-block alert-info\">\n",
    "\n",
    "Лучшее значение параметра (с оптимальным качеством) лучше находить в коде, а не искать вручную, так есть шанс ошибиться.\n",
    "    \n",
    "Можно было дополнительно изобразить график зависимости качества от значения параметра.\n",
    "</div>"
   ]
  },
  {
   "cell_type": "markdown",
   "metadata": {},
   "source": [
    "#### Модель \"Случайного леса\""
   ]
  },
  {
   "cell_type": "code",
   "execution_count": 8,
   "metadata": {},
   "outputs": [
    {
     "name": "stdout",
     "output_type": "stream",
     "text": [
      "10 0.7558320373250389\n",
      "20 0.7667185069984448\n",
      "30 0.7667185069984448\n",
      "40 0.776049766718507\n",
      "50 0.7589424572317263\n",
      "60 0.7636080870917574\n",
      "70 0.7636080870917574\n",
      "80 0.7636080870917574\n",
      "90 0.776049766718507\n",
      "100 0.7744945567651633\n"
     ]
    }
   ],
   "source": [
    "#Модель \"Случайного леса\"\n",
    "#Рассмотрим при гиперпараметре max_depth=1\n",
    "\n",
    "for estim in range(10, 101, 10):\n",
    "    model = RandomForestClassifier(n_estimators=estim, max_depth=1, random_state=rnd_state)\n",
    "    model.fit(features_train, target_train)\n",
    "    predicted_valid = model.predict(features_valid)\n",
    "    accuracy = accuracy_score(target_valid, predicted_valid)\n",
    "    print(estim, accuracy)"
   ]
  },
  {
   "cell_type": "code",
   "execution_count": 9,
   "metadata": {},
   "outputs": [
    {
     "name": "stdout",
     "output_type": "stream",
     "text": [
      "10 0.7853810264385692\n",
      "20 0.7869362363919129\n",
      "30 0.7869362363919129\n",
      "40 0.7869362363919129\n",
      "50 0.7869362363919129\n",
      "60 0.7869362363919129\n",
      "70 0.7884914463452566\n",
      "80 0.7884914463452566\n",
      "90 0.7884914463452566\n",
      "100 0.7884914463452566\n"
     ]
    }
   ],
   "source": [
    "#Рассмотрим при гиперпараметре max_depth=3 (как в предыдущей моделе)\n",
    "\n",
    "for estim in range(10, 101, 10):\n",
    "    model = RandomForestClassifier(n_estimators=estim, max_depth=3, random_state=rnd_state)\n",
    "    model.fit(features_train, target_train)\n",
    "    predicted_valid = model.predict(features_valid)\n",
    "    accuracy = accuracy_score(target_valid, predicted_valid)\n",
    "    print(estim, accuracy)"
   ]
  },
  {
   "cell_type": "code",
   "execution_count": 10,
   "metadata": {},
   "outputs": [
    {
     "name": "stdout",
     "output_type": "stream",
     "text": [
      "10 0.7916018662519441\n",
      "20 0.7916018662519441\n",
      "30 0.7947122861586314\n",
      "40 0.7962674961119751\n",
      "50 0.7931570762052877\n",
      "60 0.7978227060653188\n",
      "70 0.7947122861586314\n",
      "80 0.7962674961119751\n",
      "90 0.7947122861586314\n",
      "100 0.7947122861586314\n"
     ]
    }
   ],
   "source": [
    "#Рассмотрим при гиперпараметре max_depth=10\n",
    "for estim in range(10, 101, 10):\n",
    "    model = RandomForestClassifier(n_estimators=estim, max_depth=10, random_state=rnd_state)\n",
    "    model.fit(features_train, target_train)\n",
    "    predicted_valid = model.predict(features_valid)\n",
    "    accuracy = accuracy_score(target_valid, predicted_valid)\n",
    "    print(estim, accuracy)"
   ]
  },
  {
   "cell_type": "code",
   "execution_count": 11,
   "metadata": {},
   "outputs": [
    {
     "name": "stdout",
     "output_type": "stream",
     "text": [
      "10 0.7853810264385692\n",
      "20 0.7869362363919129\n",
      "30 0.7838258164852255\n",
      "40 0.7838258164852255\n",
      "50 0.7916018662519441\n",
      "60 0.7853810264385692\n",
      "70 0.7791601866251944\n",
      "80 0.7822706065318819\n",
      "90 0.7838258164852255\n",
      "100 0.7853810264385692\n"
     ]
    }
   ],
   "source": [
    "#Рассмотрим при гиперпараметре max_depth=None\n",
    "for estim in range(10, 101, 10):\n",
    "    model = RandomForestClassifier(n_estimators=estim, max_depth=None, random_state=rnd_state)\n",
    "    model.fit(features_train, target_train)\n",
    "    predicted_valid = model.predict(features_valid)\n",
    "    accuracy = accuracy_score(target_valid, predicted_valid)\n",
    "    print(estim, accuracy)"
   ]
  },
  {
   "cell_type": "markdown",
   "metadata": {},
   "source": [
    "<div class=\"alert alert-block alert-info\">\n",
    "\n",
    "~~Можно еще рассмотреть max_depth=None (это значение по умолчанию).~~\n",
    "</div>\n",
    "**Рассмотрела**"
   ]
  },
  {
   "cell_type": "markdown",
   "metadata": {},
   "source": [
    "**Вывод:** Модель \"Случайного леса\" предсказывает тариф немного точнее, если **max_depth=10**, accuracy = **0.7978227060653188** и n_estimators=60. \n",
    "\n",
    "Если же мы поменяем параметр **max_depth с 10 на 3** (как в предыдущей моделе), то accuracy = **0.7884914463452566**\n",
    "\n",
    "При **max_depth = 1**, процент предсказания наимее высокий, хотя также не сильно меньше, n_estimators=40; n_estimators=90, accuracy = **0.776049766718507.** \n",
    "\n",
    "При **max_depth = None**, accuracy = **0.7916018662519441**, n_estimators=50\n",
    "\n",
    "**Остановимся на варианте: max_depth=10, accuracy = 0.7978227060653188 и n_estimators=60 с наиболее высокой долей предсказания.**"
   ]
  },
  {
   "cell_type": "markdown",
   "metadata": {},
   "source": [
    "#### Модель \"Логистическая регрессии\""
   ]
  },
  {
   "cell_type": "code",
   "execution_count": 12,
   "metadata": {},
   "outputs": [
    {
     "name": "stdout",
     "output_type": "stream",
     "text": [
      "0.7853810264385692\n"
     ]
    }
   ],
   "source": [
    "#Модель \"Логистическая регрессии\"\n",
    "\n",
    "def logistic_regression():\n",
    "    model = LogisticRegression(solver=solver, random_state=rnd_state)\n",
    "    model.fit(features_train, target_train)\n",
    "    predicted_valid = model.predict(features_valid)\n",
    "    accuracy = accuracy_score(target_valid, predicted_valid)\n",
    "print(accuracy)"
   ]
  },
  {
   "cell_type": "markdown",
   "metadata": {},
   "source": [
    "**Вывод:** Модель \"Логистической регрессии\" дала примерно такой же вариант,как и в моделе \"Дерево решений\". Надо отметить, что достаточно высокая доля предсказания. "
   ]
  },
  {
   "cell_type": "markdown",
   "metadata": {},
   "source": [
    "<div class=\"alert alert-block alert-info\">\n",
    "Итак, по результатам всех экспериментов, какую модель выбираем?\n",
    "</div>"
   ]
  },
  {
   "cell_type": "markdown",
   "metadata": {},
   "source": [
    "## 4. Проверка модели на тестовой выборке"
   ]
  },
  {
   "cell_type": "code",
   "execution_count": 13,
   "metadata": {},
   "outputs": [
    {
     "data": {
      "text/plain": [
       "0.80248833592535"
      ]
     },
     "execution_count": 13,
     "metadata": {},
     "output_type": "execute_result"
    }
   ],
   "source": [
    "#Проверяем выбранную нами модель \"Случайного леса\" на тестовой выборке\n",
    "features_test = data_test.drop(['is_ultra'], axis=1)\n",
    "target_test = data_test['is_ultra']\n",
    "\n",
    "model = RandomForestClassifier(n_estimators=60, max_depth=10, random_state=rnd_state)\n",
    "model.fit(features_train, target_train)\n",
    "\n",
    "predictions_test = model.predict(features_test)\n",
    "accuracy_score(target_test, predictions_test)"
   ]
  },
  {
   "cell_type": "markdown",
   "metadata": {},
   "source": [
    "<div class=\"alert alert-block alert-danger\">\n",
    "\n",
    "~~Почему именно такие параметры n_estimators и max_depth?~~ \n",
    "</div> **ответила в выводе шага**\n",
    "\n",
    "<div class=\"alert alert-block alert-success\">\n",
    "В остальном, проверка качества на тестовой выборке проведена корректно.\n",
    "</div>"
   ]
  },
  {
   "cell_type": "markdown",
   "metadata": {},
   "source": [
    "**Вывод:** С поставленной задачей справились, результат получился не ниже, чем 0.75. Явной проблемы с переобучением мы не наблюдаем, можно говорить о том, что модель для бинарной классификации, которая бы выбрала подходящий тариф мы подобрали. \n",
    "\n",
    "Выбрали именно модель \"Случайный лес\" с заданными параметрами, так как accuracy при таких параметрах наиболее высокий из всех рассмотренных моделей. "
   ]
  },
  {
   "cell_type": "markdown",
   "metadata": {},
   "source": [
    "## 5. Проверка модели на адекватность"
   ]
  },
  {
   "cell_type": "code",
   "execution_count": 14,
   "metadata": {},
   "outputs": [
    {
     "data": {
      "text/plain": [
       "0    2229\n",
       "1     985\n",
       "Name: is_ultra, dtype: int64"
      ]
     },
     "execution_count": 14,
     "metadata": {},
     "output_type": "execute_result"
    }
   ],
   "source": [
    "data['is_ultra'].value_counts()"
   ]
  },
  {
   "cell_type": "code",
   "execution_count": 15,
   "metadata": {},
   "outputs": [
    {
     "data": {
      "text/plain": [
       "0    440\n",
       "1    203\n",
       "Name: is_ultra, dtype: int64"
      ]
     },
     "execution_count": 15,
     "metadata": {},
     "output_type": "execute_result"
    }
   ],
   "source": [
    "data_test['is_ultra'].value_counts()"
   ]
  },
  {
   "cell_type": "code",
   "execution_count": 16,
   "metadata": {},
   "outputs": [
    {
     "data": {
      "text/plain": [
       "0.693528313627878"
      ]
     },
     "execution_count": 16,
     "metadata": {},
     "output_type": "execute_result"
    }
   ],
   "source": [
    "(data['is_ultra']==0).sum() / data.shape[0]"
   ]
  },
  {
   "cell_type": "markdown",
   "metadata": {},
   "source": [
    "**Вывод:** Модель, которую мы протестировали предсказыывает лучше, чем то количество пришедших на тариф \"Смарт\" (к примеру) к общему количеству клиентов в представленной выборке. \n",
    "Модель можно назвать адекватной и можно использовать далее в работе, так как доля ее предсказания выше, чем предположение, которое мы моги бы построить. "
   ]
  },
  {
   "cell_type": "markdown",
   "metadata": {},
   "source": [
    "<div class=\"alert alert-block alert-success\">\n",
    "Проверка на адекватность выполнена правильно, молодец! \n",
    "    \n",
    "Действительно, проверка на адекватность означает сравнение качества итоговой модели с качеством простой, базовой модели, например, предсказывающей для всех объектов тестовой выборки один и тот же класс «0» (или 1). Можешь посмотреть класс DummyClassifier, там реализованы такие простые модели предсказаний.\n",
    "\n",
    "</div>"
   ]
  },
  {
   "cell_type": "markdown",
   "metadata": {},
   "source": [
    "Влада, вечер добрый! Спасибо за твои комментарии, я постараюсь их учесть в будущем, а также подкорректировать все недочеты. Надеюсь, что сейчас все получилось! =)"
   ]
  },
  {
   "cell_type": "markdown",
   "metadata": {},
   "source": [
    "<div class=\"alert alert-block alert-warning\">\n",
    "<b>Итоговый комментарий:</b> \n",
    "\n",
    "Спасибо, ты провела прекрасное исследование, так держать! ~~осталось его немного доработать.~~\n",
    "\n",
    "</div>"
   ]
  },
  {
   "cell_type": "markdown",
   "metadata": {},
   "source": [
    "## Чек-лист готовности проекта"
   ]
  },
  {
   "cell_type": "markdown",
   "metadata": {},
   "source": [
    "Поставьте 'x' в выполненных пунктах. Далее нажмите Shift+Enter."
   ]
  },
  {
   "cell_type": "markdown",
   "metadata": {},
   "source": [
    "- [x] Jupyter Notebook открыт\n",
    "- [x] Весь код исполняется без ошибок\n",
    "- [x] Ячейки с кодом расположены в порядке исполнения\n",
    "- [x] Выполнено задание 1: данные загружены и изучены\n",
    "- [x] Выполнено задание 2: данные разбиты на три выборки\n",
    "- [x] Выполнено задание 3: проведено исследование моделей\n",
    "    - [x] Рассмотрено больше одной модели\n",
    "    - [x] Рассмотрено хотя бы 3 значения гипепараметров для какой-нибудь модели\n",
    "    - [x] Написаны выводы по результатам исследования\n",
    "- [x] Выполнено задание 3: Проведено тестирование\n",
    "- [x] Удалось достичь accuracy не меньше 0.75\n"
   ]
  }
 ],
 "metadata": {
  "kernelspec": {
   "display_name": "Python 3",
   "language": "python",
   "name": "python3"
  },
  "language_info": {
   "codemirror_mode": {
    "name": "ipython",
    "version": 3
   },
   "file_extension": ".py",
   "mimetype": "text/x-python",
   "name": "python",
   "nbconvert_exporter": "python",
   "pygments_lexer": "ipython3",
   "version": "3.7.6"
  }
 },
 "nbformat": 4,
 "nbformat_minor": 2
}
